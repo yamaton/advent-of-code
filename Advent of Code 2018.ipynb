{
 "cells": [
  {
   "cell_type": "code",
   "execution_count": 18,
   "metadata": {},
   "outputs": [],
   "source": [
    "import itertools as it\n",
    "import collections\n",
    "from typing import List, Tuple\n",
    "import doctest"
   ]
  },
  {
   "cell_type": "code",
   "execution_count": 43,
   "metadata": {},
   "outputs": [],
   "source": [
    "import bs4\n",
    "import urllib\n",
    "\n",
    "def get_title(day):\n",
    "    f = urllib.request.urlopen(f\"https://adventofcode.com/2018/day/{day}\")\n",
    "    soup = bs4.BeautifulSoup(f.read())\n",
    "    print(soup.h2.text.replace(\"-\",\"\").strip())    "
   ]
  },
  {
   "cell_type": "markdown",
   "metadata": {},
   "source": [
    "## Day 1: Chronal Calibration"
   ]
  },
  {
   "cell_type": "code",
   "execution_count": 19,
   "metadata": {},
   "outputs": [],
   "source": [
    "def day01_read(file_):\n",
    "    return [int(line) for line in open(file_).readlines()]\n",
    "\n",
    "\n",
    "def day01(xs: List[int]) -> int:\n",
    "    return sum(xs)"
   ]
  },
  {
   "cell_type": "code",
   "execution_count": 20,
   "metadata": {},
   "outputs": [
    {
     "data": {
      "text/plain": [
       "497"
      ]
     },
     "execution_count": 20,
     "metadata": {},
     "output_type": "execute_result"
    }
   ],
   "source": [
    "inputs = day01_read(\"./2018/day01.txt\")\n",
    "day01(inputs)"
   ]
  },
  {
   "cell_type": "code",
   "execution_count": 21,
   "metadata": {},
   "outputs": [],
   "source": [
    "def day01_mod(xs: List[int]) -> int:\n",
    "    \"\"\"\n",
    "    >>> day01_mod([1, -1])\n",
    "    0\n",
    "    \n",
    "    >>> day01_mod([+3, +3, +4, -2, -4])\n",
    "    10\n",
    "    \n",
    "    >>> day01_mod([-6, +3, +8, +5, -6])\n",
    "    5\n",
    "    \n",
    "    >>> day01_mod([+7, +7, -2, -7, -4])\n",
    "    14\n",
    "    \"\"\"\n",
    "    freq = 0\n",
    "    seen = {freq}\n",
    "    \n",
    "    for x in it.cycle(xs):\n",
    "        freq += x\n",
    "        if freq in seen:\n",
    "            break\n",
    "        else:\n",
    "            seen.add(freq)\n",
    "    return freq"
   ]
  },
  {
   "cell_type": "code",
   "execution_count": 22,
   "metadata": {},
   "outputs": [
    {
     "data": {
      "text/plain": [
       "TestResults(failed=0, attempted=4)"
      ]
     },
     "execution_count": 22,
     "metadata": {},
     "output_type": "execute_result"
    }
   ],
   "source": [
    "doctest.testmod()"
   ]
  },
  {
   "cell_type": "code",
   "execution_count": 23,
   "metadata": {},
   "outputs": [
    {
     "data": {
      "text/plain": [
       "558"
      ]
     },
     "execution_count": 23,
     "metadata": {},
     "output_type": "execute_result"
    }
   ],
   "source": [
    "day01_mod(inputs)"
   ]
  },
  {
   "cell_type": "code",
   "execution_count": null,
   "metadata": {},
   "outputs": [],
   "source": []
  },
  {
   "cell_type": "markdown",
   "metadata": {},
   "source": [
    "## Day 2: Inventory Management System"
   ]
  },
  {
   "cell_type": "code",
   "execution_count": 12,
   "metadata": {},
   "outputs": [],
   "source": [
    "def day02_read(file_: str) -> List[str]:\n",
    "    return [line.strip() for line in open(file_).readlines()]\n",
    "\n",
    "\n",
    "def day02(ss: List[str]) -> int:\n",
    "    xs = [frozenset(collections.Counter(s).values()) for s in ss]\n",
    "    twos = sum(1 for x in xs if 2 in x)\n",
    "    threes = sum(1 for x in xs if 3 in x)\n",
    "    return twos * threes"
   ]
  },
  {
   "cell_type": "code",
   "execution_count": 24,
   "metadata": {},
   "outputs": [
    {
     "data": {
      "text/plain": [
       "4940"
      ]
     },
     "execution_count": 24,
     "metadata": {},
     "output_type": "execute_result"
    }
   ],
   "source": [
    "inputs = day02_read(\"./2018/day02.txt\")\n",
    "day02(inputs)"
   ]
  },
  {
   "cell_type": "code",
   "execution_count": 14,
   "metadata": {},
   "outputs": [
    {
     "data": {
      "text/plain": [
       "250"
      ]
     },
     "execution_count": 14,
     "metadata": {},
     "output_type": "execute_result"
    }
   ],
   "source": [
    "len(inputs)"
   ]
  },
  {
   "cell_type": "code",
   "execution_count": 15,
   "metadata": {},
   "outputs": [
    {
     "data": {
      "text/plain": [
       "Counter({26: 250})"
      ]
     },
     "execution_count": 15,
     "metadata": {},
     "output_type": "execute_result"
    }
   ],
   "source": [
    "collections.Counter([len(s) for s in inputs])"
   ]
  },
  {
   "cell_type": "markdown",
   "metadata": {},
   "source": [
    "So, all strings have the same length 26."
   ]
  },
  {
   "cell_type": "code",
   "execution_count": 25,
   "metadata": {},
   "outputs": [],
   "source": [
    "def day02_mod(ss: List[str]) -> str:\n",
    "\n",
    "    def _similarity(pair):\n",
    "        s, t = pair\n",
    "        return sum(c1 == c2 for c1, c2 in zip(s, t))\n",
    "\n",
    "    def _common_str(s, t):\n",
    "        return \"\".join(c1 for c1, c2 in zip(s, t) if c1 == c2)\n",
    "\n",
    "    size = len(ss)\n",
    "    s, t = max([(s, t) for s, t in it.combinations(ss, 2)], \n",
    "              key=_similarity)\n",
    "    return _common_str(s, t)"
   ]
  },
  {
   "cell_type": "code",
   "execution_count": 26,
   "metadata": {},
   "outputs": [
    {
     "data": {
      "text/plain": [
       "'wrziyfdmlumeqvaatbiosngkc'"
      ]
     },
     "execution_count": 26,
     "metadata": {},
     "output_type": "execute_result"
    }
   ],
   "source": [
    "day02_mod(inputs)"
   ]
  },
  {
   "cell_type": "code",
   "execution_count": null,
   "metadata": {},
   "outputs": [],
   "source": []
  },
  {
   "cell_type": "markdown",
   "metadata": {},
   "source": [
    "## Day 3: No Matter How You Slice It"
   ]
  },
  {
   "cell_type": "code",
   "execution_count": 33,
   "metadata": {},
   "outputs": [],
   "source": [
    "def day03_read(file_):\n",
    "    return [line.strip() for line in open(\"./2018/day03.txt\").readlines()]\n",
    "    \n",
    "def day03_parse_line(line):\n",
    "    \"\"\"\n",
    "    >>> day03_parse_line('#34 @ 23,699: 21x18')\n",
    "    (34, 23, 699, 21, 18)\n",
    "    \"\"\"\n",
    "    head, rest = line.split(\"@\")\n",
    "    id_ = int(head[1:])\n",
    "    loc, size = rest.split(\":\")\n",
    "    x, y = map(int, loc.split(\",\"))\n",
    "    dx, dy = map(int, size.split(\"x\"))\n",
    "    return id_, x, y, dx, dy"
   ]
  },
  {
   "cell_type": "code",
   "execution_count": 34,
   "metadata": {},
   "outputs": [
    {
     "data": {
      "text/plain": [
       "TestResults(failed=0, attempted=5)"
      ]
     },
     "execution_count": 34,
     "metadata": {},
     "output_type": "execute_result"
    }
   ],
   "source": [
    "doctest.testmod()"
   ]
  },
  {
   "cell_type": "code",
   "execution_count": 31,
   "metadata": {},
   "outputs": [
    {
     "data": {
      "text/plain": [
       "['#1 @ 871,327: 16x20',\n",
       " '#2 @ 676,717: 27x26',\n",
       " '#3 @ 245,818: 19x21',\n",
       " '#4 @ 89,306: 22x11',\n",
       " '#5 @ 451,712: 20x11']"
      ]
     },
     "execution_count": 31,
     "metadata": {},
     "output_type": "execute_result"
    }
   ],
   "source": [
    "inputs = day03_read(\"./2018/day03.txt\")\n",
    "inputs[:5]"
   ]
  },
  {
   "cell_type": "code",
   "execution_count": 19,
   "metadata": {},
   "outputs": [],
   "source": [
    "def day03(lines):\n",
    "    # いもす法\n",
    "    d = collections.defaultdict(int)\n",
    "    for line in lines:\n",
    "        _, x, y, dx, dy = day03_parse(line)\n",
    "        d[x, y] += 1\n",
    "        d[x + dx, y     ] -= 1\n",
    "        d[x     , y + dy] -= 1\n",
    "        d[x + dy, y + dy] += 1\n",
    "    \n",
    "    ub_x = max(tup[0] for tup in d.keys()) + 1\n",
    "    ub_y = max(tup[1] for tup in d.keys()) + 1\n",
    "    \n",
    "    res = 0\n",
    "    for i in range(ub_x):\n",
    "        for j in range(ub_y):\n",
    "            d[i, j] += d[i, j - 1]\n",
    "\n",
    "    xss = [[0] * (ub_x) for _ in range(ub_y)] \n",
    "    for i in range(ub_x):\n",
    "        for j in range(ub_y):\n",
    "            d[i, j] += d[i - 1, j]\n",
    "            if d[i, j] >= 2:\n",
    "                res += 1\n",
    "            xss[j][i] = d[i, j]\n",
    "            \n",
    "#     for xs in xss:\n",
    "#         print(xs)\n",
    "    return res"
   ]
  },
  {
   "cell_type": "code",
   "execution_count": 20,
   "metadata": {},
   "outputs": [
    {
     "data": {
      "text/plain": [
       "4"
      ]
     },
     "execution_count": 20,
     "metadata": {},
     "output_type": "execute_result"
    }
   ],
   "source": [
    "xss = [\n",
    "\"#1 @ 1,3: 4x4\",\n",
    "\"#2 @ 3,1: 4x4\",\n",
    "\"#3 @ 5,5: 2x2\",\n",
    "]\n",
    "day03(xss)"
   ]
  },
  {
   "cell_type": "code",
   "execution_count": 21,
   "metadata": {},
   "outputs": [
    {
     "data": {
      "text/plain": [
       "256452"
      ]
     },
     "execution_count": 21,
     "metadata": {},
     "output_type": "execute_result"
    }
   ],
   "source": [
    "day03(inputs)"
   ]
  },
  {
   "cell_type": "code",
   "execution_count": null,
   "metadata": {},
   "outputs": [],
   "source": [
    "def day03_mod(lines):\n",
    "    ..."
   ]
  },
  {
   "cell_type": "markdown",
   "metadata": {},
   "source": [
    "## Day 4: Repose Record"
   ]
  },
  {
   "cell_type": "code",
   "execution_count": 36,
   "metadata": {},
   "outputs": [],
   "source": [
    "def day04_read(file_):\n",
    "    return sorted([line.strip() for line in open(file_).readlines()])"
   ]
  },
  {
   "cell_type": "code",
   "execution_count": 38,
   "metadata": {},
   "outputs": [
    {
     "data": {
      "text/plain": [
       "['[1518-03-09 23:46] Guard #727 begins shift',\n",
       " '[1518-03-10 00:05] falls asleep',\n",
       " '[1518-03-10 00:34] wakes up',\n",
       " '[1518-03-10 00:56] falls asleep',\n",
       " '[1518-03-10 00:58] wakes up',\n",
       " '[1518-03-10 23:57] Guard #691 begins shift',\n",
       " '[1518-03-11 00:10] falls asleep',\n",
       " '[1518-03-11 00:48] wakes up',\n",
       " '[1518-03-12 00:04] Guard #1987 begins shift',\n",
       " '[1518-03-12 00:21] falls asleep']"
      ]
     },
     "execution_count": 38,
     "metadata": {},
     "output_type": "execute_result"
    }
   ],
   "source": [
    "inputs = day04_read(\"./2018/day04.txt\")\n",
    "inputs[:10]"
   ]
  },
  {
   "cell_type": "code",
   "execution_count": 39,
   "metadata": {},
   "outputs": [],
   "source": [
    "def _day04_parse(line):\n",
    "    date = line[1:11]\n",
    "    time = line[12:17]\n",
    "    minute = int(time[-2:])\n",
    "    msg = line[19:]\n",
    "    return date, minute, msg\n",
    "\n",
    "def _day04_guard_id(msg):\n",
    "    return int(msg.split()[1][1:])\n",
    "\n",
    "def day04(record):\n",
    "    \"\"\"    \n",
    "    returns dictionary {guard_id: list of number of sleeps from 00:00 to 00:59}\n",
    "    \n",
    "    いもす法\n",
    "    \"\"\"\n",
    "    x = collections.defaultdict(lambda: [0]*60)\n",
    "    guard = -1\n",
    "    for line in record:\n",
    "        date, minute, msg = _day04_parse(line)\n",
    "        if msg.startswith(\"Guard\"):\n",
    "            guard = _day04_guard_id(msg)\n",
    "        elif msg.startswith(\"falls\"):\n",
    "            x[guard][minute] += 1\n",
    "        elif msg.startswith(\"wakes\"):\n",
    "            x[guard][minute] -= 1\n",
    "        else:\n",
    "            raise ValueError(\"Failed to decode message\")\n",
    "\n",
    "    for guard in x:\n",
    "        x[guard] = list(it.accumulate(x[guard]))\n",
    "\n",
    "    return x"
   ]
  },
  {
   "cell_type": "code",
   "execution_count": 40,
   "metadata": {},
   "outputs": [
    {
     "name": "stdout",
     "output_type": "stream",
     "text": [
      "1987\n",
      "[1, 1, 1, 2, 3, 3, 3, 3, 4, 4, 5, 5, 5, 6, 6, 6, 7, 7, 7, 7, 8, 9, 9, 10, 10, 10, 11, 11, 13, 13, 13, 13, 13, 13, 15, 13, 13, 13, 13, 13, 12, 11, 12, 12, 13, 12, 12, 11, 11, 11, 10, 11, 10, 7, 6, 4, 4, 4, 2, 0]\n"
     ]
    },
    {
     "data": {
      "text/plain": [
       "67558"
      ]
     },
     "execution_count": 40,
     "metadata": {},
     "output_type": "execute_result"
    }
   ],
   "source": [
    "x = day04(inputs)\n",
    "guard = max(x.keys(), key=lambda g: sum(x[g]))\n",
    "print(guard)\n",
    "print(x[guard])\n",
    "minute = max(range(60), key=lambda i: x[guard][i])\n",
    "guard * minute"
   ]
  },
  {
   "cell_type": "code",
   "execution_count": 41,
   "metadata": {},
   "outputs": [
    {
     "name": "stdout",
     "output_type": "stream",
     "text": [
      "2633\n",
      "[1, 2, 2, 2, 3, 3, 3, 3, 3, 3, 3, 3, 5, 5, 6, 7, 6, 6, 6, 6, 6, 6, 6, 7, 7, 10, 12, 13, 14, 15, 17, 16, 15, 14, 12, 11, 11, 10, 10, 9, 7, 8, 8, 8, 9, 9, 7, 7, 7, 6, 6, 6, 7, 5, 5, 5, 3, 1, 1, 0]\n"
     ]
    },
    {
     "data": {
      "text/plain": [
       "78990"
      ]
     },
     "execution_count": 41,
     "metadata": {},
     "output_type": "execute_result"
    }
   ],
   "source": [
    "x = day04(inputs)\n",
    "guard = max(x.keys(), key=lambda g: max(x[g]))\n",
    "print(guard)\n",
    "print(x[guard])\n",
    "minute = max(range(60), key=lambda i: x[guard][i])\n",
    "guard * minute"
   ]
  },
  {
   "cell_type": "code",
   "execution_count": null,
   "metadata": {},
   "outputs": [],
   "source": []
  },
  {
   "cell_type": "code",
   "execution_count": 44,
   "metadata": {},
   "outputs": [
    {
     "name": "stdout",
     "output_type": "stream",
     "text": [
      "Day 5: Alchemical Reduction\n"
     ]
    }
   ],
   "source": [
    "get_title(5)"
   ]
  },
  {
   "cell_type": "markdown",
   "metadata": {},
   "source": [
    "## Day 5: Alchemical Reduction"
   ]
  },
  {
   "cell_type": "code",
   "execution_count": null,
   "metadata": {},
   "outputs": [],
   "source": []
  }
 ],
 "metadata": {
  "kernelspec": {
   "display_name": "Python 3",
   "language": "python",
   "name": "python3"
  },
  "language_info": {
   "codemirror_mode": {
    "name": "ipython",
    "version": 3
   },
   "file_extension": ".py",
   "mimetype": "text/x-python",
   "name": "python",
   "nbconvert_exporter": "python",
   "pygments_lexer": "ipython3",
   "version": "3.7.5"
  }
 },
 "nbformat": 4,
 "nbformat_minor": 2
}
