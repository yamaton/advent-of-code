{
 "cells": [
  {
   "cell_type": "code",
   "execution_count": 1,
   "metadata": {},
   "outputs": [],
   "source": [
    "import itertools as it\n",
    "import collections\n",
    "import doctest\n",
    "import string\n",
    "import heapq\n",
    "from typing import List, Tuple\n",
    "\n",
    "import numpy as np\n",
    "\n",
    "import plotly.express as px\n",
    "import plotly.io as pio\n",
    "pio.renderers.default = \"notebook\""
   ]
  },
  {
   "cell_type": "code",
   "execution_count": 2,
   "metadata": {},
   "outputs": [],
   "source": [
    "import bs4\n",
    "import urllib\n",
    "\n",
    "def get_title(day):\n",
    "    f = urllib.request.urlopen(f\"https://adventofcode.com/2018/day/{day}\")\n",
    "    soup = bs4.BeautifulSoup(f.read())\n",
    "    print(soup.h2.text.replace(\"-\",\"\").strip())    "
   ]
  },
  {
   "cell_type": "markdown",
   "metadata": {},
   "source": [
    "## Day 1: Chronal Calibration"
   ]
  },
  {
   "cell_type": "code",
   "execution_count": 93,
   "metadata": {},
   "outputs": [],
   "source": [
    "def day01_read(file_):\n",
    "    return [int(line) for line in open(file_).readlines()]\n",
    "\n",
    "\n",
    "def day01(xs: List[int]) -> int:\n",
    "    return sum(xs)"
   ]
  },
  {
   "cell_type": "code",
   "execution_count": 94,
   "metadata": {},
   "outputs": [
    {
     "data": {
      "text/plain": [
       "497"
      ]
     },
     "execution_count": 94,
     "metadata": {},
     "output_type": "execute_result"
    }
   ],
   "source": [
    "inputs = day01_read(\"./2018/day01.txt\")\n",
    "day01(inputs)"
   ]
  },
  {
   "cell_type": "code",
   "execution_count": 95,
   "metadata": {},
   "outputs": [],
   "source": [
    "def day01_mod(xs: List[int]) -> int:\n",
    "    \"\"\"\n",
    "    >>> day01_mod([1, -1])\n",
    "    0\n",
    "    \n",
    "    >>> day01_mod([+3, +3, +4, -2, -4])\n",
    "    10\n",
    "    \n",
    "    >>> day01_mod([-6, +3, +8, +5, -6])\n",
    "    5\n",
    "    \n",
    "    >>> day01_mod([+7, +7, -2, -7, -4])\n",
    "    14\n",
    "    \"\"\"\n",
    "    freq = 0\n",
    "    seen = {freq}\n",
    "    \n",
    "    for x in it.cycle(xs):\n",
    "        freq += x\n",
    "        if freq in seen:\n",
    "            break\n",
    "        else:\n",
    "            seen.add(freq)\n",
    "    return freq"
   ]
  },
  {
   "cell_type": "code",
   "execution_count": 96,
   "metadata": {},
   "outputs": [
    {
     "data": {
      "text/plain": [
       "TestResults(failed=0, attempted=8)"
      ]
     },
     "execution_count": 96,
     "metadata": {},
     "output_type": "execute_result"
    }
   ],
   "source": [
    "doctest.testmod()"
   ]
  },
  {
   "cell_type": "code",
   "execution_count": 97,
   "metadata": {},
   "outputs": [
    {
     "data": {
      "text/plain": [
       "558"
      ]
     },
     "execution_count": 97,
     "metadata": {},
     "output_type": "execute_result"
    }
   ],
   "source": [
    "day01_mod(inputs)"
   ]
  },
  {
   "cell_type": "code",
   "execution_count": null,
   "metadata": {},
   "outputs": [],
   "source": []
  },
  {
   "cell_type": "markdown",
   "metadata": {},
   "source": [
    "## Day 2: Inventory Management System\n",
    "\n",
    "### Part 1\n",
    "\n",
    "Count number of appearences of a letter in a string."
   ]
  },
  {
   "cell_type": "code",
   "execution_count": 102,
   "metadata": {},
   "outputs": [],
   "source": [
    "def day02_read(file_: str) -> List[str]:\n",
    "    return [line.strip() for line in open(file_).readlines()]\n",
    "\n",
    "\n",
    "def day02(ss: List[str]) -> int:\n",
    "    xs = [frozenset(collections.Counter(s).values()) for s in ss]\n",
    "    twos = sum(1 for x in xs if 2 in x)\n",
    "    threes = sum(1 for x in xs if 3 in x)\n",
    "    return twos * threes"
   ]
  },
  {
   "cell_type": "code",
   "execution_count": 116,
   "metadata": {},
   "outputs": [
    {
     "data": {
      "text/plain": [
       "12"
      ]
     },
     "execution_count": 116,
     "metadata": {},
     "output_type": "execute_result"
    }
   ],
   "source": [
    "test = \"\"\"\n",
    "abcdef\n",
    "bababc\n",
    "abbcde\n",
    "abcccd\n",
    "aabcdd\n",
    "abcdee\n",
    "ababab\"\"\".split()\n",
    "\n",
    "day02(test)"
   ]
  },
  {
   "cell_type": "code",
   "execution_count": 110,
   "metadata": {},
   "outputs": [
    {
     "data": {
      "text/plain": [
       "4940"
      ]
     },
     "execution_count": 110,
     "metadata": {},
     "output_type": "execute_result"
    }
   ],
   "source": [
    "inputs = day02_read(\"./2018/day02.txt\")\n",
    "day02(inputs)"
   ]
  },
  {
   "cell_type": "code",
   "execution_count": 111,
   "metadata": {},
   "outputs": [
    {
     "data": {
      "text/plain": [
       "250"
      ]
     },
     "execution_count": 111,
     "metadata": {},
     "output_type": "execute_result"
    }
   ],
   "source": [
    "len(inputs)"
   ]
  },
  {
   "cell_type": "code",
   "execution_count": 112,
   "metadata": {},
   "outputs": [
    {
     "data": {
      "text/plain": [
       "Counter({26: 250})"
      ]
     },
     "execution_count": 112,
     "metadata": {},
     "output_type": "execute_result"
    }
   ],
   "source": [
    "collections.Counter([len(s) for s in inputs])"
   ]
  },
  {
   "cell_type": "markdown",
   "metadata": {},
   "source": [
    "So, there are 250 strings each of which has the same length 26. Now find a pair of the most similar strings. Here similarity is meant by number of common letters."
   ]
  },
  {
   "cell_type": "code",
   "execution_count": 113,
   "metadata": {},
   "outputs": [],
   "source": [
    "def day02_mod(ss: List[str]) -> str:\n",
    "\n",
    "    def _similarity(pair):\n",
    "        s, t = pair\n",
    "        return sum(c1 == c2 for c1, c2 in zip(s, t))\n",
    "\n",
    "    def _common_str(s, t):\n",
    "        return \"\".join(c1 for c1, c2 in zip(s, t) if c1 == c2)\n",
    "\n",
    "    size = len(ss)\n",
    "    s, t = max([(s, t) for s, t in it.combinations(ss, 2)], \n",
    "              key=_similarity)\n",
    "    return _common_str(s, t)"
   ]
  },
  {
   "cell_type": "code",
   "execution_count": 114,
   "metadata": {},
   "outputs": [
    {
     "data": {
      "text/plain": [
       "'fgij'"
      ]
     },
     "execution_count": 114,
     "metadata": {},
     "output_type": "execute_result"
    }
   ],
   "source": [
    "test = \"\"\"\n",
    "abcde\n",
    "fghij\n",
    "klmno\n",
    "pqrst\n",
    "fguij\n",
    "axcye\n",
    "wvxyz\n",
    "\"\"\".split()\n",
    "\n",
    "day02_mod(test)"
   ]
  },
  {
   "cell_type": "code",
   "execution_count": 115,
   "metadata": {},
   "outputs": [
    {
     "data": {
      "text/plain": [
       "'wrziyfdmlumeqvaatbiosngkc'"
      ]
     },
     "execution_count": 115,
     "metadata": {},
     "output_type": "execute_result"
    }
   ],
   "source": [
    "day02_mod(inputs)"
   ]
  },
  {
   "cell_type": "code",
   "execution_count": null,
   "metadata": {},
   "outputs": [],
   "source": []
  },
  {
   "cell_type": "markdown",
   "metadata": {},
   "source": [
    "## Day 3: No Matter How You Slice It\n",
    "\n",
    "### Part 1\n",
    "\n",
    "Place many rectangles of different height and width to specified grid locations. Then find the area where rectangles are overlapped."
   ]
  },
  {
   "cell_type": "code",
   "execution_count": 118,
   "metadata": {},
   "outputs": [],
   "source": [
    "def day03_read(file_):\n",
    "    return [line.strip() for line in open(\"./2018/day03.txt\").readlines()]\n",
    "    \n",
    "def day03_parse_line(line):\n",
    "    \"\"\"\n",
    "    >>> day03_parse_line('#34 @ 23,699: 21x18')\n",
    "    (34, 23, 699, 21, 18)\n",
    "    \"\"\"\n",
    "    head, rest = line.split(\"@\")\n",
    "    id_ = int(head[1:])\n",
    "    loc, size = rest.split(\":\")\n",
    "    x, y = map(int, loc.split(\",\"))\n",
    "    dx, dy = map(int, size.split(\"x\"))\n",
    "    return id_, x, y, dx, dy"
   ]
  },
  {
   "cell_type": "markdown",
   "metadata": {},
   "source": [
    "This is what an input looks like."
   ]
  },
  {
   "cell_type": "code",
   "execution_count": 120,
   "metadata": {},
   "outputs": [
    {
     "data": {
      "text/plain": [
       "['#1 @ 871,327: 16x20',\n",
       " '#2 @ 676,717: 27x26',\n",
       " '#3 @ 245,818: 19x21',\n",
       " '#4 @ 89,306: 22x11']"
      ]
     },
     "execution_count": 120,
     "metadata": {},
     "output_type": "execute_result"
    }
   ],
   "source": [
    "inputs = day03_read(\"./2018/day03.txt\")\n",
    "inputs[:4]"
   ]
  },
  {
   "cell_type": "code",
   "execution_count": 129,
   "metadata": {},
   "outputs": [],
   "source": [
    "## This one does not work for now. debugging...\n",
    "\n",
    "def day03(lines):\n",
    "    \"\"\"\n",
    "    >>> day03([\"#1 @ 1,3: 4x4\", \"#2 @ 3,1: 4x4\", \"#3 @ 5,5: 2x2\"])\n",
    "    4\n",
    "    \"\"\"\n",
    "    # いもす法\n",
    "    d = collections.defaultdict(int)\n",
    "    for line in lines:\n",
    "        _, x, y, dx, dy = day03_parse_line(line)\n",
    "        d[x, y] += 1\n",
    "        d[x + dx, y     ] -= 1\n",
    "        d[x     , y + dy] -= 1\n",
    "        d[x + dy, y + dy] += 1\n",
    "    \n",
    "    ub_x = max(tup[0] for tup in d.keys()) + 1\n",
    "    ub_y = max(tup[1] for tup in d.keys()) + 1\n",
    "    \n",
    "    res = 0\n",
    "    for i in range(ub_x):\n",
    "        for j in range(ub_y):\n",
    "            d[i, j] += d[i, j - 1]\n",
    "\n",
    "    xss = [[0] * (ub_x) for _ in range(ub_y)] \n",
    "    for j in range(ub_y):\n",
    "        for i in range(ub_x):\n",
    "            d[i, j] += d[i - 1, j]\n",
    "            if d[i, j] >= 2:\n",
    "                res += 1\n",
    "            xss[j][i] = d[i, j]\n",
    "            \n",
    "#     for xs in xss:\n",
    "#         print(xs)\n",
    "    return res"
   ]
  },
  {
   "cell_type": "code",
   "execution_count": 130,
   "metadata": {},
   "outputs": [],
   "source": [
    "def day03_naive(lines):\n",
    "    \"\"\"\n",
    "    >>> day03_naive([\"#1 @ 1,3: 4x4\", \"#2 @ 3,1: 4x4\", \"#3 @ 5,5: 2x2\"])\n",
    "    4\n",
    "    \"\"\"\n",
    "    d = collections.defaultdict(int)\n",
    "    for line in lines:\n",
    "        _, x, y, dx, dy = day03_parse_line(line)\n",
    "        for i in range(x, x + dx):\n",
    "            for j in range(y, y + dy):\n",
    "                d[i,j] += 1\n",
    "    \n",
    "    res = sum(1 for v in d.values() if v > 1)\n",
    "    return res"
   ]
  },
  {
   "cell_type": "code",
   "execution_count": 121,
   "metadata": {},
   "outputs": [
    {
     "data": {
      "text/plain": [
       "TestResults(failed=0, attempted=9)"
      ]
     },
     "execution_count": 121,
     "metadata": {},
     "output_type": "execute_result"
    }
   ],
   "source": [
    "doctest.testmod()"
   ]
  },
  {
   "cell_type": "code",
   "execution_count": 122,
   "metadata": {},
   "outputs": [
    {
     "data": {
      "text/plain": [
       "101565"
      ]
     },
     "execution_count": 122,
     "metadata": {},
     "output_type": "execute_result"
    }
   ],
   "source": [
    "day03_naive(inputs)"
   ]
  },
  {
   "cell_type": "markdown",
   "metadata": {},
   "source": [
    "### Part 2\n",
    "Find ID of the rectangle that overlaps with none of the rest."
   ]
  },
  {
   "cell_type": "code",
   "execution_count": 127,
   "metadata": {},
   "outputs": [],
   "source": [
    "def day03_mod(lines):\n",
    "    d = collaections.defaultdict(int)\n",
    "    for line in lines:\n",
    "        _, x, y, dx, dy = day03_parse_line(line)\n",
    "        for i in range(x, x + dx):\n",
    "            for j in range(y, y + dy):\n",
    "                d[i, j] += 1\n",
    "\n",
    "    for line in lines:\n",
    "        id_, x, y, dx, dy = day03_parse_line(line)\n",
    "        criteria = all(d[i, j] == 1 for i in range(x, x + dx) for j in range(y, y + dy))\n",
    "        if criteria:\n",
    "            return id_"
   ]
  },
  {
   "cell_type": "code",
   "execution_count": 128,
   "metadata": {},
   "outputs": [
    {
     "data": {
      "text/plain": [
       "656"
      ]
     },
     "execution_count": 128,
     "metadata": {},
     "output_type": "execute_result"
    }
   ],
   "source": [
    "day03_mod(inputs)"
   ]
  },
  {
   "cell_type": "markdown",
   "metadata": {},
   "source": [
    "## Day 4: Repose Record\n",
    "\n",
    "### Part 1\n",
    "\n",
    "Keep track of the record of guard being awake or asleep at each minute. Find the guard that spent asleep most, and return the product of the guard ID and the minutes slept."
   ]
  },
  {
   "cell_type": "code",
   "execution_count": 122,
   "metadata": {},
   "outputs": [],
   "source": [
    "def day04_read(file_):\n",
    "    return sorted([line.strip() for line in open(file_).readlines()])"
   ]
  },
  {
   "cell_type": "code",
   "execution_count": 123,
   "metadata": {},
   "outputs": [
    {
     "data": {
      "text/plain": [
       "['[1518-03-09 23:46] Guard #727 begins shift',\n",
       " '[1518-03-10 00:05] falls asleep',\n",
       " '[1518-03-10 00:34] wakes up',\n",
       " '[1518-03-10 00:56] falls asleep',\n",
       " '[1518-03-10 00:58] wakes up']"
      ]
     },
     "execution_count": 123,
     "metadata": {},
     "output_type": "execute_result"
    }
   ],
   "source": [
    "inputs = day04_read(\"./2018/day04.txt\")\n",
    "inputs[:5]"
   ]
  },
  {
   "cell_type": "code",
   "execution_count": 69,
   "metadata": {},
   "outputs": [],
   "source": [
    "def _day04_parse(line):\n",
    "    date = line[1:11]\n",
    "    time = line[12:17]\n",
    "    minute = int(time[-2:])\n",
    "    msg = line[19:]\n",
    "    return date, minute, msg\n",
    "\n",
    "def _day04_guard_id(msg):\n",
    "    return int(msg.split()[1][1:])\n",
    "\n",
    "def day04(record):\n",
    "    \"\"\"    \n",
    "    returns dictionary \n",
    "    {guard_id: 60-element list of number of minutes asleep at each time}\n",
    "    \n",
    "    いもす法\n",
    "    \"\"\"\n",
    "    x = collections.defaultdict(lambda: [0]*60)\n",
    "    guard = -1\n",
    "    for line in record:\n",
    "        date, minute, msg = _day04_parse(line)\n",
    "        if msg.startswith(\"Guard\"):\n",
    "            guard = _day04_guard_id(msg)\n",
    "        elif msg.startswith(\"falls\"):\n",
    "            x[guard][minute] += 1\n",
    "        elif msg.startswith(\"wakes\"):\n",
    "            x[guard][minute] -= 1\n",
    "        else:\n",
    "            raise ValueError(\"Failed to decode message\")\n",
    "\n",
    "    for guard in x:\n",
    "        x[guard] = list(it.accumulate(x[guard]))\n",
    "\n",
    "    return x"
   ]
  },
  {
   "cell_type": "code",
   "execution_count": 70,
   "metadata": {},
   "outputs": [
    {
     "name": "stdout",
     "output_type": "stream",
     "text": [
      "1987\n",
      "[1, 1, 1, 2, 3, 3, 3, 3, 4, 4, 5, 5, 5, 6, 6, 6, 7, 7, 7, 7, 8, 9, 9, 10, 10, 10, 11, 11, 13, 13, 13, 13, 13, 13, 15, 13, 13, 13, 13, 13, 12, 11, 12, 12, 13, 12, 12, 11, 11, 11, 10, 11, 10, 7, 6, 4, 4, 4, 2, 0]\n"
     ]
    },
    {
     "data": {
      "text/plain": [
       "67558"
      ]
     },
     "execution_count": 70,
     "metadata": {},
     "output_type": "execute_result"
    }
   ],
   "source": [
    "x = day04(inputs)\n",
    "guard = max(x.keys(), key=lambda g: sum(x[g]))\n",
    "print(guard)\n",
    "print(x[guard])\n",
    "minute = max(range(60), key=lambda i: x[guard][i])\n",
    "guard * minute"
   ]
  },
  {
   "cell_type": "markdown",
   "metadata": {},
   "source": [
    "### Part 2\n",
    "\n",
    "Find the guard that was asleep at a clock time most. (There are many days with the same clock time.) Return the product of guard ID and the accumulated count of sleeps at the moment."
   ]
  },
  {
   "cell_type": "code",
   "execution_count": 71,
   "metadata": {},
   "outputs": [
    {
     "name": "stdout",
     "output_type": "stream",
     "text": [
      "2633\n",
      "[1, 2, 2, 2, 3, 3, 3, 3, 3, 3, 3, 3, 5, 5, 6, 7, 6, 6, 6, 6, 6, 6, 6, 7, 7, 10, 12, 13, 14, 15, 17, 16, 15, 14, 12, 11, 11, 10, 10, 9, 7, 8, 8, 8, 9, 9, 7, 7, 7, 6, 6, 6, 7, 5, 5, 5, 3, 1, 1, 0]\n"
     ]
    },
    {
     "data": {
      "text/plain": [
       "78990"
      ]
     },
     "execution_count": 71,
     "metadata": {},
     "output_type": "execute_result"
    }
   ],
   "source": [
    "x = day04(inputs)\n",
    "guard = max(x.keys(), key=lambda g: max(x[g]))\n",
    "print(guard)\n",
    "print(x[guard])\n",
    "minute = max(range(60), key=lambda i: x[guard][i])\n",
    "guard * minute"
   ]
  },
  {
   "cell_type": "markdown",
   "metadata": {},
   "source": [
    "## Day 5: Alchemical Reduction\n",
    "\n",
    "### Part 1"
   ]
  },
  {
   "cell_type": "code",
   "execution_count": 73,
   "metadata": {},
   "outputs": [],
   "source": [
    "def day05_read(file_):\n",
    "    return open(file_).read().strip()"
   ]
  },
  {
   "cell_type": "code",
   "execution_count": 74,
   "metadata": {},
   "outputs": [],
   "source": [
    "inputs = day05_read(\"./2018/day05.txt\")"
   ]
  },
  {
   "cell_type": "markdown",
   "metadata": {},
   "source": [
    "An uppercase and a lowercase letter in adjacency react and dissapear if they are of the same kind (such as 'a' and 'A'). Chain reaction can happen. Find the number of letters after reactions."
   ]
  },
  {
   "cell_type": "code",
   "execution_count": 75,
   "metadata": {},
   "outputs": [],
   "source": [
    "def _day05_react(s):\n",
    "    res = []\n",
    "    c = None\n",
    "    for c_next in s:\n",
    "        if c is None:\n",
    "            c = c_next\n",
    "        elif c != c_next and c.lower() == c_next.lower():\n",
    "            c = None\n",
    "        else:\n",
    "            res.append(c)\n",
    "            c = c_next\n",
    "\n",
    "    # collect the last element if necessary\n",
    "    if c:\n",
    "        res.append(c)\n",
    "    return \"\".join(res)\n",
    "\n",
    "\n",
    "def day05(s):\n",
    "    \"\"\"\n",
    "    >>> day05(\"dabAcCaCBAcCcaDA\")\n",
    "    10\n",
    "    \"\"\"\n",
    "    s1 = _day05_react(s)\n",
    "    while s != s1:\n",
    "        s = s1\n",
    "        s1 = _day05_react(s)\n",
    "    return len(s)"
   ]
  },
  {
   "cell_type": "code",
   "execution_count": 76,
   "metadata": {},
   "outputs": [
    {
     "data": {
      "text/plain": [
       "TestResults(failed=0, attempted=7)"
      ]
     },
     "execution_count": 76,
     "metadata": {},
     "output_type": "execute_result"
    }
   ],
   "source": [
    "doctest.testmod()"
   ]
  },
  {
   "cell_type": "code",
   "execution_count": 77,
   "metadata": {},
   "outputs": [
    {
     "data": {
      "text/plain": [
       "11546"
      ]
     },
     "execution_count": 77,
     "metadata": {},
     "output_type": "execute_result"
    }
   ],
   "source": [
    "day05(inputs)"
   ]
  },
  {
   "cell_type": "markdown",
   "metadata": {},
   "source": [
    "### Part 2\n",
    "\n",
    "Find the minimum length of letters after reactions when you remove one type of letters initially."
   ]
  },
  {
   "cell_type": "code",
   "execution_count": 78,
   "metadata": {},
   "outputs": [
    {
     "data": {
      "text/plain": [
       "26"
      ]
     },
     "execution_count": 78,
     "metadata": {},
     "output_type": "execute_result"
    }
   ],
   "source": [
    "len(set(inputs.upper()))"
   ]
  },
  {
   "cell_type": "code",
   "execution_count": 79,
   "metadata": {},
   "outputs": [],
   "source": [
    "def day05_mod(s):\n",
    "    \"\"\"\n",
    "    >>> day05_mod(\"dabAcCaCBAcCcaDA\")\n",
    "    4\n",
    "    \"\"\"\n",
    "    min_so_far = 1000000000\n",
    "    for c in string.ascii_lowercase:\n",
    "        s_mod = s.replace(c, \"\").replace(c.upper(), \"\")\n",
    "        res = day05(s_mod)\n",
    "        if res < min_so_far:\n",
    "            min_so_far = res\n",
    "    return min_so_far"
   ]
  },
  {
   "cell_type": "code",
   "execution_count": 80,
   "metadata": {},
   "outputs": [
    {
     "data": {
      "text/plain": [
       "TestResults(failed=0, attempted=7)"
      ]
     },
     "execution_count": 80,
     "metadata": {},
     "output_type": "execute_result"
    }
   ],
   "source": [
    "doctest.testmod()"
   ]
  },
  {
   "cell_type": "code",
   "execution_count": 81,
   "metadata": {},
   "outputs": [
    {
     "data": {
      "text/plain": [
       "5124"
      ]
     },
     "execution_count": 81,
     "metadata": {},
     "output_type": "execute_result"
    }
   ],
   "source": [
    "day05_mod(inputs)"
   ]
  },
  {
   "cell_type": "markdown",
   "metadata": {},
   "source": [
    "## Day 6: Chronal Coordinates\n",
    "\n",
    "### Part 1\n",
    "\n",
    "I guess points NOT on the convex hull edges have finite areas."
   ]
  },
  {
   "cell_type": "code",
   "execution_count": 125,
   "metadata": {},
   "outputs": [],
   "source": [
    "import scipy.spatial"
   ]
  },
  {
   "cell_type": "code",
   "execution_count": 126,
   "metadata": {},
   "outputs": [],
   "source": [
    "def day06_read(file_):\n",
    "    return [tuple([int(x) for x in line.strip().split(\",\")])\n",
    "            for line in open(file_).readlines()]"
   ]
  },
  {
   "cell_type": "code",
   "execution_count": 127,
   "metadata": {},
   "outputs": [
    {
     "data": {
      "text/plain": [
       "[(350, 353),\n",
       " (238, 298),\n",
       " (248, 152),\n",
       " (168, 189),\n",
       " (127, 155),\n",
       " (339, 202),\n",
       " (304, 104),\n",
       " (317, 144),\n",
       " (83, 106),\n",
       " (78, 106)]"
      ]
     },
     "execution_count": 127,
     "metadata": {},
     "output_type": "execute_result"
    }
   ],
   "source": [
    "inputs = day06_read(\"./2018/day06.txt\")\n",
    "inputs[:10]"
   ]
  },
  {
   "cell_type": "code",
   "execution_count": 133,
   "metadata": {},
   "outputs": [],
   "source": [
    "def mins(iterable, key):\n",
    "    iter1, iter2 = it.tee(iterable)\n",
    "    minval = min(iter1, key=key)\n",
    "    return [x for x in iter2 if key(x) == key(minval)]\n",
    "\n",
    "\n",
    "def get_xy_range(points):\n",
    "    xmin = 100000\n",
    "    ymin = 100000\n",
    "    xmax = -100000\n",
    "    ymax = -100000\n",
    "    for x, y in points:\n",
    "        xmin = min(x, xmin)\n",
    "        xmax = max(x, xmax)\n",
    "        ymin = min(y, ymin)\n",
    "        ymax = max(y, ymax)\n",
    "    \n",
    "    return xmin, xmax, ymin, ymax\n",
    "\n",
    "\n",
    "def area_counts(points):\n",
    "    d = dict()\n",
    "    xmin, xmax, ymin, ymax = get_xy_range(points)\n",
    "    for x in range(xmin, xmax+1):\n",
    "        for y in range(ymin, ymax+1):\n",
    "            target = x, y\n",
    "            vals = mins(enumerate(points), key=lambda tup: _dist(tup[1], target))\n",
    "            d[x,y] = vals[0][0] if len(vals) == 1 else None\n",
    "    \n",
    "    return collections.Counter(d.values())\n",
    "\n",
    "\n",
    "def _dist(p1, p2):\n",
    "    return sum(abs(i - j) for i, j in zip(p1, p2))\n",
    "\n",
    "\n",
    "# def _explore(points, source, taken):\n",
    "#     rest = [p for p in points if p != source]\n",
    "#     seen = {source}\n",
    "#     q = collections.deque([source])\n",
    "#     count = 0\n",
    "#     taken.add(source)\n",
    "\n",
    "#     while q:\n",
    "#         p = q.popleft()\n",
    "#         d = _dist(source, p)\n",
    "#         d_rest = min(_dist(another, p) for another in rest)\n",
    "#         if d < d_rest:\n",
    "#             count += 1\n",
    "#             taken.add(p)\n",
    "#         else:\n",
    "#             continue\n",
    "#         (x, y) = p\n",
    "#         for next_p in [(x + 1, y), (x - 1, y), (x, y + 1), (x, y - 1)]:\n",
    "#             if next_p not in seen:\n",
    "#                 q.append(next_p)\n",
    "#                 seen.add(next_p)\n",
    "\n",
    "#     return count, taken\n",
    "\n",
    "\n",
    "def day06(points):\n",
    "    \"\"\"\n",
    "    >>> day06([(1, 1), (1, 6), (8, 3), (3, 4), (5, 5), (8, 9)])\n",
    "    17\n",
    "    \"\"\"\n",
    "    taken = set()\n",
    "    hull = scipy.spatial.ConvexHull(points)\n",
    "    indices_inner = [i for i in range(len(points)) if i not in set(hull.vertices)]\n",
    "    counts = area_counts(points)\n",
    "    print(counts, file=sys.stderr)\n",
    "    return max(counts[i] for i in indices_inner)"
   ]
  },
  {
   "cell_type": "code",
   "execution_count": 134,
   "metadata": {},
   "outputs": [
    {
     "name": "stderr",
     "output_type": "stream",
     "text": [
      "Counter({4: 17, 2: 12, 5: 10, 1: 9, 3: 9, None: 8, 0: 7})\n"
     ]
    },
    {
     "data": {
      "text/plain": [
       "TestResults(failed=0, attempted=10)"
      ]
     },
     "execution_count": 134,
     "metadata": {},
     "output_type": "execute_result"
    }
   ],
   "source": [
    "doctest.testmod()"
   ]
  },
  {
   "cell_type": "code",
   "execution_count": 135,
   "metadata": {},
   "outputs": [
    {
     "name": "stderr",
     "output_type": "stream",
     "text": [
      "Counter({5: 3920, 6: 3807, 7: 3591, 24: 3374, 19: 3010, 46: 2957, 27: 2870, 22: 2516, 1: 2506, 28: 2468, 4: 2336, 34: 2325, 20: 2273, 15: 2266, 2: 2251, 10: 2180, 29: 2174, 39: 2097, 38: 2044, 12: 2025, 48: 2021, 16: 2019, 31: 1984, 42: 1836, 14: 1823, 47: 1729, 30: 1729, 23: 1700, 40: 1512, 44: 1471, 25: 1446, None: 1440, 3: 1387, 18: 1382, 41: 1228, 35: 1228, 43: 1214, 45: 1194, 36: 1192, 11: 1111, 33: 1044, 8: 1017, 49: 994, 13: 964, 26: 868, 17: 850, 37: 842, 9: 837, 21: 833, 0: 684, 32: 671})\n"
     ]
    },
    {
     "data": {
      "text/plain": [
       "3591"
      ]
     },
     "execution_count": 135,
     "metadata": {},
     "output_type": "execute_result"
    }
   ],
   "source": [
    "day06(inputs)"
   ]
  },
  {
   "cell_type": "markdown",
   "metadata": {},
   "source": [
    "### Part 2\n",
    "\n",
    "..."
   ]
  },
  {
   "cell_type": "markdown",
   "metadata": {},
   "source": [
    "## Day 7: The Sum of Its Parts\n",
    "\n",
    "### Part 1\n",
    "\n",
    "Topological sorting of DAG"
   ]
  },
  {
   "cell_type": "code",
   "execution_count": 140,
   "metadata": {},
   "outputs": [
    {
     "data": {
      "text/plain": [
       "['Step O must be finished before step C can begin.',\n",
       " 'Step Y must be finished before step D can begin.',\n",
       " 'Step N must be finished before step D can begin.']"
      ]
     },
     "execution_count": 140,
     "metadata": {},
     "output_type": "execute_result"
    }
   ],
   "source": [
    "def day07_read(file_):\n",
    "    return [line.strip() for line in open(file_).readlines()]\n",
    "\n",
    "inputs = day07_read(\"./2018/day07.txt\")\n",
    "inputs[:3]"
   ]
  },
  {
   "cell_type": "code",
   "execution_count": 141,
   "metadata": {},
   "outputs": [],
   "source": [
    "def _day07_parse_line(line):\n",
    "    words = line.split()\n",
    "    return words[1], words[-3]\n",
    "\n",
    "\n",
    "def _day07_reorder(adj_list):\n",
    "    res = dict()\n",
    "    for k in sorted(adj_list.keys(), reverse=True):\n",
    "        res[k] = sorted(adj_list[k], reverse=True)\n",
    "    return res\n",
    "\n",
    "\n",
    "def day07_get_adj_list(lines):\n",
    "    adj_list = collections.defaultdict(list)\n",
    "    for line in lines:\n",
    "        from_, to_ = _day07_parse_line(line)\n",
    "        adj_list[from_].append(to_)\n",
    "\n",
    "    for x in set(it.chain.from_iterable(adj_list.values())):\n",
    "        if x not in adj_list:\n",
    "            adj_list[x] = []\n",
    "        \n",
    "    return adj_list"
   ]
  },
  {
   "cell_type": "code",
   "execution_count": 148,
   "metadata": {},
   "outputs": [
    {
     "data": {
      "text/plain": [
       "['',\n",
       " 'Step C must be finished before step A can begin.',\n",
       " 'Step C must be finished before step F can begin.',\n",
       " 'Step A must be finished before step B can begin.',\n",
       " 'Step A must be finished before step D can begin.',\n",
       " 'Step B must be finished before step E can begin.',\n",
       " 'Step D must be finished before step E can begin.',\n",
       " 'Step F must be finished before step E can begin.',\n",
       " '']"
      ]
     },
     "execution_count": 148,
     "metadata": {},
     "output_type": "execute_result"
    }
   ],
   "source": [
    "texts"
   ]
  },
  {
   "cell_type": "code",
   "execution_count": 149,
   "metadata": {},
   "outputs": [
    {
     "data": {
      "text/plain": [
       "defaultdict(list,\n",
       "            {'C': ['A', 'F'],\n",
       "             'A': ['B', 'D'],\n",
       "             'B': ['E'],\n",
       "             'D': ['E'],\n",
       "             'F': ['E'],\n",
       "             'E': []})"
      ]
     },
     "execution_count": 149,
     "metadata": {},
     "output_type": "execute_result"
    }
   ],
   "source": [
    "texts = [line for line in \"\"\"\n",
    "Step C must be finished before step A can begin.\n",
    "Step C must be finished before step F can begin.\n",
    "Step A must be finished before step B can begin.\n",
    "Step A must be finished before step D can begin.\n",
    "Step B must be finished before step E can begin.\n",
    "Step D must be finished before step E can begin.\n",
    "Step F must be finished before step E can begin.\n",
    "\"\"\".split(\"\\n\") if line]\n",
    "\n",
    "day07_get_adj_list(texts)"
   ]
  },
  {
   "cell_type": "code",
   "execution_count": 145,
   "metadata": {},
   "outputs": [
    {
     "data": {
      "text/plain": [
       "defaultdict(list,\n",
       "            {'O': ['C', 'F', 'A', 'H', 'R', 'P'],\n",
       "             'Y': ['D', 'Q', 'I'],\n",
       "             'N': ['D', 'I', 'J', 'E', 'F'],\n",
       "             'G': ['F', 'D', 'K', 'M', 'C', 'W', 'S'],\n",
       "             'C': ['Z', 'D', 'U', 'X'],\n",
       "             'H': ['K', 'S', 'D', 'P', 'Q'],\n",
       "             'W': ['T', 'R', 'M', 'I'],\n",
       "             'T': ['F', 'M', 'R', 'E', 'Q', 'L', 'V'],\n",
       "             'S': ['I', 'Q', 'M', 'R', 'P', 'A', 'B'],\n",
       "             'X': ['B', 'L', 'A'],\n",
       "             'J': ['A', 'L', 'Q', 'F'],\n",
       "             'K': ['D', 'Z', 'U', 'M'],\n",
       "             'Z': ['A', 'B'],\n",
       "             'A': ['B'],\n",
       "             'L': ['V', 'B', 'R', 'E'],\n",
       "             'F': ['M', 'D', 'Q', 'B', 'U'],\n",
       "             'B': ['V', 'Q', 'P', 'R', 'I'],\n",
       "             'M': ['Q', 'U', 'P', 'D'],\n",
       "             'D': ['E', 'V', 'U', 'Q'],\n",
       "             'I': ['U', 'Q', 'P', 'R'],\n",
       "             'R': ['V', 'E', 'U', 'P'],\n",
       "             'E': ['U', 'Q', 'V'],\n",
       "             'P': ['V', 'U', 'Q'],\n",
       "             'V': ['Q', 'U'],\n",
       "             'U': ['Q'],\n",
       "             'Q': []})"
      ]
     },
     "execution_count": 145,
     "metadata": {},
     "output_type": "execute_result"
    }
   ],
   "source": [
    "inputs = day07_read(\"./2018/day07.txt\")\n",
    "adj_list = day07_get_adj_list(inputs)\n",
    "adj_list"
   ]
  },
  {
   "cell_type": "code",
   "execution_count": 150,
   "metadata": {},
   "outputs": [],
   "source": [
    "def day07(adj_list):\n",
    "    \"\"\"\n",
    "    >>> day07({\"A\": [\"B\", \"D\"], \"B\": [], \"C\": [\"A\", \"F\"], \"D\": [\"E\"], \"E\": [], \"F\": [\"E\"],})\n",
    "    'CABDFE'\n",
    "    \"\"\"\n",
    "    adj_list = _day07_reorder(adj_list)\n",
    "    res = []\n",
    "    seen = set()\n",
    "    \n",
    "    def _dps(x):\n",
    "        for x_next in adj_list[x]:\n",
    "            yield from _dps(x_next)\n",
    "        yield x\n",
    "    \n",
    "    for k in adj_list.keys():\n",
    "        if k in seen:\n",
    "            continue\n",
    "        else:\n",
    "            for xx in _dps(k):\n",
    "                if xx not in seen:\n",
    "                    seen.add(xx)\n",
    "                    res.append(xx)\n",
    "    \n",
    "    return \"\".join(reversed(res))"
   ]
  },
  {
   "cell_type": "code",
   "execution_count": 74,
   "metadata": {},
   "outputs": [
    {
     "data": {
      "text/plain": [
       "TestResults(failed=0, attempted=5)"
      ]
     },
     "execution_count": 74,
     "metadata": {},
     "output_type": "execute_result"
    }
   ],
   "source": [
    "doctest.testmod()"
   ]
  },
  {
   "cell_type": "code",
   "execution_count": 75,
   "metadata": {},
   "outputs": [
    {
     "data": {
      "text/plain": [
       "'GNJOCHKSWTFMXLYDZABIREPVUQ'"
      ]
     },
     "execution_count": 75,
     "metadata": {},
     "output_type": "execute_result"
    }
   ],
   "source": [
    "day07(adj_list)"
   ]
  },
  {
   "cell_type": "markdown",
   "metadata": {},
   "source": [
    "### Part 2\n",
    "\n",
    "Find the total time when DAG-constrained tasks are done by multiple workers under an optimal schedule. "
   ]
  },
  {
   "cell_type": "code",
   "execution_count": 38,
   "metadata": {},
   "outputs": [],
   "source": [
    "def get_parent(dag):\n",
    "    parent = collections.defaultdict(list)\n",
    "    for k, lis in dag.items():\n",
    "        for v in lis:\n",
    "            parent[v].append(k)\n",
    "    return parent\n",
    "    \n",
    "\n",
    "def get_minimals(dag):\n",
    "    minimals = set()\n",
    "    parent = get_parent(dag)\n",
    "\n",
    "    def _helper(x):\n",
    "        if parent[x]:\n",
    "            for x_p in parent[x]:\n",
    "                yield from _helper(x_p)\n",
    "        else:\n",
    "            yield x\n",
    "\n",
    "    res = set()\n",
    "    for x in dag.keys():\n",
    "        for y in _helper(x):\n",
    "            res.add(y)\n",
    "    return res"
   ]
  },
  {
   "cell_type": "code",
   "execution_count": 39,
   "metadata": {},
   "outputs": [
    {
     "data": {
      "text/plain": [
       "{'C'}"
      ]
     },
     "execution_count": 39,
     "metadata": {},
     "output_type": "execute_result"
    }
   ],
   "source": [
    "test = {\"A\": [\"B\", \"D\"], \"B\": [], \"C\": [\"A\", \"F\"], \"D\": [\"E\"], \"E\": [], \"F\": [\"E\"],}\n",
    "get_minimals(test)"
   ]
  },
  {
   "cell_type": "code",
   "execution_count": 40,
   "metadata": {},
   "outputs": [],
   "source": [
    "import heapq"
   ]
  },
  {
   "cell_type": "code",
   "execution_count": 92,
   "metadata": {},
   "outputs": [],
   "source": [
    "def day07_mod(adj_list, n_workers):\n",
    "    \"\"\"\n",
    "    >>> day07_mod({\"A\": [\"B\", \"D\"], \"B\": [], \"C\": [\"A\", \"F\"], \"D\": [\"E\"], \"E\": [], \"F\": [\"E\"],}, 2)\n",
    "    375    \n",
    "    \"\"\"\n",
    "    parent = get_parent(adj_list)\n",
    "    print(parent)\n",
    "    cost = {c: i for i, c in enumerate(string.ascii_uppercase, start=61)}\n",
    "    workers = [(0, None)] * n_workers\n",
    "    heapq.heapify(workers)\n",
    "\n",
    "    h = []\n",
    "    for c in get_minimals(adj_list):\n",
    "        heapq.heappush(h, (-cost[c], c))\n",
    "    \n",
    "    done = set()\n",
    "    t = 0\n",
    "    while h:\n",
    "        t, c = heapq.heappop(workers)\n",
    "        print(f\" ... a worker finished {c} at {t}\")\n",
    "        neg_dt, c = heapq.heappop(h)\n",
    "        dt = -neg_dt\n",
    "        print(f\" ... next task {c} takes {dt}\")\n",
    "        heapq.heappush(workers, (t + dt, c))\n",
    "        print(f\" ... this worker will be available at {t + dt}\")\n",
    "        print(\"done:\", done)\n",
    "        \n",
    "        for cc in adj_list[c]:\n",
    "            task = (-cost[cc], cc)\n",
    "            heapq.heappush(h, task) \n",
    "    return max(a for a, _ in workers)"
   ]
  },
  {
   "cell_type": "code",
   "execution_count": 93,
   "metadata": {},
   "outputs": [
    {
     "name": "stdout",
     "output_type": "stream",
     "text": [
      "**********************************************************************\n",
      "File \"__main__\", line 3, in __main__.day07_mod\n",
      "Failed example:\n",
      "    day07_mod({\"A\": [\"B\", \"D\"], \"B\": [], \"C\": [\"A\", \"F\"], \"D\": [\"E\"], \"E\": [], \"F\": [\"E\"],}, 2)\n",
      "Expected:\n",
      "    375    \n",
      "Got:\n",
      "    defaultdict(<class 'list'>, {'B': ['A'], 'D': ['A'], 'A': ['C'], 'F': ['C'], 'E': ['D', 'F']})\n",
      "     ... a worker finished None at 0\n",
      "     ... next task C takes 63\n",
      "     ... this worker will be available at 63\n",
      "    done: set()\n",
      "     ... a worker finished None at 0\n",
      "     ... next task F takes 66\n",
      "     ... this worker will be available at 66\n",
      "    done: set()\n",
      "     ... a worker finished C at 63\n",
      "     ... next task E takes 65\n",
      "     ... this worker will be available at 128\n",
      "    done: set()\n",
      "     ... a worker finished F at 66\n",
      "     ... next task A takes 61\n",
      "     ... this worker will be available at 127\n",
      "    done: set()\n",
      "     ... a worker finished A at 127\n",
      "     ... next task D takes 64\n",
      "     ... this worker will be available at 191\n",
      "    done: set()\n",
      "     ... a worker finished E at 128\n",
      "     ... next task E takes 65\n",
      "     ... this worker will be available at 193\n",
      "    done: set()\n",
      "     ... a worker finished D at 191\n",
      "     ... next task B takes 62\n",
      "     ... this worker will be available at 253\n",
      "    done: set()\n",
      "    253\n",
      "**********************************************************************\n",
      "1 items had failures:\n",
      "   1 of   1 in __main__.day07_mod\n",
      "***Test Failed*** 1 failures.\n"
     ]
    },
    {
     "data": {
      "text/plain": [
       "TestResults(failed=1, attempted=1)"
      ]
     },
     "execution_count": 93,
     "metadata": {},
     "output_type": "execute_result"
    }
   ],
   "source": [
    "doctest.testmod()"
   ]
  },
  {
   "cell_type": "code",
   "execution_count": 3,
   "metadata": {},
   "outputs": [
    {
     "name": "stdout",
     "output_type": "stream",
     "text": [
      "Day 8: Memory Maneuver\n"
     ]
    }
   ],
   "source": [
    "get_title(8)"
   ]
  },
  {
   "cell_type": "markdown",
   "metadata": {},
   "source": [
    "## Day 8: Memory Maneuver\n",
    "\n",
    "### Part 1\n",
    "\n",
    "Construct a tree from a sequence following rules. Return sum of node data."
   ]
  },
  {
   "cell_type": "code",
   "execution_count": 139,
   "metadata": {},
   "outputs": [
    {
     "data": {
      "text/plain": [
       "[7, 11, 7, 3, 5, 5, 3, 5, 1, 8]"
      ]
     },
     "execution_count": 139,
     "metadata": {},
     "output_type": "execute_result"
    }
   ],
   "source": [
    "def day08_read(file_):\n",
    "    return [int(s) for s in open(file_).read().strip().split()]\n",
    "\n",
    "inputs = day08_read(\"./2018/day08.txt\")\n",
    "inputs[:10]"
   ]
  },
  {
   "cell_type": "code",
   "execution_count": 31,
   "metadata": {},
   "outputs": [],
   "source": [
    "class Node(object):\n",
    "    def __init__(self):\n",
    "        self.data = []\n",
    "        self.children = []\n",
    "\n",
    "    def add_child(self, obj):\n",
    "        self.children.append(obj)\n",
    "    \n",
    "    def add_data(self, d):\n",
    "        self.data.append(d)"
   ]
  },
  {
   "cell_type": "code",
   "execution_count": 43,
   "metadata": {},
   "outputs": [],
   "source": [
    "def _day08_get_node(iterable):\n",
    "    n_children = next(iterable)\n",
    "    n_data = next(iterable)\n",
    "    node = Node()\n",
    "    for _ in range(n_children):\n",
    "        node.add_child(get_node(iterable))\n",
    "    for _ in range(n_data):\n",
    "\n",
    "        node.add_data(next(iterable))\n",
    "    return node"
   ]
  },
  {
   "cell_type": "code",
   "execution_count": 65,
   "metadata": {},
   "outputs": [],
   "source": [
    "def sum_tree(node):\n",
    "    return sum(node.data) + sum(sum_tree(t) for t in node.children)"
   ]
  },
  {
   "cell_type": "code",
   "execution_count": 71,
   "metadata": {},
   "outputs": [],
   "source": [
    "def day08(seq):\n",
    "    \"\"\"\n",
    "    >>> test = [int(x) for x in \"2 3 0 3 10 11 12 1 1 0 1 99 2 1 1 2\".split()]\n",
    "    >>> day08(test)\n",
    "    138\n",
    "    \"\"\"\n",
    "    n = _day08_get_node(iter(seq))\n",
    "    return sum_tree(n)"
   ]
  },
  {
   "cell_type": "code",
   "execution_count": 72,
   "metadata": {},
   "outputs": [
    {
     "data": {
      "text/plain": [
       "35852"
      ]
     },
     "execution_count": 72,
     "metadata": {},
     "output_type": "execute_result"
    }
   ],
   "source": [
    "day08(inputs)"
   ]
  },
  {
   "cell_type": "markdown",
   "metadata": {},
   "source": [
    "### Part 2"
   ]
  },
  {
   "cell_type": "markdown",
   "metadata": {},
   "source": [
    "Find sum of \"values\" in a tree structure."
   ]
  },
  {
   "cell_type": "code",
   "execution_count": 84,
   "metadata": {},
   "outputs": [],
   "source": [
    "def _day08_get_value(node):\n",
    "    if node.children:\n",
    "        res = 0\n",
    "        for i in node.data:\n",
    "            i -= 1\n",
    "            if 0 <= i < len(node.children):\n",
    "                t = node.children[i]\n",
    "                res += _day08_get_value(t)\n",
    "    else:\n",
    "        res = sum(node.data)\n",
    "    return res\n",
    "\n",
    "\n",
    "def day08_mod(seq):\n",
    "    \"\"\"\n",
    "    >>> test = [int(x) for x in \"2 3 0 3 10 11 12 1 1 0 1 99 2 1 1 2\".split()]\n",
    "    >>> day08_mod(test)\n",
    "    66\n",
    "    \"\"\"\n",
    "    n = _day08_get_node(iter(seq))\n",
    "    return _day08_get_value(n)"
   ]
  },
  {
   "cell_type": "code",
   "execution_count": 85,
   "metadata": {},
   "outputs": [
    {
     "data": {
      "text/plain": [
       "TestResults(failed=0, attempted=4)"
      ]
     },
     "execution_count": 85,
     "metadata": {},
     "output_type": "execute_result"
    }
   ],
   "source": [
    "doctest.testmod()"
   ]
  },
  {
   "cell_type": "code",
   "execution_count": 86,
   "metadata": {},
   "outputs": [
    {
     "data": {
      "text/plain": [
       "33422"
      ]
     },
     "execution_count": 86,
     "metadata": {},
     "output_type": "execute_result"
    }
   ],
   "source": [
    "day08_mod(inputs)"
   ]
  },
  {
   "cell_type": "code",
   "execution_count": 87,
   "metadata": {},
   "outputs": [
    {
     "name": "stdout",
     "output_type": "stream",
     "text": [
      "Day 9: Marble Mania\n"
     ]
    }
   ],
   "source": [
    "get_title(9)"
   ]
  },
  {
   "cell_type": "markdown",
   "metadata": {},
   "source": [
    "## Day 9: Marble Mania\n",
    "\n",
    "### Part 1\n",
    "\n",
    "Just implement rules of putting marbles in circle, and simulate."
   ]
  },
  {
   "cell_type": "code",
   "execution_count": 274,
   "metadata": {},
   "outputs": [
    {
     "data": {
      "text/plain": [
       "'459 players; last marble is worth 71320 points'"
      ]
     },
     "execution_count": 274,
     "metadata": {},
     "output_type": "execute_result"
    }
   ],
   "source": [
    "def day09_read(file_: str) -> List[str]:\n",
    "    return open(file_).read().strip()\n",
    "\n",
    "inputs = day09_read(\"./2018/day09.txt\")\n",
    "inputs"
   ]
  },
  {
   "cell_type": "code",
   "execution_count": 257,
   "metadata": {},
   "outputs": [],
   "source": [
    "class Ring(object):\n",
    "    def __init__(self):\n",
    "        self.state = [0]\n",
    "        self.loc = 0\n",
    "\n",
    "    def insert(self, x):\n",
    "        assert x % 23 > 0\n",
    "        self.loc = ((self.loc + 1) % (len(self.state)) + 1)\n",
    "        self.state.insert(self.loc, x)\n",
    "    \n",
    "    def pop(self):\n",
    "        self.loc = (self.loc - 7) % len(self.state)\n",
    "        return self.state.pop(self.loc)\n",
    "    \n",
    "    def __repr__(self):\n",
    "        return f\"{self.state}       {self.loc}\"            "
   ]
  },
  {
   "cell_type": "code",
   "execution_count": 258,
   "metadata": {},
   "outputs": [
    {
     "name": "stdout",
     "output_type": "stream",
     "text": [
      "[0, 1]       1\n",
      "[0, 2, 1]       1\n",
      "[0, 2, 1, 3]       3\n",
      "[0, 4, 2, 1, 3]       1\n",
      "[0, 4, 2, 5, 1, 3]       3\n",
      "[0, 4, 2, 5, 1, 6, 3]       5\n",
      "[0, 4, 2, 5, 1, 6, 3, 7]       7\n",
      "[0, 8, 4, 2, 5, 1, 6, 3, 7]       1\n",
      "[0, 8, 4, 9, 2, 5, 1, 6, 3, 7]       3\n",
      "[0, 8, 4, 9, 2, 10, 5, 1, 6, 3, 7]       5\n",
      "[0, 8, 4, 9, 2, 10, 5, 11, 1, 6, 3, 7]       7\n",
      "[0, 8, 4, 9, 2, 10, 5, 11, 1, 12, 6, 3, 7]       9\n",
      "[0, 8, 4, 9, 2, 10, 5, 11, 1, 12, 6, 13, 3, 7]       11\n",
      "[0, 8, 4, 9, 2, 10, 5, 11, 1, 12, 6, 13, 3, 14, 7]       13\n",
      "[0, 8, 4, 9, 2, 10, 5, 11, 1, 12, 6, 13, 3, 14, 7, 15]       15\n",
      "[0, 16, 8, 4, 9, 2, 10, 5, 11, 1, 12, 6, 13, 3, 14, 7, 15]       1\n",
      "[0, 16, 8, 17, 4, 9, 2, 10, 5, 11, 1, 12, 6, 13, 3, 14, 7, 15]       3\n",
      "[0, 16, 8, 17, 4, 18, 9, 2, 10, 5, 11, 1, 12, 6, 13, 3, 14, 7, 15]       5\n",
      "[0, 16, 8, 17, 4, 18, 9, 19, 2, 10, 5, 11, 1, 12, 6, 13, 3, 14, 7, 15]       7\n",
      "[0, 16, 8, 17, 4, 18, 9, 19, 2, 20, 10, 5, 11, 1, 12, 6, 13, 3, 14, 7, 15]       9\n",
      "[0, 16, 8, 17, 4, 18, 9, 19, 2, 20, 10, 21, 5, 11, 1, 12, 6, 13, 3, 14, 7, 15]       11\n",
      "[0, 16, 8, 17, 4, 18, 9, 19, 2, 20, 10, 21, 5, 22, 11, 1, 12, 6, 13, 3, 14, 7, 15]       13\n",
      "pop! 9\n",
      "[0, 16, 8, 17, 4, 18, 19, 2, 24, 20, 10, 21, 5, 22, 11, 1, 12, 6, 13, 3, 14, 7, 15]       8\n",
      "[0, 16, 8, 17, 4, 18, 19, 2, 24, 20, 25, 10, 21, 5, 22, 11, 1, 12, 6, 13, 3, 14, 7, 15]       10\n"
     ]
    }
   ],
   "source": [
    "r = Ring()\n",
    "for i in range(1, 26):\n",
    "    if i % 23 == 0:\n",
    "        r_pop = r.pop()\n",
    "        print(f\"pop! {r_pop}\")\n",
    "    else:\n",
    "        r.insert(i)\n",
    "        print(r)"
   ]
  },
  {
   "cell_type": "code",
   "execution_count": 279,
   "metadata": {},
   "outputs": [],
   "source": [
    "def day09(num_players, last_marble):\n",
    "    \"\"\"\n",
    "    >>> day09(9, 25)\n",
    "    32\n",
    "    >>> day09(10, 1618)\n",
    "    8317\n",
    "    >>> day09(13, 7999)\n",
    "    146373\n",
    "    >>> day09(17, 1104)\n",
    "    2764\n",
    "    >>> day09(21, 6111)\n",
    "    54718\n",
    "    >>> day09(30, 5807)\n",
    "    37305\n",
    "    \"\"\"\n",
    "    ring = Ring()\n",
    "    player_points = [0] * num_players\n",
    "    \n",
    "    for marble in range(1, last_marble + 1):\n",
    "        player = marble % num_players\n",
    "        if marble % 23 == 0:\n",
    "            r_pop = ring.pop()\n",
    "            points = r_pop + marble\n",
    "            player_points[player] += points\n",
    "        else:\n",
    "            ring.insert(marble)\n",
    "    return max(player_points)"
   ]
  },
  {
   "cell_type": "code",
   "execution_count": 280,
   "metadata": {},
   "outputs": [
    {
     "name": "stderr",
     "output_type": "stream",
     "text": [
      "Counter({4: 17, 2: 12, 5: 10, 1: 9, 3: 9, None: 8, 0: 7})\n"
     ]
    },
    {
     "data": {
      "text/plain": [
       "TestResults(failed=0, attempted=17)"
      ]
     },
     "execution_count": 280,
     "metadata": {},
     "output_type": "execute_result"
    }
   ],
   "source": [
    "doctest.testmod()"
   ]
  },
  {
   "cell_type": "code",
   "execution_count": 282,
   "metadata": {},
   "outputs": [
    {
     "data": {
      "text/plain": [
       "375414"
      ]
     },
     "execution_count": 282,
     "metadata": {},
     "output_type": "execute_result"
    }
   ],
   "source": [
    "day09(459, 71320)"
   ]
  },
  {
   "cell_type": "markdown",
   "metadata": {},
   "source": [
    "### Part 2\n",
    "\n",
    "Find the same when number of marbles is 100 times larger."
   ]
  },
  {
   "cell_type": "code",
   "execution_count": 284,
   "metadata": {},
   "outputs": [
    {
     "name": "stdout",
     "output_type": "stream",
     "text": [
      "Day 10: The Stars Align\n"
     ]
    }
   ],
   "source": [
    "get_title(10)"
   ]
  },
  {
   "cell_type": "markdown",
   "metadata": {},
   "source": [
    "## Day 10: The Stars Align\n",
    "\n",
    "### Part 1 & Part 2\n",
    "Simulation of noninteracting particles in 2D."
   ]
  },
  {
   "cell_type": "code",
   "execution_count": 3,
   "metadata": {},
   "outputs": [
    {
     "data": {
      "text/plain": [
       "['position=<-50948,  20587> velocity=< 5, -2>',\n",
       " 'position=< 20732, -51094> velocity=<-2,  5>',\n",
       " 'position=<-30471, -10131> velocity=< 3,  1>']"
      ]
     },
     "execution_count": 3,
     "metadata": {},
     "output_type": "execute_result"
    }
   ],
   "source": [
    "def day10_read(file_: str) -> List[str]:\n",
    "    return [line.strip() for line in open(file_).readlines()]\n",
    "\n",
    "inputs = day10_read(\"./2018/day10.txt\")\n",
    "inputs[:3]"
   ]
  },
  {
   "cell_type": "code",
   "execution_count": 4,
   "metadata": {},
   "outputs": [],
   "source": [
    "def day10_parse_line(lines):\n",
    "    pos = []\n",
    "    vel = []\n",
    "    for line in lines:\n",
    "        pos_x = int(line[10:16])\n",
    "        pos_y = int(line[18:24])\n",
    "        vel_x = int(line[36:38])\n",
    "        vel_y = int(line[40:42])\n",
    "        pos.append((pos_x, pos_y))\n",
    "        vel.append((vel_x, vel_y))\n",
    "    return np.array(pos), np.array(vel)"
   ]
  },
  {
   "cell_type": "code",
   "execution_count": 5,
   "metadata": {},
   "outputs": [],
   "source": [
    "x0, v = day10_parse_line(inputs)"
   ]
  },
  {
   "cell_type": "code",
   "execution_count": 18,
   "metadata": {},
   "outputs": [
    {
     "data": {
      "text/html": [
       "<div>\n",
       "        \n",
       "        \n",
       "            <div id=\"d7628048-17ba-42de-bf3e-86ba7999fba9\" class=\"plotly-graph-div\" style=\"height:525px; width:100%;\"></div>\n",
       "            <script type=\"text/javascript\">\n",
       "                require([\"plotly\"], function(Plotly) {\n",
       "                    window.PLOTLYENV=window.PLOTLYENV || {};\n",
       "                    \n",
       "                if (document.getElementById(\"d7628048-17ba-42de-bf3e-86ba7999fba9\")) {\n",
       "                    Plotly.newPlot(\n",
       "                        'd7628048-17ba-42de-bf3e-86ba7999fba9',\n",
       "                        [{\"mode\": \"markers\", \"name\": \"step = 10200\", \"type\": \"scatter\", \"visible\": true, \"x\": [52, 332, 129, 42, 312, 327, 163, 423, 68, 129, 36, 108, 127, -4, 119, 39, 32, 111, 127, 68, 36, 283, 89, 319, 151, 319, 119, 331, 160, 212, 9, 178, 159, 292, 75, 292, 292, 145, 403, 289, 292, 322, 251, 252, 351, 410, 111, 92, 156, 143, 343, 82, 31, 367, 72, 89, 287, 259, 175, 313, 407, 311, 31, 199, 196, 119, 444, 31, 383, 332, 392, 288, 178, 354, 87, 428, 40, 191, 351, 372, 275, 436, 23, 271, 263, 311, 276, 423, 52, 419, 274, 231, 67, 315, 359, 372, 313, 159, 28, 124, 396, 47, 327, 129, 154, 156, 120, 391, 324, 90, 111, 290, 71, 428, 202, 328, 447, 359, 56, 388, 343, 194, 399, 404, 314, 348, 114, 239, 321, 44, 264, 292, 169, 353, 404, 295, 91, 103, 396, 298, 114, 355, 154, 146, 207, 33, 47, 128, 275, 31, 447, 164, 431, 404, 448, -8, 327, 31, 307, 447, 239, 290, 31, 315, 127, 263, 417, 52, 130, 439, 399, 122, 73, 97, 148, 135, 132, 99, 137, 314, 148, 71, 153, 279, 443, 31, 58, 355, 375, 279, 135, 384, 377, 338, 332, 127, 378, 287, 36, 391, 115, 132, 87, 47, 7, 394, 319, 436, 155, 313, 343, 127, 284, 292, 191, 279, 41, 59, 319, 167, 111, 108, 80, 7, 55, 176, 352, 351, 60, 416, 73, 361, 36, 448, 79, 151, 87, 345, 204, 268, 113, 391, 271, 167, 332, 399, 87, 195, 275, 284, 239, 248, 71, 388, 419, 111, 135, 327, 383, 287, 164, 343, 348, 185, 408, 431, 184, 380, 170, 87, 88, 418, 391, 167, 395, 412, 367, 63, 160, 47, 327, 276, 71, 329, 171, 396, 268, 276, 207, -4, 410, 124, 119, 327, 199, 291, -1, -1, 148, 143, 303, 407, 119, 90, 199, 115, 260, 410, 164, 159, 156, 152, 155, 351, 207, 371, 391, 49, 207, 280, 411, 312, 344, 315, 201, 395, 71, 171, 167, 368, 303, 332, 180, 84, 412, 264, 234, 251, 36, 151, 263, 332, 112, 191, 56, 303, 404, 40, 52, 428, 111, 272, 399, 111, 159, 388, 196, 103, 343, 44, 386, 348, 319, 251, 275, 359, 387, 356, 103, 396, 362, 367, 287, 68, 15, 47, 276, 34, 330], \"y\": [187, -94, 69, 155, 190, 227, 191, -86, 30, -94, -5, 273, -14, 274, 229, 70, 306, -50, 307, 151, -12, 307, -14, -48, 71, -90, 195, 230, 271, -87, 315, 226, 230, -10, 313, 30, 29, 230, 195, 30, 267, -54, 230, 75, 306, -10, -93, 228, -51, -12, 69, 146, -91, 274, -14, 189, -90, 195, 146, 266, 195, 66, 310, -85, 194, -49, 35, 193, 188, 315, 70, 268, 30, 231, -45, 231, -45, 232, 186, 231, -7, -6, -52, -47, 190, 71, 274, 309, 33, 235, 306, 308, 274, 306, 154, 195, -10, 32, 32, 228, -51, 26, 32, 70, -50, 308, 235, -10, 35, 152, 275, -85, 234, 313, 71, -12, 275, -5, 26, -85, 74, 66, 69, 234, -50, -93, 226, 146, -89, 70, -13, -8, 146, 230, 308, 73, 74, 31, 154, 275, -89, 266, 230, 152, -94, -50, -88, 235, 313, -51, 72, 195, -52, 73, 307, -94, 31, 275, 153, 70, 188, 32, 268, -90, 231, 186, 275, 271, 191, 311, 307, -49, 270, 306, 308, -94, -46, -11, -49, 191, -54, -53, 226, -88, 271, -54, 26, 192, 274, 194, 155, 187, -45, 26, 230, 314, 310, 229, 147, -93, -88, -11, 312, 147, 308, -89, -7, 315, 32, 30, -86, 273, -50, -48, 226, 32, -14, 66, 234, 233, 231, -48, -13, -12, 35, 32, 230, 186, 275, -45, -90, 315, 35, -93, 149, 312, 154, 230, 232, -85, 146, 152, 267, 230, 235, 308, 66, -88, 30, 271, 33, -90, 191, 268, 149, 148, 66, 231, -49, 72, -86, 29, 189, -11, 28, 28, 268, -52, 71, -92, 267, 195, 227, 67, 152, -9, -86, 195, 75, 71, 310, 189, 72, 310, -47, 187, 314, 267, 234, 307, 235, 275, 190, -52, -9, 226, 187, 310, -12, -10, 30, -93, 193, -14, 34, 190, -94, -50, 189, 194, 68, 186, 70, 69, -52, -7, 194, -91, 193, 71, 314, 66, 228, -90, 151, 312, 188, -46, 233, 266, 306, 309, 147, 70, 152, -93, 266, 315, 67, 74, 147, 275, 70, 149, 66, 273, -92, -93, 186, 191, 231, 150, 29, 269, 152, -90, -45, -88, 191, 71, 31, 266, 309, 155, 186, 188, -87, 309, 275, 309, -94, -91, 187, 226, 154, -50, -92, 150, 306]}, {\"mode\": \"markers\", \"name\": \"step = 10202\", \"type\": \"scatter\", \"visible\": false, \"x\": [62, 328, 135, 50, 306, 321, 167, 413, 76, 133, 44, 114, 133, 6, 125, 49, 42, 117, 131, 76, 44, 281, 95, 315, 155, 313, 123, 325, 164, 214, 19, 180, 163, 290, 81, 290, 290, 149, 393, 287, 290, 318, 249, 250, 343, 400, 115, 100, 160, 147, 337, 90, 39, 361, 80, 97, 285, 257, 177, 307, 397, 305, 39, 201, 198, 123, 434, 39, 375, 326, 384, 286, 180, 348, 93, 418, 48, 193, 343, 366, 271, 426, 33, 269, 261, 305, 274, 413, 62, 409, 272, 229, 75, 309, 353, 366, 307, 161, 38, 130, 388, 55, 321, 133, 156, 160, 124, 381, 320, 98, 115, 286, 79, 418, 204, 324, 437, 351, 64, 380, 337, 196, 389, 396, 308, 342, 120, 237, 317, 54, 262, 290, 171, 347, 396, 291, 99, 109, 386, 294, 118, 349, 156, 150, 209, 43, 55, 132, 273, 39, 437, 166, 421, 396, 438, 2, 323, 41, 303, 437, 237, 288, 39, 309, 131, 261, 407, 62, 136, 429, 389, 128, 81, 103, 152, 139, 138, 105, 141, 310, 152, 79, 155, 277, 433, 41, 66, 347, 367, 275, 139, 376, 369, 332, 328, 131, 370, 283, 46, 381, 121, 138, 93, 55, 17, 386, 313, 426, 159, 307, 337, 131, 282, 290, 193, 275, 51, 67, 313, 169, 117, 114, 88, 17, 63, 178, 344, 345, 68, 406, 79, 353, 44, 438, 85, 155, 93, 339, 206, 266, 119, 381, 269, 169, 326, 391, 95, 197, 273, 282, 237, 246, 77, 380, 409, 115, 139, 321, 375, 285, 168, 337, 342, 187, 400, 421, 186, 372, 174, 95, 96, 408, 383, 171, 385, 404, 359, 71, 162, 55, 321, 272, 77, 325, 175, 388, 266, 272, 209, 6, 400, 130, 123, 323, 201, 287, 9, 9, 152, 147, 299, 399, 125, 96, 201, 121, 258, 400, 168, 163, 158, 154, 159, 345, 209, 365, 381, 59, 209, 278, 403, 306, 338, 309, 203, 385, 79, 175, 169, 360, 299, 328, 182, 92, 404, 262, 232, 249, 44, 153, 261, 328, 118, 193, 64, 299, 396, 50, 60, 418, 117, 270, 391, 117, 163, 380, 198, 109, 337, 54, 378, 342, 313, 249, 273, 353, 379, 350, 109, 386, 356, 361, 285, 76, 25, 55, 274, 44, 324], \"y\": [183, -84, 71, 153, 186, 221, 187, -76, 34, -84, 1, 265, -8, 266, 223, 72, 296, -42, 297, 149, -6, 297, -8, -40, 73, -80, 191, 224, 263, -77, 305, 220, 224, -4, 303, 34, 33, 224, 191, 34, 259, -46, 224, 77, 296, -4, -83, 222, -43, -6, 71, 144, -81, 266, -8, 185, -80, 191, 144, 258, 191, 68, 300, -75, 190, -41, 39, 189, 184, 305, 72, 260, 34, 225, -37, 225, -37, 226, 182, 225, -1, 0, -44, -39, 186, 73, 266, 299, 37, 229, 296, 298, 266, 296, 152, 191, -4, 36, 36, 222, -43, 30, 36, 72, -42, 298, 229, -4, 39, 150, 267, -75, 228, 303, 73, -6, 267, 1, 30, -75, 76, 68, 71, 228, -42, -83, 220, 144, -79, 72, -7, -2, 144, 224, 298, 75, 76, 35, 152, 267, -79, 258, 224, 150, -84, -42, -78, 229, 303, -43, 74, 191, -44, 75, 297, -84, 35, 267, 151, 72, 184, 36, 260, -80, 225, 182, 267, 263, 187, 301, 297, -41, 262, 296, 298, -84, -38, -5, -41, 187, -46, -45, 220, -78, 263, -46, 30, 188, 266, 190, 153, 183, -37, 30, 224, 304, 300, 223, 145, -83, -78, -5, 302, 145, 298, -79, -1, 305, 36, 34, -76, 265, -42, -40, 220, 36, -8, 68, 228, 227, 225, -40, -7, -6, 39, 36, 224, 182, 267, -37, -80, 305, 39, -83, 147, 302, 152, 224, 226, -75, 144, 150, 259, 224, 229, 298, 68, -78, 34, 263, 37, -80, 187, 260, 147, 146, 68, 225, -41, 74, -76, 33, 185, -5, 32, 32, 260, -44, 73, -82, 259, 191, 221, 69, 150, -3, -76, 191, 77, 73, 300, 185, 74, 300, -39, 183, 304, 259, 228, 297, 229, 267, 186, -44, -3, 220, 183, 300, -6, -4, 34, -83, 189, -8, 38, 186, -84, -42, 185, 190, 70, 182, 72, 71, -44, -1, 190, -81, 189, 73, 304, 68, 222, -80, 149, 302, 184, -38, 227, 258, 296, 299, 145, 72, 150, -83, 258, 305, 69, 76, 145, 267, 72, 147, 68, 265, -82, -83, 182, 187, 225, 148, 33, 261, 150, -80, -37, -78, 187, 73, 35, 258, 299, 153, 182, 184, -77, 299, 267, 299, -84, -81, 183, 220, 152, -42, -82, 148, 296]}, {\"mode\": \"markers\", \"name\": \"step = 10204\", \"type\": \"scatter\", \"visible\": false, \"x\": [72, 324, 141, 58, 300, 315, 171, 403, 84, 137, 52, 120, 139, 16, 131, 59, 52, 123, 135, 84, 52, 279, 101, 311, 159, 307, 127, 319, 168, 216, 29, 182, 167, 288, 87, 288, 288, 153, 383, 285, 288, 314, 247, 248, 335, 390, 119, 108, 164, 151, 331, 98, 47, 355, 88, 105, 283, 255, 179, 301, 387, 299, 47, 203, 200, 127, 424, 47, 367, 320, 376, 284, 182, 342, 99, 408, 56, 195, 335, 360, 267, 416, 43, 267, 259, 299, 272, 403, 72, 399, 270, 227, 83, 303, 347, 360, 301, 163, 48, 136, 380, 63, 315, 137, 158, 164, 128, 371, 316, 106, 119, 282, 87, 408, 206, 320, 427, 343, 72, 372, 331, 198, 379, 388, 302, 336, 126, 235, 313, 64, 260, 288, 173, 341, 388, 287, 107, 115, 376, 290, 122, 343, 158, 154, 211, 53, 63, 136, 271, 47, 427, 168, 411, 388, 428, 12, 319, 51, 299, 427, 235, 286, 47, 303, 135, 259, 397, 72, 142, 419, 379, 134, 89, 109, 156, 143, 144, 111, 145, 306, 156, 87, 157, 275, 423, 51, 74, 339, 359, 271, 143, 368, 361, 326, 324, 135, 362, 279, 56, 371, 127, 144, 99, 63, 27, 378, 307, 416, 163, 301, 331, 135, 280, 288, 195, 271, 61, 75, 307, 171, 123, 120, 96, 27, 71, 180, 336, 339, 76, 396, 85, 345, 52, 428, 91, 159, 99, 333, 208, 264, 125, 371, 267, 171, 320, 383, 103, 199, 271, 280, 235, 244, 83, 372, 399, 119, 143, 315, 367, 283, 172, 331, 336, 189, 392, 411, 188, 364, 178, 103, 104, 398, 375, 175, 375, 396, 351, 79, 164, 63, 315, 268, 83, 321, 179, 380, 264, 268, 211, 16, 390, 136, 127, 319, 203, 283, 19, 19, 156, 151, 295, 391, 131, 102, 203, 127, 256, 390, 172, 167, 160, 156, 163, 339, 211, 359, 371, 69, 211, 276, 395, 300, 332, 303, 205, 375, 87, 179, 171, 352, 295, 324, 184, 100, 396, 260, 230, 247, 52, 155, 259, 324, 124, 195, 72, 295, 388, 60, 68, 408, 123, 268, 383, 123, 167, 372, 200, 115, 331, 64, 370, 336, 307, 247, 271, 347, 371, 344, 115, 376, 350, 355, 283, 84, 35, 63, 272, 54, 318], \"y\": [179, -74, 73, 151, 182, 215, 183, -66, 38, -74, 7, 257, -2, 258, 217, 74, 286, -34, 287, 147, 0, 287, -2, -32, 75, -70, 187, 218, 255, -67, 295, 214, 218, 2, 293, 38, 37, 218, 187, 38, 251, -38, 218, 79, 286, 2, -73, 216, -35, 0, 73, 142, -71, 258, -2, 181, -70, 187, 142, 250, 187, 70, 290, -65, 186, -33, 43, 185, 180, 295, 74, 252, 38, 219, -29, 219, -29, 220, 178, 219, 5, 6, -36, -31, 182, 75, 258, 289, 41, 223, 286, 288, 258, 286, 150, 187, 2, 40, 40, 216, -35, 34, 40, 74, -34, 288, 223, 2, 43, 148, 259, -65, 222, 293, 75, 0, 259, 7, 34, -65, 78, 70, 73, 222, -34, -73, 214, 142, -69, 74, -1, 4, 142, 218, 288, 77, 78, 39, 150, 259, -69, 250, 218, 148, -74, -34, -68, 223, 293, -35, 76, 187, -36, 77, 287, -74, 39, 259, 149, 74, 180, 40, 252, -70, 219, 178, 259, 255, 183, 291, 287, -33, 254, 286, 288, -74, -30, 1, -33, 183, -38, -37, 214, -68, 255, -38, 34, 184, 258, 186, 151, 179, -29, 34, 218, 294, 290, 217, 143, -73, -68, 1, 292, 143, 288, -69, 5, 295, 40, 38, -66, 257, -34, -32, 214, 40, -2, 70, 222, 221, 219, -32, -1, 0, 43, 40, 218, 178, 259, -29, -70, 295, 43, -73, 145, 292, 150, 218, 220, -65, 142, 148, 251, 218, 223, 288, 70, -68, 38, 255, 41, -70, 183, 252, 145, 144, 70, 219, -33, 76, -66, 37, 181, 1, 36, 36, 252, -36, 75, -72, 251, 187, 215, 71, 148, 3, -66, 187, 79, 75, 290, 181, 76, 290, -31, 179, 294, 251, 222, 287, 223, 259, 182, -36, 3, 214, 179, 290, 0, 2, 38, -73, 185, -2, 42, 182, -74, -34, 181, 186, 72, 178, 74, 73, -36, 5, 186, -71, 185, 75, 294, 70, 216, -70, 147, 292, 180, -30, 221, 250, 286, 289, 143, 74, 148, -73, 250, 295, 71, 78, 143, 259, 74, 145, 70, 257, -72, -73, 178, 183, 219, 146, 37, 253, 148, -70, -29, -68, 183, 75, 39, 250, 289, 151, 178, 180, -67, 289, 259, 289, -74, -71, 179, 214, 150, -34, -72, 146, 286]}, {\"mode\": \"markers\", \"name\": \"step = 10206\", \"type\": \"scatter\", \"visible\": false, \"x\": [82, 320, 147, 66, 294, 309, 175, 393, 92, 141, 60, 126, 145, 26, 137, 69, 62, 129, 139, 92, 60, 277, 107, 307, 163, 301, 131, 313, 172, 218, 39, 184, 171, 286, 93, 286, 286, 157, 373, 283, 286, 310, 245, 246, 327, 380, 123, 116, 168, 155, 325, 106, 55, 349, 96, 113, 281, 253, 181, 295, 377, 293, 55, 205, 202, 131, 414, 55, 359, 314, 368, 282, 184, 336, 105, 398, 64, 197, 327, 354, 263, 406, 53, 265, 257, 293, 270, 393, 82, 389, 268, 225, 91, 297, 341, 354, 295, 165, 58, 142, 372, 71, 309, 141, 160, 168, 132, 361, 312, 114, 123, 278, 95, 398, 208, 316, 417, 335, 80, 364, 325, 200, 369, 380, 296, 330, 132, 233, 309, 74, 258, 286, 175, 335, 380, 283, 115, 121, 366, 286, 126, 337, 160, 158, 213, 63, 71, 140, 269, 55, 417, 170, 401, 380, 418, 22, 315, 61, 295, 417, 233, 284, 55, 297, 139, 257, 387, 82, 148, 409, 369, 140, 97, 115, 160, 147, 150, 117, 149, 302, 160, 95, 159, 273, 413, 61, 82, 331, 351, 267, 147, 360, 353, 320, 320, 139, 354, 275, 66, 361, 133, 150, 105, 71, 37, 370, 301, 406, 167, 295, 325, 139, 278, 286, 197, 267, 71, 83, 301, 173, 129, 126, 104, 37, 79, 182, 328, 333, 84, 386, 91, 337, 60, 418, 97, 163, 105, 327, 210, 262, 131, 361, 265, 173, 314, 375, 111, 201, 269, 278, 233, 242, 89, 364, 389, 123, 147, 309, 359, 281, 176, 325, 330, 191, 384, 401, 190, 356, 182, 111, 112, 388, 367, 179, 365, 388, 343, 87, 166, 71, 309, 264, 89, 317, 183, 372, 262, 264, 213, 26, 380, 142, 131, 315, 205, 279, 29, 29, 160, 155, 291, 383, 137, 108, 205, 133, 254, 380, 176, 171, 162, 158, 167, 333, 213, 353, 361, 79, 213, 274, 387, 294, 326, 297, 207, 365, 95, 183, 173, 344, 291, 320, 186, 108, 388, 258, 228, 245, 60, 157, 257, 320, 130, 197, 80, 291, 380, 70, 76, 398, 129, 266, 375, 129, 171, 364, 202, 121, 325, 74, 362, 330, 301, 245, 269, 341, 363, 338, 121, 366, 344, 349, 281, 92, 45, 71, 270, 64, 312], \"y\": [175, -64, 75, 149, 178, 209, 179, -56, 42, -64, 13, 249, 4, 250, 211, 76, 276, -26, 277, 145, 6, 277, 4, -24, 77, -60, 183, 212, 247, -57, 285, 208, 212, 8, 283, 42, 41, 212, 183, 42, 243, -30, 212, 81, 276, 8, -63, 210, -27, 6, 75, 140, -61, 250, 4, 177, -60, 183, 140, 242, 183, 72, 280, -55, 182, -25, 47, 181, 176, 285, 76, 244, 42, 213, -21, 213, -21, 214, 174, 213, 11, 12, -28, -23, 178, 77, 250, 279, 45, 217, 276, 278, 250, 276, 148, 183, 8, 44, 44, 210, -27, 38, 44, 76, -26, 278, 217, 8, 47, 146, 251, -55, 216, 283, 77, 6, 251, 13, 38, -55, 80, 72, 75, 216, -26, -63, 208, 140, -59, 76, 5, 10, 140, 212, 278, 79, 80, 43, 148, 251, -59, 242, 212, 146, -64, -26, -58, 217, 283, -27, 78, 183, -28, 79, 277, -64, 43, 251, 147, 76, 176, 44, 244, -60, 213, 174, 251, 247, 179, 281, 277, -25, 246, 276, 278, -64, -22, 7, -25, 179, -30, -29, 208, -58, 247, -30, 38, 180, 250, 182, 149, 175, -21, 38, 212, 284, 280, 211, 141, -63, -58, 7, 282, 141, 278, -59, 11, 285, 44, 42, -56, 249, -26, -24, 208, 44, 4, 72, 216, 215, 213, -24, 5, 6, 47, 44, 212, 174, 251, -21, -60, 285, 47, -63, 143, 282, 148, 212, 214, -55, 140, 146, 243, 212, 217, 278, 72, -58, 42, 247, 45, -60, 179, 244, 143, 142, 72, 213, -25, 78, -56, 41, 177, 7, 40, 40, 244, -28, 77, -62, 243, 183, 209, 73, 146, 9, -56, 183, 81, 77, 280, 177, 78, 280, -23, 175, 284, 243, 216, 277, 217, 251, 178, -28, 9, 208, 175, 280, 6, 8, 42, -63, 181, 4, 46, 178, -64, -26, 177, 182, 74, 174, 76, 75, -28, 11, 182, -61, 181, 77, 284, 72, 210, -60, 145, 282, 176, -22, 215, 242, 276, 279, 141, 76, 146, -63, 242, 285, 73, 80, 141, 251, 76, 143, 72, 249, -62, -63, 174, 179, 213, 144, 41, 245, 146, -60, -21, -58, 179, 77, 43, 242, 279, 149, 174, 176, -57, 279, 251, 279, -64, -61, 175, 208, 148, -26, -62, 144, 276]}, {\"mode\": \"markers\", \"name\": \"step = 10208\", \"type\": \"scatter\", \"visible\": false, \"x\": [92, 316, 153, 74, 288, 303, 179, 383, 100, 145, 68, 132, 151, 36, 143, 79, 72, 135, 143, 100, 68, 275, 113, 303, 167, 295, 135, 307, 176, 220, 49, 186, 175, 284, 99, 284, 284, 161, 363, 281, 284, 306, 243, 244, 319, 370, 127, 124, 172, 159, 319, 114, 63, 343, 104, 121, 279, 251, 183, 289, 367, 287, 63, 207, 204, 135, 404, 63, 351, 308, 360, 280, 186, 330, 111, 388, 72, 199, 319, 348, 259, 396, 63, 263, 255, 287, 268, 383, 92, 379, 266, 223, 99, 291, 335, 348, 289, 167, 68, 148, 364, 79, 303, 145, 162, 172, 136, 351, 308, 122, 127, 274, 103, 388, 210, 312, 407, 327, 88, 356, 319, 202, 359, 372, 290, 324, 138, 231, 305, 84, 256, 284, 177, 329, 372, 279, 123, 127, 356, 282, 130, 331, 162, 162, 215, 73, 79, 144, 267, 63, 407, 172, 391, 372, 408, 32, 311, 71, 291, 407, 231, 282, 63, 291, 143, 255, 377, 92, 154, 399, 359, 146, 105, 121, 164, 151, 156, 123, 153, 298, 164, 103, 161, 271, 403, 71, 90, 323, 343, 263, 151, 352, 345, 314, 316, 143, 346, 271, 76, 351, 139, 156, 111, 79, 47, 362, 295, 396, 171, 289, 319, 143, 276, 284, 199, 263, 81, 91, 295, 175, 135, 132, 112, 47, 87, 184, 320, 327, 92, 376, 97, 329, 68, 408, 103, 167, 111, 321, 212, 260, 137, 351, 263, 175, 308, 367, 119, 203, 267, 276, 231, 240, 95, 356, 379, 127, 151, 303, 351, 279, 180, 319, 324, 193, 376, 391, 192, 348, 186, 119, 120, 378, 359, 183, 355, 380, 335, 95, 168, 79, 303, 260, 95, 313, 187, 364, 260, 260, 215, 36, 370, 148, 135, 311, 207, 275, 39, 39, 164, 159, 287, 375, 143, 114, 207, 139, 252, 370, 180, 175, 164, 160, 171, 327, 215, 347, 351, 89, 215, 272, 379, 288, 320, 291, 209, 355, 103, 187, 175, 336, 287, 316, 188, 116, 380, 256, 226, 243, 68, 159, 255, 316, 136, 199, 88, 287, 372, 80, 84, 388, 135, 264, 367, 135, 175, 356, 204, 127, 319, 84, 354, 324, 295, 243, 267, 335, 355, 332, 127, 356, 338, 343, 279, 100, 55, 79, 268, 74, 306], \"y\": [171, -54, 77, 147, 174, 203, 175, -46, 46, -54, 19, 241, 10, 242, 205, 78, 266, -18, 267, 143, 12, 267, 10, -16, 79, -50, 179, 206, 239, -47, 275, 202, 206, 14, 273, 46, 45, 206, 179, 46, 235, -22, 206, 83, 266, 14, -53, 204, -19, 12, 77, 138, -51, 242, 10, 173, -50, 179, 138, 234, 179, 74, 270, -45, 178, -17, 51, 177, 172, 275, 78, 236, 46, 207, -13, 207, -13, 208, 170, 207, 17, 18, -20, -15, 174, 79, 242, 269, 49, 211, 266, 268, 242, 266, 146, 179, 14, 48, 48, 204, -19, 42, 48, 78, -18, 268, 211, 14, 51, 144, 243, -45, 210, 273, 79, 12, 243, 19, 42, -45, 82, 74, 77, 210, -18, -53, 202, 138, -49, 78, 11, 16, 138, 206, 268, 81, 82, 47, 146, 243, -49, 234, 206, 144, -54, -18, -48, 211, 273, -19, 80, 179, -20, 81, 267, -54, 47, 243, 145, 78, 172, 48, 236, -50, 207, 170, 243, 239, 175, 271, 267, -17, 238, 266, 268, -54, -14, 13, -17, 175, -22, -21, 202, -48, 239, -22, 42, 176, 242, 178, 147, 171, -13, 42, 206, 274, 270, 205, 139, -53, -48, 13, 272, 139, 268, -49, 17, 275, 48, 46, -46, 241, -18, -16, 202, 48, 10, 74, 210, 209, 207, -16, 11, 12, 51, 48, 206, 170, 243, -13, -50, 275, 51, -53, 141, 272, 146, 206, 208, -45, 138, 144, 235, 206, 211, 268, 74, -48, 46, 239, 49, -50, 175, 236, 141, 140, 74, 207, -17, 80, -46, 45, 173, 13, 44, 44, 236, -20, 79, -52, 235, 179, 203, 75, 144, 15, -46, 179, 83, 79, 270, 173, 80, 270, -15, 171, 274, 235, 210, 267, 211, 243, 174, -20, 15, 202, 171, 270, 12, 14, 46, -53, 177, 10, 50, 174, -54, -18, 173, 178, 76, 170, 78, 77, -20, 17, 178, -51, 177, 79, 274, 74, 204, -50, 143, 272, 172, -14, 209, 234, 266, 269, 139, 78, 144, -53, 234, 275, 75, 82, 139, 243, 78, 141, 74, 241, -52, -53, 170, 175, 207, 142, 45, 237, 144, -50, -13, -48, 175, 79, 47, 234, 269, 147, 170, 172, -47, 269, 243, 269, -54, -51, 171, 202, 146, -18, -52, 142, 266]}, {\"mode\": \"markers\", \"name\": \"step = 10210\", \"type\": \"scatter\", \"visible\": false, \"x\": [102, 312, 159, 82, 282, 297, 183, 373, 108, 149, 76, 138, 157, 46, 149, 89, 82, 141, 147, 108, 76, 273, 119, 299, 171, 289, 139, 301, 180, 222, 59, 188, 179, 282, 105, 282, 282, 165, 353, 279, 282, 302, 241, 242, 311, 360, 131, 132, 176, 163, 313, 122, 71, 337, 112, 129, 277, 249, 185, 283, 357, 281, 71, 209, 206, 139, 394, 71, 343, 302, 352, 278, 188, 324, 117, 378, 80, 201, 311, 342, 255, 386, 73, 261, 253, 281, 266, 373, 102, 369, 264, 221, 107, 285, 329, 342, 283, 169, 78, 154, 356, 87, 297, 149, 164, 176, 140, 341, 304, 130, 131, 270, 111, 378, 212, 308, 397, 319, 96, 348, 313, 204, 349, 364, 284, 318, 144, 229, 301, 94, 254, 282, 179, 323, 364, 275, 131, 133, 346, 278, 134, 325, 164, 166, 217, 83, 87, 148, 265, 71, 397, 174, 381, 364, 398, 42, 307, 81, 287, 397, 229, 280, 71, 285, 147, 253, 367, 102, 160, 389, 349, 152, 113, 127, 168, 155, 162, 129, 157, 294, 168, 111, 163, 269, 393, 81, 98, 315, 335, 259, 155, 344, 337, 308, 312, 147, 338, 267, 86, 341, 145, 162, 117, 87, 57, 354, 289, 386, 175, 283, 313, 147, 274, 282, 201, 259, 91, 99, 289, 177, 141, 138, 120, 57, 95, 186, 312, 321, 100, 366, 103, 321, 76, 398, 109, 171, 117, 315, 214, 258, 143, 341, 261, 177, 302, 359, 127, 205, 265, 274, 229, 238, 101, 348, 369, 131, 155, 297, 343, 277, 184, 313, 318, 195, 368, 381, 194, 340, 190, 127, 128, 368, 351, 187, 345, 372, 327, 103, 170, 87, 297, 256, 101, 309, 191, 356, 258, 256, 217, 46, 360, 154, 139, 307, 209, 271, 49, 49, 168, 163, 283, 367, 149, 120, 209, 145, 250, 360, 184, 179, 166, 162, 175, 321, 217, 341, 341, 99, 217, 270, 371, 282, 314, 285, 211, 345, 111, 191, 177, 328, 283, 312, 190, 124, 372, 254, 224, 241, 76, 161, 253, 312, 142, 201, 96, 283, 364, 90, 92, 378, 141, 262, 359, 141, 179, 348, 206, 133, 313, 94, 346, 318, 289, 241, 265, 329, 347, 326, 133, 346, 332, 337, 277, 108, 65, 87, 266, 84, 300], \"y\": [167, -44, 79, 145, 170, 197, 171, -36, 50, -44, 25, 233, 16, 234, 199, 80, 256, -10, 257, 141, 18, 257, 16, -8, 81, -40, 175, 200, 231, -37, 265, 196, 200, 20, 263, 50, 49, 200, 175, 50, 227, -14, 200, 85, 256, 20, -43, 198, -11, 18, 79, 136, -41, 234, 16, 169, -40, 175, 136, 226, 175, 76, 260, -35, 174, -9, 55, 173, 168, 265, 80, 228, 50, 201, -5, 201, -5, 202, 166, 201, 23, 24, -12, -7, 170, 81, 234, 259, 53, 205, 256, 258, 234, 256, 144, 175, 20, 52, 52, 198, -11, 46, 52, 80, -10, 258, 205, 20, 55, 142, 235, -35, 204, 263, 81, 18, 235, 25, 46, -35, 84, 76, 79, 204, -10, -43, 196, 136, -39, 80, 17, 22, 136, 200, 258, 83, 84, 51, 144, 235, -39, 226, 200, 142, -44, -10, -38, 205, 263, -11, 82, 175, -12, 83, 257, -44, 51, 235, 143, 80, 168, 52, 228, -40, 201, 166, 235, 231, 171, 261, 257, -9, 230, 256, 258, -44, -6, 19, -9, 171, -14, -13, 196, -38, 231, -14, 46, 172, 234, 174, 145, 167, -5, 46, 200, 264, 260, 199, 137, -43, -38, 19, 262, 137, 258, -39, 23, 265, 52, 50, -36, 233, -10, -8, 196, 52, 16, 76, 204, 203, 201, -8, 17, 18, 55, 52, 200, 166, 235, -5, -40, 265, 55, -43, 139, 262, 144, 200, 202, -35, 136, 142, 227, 200, 205, 258, 76, -38, 50, 231, 53, -40, 171, 228, 139, 138, 76, 201, -9, 82, -36, 49, 169, 19, 48, 48, 228, -12, 81, -42, 227, 175, 197, 77, 142, 21, -36, 175, 85, 81, 260, 169, 82, 260, -7, 167, 264, 227, 204, 257, 205, 235, 170, -12, 21, 196, 167, 260, 18, 20, 50, -43, 173, 16, 54, 170, -44, -10, 169, 174, 78, 166, 80, 79, -12, 23, 174, -41, 173, 81, 264, 76, 198, -40, 141, 262, 168, -6, 203, 226, 256, 259, 137, 80, 142, -43, 226, 265, 77, 84, 137, 235, 80, 139, 76, 233, -42, -43, 166, 171, 201, 140, 49, 229, 142, -40, -5, -38, 171, 81, 51, 226, 259, 145, 166, 168, -37, 259, 235, 259, -44, -41, 167, 196, 144, -10, -42, 140, 256]}, {\"mode\": \"markers\", \"name\": \"step = 10212\", \"type\": \"scatter\", \"visible\": false, \"x\": [112, 308, 165, 90, 276, 291, 187, 363, 116, 153, 84, 144, 163, 56, 155, 99, 92, 147, 151, 116, 84, 271, 125, 295, 175, 283, 143, 295, 184, 224, 69, 190, 183, 280, 111, 280, 280, 169, 343, 277, 280, 298, 239, 240, 303, 350, 135, 140, 180, 167, 307, 130, 79, 331, 120, 137, 275, 247, 187, 277, 347, 275, 79, 211, 208, 143, 384, 79, 335, 296, 344, 276, 190, 318, 123, 368, 88, 203, 303, 336, 251, 376, 83, 259, 251, 275, 264, 363, 112, 359, 262, 219, 115, 279, 323, 336, 277, 171, 88, 160, 348, 95, 291, 153, 166, 180, 144, 331, 300, 138, 135, 266, 119, 368, 214, 304, 387, 311, 104, 340, 307, 206, 339, 356, 278, 312, 150, 227, 297, 104, 252, 280, 181, 317, 356, 271, 139, 139, 336, 274, 138, 319, 166, 170, 219, 93, 95, 152, 263, 79, 387, 176, 371, 356, 388, 52, 303, 91, 283, 387, 227, 278, 79, 279, 151, 251, 357, 112, 166, 379, 339, 158, 121, 133, 172, 159, 168, 135, 161, 290, 172, 119, 165, 267, 383, 91, 106, 307, 327, 255, 159, 336, 329, 302, 308, 151, 330, 263, 96, 331, 151, 168, 123, 95, 67, 346, 283, 376, 179, 277, 307, 151, 272, 280, 203, 255, 101, 107, 283, 179, 147, 144, 128, 67, 103, 188, 304, 315, 108, 356, 109, 313, 84, 388, 115, 175, 123, 309, 216, 256, 149, 331, 259, 179, 296, 351, 135, 207, 263, 272, 227, 236, 107, 340, 359, 135, 159, 291, 335, 275, 188, 307, 312, 197, 360, 371, 196, 332, 194, 135, 136, 358, 343, 191, 335, 364, 319, 111, 172, 95, 291, 252, 107, 305, 195, 348, 256, 252, 219, 56, 350, 160, 143, 303, 211, 267, 59, 59, 172, 167, 279, 359, 155, 126, 211, 151, 248, 350, 188, 183, 168, 164, 179, 315, 219, 335, 331, 109, 219, 268, 363, 276, 308, 279, 213, 335, 119, 195, 179, 320, 279, 308, 192, 132, 364, 252, 222, 239, 84, 163, 251, 308, 148, 203, 104, 279, 356, 100, 100, 368, 147, 260, 351, 147, 183, 340, 208, 139, 307, 104, 338, 312, 283, 239, 263, 323, 339, 320, 139, 336, 326, 331, 275, 116, 75, 95, 264, 94, 294], \"y\": [163, -34, 81, 143, 166, 191, 167, -26, 54, -34, 31, 225, 22, 226, 193, 82, 246, -2, 247, 139, 24, 247, 22, 0, 83, -30, 171, 194, 223, -27, 255, 190, 194, 26, 253, 54, 53, 194, 171, 54, 219, -6, 194, 87, 246, 26, -33, 192, -3, 24, 81, 134, -31, 226, 22, 165, -30, 171, 134, 218, 171, 78, 250, -25, 170, -1, 59, 169, 164, 255, 82, 220, 54, 195, 3, 195, 3, 196, 162, 195, 29, 30, -4, 1, 166, 83, 226, 249, 57, 199, 246, 248, 226, 246, 142, 171, 26, 56, 56, 192, -3, 50, 56, 82, -2, 248, 199, 26, 59, 140, 227, -25, 198, 253, 83, 24, 227, 31, 50, -25, 86, 78, 81, 198, -2, -33, 190, 134, -29, 82, 23, 28, 134, 194, 248, 85, 86, 55, 142, 227, -29, 218, 194, 140, -34, -2, -28, 199, 253, -3, 84, 171, -4, 85, 247, -34, 55, 227, 141, 82, 164, 56, 220, -30, 195, 162, 227, 223, 167, 251, 247, -1, 222, 246, 248, -34, 2, 25, -1, 167, -6, -5, 190, -28, 223, -6, 50, 168, 226, 170, 143, 163, 3, 50, 194, 254, 250, 193, 135, -33, -28, 25, 252, 135, 248, -29, 29, 255, 56, 54, -26, 225, -2, 0, 190, 56, 22, 78, 198, 197, 195, 0, 23, 24, 59, 56, 194, 162, 227, 3, -30, 255, 59, -33, 137, 252, 142, 194, 196, -25, 134, 140, 219, 194, 199, 248, 78, -28, 54, 223, 57, -30, 167, 220, 137, 136, 78, 195, -1, 84, -26, 53, 165, 25, 52, 52, 220, -4, 83, -32, 219, 171, 191, 79, 140, 27, -26, 171, 87, 83, 250, 165, 84, 250, 1, 163, 254, 219, 198, 247, 199, 227, 166, -4, 27, 190, 163, 250, 24, 26, 54, -33, 169, 22, 58, 166, -34, -2, 165, 170, 80, 162, 82, 81, -4, 29, 170, -31, 169, 83, 254, 78, 192, -30, 139, 252, 164, 2, 197, 218, 246, 249, 135, 82, 140, -33, 218, 255, 79, 86, 135, 227, 82, 137, 78, 225, -32, -33, 162, 167, 195, 138, 53, 221, 140, -30, 3, -28, 167, 83, 55, 218, 249, 143, 162, 164, -27, 249, 227, 249, -34, -31, 163, 190, 142, -2, -32, 138, 246]}, {\"mode\": \"markers\", \"name\": \"step = 10214\", \"type\": \"scatter\", \"visible\": false, \"x\": [122, 304, 171, 98, 270, 285, 191, 353, 124, 157, 92, 150, 169, 66, 161, 109, 102, 153, 155, 124, 92, 269, 131, 291, 179, 277, 147, 289, 188, 226, 79, 192, 187, 278, 117, 278, 278, 173, 333, 275, 278, 294, 237, 238, 295, 340, 139, 148, 184, 171, 301, 138, 87, 325, 128, 145, 273, 245, 189, 271, 337, 269, 87, 213, 210, 147, 374, 87, 327, 290, 336, 274, 192, 312, 129, 358, 96, 205, 295, 330, 247, 366, 93, 257, 249, 269, 262, 353, 122, 349, 260, 217, 123, 273, 317, 330, 271, 173, 98, 166, 340, 103, 285, 157, 168, 184, 148, 321, 296, 146, 139, 262, 127, 358, 216, 300, 377, 303, 112, 332, 301, 208, 329, 348, 272, 306, 156, 225, 293, 114, 250, 278, 183, 311, 348, 267, 147, 145, 326, 270, 142, 313, 168, 174, 221, 103, 103, 156, 261, 87, 377, 178, 361, 348, 378, 62, 299, 101, 279, 377, 225, 276, 87, 273, 155, 249, 347, 122, 172, 369, 329, 164, 129, 139, 176, 163, 174, 141, 165, 286, 176, 127, 167, 265, 373, 101, 114, 299, 319, 251, 163, 328, 321, 296, 304, 155, 322, 259, 106, 321, 157, 174, 129, 103, 77, 338, 277, 366, 183, 271, 301, 155, 270, 278, 205, 251, 111, 115, 277, 181, 153, 150, 136, 77, 111, 190, 296, 309, 116, 346, 115, 305, 92, 378, 121, 179, 129, 303, 218, 254, 155, 321, 257, 181, 290, 343, 143, 209, 261, 270, 225, 234, 113, 332, 349, 139, 163, 285, 327, 273, 192, 301, 306, 199, 352, 361, 198, 324, 198, 143, 144, 348, 335, 195, 325, 356, 311, 119, 174, 103, 285, 248, 113, 301, 199, 340, 254, 248, 221, 66, 340, 166, 147, 299, 213, 263, 69, 69, 176, 171, 275, 351, 161, 132, 213, 157, 246, 340, 192, 187, 170, 166, 183, 309, 221, 329, 321, 119, 221, 266, 355, 270, 302, 273, 215, 325, 127, 199, 181, 312, 275, 304, 194, 140, 356, 250, 220, 237, 92, 165, 249, 304, 154, 205, 112, 275, 348, 110, 108, 358, 153, 258, 343, 153, 187, 332, 210, 145, 301, 114, 330, 306, 277, 237, 261, 317, 331, 314, 145, 326, 320, 325, 273, 124, 85, 103, 262, 104, 288], \"y\": [159, -24, 83, 141, 162, 185, 163, -16, 58, -24, 37, 217, 28, 218, 187, 84, 236, 6, 237, 137, 30, 237, 28, 8, 85, -20, 167, 188, 215, -17, 245, 184, 188, 32, 243, 58, 57, 188, 167, 58, 211, 2, 188, 89, 236, 32, -23, 186, 5, 30, 83, 132, -21, 218, 28, 161, -20, 167, 132, 210, 167, 80, 240, -15, 166, 7, 63, 165, 160, 245, 84, 212, 58, 189, 11, 189, 11, 190, 158, 189, 35, 36, 4, 9, 162, 85, 218, 239, 61, 193, 236, 238, 218, 236, 140, 167, 32, 60, 60, 186, 5, 54, 60, 84, 6, 238, 193, 32, 63, 138, 219, -15, 192, 243, 85, 30, 219, 37, 54, -15, 88, 80, 83, 192, 6, -23, 184, 132, -19, 84, 29, 34, 132, 188, 238, 87, 88, 59, 140, 219, -19, 210, 188, 138, -24, 6, -18, 193, 243, 5, 86, 167, 4, 87, 237, -24, 59, 219, 139, 84, 160, 60, 212, -20, 189, 158, 219, 215, 163, 241, 237, 7, 214, 236, 238, -24, 10, 31, 7, 163, 2, 3, 184, -18, 215, 2, 54, 164, 218, 166, 141, 159, 11, 54, 188, 244, 240, 187, 133, -23, -18, 31, 242, 133, 238, -19, 35, 245, 60, 58, -16, 217, 6, 8, 184, 60, 28, 80, 192, 191, 189, 8, 29, 30, 63, 60, 188, 158, 219, 11, -20, 245, 63, -23, 135, 242, 140, 188, 190, -15, 132, 138, 211, 188, 193, 238, 80, -18, 58, 215, 61, -20, 163, 212, 135, 134, 80, 189, 7, 86, -16, 57, 161, 31, 56, 56, 212, 4, 85, -22, 211, 167, 185, 81, 138, 33, -16, 167, 89, 85, 240, 161, 86, 240, 9, 159, 244, 211, 192, 237, 193, 219, 162, 4, 33, 184, 159, 240, 30, 32, 58, -23, 165, 28, 62, 162, -24, 6, 161, 166, 82, 158, 84, 83, 4, 35, 166, -21, 165, 85, 244, 80, 186, -20, 137, 242, 160, 10, 191, 210, 236, 239, 133, 84, 138, -23, 210, 245, 81, 88, 133, 219, 84, 135, 80, 217, -22, -23, 158, 163, 189, 136, 57, 213, 138, -20, 11, -18, 163, 85, 59, 210, 239, 141, 158, 160, -17, 239, 219, 239, -24, -21, 159, 184, 140, 6, -22, 136, 236]}, {\"mode\": \"markers\", \"name\": \"step = 10216\", \"type\": \"scatter\", \"visible\": false, \"x\": [132, 300, 177, 106, 264, 279, 195, 343, 132, 161, 100, 156, 175, 76, 167, 119, 112, 159, 159, 132, 100, 267, 137, 287, 183, 271, 151, 283, 192, 228, 89, 194, 191, 276, 123, 276, 276, 177, 323, 273, 276, 290, 235, 236, 287, 330, 143, 156, 188, 175, 295, 146, 95, 319, 136, 153, 271, 243, 191, 265, 327, 263, 95, 215, 212, 151, 364, 95, 319, 284, 328, 272, 194, 306, 135, 348, 104, 207, 287, 324, 243, 356, 103, 255, 247, 263, 260, 343, 132, 339, 258, 215, 131, 267, 311, 324, 265, 175, 108, 172, 332, 111, 279, 161, 170, 188, 152, 311, 292, 154, 143, 258, 135, 348, 218, 296, 367, 295, 120, 324, 295, 210, 319, 340, 266, 300, 162, 223, 289, 124, 248, 276, 185, 305, 340, 263, 155, 151, 316, 266, 146, 307, 170, 178, 223, 113, 111, 160, 259, 95, 367, 180, 351, 340, 368, 72, 295, 111, 275, 367, 223, 274, 95, 267, 159, 247, 337, 132, 178, 359, 319, 170, 137, 145, 180, 167, 180, 147, 169, 282, 180, 135, 169, 263, 363, 111, 122, 291, 311, 247, 167, 320, 313, 290, 300, 159, 314, 255, 116, 311, 163, 180, 135, 111, 87, 330, 271, 356, 187, 265, 295, 159, 268, 276, 207, 247, 121, 123, 271, 183, 159, 156, 144, 87, 119, 192, 288, 303, 124, 336, 121, 297, 100, 368, 127, 183, 135, 297, 220, 252, 161, 311, 255, 183, 284, 335, 151, 211, 259, 268, 223, 232, 119, 324, 339, 143, 167, 279, 319, 271, 196, 295, 300, 201, 344, 351, 200, 316, 202, 151, 152, 338, 327, 199, 315, 348, 303, 127, 176, 111, 279, 244, 119, 297, 203, 332, 252, 244, 223, 76, 330, 172, 151, 295, 215, 259, 79, 79, 180, 175, 271, 343, 167, 138, 215, 163, 244, 330, 196, 191, 172, 168, 187, 303, 223, 323, 311, 129, 223, 264, 347, 264, 296, 267, 217, 315, 135, 203, 183, 304, 271, 300, 196, 148, 348, 248, 218, 235, 100, 167, 247, 300, 160, 207, 120, 271, 340, 120, 116, 348, 159, 256, 335, 159, 191, 324, 212, 151, 295, 124, 322, 300, 271, 235, 259, 311, 323, 308, 151, 316, 314, 319, 271, 132, 95, 111, 260, 114, 282], \"y\": [155, -14, 85, 139, 158, 179, 159, -6, 62, -14, 43, 209, 34, 210, 181, 86, 226, 14, 227, 135, 36, 227, 34, 16, 87, -10, 163, 182, 207, -7, 235, 178, 182, 38, 233, 62, 61, 182, 163, 62, 203, 10, 182, 91, 226, 38, -13, 180, 13, 36, 85, 130, -11, 210, 34, 157, -10, 163, 130, 202, 163, 82, 230, -5, 162, 15, 67, 161, 156, 235, 86, 204, 62, 183, 19, 183, 19, 184, 154, 183, 41, 42, 12, 17, 158, 87, 210, 229, 65, 187, 226, 228, 210, 226, 138, 163, 38, 64, 64, 180, 13, 58, 64, 86, 14, 228, 187, 38, 67, 136, 211, -5, 186, 233, 87, 36, 211, 43, 58, -5, 90, 82, 85, 186, 14, -13, 178, 130, -9, 86, 35, 40, 130, 182, 228, 89, 90, 63, 138, 211, -9, 202, 182, 136, -14, 14, -8, 187, 233, 13, 88, 163, 12, 89, 227, -14, 63, 211, 137, 86, 156, 64, 204, -10, 183, 154, 211, 207, 159, 231, 227, 15, 206, 226, 228, -14, 18, 37, 15, 159, 10, 11, 178, -8, 207, 10, 58, 160, 210, 162, 139, 155, 19, 58, 182, 234, 230, 181, 131, -13, -8, 37, 232, 131, 228, -9, 41, 235, 64, 62, -6, 209, 14, 16, 178, 64, 34, 82, 186, 185, 183, 16, 35, 36, 67, 64, 182, 154, 211, 19, -10, 235, 67, -13, 133, 232, 138, 182, 184, -5, 130, 136, 203, 182, 187, 228, 82, -8, 62, 207, 65, -10, 159, 204, 133, 132, 82, 183, 15, 88, -6, 61, 157, 37, 60, 60, 204, 12, 87, -12, 203, 163, 179, 83, 136, 39, -6, 163, 91, 87, 230, 157, 88, 230, 17, 155, 234, 203, 186, 227, 187, 211, 158, 12, 39, 178, 155, 230, 36, 38, 62, -13, 161, 34, 66, 158, -14, 14, 157, 162, 84, 154, 86, 85, 12, 41, 162, -11, 161, 87, 234, 82, 180, -10, 135, 232, 156, 18, 185, 202, 226, 229, 131, 86, 136, -13, 202, 235, 83, 90, 131, 211, 86, 133, 82, 209, -12, -13, 154, 159, 183, 134, 61, 205, 136, -10, 19, -8, 159, 87, 63, 202, 229, 139, 154, 156, -7, 229, 211, 229, -14, -11, 155, 178, 138, 14, -12, 134, 226]}, {\"mode\": \"markers\", \"name\": \"step = 10218\", \"type\": \"scatter\", \"visible\": false, \"x\": [142, 296, 183, 114, 258, 273, 199, 333, 140, 165, 108, 162, 181, 86, 173, 129, 122, 165, 163, 140, 108, 265, 143, 283, 187, 265, 155, 277, 196, 230, 99, 196, 195, 274, 129, 274, 274, 181, 313, 271, 274, 286, 233, 234, 279, 320, 147, 164, 192, 179, 289, 154, 103, 313, 144, 161, 269, 241, 193, 259, 317, 257, 103, 217, 214, 155, 354, 103, 311, 278, 320, 270, 196, 300, 141, 338, 112, 209, 279, 318, 239, 346, 113, 253, 245, 257, 258, 333, 142, 329, 256, 213, 139, 261, 305, 318, 259, 177, 118, 178, 324, 119, 273, 165, 172, 192, 156, 301, 288, 162, 147, 254, 143, 338, 220, 292, 357, 287, 128, 316, 289, 212, 309, 332, 260, 294, 168, 221, 285, 134, 246, 274, 187, 299, 332, 259, 163, 157, 306, 262, 150, 301, 172, 182, 225, 123, 119, 164, 257, 103, 357, 182, 341, 332, 358, 82, 291, 121, 271, 357, 221, 272, 103, 261, 163, 245, 327, 142, 184, 349, 309, 176, 145, 151, 184, 171, 186, 153, 173, 278, 184, 143, 171, 261, 353, 121, 130, 283, 303, 243, 171, 312, 305, 284, 296, 163, 306, 251, 126, 301, 169, 186, 141, 119, 97, 322, 265, 346, 191, 259, 289, 163, 266, 274, 209, 243, 131, 131, 265, 185, 165, 162, 152, 97, 127, 194, 280, 297, 132, 326, 127, 289, 108, 358, 133, 187, 141, 291, 222, 250, 167, 301, 253, 185, 278, 327, 159, 213, 257, 266, 221, 230, 125, 316, 329, 147, 171, 273, 311, 269, 200, 289, 294, 203, 336, 341, 202, 308, 206, 159, 160, 328, 319, 203, 305, 340, 295, 135, 178, 119, 273, 240, 125, 293, 207, 324, 250, 240, 225, 86, 320, 178, 155, 291, 217, 255, 89, 89, 184, 179, 267, 335, 173, 144, 217, 169, 242, 320, 200, 195, 174, 170, 191, 297, 225, 317, 301, 139, 225, 262, 339, 258, 290, 261, 219, 305, 143, 207, 185, 296, 267, 296, 198, 156, 340, 246, 216, 233, 108, 169, 245, 296, 166, 209, 128, 267, 332, 130, 124, 338, 165, 254, 327, 165, 195, 316, 214, 157, 289, 134, 314, 294, 265, 233, 257, 305, 315, 302, 157, 306, 308, 313, 269, 140, 105, 119, 258, 124, 276], \"y\": [151, -4, 87, 137, 154, 173, 155, 4, 66, -4, 49, 201, 40, 202, 175, 88, 216, 22, 217, 133, 42, 217, 40, 24, 89, 0, 159, 176, 199, 3, 225, 172, 176, 44, 223, 66, 65, 176, 159, 66, 195, 18, 176, 93, 216, 44, -3, 174, 21, 42, 87, 128, -1, 202, 40, 153, 0, 159, 128, 194, 159, 84, 220, 5, 158, 23, 71, 157, 152, 225, 88, 196, 66, 177, 27, 177, 27, 178, 150, 177, 47, 48, 20, 25, 154, 89, 202, 219, 69, 181, 216, 218, 202, 216, 136, 159, 44, 68, 68, 174, 21, 62, 68, 88, 22, 218, 181, 44, 71, 134, 203, 5, 180, 223, 89, 42, 203, 49, 62, 5, 92, 84, 87, 180, 22, -3, 172, 128, 1, 88, 41, 46, 128, 176, 218, 91, 92, 67, 136, 203, 1, 194, 176, 134, -4, 22, 2, 181, 223, 21, 90, 159, 20, 91, 217, -4, 67, 203, 135, 88, 152, 68, 196, 0, 177, 150, 203, 199, 155, 221, 217, 23, 198, 216, 218, -4, 26, 43, 23, 155, 18, 19, 172, 2, 199, 18, 62, 156, 202, 158, 137, 151, 27, 62, 176, 224, 220, 175, 129, -3, 2, 43, 222, 129, 218, 1, 47, 225, 68, 66, 4, 201, 22, 24, 172, 68, 40, 84, 180, 179, 177, 24, 41, 42, 71, 68, 176, 150, 203, 27, 0, 225, 71, -3, 131, 222, 136, 176, 178, 5, 128, 134, 195, 176, 181, 218, 84, 2, 66, 199, 69, 0, 155, 196, 131, 130, 84, 177, 23, 90, 4, 65, 153, 43, 64, 64, 196, 20, 89, -2, 195, 159, 173, 85, 134, 45, 4, 159, 93, 89, 220, 153, 90, 220, 25, 151, 224, 195, 180, 217, 181, 203, 154, 20, 45, 172, 151, 220, 42, 44, 66, -3, 157, 40, 70, 154, -4, 22, 153, 158, 86, 150, 88, 87, 20, 47, 158, -1, 157, 89, 224, 84, 174, 0, 133, 222, 152, 26, 179, 194, 216, 219, 129, 88, 134, -3, 194, 225, 85, 92, 129, 203, 88, 131, 84, 201, -2, -3, 150, 155, 177, 132, 65, 197, 134, 0, 27, 2, 155, 89, 67, 194, 219, 137, 150, 152, 3, 219, 203, 219, -4, -1, 151, 172, 136, 22, -2, 132, 216]}, {\"mode\": \"markers\", \"name\": \"step = 10220\", \"type\": \"scatter\", \"visible\": false, \"x\": [152, 292, 189, 122, 252, 267, 203, 323, 148, 169, 116, 168, 187, 96, 179, 139, 132, 171, 167, 148, 116, 263, 149, 279, 191, 259, 159, 271, 200, 232, 109, 198, 199, 272, 135, 272, 272, 185, 303, 269, 272, 282, 231, 232, 271, 310, 151, 172, 196, 183, 283, 162, 111, 307, 152, 169, 267, 239, 195, 253, 307, 251, 111, 219, 216, 159, 344, 111, 303, 272, 312, 268, 198, 294, 147, 328, 120, 211, 271, 312, 235, 336, 123, 251, 243, 251, 256, 323, 152, 319, 254, 211, 147, 255, 299, 312, 253, 179, 128, 184, 316, 127, 267, 169, 174, 196, 160, 291, 284, 170, 151, 250, 151, 328, 222, 288, 347, 279, 136, 308, 283, 214, 299, 324, 254, 288, 174, 219, 281, 144, 244, 272, 189, 293, 324, 255, 171, 163, 296, 258, 154, 295, 174, 186, 227, 133, 127, 168, 255, 111, 347, 184, 331, 324, 348, 92, 287, 131, 267, 347, 219, 270, 111, 255, 167, 243, 317, 152, 190, 339, 299, 182, 153, 157, 188, 175, 192, 159, 177, 274, 188, 151, 173, 259, 343, 131, 138, 275, 295, 239, 175, 304, 297, 278, 292, 167, 298, 247, 136, 291, 175, 192, 147, 127, 107, 314, 259, 336, 195, 253, 283, 167, 264, 272, 211, 239, 141, 139, 259, 187, 171, 168, 160, 107, 135, 196, 272, 291, 140, 316, 133, 281, 116, 348, 139, 191, 147, 285, 224, 248, 173, 291, 251, 187, 272, 319, 167, 215, 255, 264, 219, 228, 131, 308, 319, 151, 175, 267, 303, 267, 204, 283, 288, 205, 328, 331, 204, 300, 210, 167, 168, 318, 311, 207, 295, 332, 287, 143, 180, 127, 267, 236, 131, 289, 211, 316, 248, 236, 227, 96, 310, 184, 159, 287, 219, 251, 99, 99, 188, 183, 263, 327, 179, 150, 219, 175, 240, 310, 204, 199, 176, 172, 195, 291, 227, 311, 291, 149, 227, 260, 331, 252, 284, 255, 221, 295, 151, 211, 187, 288, 263, 292, 200, 164, 332, 244, 214, 231, 116, 171, 243, 292, 172, 211, 136, 263, 324, 140, 132, 328, 171, 252, 319, 171, 199, 308, 216, 163, 283, 144, 306, 288, 259, 231, 255, 299, 307, 296, 163, 296, 302, 307, 267, 148, 115, 127, 256, 134, 270], \"y\": [147, 6, 89, 135, 150, 167, 151, 14, 70, 6, 55, 193, 46, 194, 169, 90, 206, 30, 207, 131, 48, 207, 46, 32, 91, 10, 155, 170, 191, 13, 215, 166, 170, 50, 213, 70, 69, 170, 155, 70, 187, 26, 170, 95, 206, 50, 7, 168, 29, 48, 89, 126, 9, 194, 46, 149, 10, 155, 126, 186, 155, 86, 210, 15, 154, 31, 75, 153, 148, 215, 90, 188, 70, 171, 35, 171, 35, 172, 146, 171, 53, 54, 28, 33, 150, 91, 194, 209, 73, 175, 206, 208, 194, 206, 134, 155, 50, 72, 72, 168, 29, 66, 72, 90, 30, 208, 175, 50, 75, 132, 195, 15, 174, 213, 91, 48, 195, 55, 66, 15, 94, 86, 89, 174, 30, 7, 166, 126, 11, 90, 47, 52, 126, 170, 208, 93, 94, 71, 134, 195, 11, 186, 170, 132, 6, 30, 12, 175, 213, 29, 92, 155, 28, 93, 207, 6, 71, 195, 133, 90, 148, 72, 188, 10, 171, 146, 195, 191, 151, 211, 207, 31, 190, 206, 208, 6, 34, 49, 31, 151, 26, 27, 166, 12, 191, 26, 66, 152, 194, 154, 135, 147, 35, 66, 170, 214, 210, 169, 127, 7, 12, 49, 212, 127, 208, 11, 53, 215, 72, 70, 14, 193, 30, 32, 166, 72, 46, 86, 174, 173, 171, 32, 47, 48, 75, 72, 170, 146, 195, 35, 10, 215, 75, 7, 129, 212, 134, 170, 172, 15, 126, 132, 187, 170, 175, 208, 86, 12, 70, 191, 73, 10, 151, 188, 129, 128, 86, 171, 31, 92, 14, 69, 149, 49, 68, 68, 188, 28, 91, 8, 187, 155, 167, 87, 132, 51, 14, 155, 95, 91, 210, 149, 92, 210, 33, 147, 214, 187, 174, 207, 175, 195, 150, 28, 51, 166, 147, 210, 48, 50, 70, 7, 153, 46, 74, 150, 6, 30, 149, 154, 88, 146, 90, 89, 28, 53, 154, 9, 153, 91, 214, 86, 168, 10, 131, 212, 148, 34, 173, 186, 206, 209, 127, 90, 132, 7, 186, 215, 87, 94, 127, 195, 90, 129, 86, 193, 8, 7, 146, 151, 171, 130, 69, 189, 132, 10, 35, 12, 151, 91, 71, 186, 209, 135, 146, 148, 13, 209, 195, 209, 6, 9, 147, 166, 134, 30, 8, 130, 206]}, {\"mode\": \"markers\", \"name\": \"step = 10222\", \"type\": \"scatter\", \"visible\": false, \"x\": [162, 288, 195, 130, 246, 261, 207, 313, 156, 173, 124, 174, 193, 106, 185, 149, 142, 177, 171, 156, 124, 261, 155, 275, 195, 253, 163, 265, 204, 234, 119, 200, 203, 270, 141, 270, 270, 189, 293, 267, 270, 278, 229, 230, 263, 300, 155, 180, 200, 187, 277, 170, 119, 301, 160, 177, 265, 237, 197, 247, 297, 245, 119, 221, 218, 163, 334, 119, 295, 266, 304, 266, 200, 288, 153, 318, 128, 213, 263, 306, 231, 326, 133, 249, 241, 245, 254, 313, 162, 309, 252, 209, 155, 249, 293, 306, 247, 181, 138, 190, 308, 135, 261, 173, 176, 200, 164, 281, 280, 178, 155, 246, 159, 318, 224, 284, 337, 271, 144, 300, 277, 216, 289, 316, 248, 282, 180, 217, 277, 154, 242, 270, 191, 287, 316, 251, 179, 169, 286, 254, 158, 289, 176, 190, 229, 143, 135, 172, 253, 119, 337, 186, 321, 316, 338, 102, 283, 141, 263, 337, 217, 268, 119, 249, 171, 241, 307, 162, 196, 329, 289, 188, 161, 163, 192, 179, 198, 165, 181, 270, 192, 159, 175, 257, 333, 141, 146, 267, 287, 235, 179, 296, 289, 272, 288, 171, 290, 243, 146, 281, 181, 198, 153, 135, 117, 306, 253, 326, 199, 247, 277, 171, 262, 270, 213, 235, 151, 147, 253, 189, 177, 174, 168, 117, 143, 198, 264, 285, 148, 306, 139, 273, 124, 338, 145, 195, 153, 279, 226, 246, 179, 281, 249, 189, 266, 311, 175, 217, 253, 262, 217, 226, 137, 300, 309, 155, 179, 261, 295, 265, 208, 277, 282, 207, 320, 321, 206, 292, 214, 175, 176, 308, 303, 211, 285, 324, 279, 151, 182, 135, 261, 232, 137, 285, 215, 308, 246, 232, 229, 106, 300, 190, 163, 283, 221, 247, 109, 109, 192, 187, 259, 319, 185, 156, 221, 181, 238, 300, 208, 203, 178, 174, 199, 285, 229, 305, 281, 159, 229, 258, 323, 246, 278, 249, 223, 285, 159, 215, 189, 280, 259, 288, 202, 172, 324, 242, 212, 229, 124, 173, 241, 288, 178, 213, 144, 259, 316, 150, 140, 318, 177, 250, 311, 177, 203, 300, 218, 169, 277, 154, 298, 282, 253, 229, 253, 293, 299, 290, 169, 286, 296, 301, 265, 156, 125, 135, 254, 144, 264], \"y\": [143, 16, 91, 133, 146, 161, 147, 24, 74, 16, 61, 185, 52, 186, 163, 92, 196, 38, 197, 129, 54, 197, 52, 40, 93, 20, 151, 164, 183, 23, 205, 160, 164, 56, 203, 74, 73, 164, 151, 74, 179, 34, 164, 97, 196, 56, 17, 162, 37, 54, 91, 124, 19, 186, 52, 145, 20, 151, 124, 178, 151, 88, 200, 25, 150, 39, 79, 149, 144, 205, 92, 180, 74, 165, 43, 165, 43, 166, 142, 165, 59, 60, 36, 41, 146, 93, 186, 199, 77, 169, 196, 198, 186, 196, 132, 151, 56, 76, 76, 162, 37, 70, 76, 92, 38, 198, 169, 56, 79, 130, 187, 25, 168, 203, 93, 54, 187, 61, 70, 25, 96, 88, 91, 168, 38, 17, 160, 124, 21, 92, 53, 58, 124, 164, 198, 95, 96, 75, 132, 187, 21, 178, 164, 130, 16, 38, 22, 169, 203, 37, 94, 151, 36, 95, 197, 16, 75, 187, 131, 92, 144, 76, 180, 20, 165, 142, 187, 183, 147, 201, 197, 39, 182, 196, 198, 16, 42, 55, 39, 147, 34, 35, 160, 22, 183, 34, 70, 148, 186, 150, 133, 143, 43, 70, 164, 204, 200, 163, 125, 17, 22, 55, 202, 125, 198, 21, 59, 205, 76, 74, 24, 185, 38, 40, 160, 76, 52, 88, 168, 167, 165, 40, 53, 54, 79, 76, 164, 142, 187, 43, 20, 205, 79, 17, 127, 202, 132, 164, 166, 25, 124, 130, 179, 164, 169, 198, 88, 22, 74, 183, 77, 20, 147, 180, 127, 126, 88, 165, 39, 94, 24, 73, 145, 55, 72, 72, 180, 36, 93, 18, 179, 151, 161, 89, 130, 57, 24, 151, 97, 93, 200, 145, 94, 200, 41, 143, 204, 179, 168, 197, 169, 187, 146, 36, 57, 160, 143, 200, 54, 56, 74, 17, 149, 52, 78, 146, 16, 38, 145, 150, 90, 142, 92, 91, 36, 59, 150, 19, 149, 93, 204, 88, 162, 20, 129, 202, 144, 42, 167, 178, 196, 199, 125, 92, 130, 17, 178, 205, 89, 96, 125, 187, 92, 127, 88, 185, 18, 17, 142, 147, 165, 128, 73, 181, 130, 20, 43, 22, 147, 93, 75, 178, 199, 133, 142, 144, 23, 199, 187, 199, 16, 19, 143, 160, 132, 38, 18, 128, 196]}, {\"mode\": \"markers\", \"name\": \"step = 10224\", \"type\": \"scatter\", \"visible\": false, \"x\": [172, 284, 201, 138, 240, 255, 211, 303, 164, 177, 132, 180, 199, 116, 191, 159, 152, 183, 175, 164, 132, 259, 161, 271, 199, 247, 167, 259, 208, 236, 129, 202, 207, 268, 147, 268, 268, 193, 283, 265, 268, 274, 227, 228, 255, 290, 159, 188, 204, 191, 271, 178, 127, 295, 168, 185, 263, 235, 199, 241, 287, 239, 127, 223, 220, 167, 324, 127, 287, 260, 296, 264, 202, 282, 159, 308, 136, 215, 255, 300, 227, 316, 143, 247, 239, 239, 252, 303, 172, 299, 250, 207, 163, 243, 287, 300, 241, 183, 148, 196, 300, 143, 255, 177, 178, 204, 168, 271, 276, 186, 159, 242, 167, 308, 226, 280, 327, 263, 152, 292, 271, 218, 279, 308, 242, 276, 186, 215, 273, 164, 240, 268, 193, 281, 308, 247, 187, 175, 276, 250, 162, 283, 178, 194, 231, 153, 143, 176, 251, 127, 327, 188, 311, 308, 328, 112, 279, 151, 259, 327, 215, 266, 127, 243, 175, 239, 297, 172, 202, 319, 279, 194, 169, 169, 196, 183, 204, 171, 185, 266, 196, 167, 177, 255, 323, 151, 154, 259, 279, 231, 183, 288, 281, 266, 284, 175, 282, 239, 156, 271, 187, 204, 159, 143, 127, 298, 247, 316, 203, 241, 271, 175, 260, 268, 215, 231, 161, 155, 247, 191, 183, 180, 176, 127, 151, 200, 256, 279, 156, 296, 145, 265, 132, 328, 151, 199, 159, 273, 228, 244, 185, 271, 247, 191, 260, 303, 183, 219, 251, 260, 215, 224, 143, 292, 299, 159, 183, 255, 287, 263, 212, 271, 276, 209, 312, 311, 208, 284, 218, 183, 184, 298, 295, 215, 275, 316, 271, 159, 184, 143, 255, 228, 143, 281, 219, 300, 244, 228, 231, 116, 290, 196, 167, 279, 223, 243, 119, 119, 196, 191, 255, 311, 191, 162, 223, 187, 236, 290, 212, 207, 180, 176, 203, 279, 231, 299, 271, 169, 231, 256, 315, 240, 272, 243, 225, 275, 167, 219, 191, 272, 255, 284, 204, 180, 316, 240, 210, 227, 132, 175, 239, 284, 184, 215, 152, 255, 308, 160, 148, 308, 183, 248, 303, 183, 207, 292, 220, 175, 271, 164, 290, 276, 247, 227, 251, 287, 291, 284, 175, 276, 290, 295, 263, 164, 135, 143, 252, 154, 258], \"y\": [139, 26, 93, 131, 142, 155, 143, 34, 78, 26, 67, 177, 58, 178, 157, 94, 186, 46, 187, 127, 60, 187, 58, 48, 95, 30, 147, 158, 175, 33, 195, 154, 158, 62, 193, 78, 77, 158, 147, 78, 171, 42, 158, 99, 186, 62, 27, 156, 45, 60, 93, 122, 29, 178, 58, 141, 30, 147, 122, 170, 147, 90, 190, 35, 146, 47, 83, 145, 140, 195, 94, 172, 78, 159, 51, 159, 51, 160, 138, 159, 65, 66, 44, 49, 142, 95, 178, 189, 81, 163, 186, 188, 178, 186, 130, 147, 62, 80, 80, 156, 45, 74, 80, 94, 46, 188, 163, 62, 83, 128, 179, 35, 162, 193, 95, 60, 179, 67, 74, 35, 98, 90, 93, 162, 46, 27, 154, 122, 31, 94, 59, 64, 122, 158, 188, 97, 98, 79, 130, 179, 31, 170, 158, 128, 26, 46, 32, 163, 193, 45, 96, 147, 44, 97, 187, 26, 79, 179, 129, 94, 140, 80, 172, 30, 159, 138, 179, 175, 143, 191, 187, 47, 174, 186, 188, 26, 50, 61, 47, 143, 42, 43, 154, 32, 175, 42, 74, 144, 178, 146, 131, 139, 51, 74, 158, 194, 190, 157, 123, 27, 32, 61, 192, 123, 188, 31, 65, 195, 80, 78, 34, 177, 46, 48, 154, 80, 58, 90, 162, 161, 159, 48, 59, 60, 83, 80, 158, 138, 179, 51, 30, 195, 83, 27, 125, 192, 130, 158, 160, 35, 122, 128, 171, 158, 163, 188, 90, 32, 78, 175, 81, 30, 143, 172, 125, 124, 90, 159, 47, 96, 34, 77, 141, 61, 76, 76, 172, 44, 95, 28, 171, 147, 155, 91, 128, 63, 34, 147, 99, 95, 190, 141, 96, 190, 49, 139, 194, 171, 162, 187, 163, 179, 142, 44, 63, 154, 139, 190, 60, 62, 78, 27, 145, 58, 82, 142, 26, 46, 141, 146, 92, 138, 94, 93, 44, 65, 146, 29, 145, 95, 194, 90, 156, 30, 127, 192, 140, 50, 161, 170, 186, 189, 123, 94, 128, 27, 170, 195, 91, 98, 123, 179, 94, 125, 90, 177, 28, 27, 138, 143, 159, 126, 77, 173, 128, 30, 51, 32, 143, 95, 79, 170, 189, 131, 138, 140, 33, 189, 179, 189, 26, 29, 139, 154, 130, 46, 28, 126, 186]}, {\"mode\": \"markers\", \"name\": \"step = 10226\", \"type\": \"scatter\", \"visible\": false, \"x\": [182, 280, 207, 146, 234, 249, 215, 293, 172, 181, 140, 186, 205, 126, 197, 169, 162, 189, 179, 172, 140, 257, 167, 267, 203, 241, 171, 253, 212, 238, 139, 204, 211, 266, 153, 266, 266, 197, 273, 263, 266, 270, 225, 226, 247, 280, 163, 196, 208, 195, 265, 186, 135, 289, 176, 193, 261, 233, 201, 235, 277, 233, 135, 225, 222, 171, 314, 135, 279, 254, 288, 262, 204, 276, 165, 298, 144, 217, 247, 294, 223, 306, 153, 245, 237, 233, 250, 293, 182, 289, 248, 205, 171, 237, 281, 294, 235, 185, 158, 202, 292, 151, 249, 181, 180, 208, 172, 261, 272, 194, 163, 238, 175, 298, 228, 276, 317, 255, 160, 284, 265, 220, 269, 300, 236, 270, 192, 213, 269, 174, 238, 266, 195, 275, 300, 243, 195, 181, 266, 246, 166, 277, 180, 198, 233, 163, 151, 180, 249, 135, 317, 190, 301, 300, 318, 122, 275, 161, 255, 317, 213, 264, 135, 237, 179, 237, 287, 182, 208, 309, 269, 200, 177, 175, 200, 187, 210, 177, 189, 262, 200, 175, 179, 253, 313, 161, 162, 251, 271, 227, 187, 280, 273, 260, 280, 179, 274, 235, 166, 261, 193, 210, 165, 151, 137, 290, 241, 306, 207, 235, 265, 179, 258, 266, 217, 227, 171, 163, 241, 193, 189, 186, 184, 137, 159, 202, 248, 273, 164, 286, 151, 257, 140, 318, 157, 203, 165, 267, 230, 242, 191, 261, 245, 193, 254, 295, 191, 221, 249, 258, 213, 222, 149, 284, 289, 163, 187, 249, 279, 261, 216, 265, 270, 211, 304, 301, 210, 276, 222, 191, 192, 288, 287, 219, 265, 308, 263, 167, 186, 151, 249, 224, 149, 277, 223, 292, 242, 224, 233, 126, 280, 202, 171, 275, 225, 239, 129, 129, 200, 195, 251, 303, 197, 168, 225, 193, 234, 280, 216, 211, 182, 178, 207, 273, 233, 293, 261, 179, 233, 254, 307, 234, 266, 237, 227, 265, 175, 223, 193, 264, 251, 280, 206, 188, 308, 238, 208, 225, 140, 177, 237, 280, 190, 217, 160, 251, 300, 170, 156, 298, 189, 246, 295, 189, 211, 284, 222, 181, 265, 174, 282, 270, 241, 225, 249, 281, 283, 278, 181, 266, 284, 289, 261, 172, 145, 151, 250, 164, 252], \"y\": [135, 36, 95, 129, 138, 149, 139, 44, 82, 36, 73, 169, 64, 170, 151, 96, 176, 54, 177, 125, 66, 177, 64, 56, 97, 40, 143, 152, 167, 43, 185, 148, 152, 68, 183, 82, 81, 152, 143, 82, 163, 50, 152, 101, 176, 68, 37, 150, 53, 66, 95, 120, 39, 170, 64, 137, 40, 143, 120, 162, 143, 92, 180, 45, 142, 55, 87, 141, 136, 185, 96, 164, 82, 153, 59, 153, 59, 154, 134, 153, 71, 72, 52, 57, 138, 97, 170, 179, 85, 157, 176, 178, 170, 176, 128, 143, 68, 84, 84, 150, 53, 78, 84, 96, 54, 178, 157, 68, 87, 126, 171, 45, 156, 183, 97, 66, 171, 73, 78, 45, 100, 92, 95, 156, 54, 37, 148, 120, 41, 96, 65, 70, 120, 152, 178, 99, 100, 83, 128, 171, 41, 162, 152, 126, 36, 54, 42, 157, 183, 53, 98, 143, 52, 99, 177, 36, 83, 171, 127, 96, 136, 84, 164, 40, 153, 134, 171, 167, 139, 181, 177, 55, 166, 176, 178, 36, 58, 67, 55, 139, 50, 51, 148, 42, 167, 50, 78, 140, 170, 142, 129, 135, 59, 78, 152, 184, 180, 151, 121, 37, 42, 67, 182, 121, 178, 41, 71, 185, 84, 82, 44, 169, 54, 56, 148, 84, 64, 92, 156, 155, 153, 56, 65, 66, 87, 84, 152, 134, 171, 59, 40, 185, 87, 37, 123, 182, 128, 152, 154, 45, 120, 126, 163, 152, 157, 178, 92, 42, 82, 167, 85, 40, 139, 164, 123, 122, 92, 153, 55, 98, 44, 81, 137, 67, 80, 80, 164, 52, 97, 38, 163, 143, 149, 93, 126, 69, 44, 143, 101, 97, 180, 137, 98, 180, 57, 135, 184, 163, 156, 177, 157, 171, 138, 52, 69, 148, 135, 180, 66, 68, 82, 37, 141, 64, 86, 138, 36, 54, 137, 142, 94, 134, 96, 95, 52, 71, 142, 39, 141, 97, 184, 92, 150, 40, 125, 182, 136, 58, 155, 162, 176, 179, 121, 96, 126, 37, 162, 185, 93, 100, 121, 171, 96, 123, 92, 169, 38, 37, 134, 139, 153, 124, 81, 165, 126, 40, 59, 42, 139, 97, 83, 162, 179, 129, 134, 136, 43, 179, 171, 179, 36, 39, 135, 148, 128, 54, 38, 124, 176]}, {\"mode\": \"markers\", \"name\": \"step = 10228\", \"type\": \"scatter\", \"visible\": false, \"x\": [192, 276, 213, 154, 228, 243, 219, 283, 180, 185, 148, 192, 211, 136, 203, 179, 172, 195, 183, 180, 148, 255, 173, 263, 207, 235, 175, 247, 216, 240, 149, 206, 215, 264, 159, 264, 264, 201, 263, 261, 264, 266, 223, 224, 239, 270, 167, 204, 212, 199, 259, 194, 143, 283, 184, 201, 259, 231, 203, 229, 267, 227, 143, 227, 224, 175, 304, 143, 271, 248, 280, 260, 206, 270, 171, 288, 152, 219, 239, 288, 219, 296, 163, 243, 235, 227, 248, 283, 192, 279, 246, 203, 179, 231, 275, 288, 229, 187, 168, 208, 284, 159, 243, 185, 182, 212, 176, 251, 268, 202, 167, 234, 183, 288, 230, 272, 307, 247, 168, 276, 259, 222, 259, 292, 230, 264, 198, 211, 265, 184, 236, 264, 197, 269, 292, 239, 203, 187, 256, 242, 170, 271, 182, 202, 235, 173, 159, 184, 247, 143, 307, 192, 291, 292, 308, 132, 271, 171, 251, 307, 211, 262, 143, 231, 183, 235, 277, 192, 214, 299, 259, 206, 185, 181, 204, 191, 216, 183, 193, 258, 204, 183, 181, 251, 303, 171, 170, 243, 263, 223, 191, 272, 265, 254, 276, 183, 266, 231, 176, 251, 199, 216, 171, 159, 147, 282, 235, 296, 211, 229, 259, 183, 256, 264, 219, 223, 181, 171, 235, 195, 195, 192, 192, 147, 167, 204, 240, 267, 172, 276, 157, 249, 148, 308, 163, 207, 171, 261, 232, 240, 197, 251, 243, 195, 248, 287, 199, 223, 247, 256, 211, 220, 155, 276, 279, 167, 191, 243, 271, 259, 220, 259, 264, 213, 296, 291, 212, 268, 226, 199, 200, 278, 279, 223, 255, 300, 255, 175, 188, 159, 243, 220, 155, 273, 227, 284, 240, 220, 235, 136, 270, 208, 175, 271, 227, 235, 139, 139, 204, 199, 247, 295, 203, 174, 227, 199, 232, 270, 220, 215, 184, 180, 211, 267, 235, 287, 251, 189, 235, 252, 299, 228, 260, 231, 229, 255, 183, 227, 195, 256, 247, 276, 208, 196, 300, 236, 206, 223, 148, 179, 235, 276, 196, 219, 168, 247, 292, 180, 164, 288, 195, 244, 287, 195, 215, 276, 224, 187, 259, 184, 274, 264, 235, 223, 247, 275, 275, 272, 187, 256, 278, 283, 259, 180, 155, 159, 248, 174, 246], \"y\": [131, 46, 97, 127, 134, 143, 135, 54, 86, 46, 79, 161, 70, 162, 145, 98, 166, 62, 167, 123, 72, 167, 70, 64, 99, 50, 139, 146, 159, 53, 175, 142, 146, 74, 173, 86, 85, 146, 139, 86, 155, 58, 146, 103, 166, 74, 47, 144, 61, 72, 97, 118, 49, 162, 70, 133, 50, 139, 118, 154, 139, 94, 170, 55, 138, 63, 91, 137, 132, 175, 98, 156, 86, 147, 67, 147, 67, 148, 130, 147, 77, 78, 60, 65, 134, 99, 162, 169, 89, 151, 166, 168, 162, 166, 126, 139, 74, 88, 88, 144, 61, 82, 88, 98, 62, 168, 151, 74, 91, 124, 163, 55, 150, 173, 99, 72, 163, 79, 82, 55, 102, 94, 97, 150, 62, 47, 142, 118, 51, 98, 71, 76, 118, 146, 168, 101, 102, 87, 126, 163, 51, 154, 146, 124, 46, 62, 52, 151, 173, 61, 100, 139, 60, 101, 167, 46, 87, 163, 125, 98, 132, 88, 156, 50, 147, 130, 163, 159, 135, 171, 167, 63, 158, 166, 168, 46, 66, 73, 63, 135, 58, 59, 142, 52, 159, 58, 82, 136, 162, 138, 127, 131, 67, 82, 146, 174, 170, 145, 119, 47, 52, 73, 172, 119, 168, 51, 77, 175, 88, 86, 54, 161, 62, 64, 142, 88, 70, 94, 150, 149, 147, 64, 71, 72, 91, 88, 146, 130, 163, 67, 50, 175, 91, 47, 121, 172, 126, 146, 148, 55, 118, 124, 155, 146, 151, 168, 94, 52, 86, 159, 89, 50, 135, 156, 121, 120, 94, 147, 63, 100, 54, 85, 133, 73, 84, 84, 156, 60, 99, 48, 155, 139, 143, 95, 124, 75, 54, 139, 103, 99, 170, 133, 100, 170, 65, 131, 174, 155, 150, 167, 151, 163, 134, 60, 75, 142, 131, 170, 72, 74, 86, 47, 137, 70, 90, 134, 46, 62, 133, 138, 96, 130, 98, 97, 60, 77, 138, 49, 137, 99, 174, 94, 144, 50, 123, 172, 132, 66, 149, 154, 166, 169, 119, 98, 124, 47, 154, 175, 95, 102, 119, 163, 98, 121, 94, 161, 48, 47, 130, 135, 147, 122, 85, 157, 124, 50, 67, 52, 135, 99, 87, 154, 169, 127, 130, 132, 53, 169, 163, 169, 46, 49, 131, 142, 126, 62, 48, 122, 166]}, {\"mode\": \"markers\", \"name\": \"step = 10230\", \"type\": \"scatter\", \"visible\": false, \"x\": [202, 272, 219, 162, 222, 237, 223, 273, 188, 189, 156, 198, 217, 146, 209, 189, 182, 201, 187, 188, 156, 253, 179, 259, 211, 229, 179, 241, 220, 242, 159, 208, 219, 262, 165, 262, 262, 205, 253, 259, 262, 262, 221, 222, 231, 260, 171, 212, 216, 203, 253, 202, 151, 277, 192, 209, 257, 229, 205, 223, 257, 221, 151, 229, 226, 179, 294, 151, 263, 242, 272, 258, 208, 264, 177, 278, 160, 221, 231, 282, 215, 286, 173, 241, 233, 221, 246, 273, 202, 269, 244, 201, 187, 225, 269, 282, 223, 189, 178, 214, 276, 167, 237, 189, 184, 216, 180, 241, 264, 210, 171, 230, 191, 278, 232, 268, 297, 239, 176, 268, 253, 224, 249, 284, 224, 258, 204, 209, 261, 194, 234, 262, 199, 263, 284, 235, 211, 193, 246, 238, 174, 265, 184, 206, 237, 183, 167, 188, 245, 151, 297, 194, 281, 284, 298, 142, 267, 181, 247, 297, 209, 260, 151, 225, 187, 233, 267, 202, 220, 289, 249, 212, 193, 187, 208, 195, 222, 189, 197, 254, 208, 191, 183, 249, 293, 181, 178, 235, 255, 219, 195, 264, 257, 248, 272, 187, 258, 227, 186, 241, 205, 222, 177, 167, 157, 274, 229, 286, 215, 223, 253, 187, 254, 262, 221, 219, 191, 179, 229, 197, 201, 198, 200, 157, 175, 206, 232, 261, 180, 266, 163, 241, 156, 298, 169, 211, 177, 255, 234, 238, 203, 241, 241, 197, 242, 279, 207, 225, 245, 254, 209, 218, 161, 268, 269, 171, 195, 237, 263, 257, 224, 253, 258, 215, 288, 281, 214, 260, 230, 207, 208, 268, 271, 227, 245, 292, 247, 183, 190, 167, 237, 216, 161, 269, 231, 276, 238, 216, 237, 146, 260, 214, 179, 267, 229, 231, 149, 149, 208, 203, 243, 287, 209, 180, 229, 205, 230, 260, 224, 219, 186, 182, 215, 261, 237, 281, 241, 199, 237, 250, 291, 222, 254, 225, 231, 245, 191, 231, 197, 248, 243, 272, 210, 204, 292, 234, 204, 221, 156, 181, 233, 272, 202, 221, 176, 243, 284, 190, 172, 278, 201, 242, 279, 201, 219, 268, 226, 193, 253, 194, 266, 258, 229, 221, 245, 269, 267, 266, 193, 246, 272, 277, 257, 188, 165, 167, 246, 184, 240], \"y\": [127, 56, 99, 125, 130, 137, 131, 64, 90, 56, 85, 153, 76, 154, 139, 100, 156, 70, 157, 121, 78, 157, 76, 72, 101, 60, 135, 140, 151, 63, 165, 136, 140, 80, 163, 90, 89, 140, 135, 90, 147, 66, 140, 105, 156, 80, 57, 138, 69, 78, 99, 116, 59, 154, 76, 129, 60, 135, 116, 146, 135, 96, 160, 65, 134, 71, 95, 133, 128, 165, 100, 148, 90, 141, 75, 141, 75, 142, 126, 141, 83, 84, 68, 73, 130, 101, 154, 159, 93, 145, 156, 158, 154, 156, 124, 135, 80, 92, 92, 138, 69, 86, 92, 100, 70, 158, 145, 80, 95, 122, 155, 65, 144, 163, 101, 78, 155, 85, 86, 65, 104, 96, 99, 144, 70, 57, 136, 116, 61, 100, 77, 82, 116, 140, 158, 103, 104, 91, 124, 155, 61, 146, 140, 122, 56, 70, 62, 145, 163, 69, 102, 135, 68, 103, 157, 56, 91, 155, 123, 100, 128, 92, 148, 60, 141, 126, 155, 151, 131, 161, 157, 71, 150, 156, 158, 56, 74, 79, 71, 131, 66, 67, 136, 62, 151, 66, 86, 132, 154, 134, 125, 127, 75, 86, 140, 164, 160, 139, 117, 57, 62, 79, 162, 117, 158, 61, 83, 165, 92, 90, 64, 153, 70, 72, 136, 92, 76, 96, 144, 143, 141, 72, 77, 78, 95, 92, 140, 126, 155, 75, 60, 165, 95, 57, 119, 162, 124, 140, 142, 65, 116, 122, 147, 140, 145, 158, 96, 62, 90, 151, 93, 60, 131, 148, 119, 118, 96, 141, 71, 102, 64, 89, 129, 79, 88, 88, 148, 68, 101, 58, 147, 135, 137, 97, 122, 81, 64, 135, 105, 101, 160, 129, 102, 160, 73, 127, 164, 147, 144, 157, 145, 155, 130, 68, 81, 136, 127, 160, 78, 80, 90, 57, 133, 76, 94, 130, 56, 70, 129, 134, 98, 126, 100, 99, 68, 83, 134, 59, 133, 101, 164, 96, 138, 60, 121, 162, 128, 74, 143, 146, 156, 159, 117, 100, 122, 57, 146, 165, 97, 104, 117, 155, 100, 119, 96, 153, 58, 57, 126, 131, 141, 120, 89, 149, 122, 60, 75, 62, 131, 101, 91, 146, 159, 125, 126, 128, 63, 159, 155, 159, 56, 59, 127, 136, 124, 70, 58, 120, 156]}, {\"mode\": \"markers\", \"name\": \"step = 10232\", \"type\": \"scatter\", \"visible\": false, \"x\": [212, 268, 225, 170, 216, 231, 227, 263, 196, 193, 164, 204, 223, 156, 215, 199, 192, 207, 191, 196, 164, 251, 185, 255, 215, 223, 183, 235, 224, 244, 169, 210, 223, 260, 171, 260, 260, 209, 243, 257, 260, 258, 219, 220, 223, 250, 175, 220, 220, 207, 247, 210, 159, 271, 200, 217, 255, 227, 207, 217, 247, 215, 159, 231, 228, 183, 284, 159, 255, 236, 264, 256, 210, 258, 183, 268, 168, 223, 223, 276, 211, 276, 183, 239, 231, 215, 244, 263, 212, 259, 242, 199, 195, 219, 263, 276, 217, 191, 188, 220, 268, 175, 231, 193, 186, 220, 184, 231, 260, 218, 175, 226, 199, 268, 234, 264, 287, 231, 184, 260, 247, 226, 239, 276, 218, 252, 210, 207, 257, 204, 232, 260, 201, 257, 276, 231, 219, 199, 236, 234, 178, 259, 186, 210, 239, 193, 175, 192, 243, 159, 287, 196, 271, 276, 288, 152, 263, 191, 243, 287, 207, 258, 159, 219, 191, 231, 257, 212, 226, 279, 239, 218, 201, 193, 212, 199, 228, 195, 201, 250, 212, 199, 185, 247, 283, 191, 186, 227, 247, 215, 199, 256, 249, 242, 268, 191, 250, 223, 196, 231, 211, 228, 183, 175, 167, 266, 223, 276, 219, 217, 247, 191, 252, 260, 223, 215, 201, 187, 223, 199, 207, 204, 208, 167, 183, 208, 224, 255, 188, 256, 169, 233, 164, 288, 175, 215, 183, 249, 236, 236, 209, 231, 239, 199, 236, 271, 215, 227, 243, 252, 207, 216, 167, 260, 259, 175, 199, 231, 255, 255, 228, 247, 252, 217, 280, 271, 216, 252, 234, 215, 216, 258, 263, 231, 235, 284, 239, 191, 192, 175, 231, 212, 167, 265, 235, 268, 236, 212, 239, 156, 250, 220, 183, 263, 231, 227, 159, 159, 212, 207, 239, 279, 215, 186, 231, 211, 228, 250, 228, 223, 188, 184, 219, 255, 239, 275, 231, 209, 239, 248, 283, 216, 248, 219, 233, 235, 199, 235, 199, 240, 239, 268, 212, 212, 284, 232, 202, 219, 164, 183, 231, 268, 208, 223, 184, 239, 276, 200, 180, 268, 207, 240, 271, 207, 223, 260, 228, 199, 247, 204, 258, 252, 223, 219, 243, 263, 259, 260, 199, 236, 266, 271, 255, 196, 175, 175, 244, 194, 234], \"y\": [123, 66, 101, 123, 126, 131, 127, 74, 94, 66, 91, 145, 82, 146, 133, 102, 146, 78, 147, 119, 84, 147, 82, 80, 103, 70, 131, 134, 143, 73, 155, 130, 134, 86, 153, 94, 93, 134, 131, 94, 139, 74, 134, 107, 146, 86, 67, 132, 77, 84, 101, 114, 69, 146, 82, 125, 70, 131, 114, 138, 131, 98, 150, 75, 130, 79, 99, 129, 124, 155, 102, 140, 94, 135, 83, 135, 83, 136, 122, 135, 89, 90, 76, 81, 126, 103, 146, 149, 97, 139, 146, 148, 146, 146, 122, 131, 86, 96, 96, 132, 77, 90, 96, 102, 78, 148, 139, 86, 99, 120, 147, 75, 138, 153, 103, 84, 147, 91, 90, 75, 106, 98, 101, 138, 78, 67, 130, 114, 71, 102, 83, 88, 114, 134, 148, 105, 106, 95, 122, 147, 71, 138, 134, 120, 66, 78, 72, 139, 153, 77, 104, 131, 76, 105, 147, 66, 95, 147, 121, 102, 124, 96, 140, 70, 135, 122, 147, 143, 127, 151, 147, 79, 142, 146, 148, 66, 82, 85, 79, 127, 74, 75, 130, 72, 143, 74, 90, 128, 146, 130, 123, 123, 83, 90, 134, 154, 150, 133, 115, 67, 72, 85, 152, 115, 148, 71, 89, 155, 96, 94, 74, 145, 78, 80, 130, 96, 82, 98, 138, 137, 135, 80, 83, 84, 99, 96, 134, 122, 147, 83, 70, 155, 99, 67, 117, 152, 122, 134, 136, 75, 114, 120, 139, 134, 139, 148, 98, 72, 94, 143, 97, 70, 127, 140, 117, 116, 98, 135, 79, 104, 74, 93, 125, 85, 92, 92, 140, 76, 103, 68, 139, 131, 131, 99, 120, 87, 74, 131, 107, 103, 150, 125, 104, 150, 81, 123, 154, 139, 138, 147, 139, 147, 126, 76, 87, 130, 123, 150, 84, 86, 94, 67, 129, 82, 98, 126, 66, 78, 125, 130, 100, 122, 102, 101, 76, 89, 130, 69, 129, 103, 154, 98, 132, 70, 119, 152, 124, 82, 137, 138, 146, 149, 115, 102, 120, 67, 138, 155, 99, 106, 115, 147, 102, 117, 98, 145, 68, 67, 122, 127, 135, 118, 93, 141, 120, 70, 83, 72, 127, 103, 95, 138, 149, 123, 122, 124, 73, 149, 147, 149, 66, 69, 123, 130, 122, 78, 68, 118, 146]}, {\"mode\": \"markers\", \"name\": \"step = 10234\", \"type\": \"scatter\", \"visible\": false, \"x\": [222, 264, 231, 178, 210, 225, 231, 253, 204, 197, 172, 210, 229, 166, 221, 209, 202, 213, 195, 204, 172, 249, 191, 251, 219, 217, 187, 229, 228, 246, 179, 212, 227, 258, 177, 258, 258, 213, 233, 255, 258, 254, 217, 218, 215, 240, 179, 228, 224, 211, 241, 218, 167, 265, 208, 225, 253, 225, 209, 211, 237, 209, 167, 233, 230, 187, 274, 167, 247, 230, 256, 254, 212, 252, 189, 258, 176, 225, 215, 270, 207, 266, 193, 237, 229, 209, 242, 253, 222, 249, 240, 197, 203, 213, 257, 270, 211, 193, 198, 226, 260, 183, 225, 197, 188, 224, 188, 221, 256, 226, 179, 222, 207, 258, 236, 260, 277, 223, 192, 252, 241, 228, 229, 268, 212, 246, 216, 205, 253, 214, 230, 258, 203, 251, 268, 227, 227, 205, 226, 230, 182, 253, 188, 214, 241, 203, 183, 196, 241, 167, 277, 198, 261, 268, 278, 162, 259, 201, 239, 277, 205, 256, 167, 213, 195, 229, 247, 222, 232, 269, 229, 224, 209, 199, 216, 203, 234, 201, 205, 246, 216, 207, 187, 245, 273, 201, 194, 219, 239, 211, 203, 248, 241, 236, 264, 195, 242, 219, 206, 221, 217, 234, 189, 183, 177, 258, 217, 266, 223, 211, 241, 195, 250, 258, 225, 211, 211, 195, 217, 201, 213, 210, 216, 177, 191, 210, 216, 249, 196, 246, 175, 225, 172, 278, 181, 219, 189, 243, 238, 234, 215, 221, 237, 201, 230, 263, 223, 229, 241, 250, 205, 214, 173, 252, 249, 179, 203, 225, 247, 253, 232, 241, 246, 219, 272, 261, 218, 244, 238, 223, 224, 248, 255, 235, 225, 276, 231, 199, 194, 183, 225, 208, 173, 261, 239, 260, 234, 208, 241, 166, 240, 226, 187, 259, 233, 223, 169, 169, 216, 211, 235, 271, 221, 192, 233, 217, 226, 240, 232, 227, 190, 186, 223, 249, 241, 269, 221, 219, 241, 246, 275, 210, 242, 213, 235, 225, 207, 239, 201, 232, 235, 264, 214, 220, 276, 230, 200, 217, 172, 185, 229, 264, 214, 225, 192, 235, 268, 210, 188, 258, 213, 238, 263, 213, 227, 252, 230, 205, 241, 214, 250, 246, 217, 217, 241, 257, 251, 254, 205, 226, 260, 265, 253, 204, 185, 183, 242, 204, 228], \"y\": [119, 76, 103, 121, 122, 125, 123, 84, 98, 76, 97, 137, 88, 138, 127, 104, 136, 86, 137, 117, 90, 137, 88, 88, 105, 80, 127, 128, 135, 83, 145, 124, 128, 92, 143, 98, 97, 128, 127, 98, 131, 82, 128, 109, 136, 92, 77, 126, 85, 90, 103, 112, 79, 138, 88, 121, 80, 127, 112, 130, 127, 100, 140, 85, 126, 87, 103, 125, 120, 145, 104, 132, 98, 129, 91, 129, 91, 130, 118, 129, 95, 96, 84, 89, 122, 105, 138, 139, 101, 133, 136, 138, 138, 136, 120, 127, 92, 100, 100, 126, 85, 94, 100, 104, 86, 138, 133, 92, 103, 118, 139, 85, 132, 143, 105, 90, 139, 97, 94, 85, 108, 100, 103, 132, 86, 77, 124, 112, 81, 104, 89, 94, 112, 128, 138, 107, 108, 99, 120, 139, 81, 130, 128, 118, 76, 86, 82, 133, 143, 85, 106, 127, 84, 107, 137, 76, 99, 139, 119, 104, 120, 100, 132, 80, 129, 118, 139, 135, 123, 141, 137, 87, 134, 136, 138, 76, 90, 91, 87, 123, 82, 83, 124, 82, 135, 82, 94, 124, 138, 126, 121, 119, 91, 94, 128, 144, 140, 127, 113, 77, 82, 91, 142, 113, 138, 81, 95, 145, 100, 98, 84, 137, 86, 88, 124, 100, 88, 100, 132, 131, 129, 88, 89, 90, 103, 100, 128, 118, 139, 91, 80, 145, 103, 77, 115, 142, 120, 128, 130, 85, 112, 118, 131, 128, 133, 138, 100, 82, 98, 135, 101, 80, 123, 132, 115, 114, 100, 129, 87, 106, 84, 97, 121, 91, 96, 96, 132, 84, 105, 78, 131, 127, 125, 101, 118, 93, 84, 127, 109, 105, 140, 121, 106, 140, 89, 119, 144, 131, 132, 137, 133, 139, 122, 84, 93, 124, 119, 140, 90, 92, 98, 77, 125, 88, 102, 122, 76, 86, 121, 126, 102, 118, 104, 103, 84, 95, 126, 79, 125, 105, 144, 100, 126, 80, 117, 142, 120, 90, 131, 130, 136, 139, 113, 104, 118, 77, 130, 145, 101, 108, 113, 139, 104, 115, 100, 137, 78, 77, 118, 123, 129, 116, 97, 133, 118, 80, 91, 82, 123, 105, 99, 130, 139, 121, 118, 120, 83, 139, 139, 139, 76, 79, 119, 124, 120, 86, 78, 116, 136]}, {\"mode\": \"markers\", \"name\": \"step = 10236\", \"type\": \"scatter\", \"visible\": false, \"x\": [232, 260, 237, 186, 204, 219, 235, 243, 212, 201, 180, 216, 235, 176, 227, 219, 212, 219, 199, 212, 180, 247, 197, 247, 223, 211, 191, 223, 232, 248, 189, 214, 231, 256, 183, 256, 256, 217, 223, 253, 256, 250, 215, 216, 207, 230, 183, 236, 228, 215, 235, 226, 175, 259, 216, 233, 251, 223, 211, 205, 227, 203, 175, 235, 232, 191, 264, 175, 239, 224, 248, 252, 214, 246, 195, 248, 184, 227, 207, 264, 203, 256, 203, 235, 227, 203, 240, 243, 232, 239, 238, 195, 211, 207, 251, 264, 205, 195, 208, 232, 252, 191, 219, 201, 190, 228, 192, 211, 252, 234, 183, 218, 215, 248, 238, 256, 267, 215, 200, 244, 235, 230, 219, 260, 206, 240, 222, 203, 249, 224, 228, 256, 205, 245, 260, 223, 235, 211, 216, 226, 186, 247, 190, 218, 243, 213, 191, 200, 239, 175, 267, 200, 251, 260, 268, 172, 255, 211, 235, 267, 203, 254, 175, 207, 199, 227, 237, 232, 238, 259, 219, 230, 217, 205, 220, 207, 240, 207, 209, 242, 220, 215, 189, 243, 263, 211, 202, 211, 231, 207, 207, 240, 233, 230, 260, 199, 234, 215, 216, 211, 223, 240, 195, 191, 187, 250, 211, 256, 227, 205, 235, 199, 248, 256, 227, 207, 221, 203, 211, 203, 219, 216, 224, 187, 199, 212, 208, 243, 204, 236, 181, 217, 180, 268, 187, 223, 195, 237, 240, 232, 221, 211, 235, 203, 224, 255, 231, 231, 239, 248, 203, 212, 179, 244, 239, 183, 207, 219, 239, 251, 236, 235, 240, 221, 264, 251, 220, 236, 242, 231, 232, 238, 247, 239, 215, 268, 223, 207, 196, 191, 219, 204, 179, 257, 243, 252, 232, 204, 243, 176, 230, 232, 191, 255, 235, 219, 179, 179, 220, 215, 231, 263, 227, 198, 235, 223, 224, 230, 236, 231, 192, 188, 227, 243, 243, 263, 211, 229, 243, 244, 267, 204, 236, 207, 237, 215, 215, 243, 203, 224, 231, 260, 216, 228, 268, 228, 198, 215, 180, 187, 227, 260, 220, 227, 200, 231, 260, 220, 196, 248, 219, 236, 255, 219, 231, 244, 232, 211, 235, 224, 242, 240, 211, 215, 239, 251, 243, 248, 211, 216, 254, 259, 251, 212, 195, 191, 240, 214, 222], \"y\": [115, 86, 105, 119, 118, 119, 119, 94, 102, 86, 103, 129, 94, 130, 121, 106, 126, 94, 127, 115, 96, 127, 94, 96, 107, 90, 123, 122, 127, 93, 135, 118, 122, 98, 133, 102, 101, 122, 123, 102, 123, 90, 122, 111, 126, 98, 87, 120, 93, 96, 105, 110, 89, 130, 94, 117, 90, 123, 110, 122, 123, 102, 130, 95, 122, 95, 107, 121, 116, 135, 106, 124, 102, 123, 99, 123, 99, 124, 114, 123, 101, 102, 92, 97, 118, 107, 130, 129, 105, 127, 126, 128, 130, 126, 118, 123, 98, 104, 104, 120, 93, 98, 104, 106, 94, 128, 127, 98, 107, 116, 131, 95, 126, 133, 107, 96, 131, 103, 98, 95, 110, 102, 105, 126, 94, 87, 118, 110, 91, 106, 95, 100, 110, 122, 128, 109, 110, 103, 118, 131, 91, 122, 122, 116, 86, 94, 92, 127, 133, 93, 108, 123, 92, 109, 127, 86, 103, 131, 117, 106, 116, 104, 124, 90, 123, 114, 131, 127, 119, 131, 127, 95, 126, 126, 128, 86, 98, 97, 95, 119, 90, 91, 118, 92, 127, 90, 98, 120, 130, 122, 119, 115, 99, 98, 122, 134, 130, 121, 111, 87, 92, 97, 132, 111, 128, 91, 101, 135, 104, 102, 94, 129, 94, 96, 118, 104, 94, 102, 126, 125, 123, 96, 95, 96, 107, 104, 122, 114, 131, 99, 90, 135, 107, 87, 113, 132, 118, 122, 124, 95, 110, 116, 123, 122, 127, 128, 102, 92, 102, 127, 105, 90, 119, 124, 113, 112, 102, 123, 95, 108, 94, 101, 117, 97, 100, 100, 124, 92, 107, 88, 123, 123, 119, 103, 116, 99, 94, 123, 111, 107, 130, 117, 108, 130, 97, 115, 134, 123, 126, 127, 127, 131, 118, 92, 99, 118, 115, 130, 96, 98, 102, 87, 121, 94, 106, 118, 86, 94, 117, 122, 104, 114, 106, 105, 92, 101, 122, 89, 121, 107, 134, 102, 120, 90, 115, 132, 116, 98, 125, 122, 126, 129, 111, 106, 116, 87, 122, 135, 103, 110, 111, 131, 106, 113, 102, 129, 88, 87, 114, 119, 123, 114, 101, 125, 116, 90, 99, 92, 119, 107, 103, 122, 129, 119, 114, 116, 93, 129, 131, 129, 86, 89, 115, 118, 118, 94, 88, 114, 126]}, {\"mode\": \"markers\", \"name\": \"step = 10238\", \"type\": \"scatter\", \"visible\": false, \"x\": [242, 256, 243, 194, 198, 213, 239, 233, 220, 205, 188, 222, 241, 186, 233, 229, 222, 225, 203, 220, 188, 245, 203, 243, 227, 205, 195, 217, 236, 250, 199, 216, 235, 254, 189, 254, 254, 221, 213, 251, 254, 246, 213, 214, 199, 220, 187, 244, 232, 219, 229, 234, 183, 253, 224, 241, 249, 221, 213, 199, 217, 197, 183, 237, 234, 195, 254, 183, 231, 218, 240, 250, 216, 240, 201, 238, 192, 229, 199, 258, 199, 246, 213, 233, 225, 197, 238, 233, 242, 229, 236, 193, 219, 201, 245, 258, 199, 197, 218, 238, 244, 199, 213, 205, 192, 232, 196, 201, 248, 242, 187, 214, 223, 238, 240, 252, 257, 207, 208, 236, 229, 232, 209, 252, 200, 234, 228, 201, 245, 234, 226, 254, 207, 239, 252, 219, 243, 217, 206, 222, 190, 241, 192, 222, 245, 223, 199, 204, 237, 183, 257, 202, 241, 252, 258, 182, 251, 221, 231, 257, 201, 252, 183, 201, 203, 225, 227, 242, 244, 249, 209, 236, 225, 211, 224, 211, 246, 213, 213, 238, 224, 223, 191, 241, 253, 221, 210, 203, 223, 203, 211, 232, 225, 224, 256, 203, 226, 211, 226, 201, 229, 246, 201, 199, 197, 242, 205, 246, 231, 199, 229, 203, 246, 254, 229, 203, 231, 211, 205, 205, 225, 222, 232, 197, 207, 214, 200, 237, 212, 226, 187, 209, 188, 258, 193, 227, 201, 231, 242, 230, 227, 201, 233, 205, 218, 247, 239, 233, 237, 246, 201, 210, 185, 236, 229, 187, 211, 213, 231, 249, 240, 229, 234, 223, 256, 241, 222, 228, 246, 239, 240, 228, 239, 243, 205, 260, 215, 215, 198, 199, 213, 200, 185, 253, 247, 244, 230, 200, 245, 186, 220, 238, 195, 251, 237, 215, 189, 189, 224, 219, 227, 255, 233, 204, 237, 229, 222, 220, 240, 235, 194, 190, 231, 237, 245, 257, 201, 239, 245, 242, 259, 198, 230, 201, 239, 205, 223, 247, 205, 216, 227, 256, 218, 236, 260, 226, 196, 213, 188, 189, 225, 256, 226, 229, 208, 227, 252, 230, 204, 238, 225, 234, 247, 225, 235, 236, 234, 217, 229, 234, 234, 234, 205, 213, 237, 245, 235, 242, 217, 206, 248, 253, 249, 220, 205, 199, 238, 224, 216], \"y\": [111, 96, 107, 117, 114, 113, 115, 104, 106, 96, 109, 121, 100, 122, 115, 108, 116, 102, 117, 113, 102, 117, 100, 104, 109, 100, 119, 116, 119, 103, 125, 112, 116, 104, 123, 106, 105, 116, 119, 106, 115, 98, 116, 113, 116, 104, 97, 114, 101, 102, 107, 108, 99, 122, 100, 113, 100, 119, 108, 114, 119, 104, 120, 105, 118, 103, 111, 117, 112, 125, 108, 116, 106, 117, 107, 117, 107, 118, 110, 117, 107, 108, 100, 105, 114, 109, 122, 119, 109, 121, 116, 118, 122, 116, 116, 119, 104, 108, 108, 114, 101, 102, 108, 108, 102, 118, 121, 104, 111, 114, 123, 105, 120, 123, 109, 102, 123, 109, 102, 105, 112, 104, 107, 120, 102, 97, 112, 108, 101, 108, 101, 106, 108, 116, 118, 111, 112, 107, 116, 123, 101, 114, 116, 114, 96, 102, 102, 121, 123, 101, 110, 119, 100, 111, 117, 96, 107, 123, 115, 108, 112, 108, 116, 100, 117, 110, 123, 119, 115, 121, 117, 103, 118, 116, 118, 96, 106, 103, 103, 115, 98, 99, 112, 102, 119, 98, 102, 116, 122, 118, 117, 111, 107, 102, 116, 124, 120, 115, 109, 97, 102, 103, 122, 109, 118, 101, 107, 125, 108, 106, 104, 121, 102, 104, 112, 108, 100, 104, 120, 119, 117, 104, 101, 102, 111, 108, 116, 110, 123, 107, 100, 125, 111, 97, 111, 122, 116, 116, 118, 105, 108, 114, 115, 116, 121, 118, 104, 102, 106, 119, 109, 100, 115, 116, 111, 110, 104, 117, 103, 110, 104, 105, 113, 103, 104, 104, 116, 100, 109, 98, 115, 119, 113, 105, 114, 105, 104, 119, 113, 109, 120, 113, 110, 120, 105, 111, 124, 115, 120, 117, 121, 123, 114, 100, 105, 112, 111, 120, 102, 104, 106, 97, 117, 100, 110, 114, 96, 102, 113, 118, 106, 110, 108, 107, 100, 107, 118, 99, 117, 109, 124, 104, 114, 100, 113, 122, 112, 106, 119, 114, 116, 119, 109, 108, 114, 97, 114, 125, 105, 112, 109, 123, 108, 111, 104, 121, 98, 97, 110, 115, 117, 112, 105, 117, 114, 100, 107, 102, 115, 109, 107, 114, 119, 117, 110, 112, 103, 119, 123, 119, 96, 99, 111, 112, 116, 102, 98, 112, 116]}, {\"mode\": \"markers\", \"name\": \"step = 10240\", \"type\": \"scatter\", \"visible\": false, \"x\": [252, 252, 249, 202, 192, 207, 243, 223, 228, 209, 196, 228, 247, 196, 239, 239, 232, 231, 207, 228, 196, 243, 209, 239, 231, 199, 199, 211, 240, 252, 209, 218, 239, 252, 195, 252, 252, 225, 203, 249, 252, 242, 211, 212, 191, 210, 191, 252, 236, 223, 223, 242, 191, 247, 232, 249, 247, 219, 215, 193, 207, 191, 191, 239, 236, 199, 244, 191, 223, 212, 232, 248, 218, 234, 207, 228, 200, 231, 191, 252, 195, 236, 223, 231, 223, 191, 236, 223, 252, 219, 234, 191, 227, 195, 239, 252, 193, 199, 228, 244, 236, 207, 207, 209, 194, 236, 200, 191, 244, 250, 191, 210, 231, 228, 242, 248, 247, 199, 216, 228, 223, 234, 199, 244, 194, 228, 234, 199, 241, 244, 224, 252, 209, 233, 244, 215, 251, 223, 196, 218, 194, 235, 194, 226, 247, 233, 207, 208, 235, 191, 247, 204, 231, 244, 248, 192, 247, 231, 227, 247, 199, 250, 191, 195, 207, 223, 217, 252, 250, 239, 199, 242, 233, 217, 228, 215, 252, 219, 217, 234, 228, 231, 193, 239, 243, 231, 218, 195, 215, 199, 215, 224, 217, 218, 252, 207, 218, 207, 236, 191, 235, 252, 207, 207, 207, 234, 199, 236, 235, 193, 223, 207, 244, 252, 231, 199, 241, 219, 199, 207, 231, 228, 240, 207, 215, 216, 192, 231, 220, 216, 193, 201, 196, 248, 199, 231, 207, 225, 244, 228, 233, 191, 231, 207, 212, 239, 247, 235, 235, 244, 199, 208, 191, 228, 219, 191, 215, 207, 223, 247, 244, 223, 228, 225, 248, 231, 224, 220, 250, 247, 248, 218, 231, 247, 195, 252, 207, 223, 200, 207, 207, 196, 191, 249, 251, 236, 228, 196, 247, 196, 210, 244, 199, 247, 239, 211, 199, 199, 228, 223, 223, 247, 239, 210, 239, 235, 220, 210, 244, 239, 196, 192, 235, 231, 247, 251, 191, 249, 247, 240, 251, 192, 224, 195, 241, 195, 231, 251, 207, 208, 223, 252, 220, 244, 252, 224, 194, 211, 196, 191, 223, 252, 232, 231, 216, 223, 244, 240, 212, 228, 231, 232, 239, 231, 239, 228, 236, 223, 223, 244, 226, 228, 199, 211, 235, 239, 227, 236, 223, 196, 242, 247, 247, 228, 215, 207, 236, 234, 210], \"y\": [107, 106, 109, 115, 110, 107, 111, 114, 110, 106, 115, 113, 106, 114, 109, 110, 106, 110, 107, 111, 108, 107, 106, 112, 111, 110, 115, 110, 111, 113, 115, 106, 110, 110, 113, 110, 109, 110, 115, 110, 107, 106, 110, 115, 106, 110, 107, 108, 109, 108, 109, 106, 109, 114, 106, 109, 110, 115, 106, 106, 115, 106, 110, 115, 114, 111, 115, 113, 108, 115, 110, 108, 110, 111, 115, 111, 115, 112, 106, 111, 113, 114, 108, 113, 110, 111, 114, 109, 113, 115, 106, 108, 114, 106, 114, 115, 110, 112, 112, 108, 109, 106, 112, 110, 110, 108, 115, 110, 115, 112, 115, 115, 114, 113, 111, 108, 115, 115, 106, 115, 114, 106, 109, 114, 110, 107, 106, 106, 111, 110, 107, 112, 106, 110, 108, 113, 114, 111, 114, 115, 111, 106, 110, 112, 106, 110, 112, 115, 113, 109, 112, 115, 108, 113, 107, 106, 111, 115, 113, 110, 108, 112, 108, 110, 111, 106, 115, 111, 111, 111, 107, 111, 110, 106, 108, 106, 114, 109, 111, 111, 106, 107, 106, 112, 111, 106, 106, 112, 114, 114, 115, 107, 115, 106, 110, 114, 110, 109, 107, 107, 112, 109, 112, 107, 108, 111, 113, 115, 112, 110, 114, 113, 110, 112, 106, 112, 106, 106, 114, 113, 111, 112, 107, 108, 115, 112, 110, 106, 115, 115, 110, 115, 115, 107, 109, 112, 114, 110, 112, 115, 106, 112, 107, 110, 115, 108, 106, 112, 110, 111, 113, 110, 111, 108, 109, 108, 106, 111, 111, 112, 114, 109, 109, 109, 108, 108, 108, 108, 111, 108, 107, 115, 107, 107, 112, 111, 114, 115, 115, 111, 110, 109, 112, 110, 113, 107, 114, 107, 114, 107, 115, 115, 110, 108, 111, 106, 107, 110, 108, 110, 110, 107, 113, 106, 114, 110, 106, 110, 109, 114, 108, 106, 110, 109, 108, 113, 114, 109, 113, 111, 114, 106, 108, 110, 111, 112, 108, 114, 113, 106, 106, 109, 107, 110, 112, 107, 106, 115, 107, 114, 107, 115, 110, 109, 106, 113, 108, 107, 106, 111, 111, 110, 109, 109, 112, 110, 115, 112, 111, 111, 111, 106, 109, 115, 106, 108, 113, 109, 115, 109, 106, 109, 107, 106, 114, 110, 108, 110, 106]}, {\"mode\": \"markers\", \"name\": \"step = 10242\", \"type\": \"scatter\", \"visible\": false, \"x\": [262, 248, 255, 210, 186, 201, 247, 213, 236, 213, 204, 234, 253, 206, 245, 249, 242, 237, 211, 236, 204, 241, 215, 235, 235, 193, 203, 205, 244, 254, 219, 220, 243, 250, 201, 250, 250, 229, 193, 247, 250, 238, 209, 210, 183, 200, 195, 260, 240, 227, 217, 250, 199, 241, 240, 257, 245, 217, 217, 187, 197, 185, 199, 241, 238, 203, 234, 199, 215, 206, 224, 246, 220, 228, 213, 218, 208, 233, 183, 246, 191, 226, 233, 229, 221, 185, 234, 213, 262, 209, 232, 189, 235, 189, 233, 246, 187, 201, 238, 250, 228, 215, 201, 213, 196, 240, 204, 181, 240, 258, 195, 206, 239, 218, 244, 244, 237, 191, 224, 220, 217, 236, 189, 236, 188, 222, 240, 197, 237, 254, 222, 250, 211, 227, 236, 211, 259, 229, 186, 214, 198, 229, 196, 230, 249, 243, 215, 212, 233, 199, 237, 206, 221, 236, 238, 202, 243, 241, 223, 237, 197, 248, 199, 189, 211, 221, 207, 262, 256, 229, 189, 248, 241, 223, 232, 219, 258, 225, 221, 230, 232, 239, 195, 237, 233, 241, 226, 187, 207, 195, 219, 216, 209, 212, 248, 211, 210, 203, 246, 181, 241, 258, 213, 215, 217, 226, 193, 226, 239, 187, 217, 211, 242, 250, 233, 195, 251, 227, 193, 209, 237, 234, 248, 217, 223, 218, 184, 225, 228, 206, 199, 193, 204, 238, 205, 235, 213, 219, 246, 226, 239, 181, 229, 209, 206, 231, 255, 237, 233, 242, 197, 206, 197, 220, 209, 195, 219, 201, 215, 245, 248, 217, 222, 227, 240, 221, 226, 212, 254, 255, 256, 208, 223, 251, 185, 244, 199, 231, 202, 215, 201, 192, 197, 245, 255, 228, 226, 192, 249, 206, 200, 250, 203, 243, 241, 207, 209, 209, 232, 227, 219, 239, 245, 216, 241, 241, 218, 200, 248, 243, 198, 194, 239, 225, 249, 245, 181, 259, 249, 238, 243, 186, 218, 189, 243, 185, 239, 255, 209, 200, 219, 248, 222, 252, 244, 222, 192, 209, 204, 193, 221, 248, 238, 233, 224, 219, 236, 250, 220, 218, 237, 230, 231, 237, 243, 220, 238, 229, 217, 254, 218, 222, 193, 209, 233, 233, 219, 230, 229, 186, 236, 241, 245, 236, 225, 215, 234, 244, 204], \"y\": [103, 116, 111, 113, 106, 101, 107, 124, 114, 116, 121, 105, 112, 106, 103, 112, 96, 118, 97, 109, 114, 97, 112, 120, 113, 120, 111, 104, 103, 123, 105, 100, 104, 116, 103, 114, 113, 104, 111, 114, 99, 114, 104, 117, 96, 116, 117, 102, 117, 114, 111, 104, 119, 106, 112, 105, 120, 111, 104, 98, 111, 108, 100, 125, 110, 119, 119, 109, 104, 105, 112, 100, 114, 105, 123, 105, 123, 106, 102, 105, 119, 120, 116, 121, 106, 113, 106, 99, 117, 109, 96, 98, 106, 96, 112, 111, 116, 116, 116, 102, 117, 110, 116, 112, 118, 98, 109, 116, 119, 110, 107, 125, 108, 103, 113, 114, 107, 121, 110, 125, 116, 108, 111, 108, 118, 117, 100, 104, 121, 112, 113, 118, 104, 104, 98, 115, 116, 115, 112, 107, 121, 98, 104, 110, 116, 118, 122, 109, 103, 117, 114, 111, 116, 115, 97, 116, 115, 107, 111, 112, 104, 116, 100, 120, 105, 102, 107, 103, 107, 101, 97, 119, 102, 96, 98, 116, 122, 115, 119, 107, 114, 115, 100, 122, 103, 114, 110, 108, 106, 110, 113, 103, 123, 110, 104, 104, 100, 103, 105, 117, 122, 115, 102, 105, 98, 121, 119, 105, 116, 114, 124, 105, 118, 120, 100, 116, 112, 108, 108, 107, 105, 120, 113, 114, 119, 116, 104, 102, 107, 123, 120, 105, 119, 117, 107, 102, 112, 104, 106, 125, 104, 110, 99, 104, 109, 98, 108, 122, 114, 103, 117, 120, 107, 100, 107, 106, 108, 105, 119, 114, 124, 113, 105, 115, 112, 112, 100, 116, 113, 118, 99, 111, 101, 109, 110, 117, 124, 111, 117, 113, 100, 105, 114, 100, 121, 103, 104, 99, 108, 97, 109, 107, 106, 116, 117, 100, 103, 100, 114, 116, 114, 117, 109, 112, 118, 106, 116, 118, 105, 110, 110, 102, 112, 111, 116, 119, 110, 119, 109, 113, 104, 108, 102, 120, 109, 102, 104, 122, 107, 98, 96, 99, 105, 112, 110, 117, 98, 105, 109, 116, 105, 107, 112, 107, 108, 105, 118, 117, 102, 107, 105, 108, 113, 101, 110, 120, 123, 122, 107, 113, 115, 98, 99, 113, 102, 104, 123, 99, 107, 99, 116, 119, 103, 100, 112, 118, 118, 108, 96]}, {\"mode\": \"markers\", \"name\": \"step = 10244\", \"type\": \"scatter\", \"visible\": false, \"x\": [272, 244, 261, 218, 180, 195, 251, 203, 244, 217, 212, 240, 259, 216, 251, 259, 252, 243, 215, 244, 212, 239, 221, 231, 239, 187, 207, 199, 248, 256, 229, 222, 247, 248, 207, 248, 248, 233, 183, 245, 248, 234, 207, 208, 175, 190, 199, 268, 244, 231, 211, 258, 207, 235, 248, 265, 243, 215, 219, 181, 187, 179, 207, 243, 240, 207, 224, 207, 207, 200, 216, 244, 222, 222, 219, 208, 216, 235, 175, 240, 187, 216, 243, 227, 219, 179, 232, 203, 272, 199, 230, 187, 243, 183, 227, 240, 181, 203, 248, 256, 220, 223, 195, 217, 198, 244, 208, 171, 236, 266, 199, 202, 247, 208, 246, 240, 227, 183, 232, 212, 211, 238, 179, 228, 182, 216, 246, 195, 233, 264, 220, 248, 213, 221, 228, 207, 267, 235, 176, 210, 202, 223, 198, 234, 251, 253, 223, 216, 231, 207, 227, 208, 211, 228, 228, 212, 239, 251, 219, 227, 195, 246, 207, 183, 215, 219, 197, 272, 262, 219, 179, 254, 249, 229, 236, 223, 264, 231, 225, 226, 236, 247, 197, 235, 223, 251, 234, 179, 199, 191, 223, 208, 201, 206, 244, 215, 202, 199, 256, 171, 247, 264, 219, 223, 227, 218, 187, 216, 243, 181, 211, 215, 240, 248, 235, 191, 261, 235, 187, 211, 243, 240, 256, 227, 231, 220, 176, 219, 236, 196, 205, 185, 212, 228, 211, 239, 219, 213, 248, 224, 245, 171, 227, 211, 200, 223, 263, 239, 231, 240, 195, 204, 203, 212, 199, 199, 223, 195, 207, 243, 252, 211, 216, 229, 232, 211, 228, 204, 258, 263, 264, 198, 215, 255, 175, 236, 191, 239, 204, 223, 195, 188, 203, 241, 259, 220, 224, 188, 251, 216, 190, 256, 207, 239, 243, 203, 219, 219, 236, 231, 215, 231, 251, 222, 243, 247, 216, 190, 252, 247, 200, 196, 243, 219, 251, 239, 171, 269, 251, 236, 235, 180, 212, 183, 245, 175, 247, 259, 211, 192, 215, 244, 224, 260, 236, 220, 190, 207, 212, 195, 219, 244, 244, 235, 232, 215, 228, 260, 228, 208, 243, 228, 223, 243, 247, 212, 240, 235, 211, 264, 210, 216, 187, 207, 231, 227, 211, 224, 235, 176, 230, 235, 243, 244, 235, 223, 232, 254, 198], \"y\": [99, 126, 113, 111, 102, 95, 103, 134, 118, 126, 127, 97, 118, 98, 97, 114, 86, 126, 87, 107, 120, 87, 118, 128, 115, 130, 107, 98, 95, 133, 95, 94, 98, 122, 93, 118, 117, 98, 107, 118, 91, 122, 98, 119, 86, 122, 127, 96, 125, 120, 113, 102, 129, 98, 118, 101, 130, 107, 102, 90, 107, 110, 90, 135, 106, 127, 123, 105, 100, 95, 114, 92, 118, 99, 131, 99, 131, 100, 98, 99, 125, 126, 124, 129, 102, 115, 98, 89, 121, 103, 86, 88, 98, 86, 110, 107, 122, 120, 120, 96, 125, 114, 120, 114, 126, 88, 103, 122, 123, 108, 99, 135, 102, 93, 115, 120, 99, 127, 114, 135, 118, 110, 113, 102, 126, 127, 94, 102, 131, 114, 119, 124, 102, 98, 88, 117, 118, 119, 110, 99, 131, 90, 98, 108, 126, 126, 132, 103, 93, 125, 116, 107, 124, 117, 87, 126, 119, 99, 109, 114, 100, 120, 92, 130, 99, 98, 99, 95, 103, 91, 87, 127, 94, 86, 88, 126, 130, 121, 127, 103, 122, 123, 94, 132, 95, 122, 114, 104, 98, 106, 111, 99, 131, 114, 98, 94, 90, 97, 103, 127, 132, 121, 92, 103, 88, 131, 125, 95, 120, 118, 134, 97, 126, 128, 94, 120, 118, 110, 102, 101, 99, 128, 119, 120, 123, 120, 98, 98, 99, 131, 130, 95, 123, 127, 105, 92, 110, 98, 100, 135, 102, 108, 91, 98, 103, 88, 110, 132, 118, 95, 121, 130, 103, 92, 105, 104, 110, 99, 127, 116, 134, 117, 101, 121, 116, 116, 92, 124, 115, 128, 91, 107, 95, 111, 108, 123, 134, 107, 119, 115, 90, 101, 116, 90, 129, 99, 94, 91, 102, 87, 103, 99, 102, 124, 123, 94, 99, 90, 120, 122, 118, 127, 105, 118, 122, 102, 126, 126, 101, 106, 112, 98, 114, 113, 124, 125, 106, 129, 105, 115, 94, 110, 96, 130, 107, 92, 100, 130, 101, 90, 86, 89, 103, 114, 108, 127, 90, 95, 111, 118, 103, 99, 114, 105, 110, 97, 128, 127, 98, 103, 99, 106, 117, 93, 108, 130, 131, 132, 103, 115, 119, 90, 89, 111, 98, 100, 133, 89, 99, 89, 126, 129, 99, 94, 110, 126, 128, 106, 86]}, {\"mode\": \"markers\", \"name\": \"step = 10246\", \"type\": \"scatter\", \"visible\": false, \"x\": [282, 240, 267, 226, 174, 189, 255, 193, 252, 221, 220, 246, 265, 226, 257, 269, 262, 249, 219, 252, 220, 237, 227, 227, 243, 181, 211, 193, 252, 258, 239, 224, 251, 246, 213, 246, 246, 237, 173, 243, 246, 230, 205, 206, 167, 180, 203, 276, 248, 235, 205, 266, 215, 229, 256, 273, 241, 213, 221, 175, 177, 173, 215, 245, 242, 211, 214, 215, 199, 194, 208, 242, 224, 216, 225, 198, 224, 237, 167, 234, 183, 206, 253, 225, 217, 173, 230, 193, 282, 189, 228, 185, 251, 177, 221, 234, 175, 205, 258, 262, 212, 231, 189, 221, 200, 248, 212, 161, 232, 274, 203, 198, 255, 198, 248, 236, 217, 175, 240, 204, 205, 240, 169, 220, 176, 210, 252, 193, 229, 274, 218, 246, 215, 215, 220, 203, 275, 241, 166, 206, 206, 217, 200, 238, 253, 263, 231, 220, 229, 215, 217, 210, 201, 220, 218, 222, 235, 261, 215, 217, 193, 244, 215, 177, 219, 217, 187, 282, 268, 209, 169, 260, 257, 235, 240, 227, 270, 237, 229, 222, 240, 255, 199, 233, 213, 261, 242, 171, 191, 187, 227, 200, 193, 200, 240, 219, 194, 195, 266, 161, 253, 270, 225, 231, 237, 210, 181, 206, 247, 175, 205, 219, 238, 246, 237, 187, 271, 243, 181, 213, 249, 246, 264, 237, 239, 222, 168, 213, 244, 186, 211, 177, 220, 218, 217, 243, 225, 207, 250, 222, 251, 161, 225, 213, 194, 215, 271, 241, 229, 238, 193, 202, 209, 204, 189, 203, 227, 189, 199, 241, 256, 205, 210, 231, 224, 201, 230, 196, 262, 271, 272, 188, 207, 259, 165, 228, 183, 247, 206, 231, 189, 184, 209, 237, 263, 212, 222, 184, 253, 226, 180, 262, 211, 235, 245, 199, 229, 229, 240, 235, 211, 223, 257, 228, 245, 253, 214, 180, 256, 251, 202, 198, 247, 213, 253, 233, 161, 279, 253, 234, 227, 174, 206, 177, 247, 165, 255, 263, 213, 184, 211, 240, 226, 268, 228, 218, 188, 205, 220, 197, 217, 240, 250, 237, 240, 211, 220, 270, 236, 198, 249, 226, 215, 249, 251, 204, 242, 241, 205, 274, 202, 210, 181, 205, 229, 221, 203, 218, 241, 166, 224, 229, 241, 252, 245, 231, 230, 264, 192], \"y\": [95, 136, 115, 109, 98, 89, 99, 144, 122, 136, 133, 89, 124, 90, 91, 116, 76, 134, 77, 105, 126, 77, 124, 136, 117, 140, 103, 92, 87, 143, 85, 88, 92, 128, 83, 122, 121, 92, 103, 122, 83, 130, 92, 121, 76, 128, 137, 90, 133, 126, 115, 100, 139, 90, 124, 97, 140, 103, 100, 82, 103, 112, 80, 145, 102, 135, 127, 101, 96, 85, 116, 84, 122, 93, 139, 93, 139, 94, 94, 93, 131, 132, 132, 137, 98, 117, 90, 79, 125, 97, 76, 78, 90, 76, 108, 103, 128, 124, 124, 90, 133, 118, 124, 116, 134, 78, 97, 128, 127, 106, 91, 145, 96, 83, 117, 126, 91, 133, 118, 145, 120, 112, 115, 96, 134, 137, 88, 100, 141, 116, 125, 130, 100, 92, 78, 119, 120, 123, 108, 91, 141, 82, 92, 106, 136, 134, 142, 97, 83, 133, 118, 103, 132, 119, 77, 136, 123, 91, 107, 116, 96, 124, 84, 140, 93, 94, 91, 87, 99, 81, 77, 135, 86, 76, 78, 136, 138, 127, 135, 99, 130, 131, 88, 142, 87, 130, 118, 100, 90, 102, 109, 95, 139, 118, 92, 84, 80, 91, 101, 137, 142, 127, 82, 101, 78, 141, 131, 85, 124, 122, 144, 89, 134, 136, 88, 124, 124, 112, 96, 95, 93, 136, 125, 126, 127, 124, 92, 94, 91, 139, 140, 85, 127, 137, 103, 82, 108, 92, 94, 145, 100, 106, 83, 92, 97, 78, 112, 142, 122, 87, 125, 140, 99, 84, 103, 102, 112, 93, 135, 118, 144, 121, 97, 127, 120, 120, 84, 132, 117, 138, 83, 103, 89, 113, 106, 129, 144, 103, 121, 117, 80, 97, 118, 80, 137, 95, 84, 83, 96, 77, 97, 91, 98, 132, 129, 88, 95, 80, 126, 128, 122, 137, 101, 124, 126, 98, 136, 134, 97, 102, 114, 94, 116, 115, 132, 131, 102, 139, 101, 117, 84, 112, 90, 140, 105, 82, 96, 138, 95, 82, 76, 79, 101, 116, 106, 137, 82, 85, 113, 120, 101, 91, 116, 103, 112, 89, 138, 137, 94, 99, 93, 104, 121, 85, 106, 140, 139, 142, 99, 117, 123, 82, 79, 109, 94, 96, 143, 79, 91, 79, 136, 139, 95, 88, 108, 134, 138, 104, 76]}, {\"mode\": \"markers\", \"name\": \"step = 10248\", \"type\": \"scatter\", \"visible\": false, \"x\": [292, 236, 273, 234, 168, 183, 259, 183, 260, 225, 228, 252, 271, 236, 263, 279, 272, 255, 223, 260, 228, 235, 233, 223, 247, 175, 215, 187, 256, 260, 249, 226, 255, 244, 219, 244, 244, 241, 163, 241, 244, 226, 203, 204, 159, 170, 207, 284, 252, 239, 199, 274, 223, 223, 264, 281, 239, 211, 223, 169, 167, 167, 223, 247, 244, 215, 204, 223, 191, 188, 200, 240, 226, 210, 231, 188, 232, 239, 159, 228, 179, 196, 263, 223, 215, 167, 228, 183, 292, 179, 226, 183, 259, 171, 215, 228, 169, 207, 268, 268, 204, 239, 183, 225, 202, 252, 216, 151, 228, 282, 207, 194, 263, 188, 250, 232, 207, 167, 248, 196, 199, 242, 159, 212, 170, 204, 258, 191, 225, 284, 216, 244, 217, 209, 212, 199, 283, 247, 156, 202, 210, 211, 202, 242, 255, 273, 239, 224, 227, 223, 207, 212, 191, 212, 208, 232, 231, 271, 211, 207, 191, 242, 223, 171, 223, 215, 177, 292, 274, 199, 159, 266, 265, 241, 244, 231, 276, 243, 233, 218, 244, 263, 201, 231, 203, 271, 250, 163, 183, 183, 231, 192, 185, 194, 236, 223, 186, 191, 276, 151, 259, 276, 231, 239, 247, 202, 175, 196, 251, 169, 199, 223, 236, 244, 239, 183, 281, 251, 175, 215, 255, 252, 272, 247, 247, 224, 160, 207, 252, 176, 217, 169, 228, 208, 223, 247, 231, 201, 252, 220, 257, 151, 223, 215, 188, 207, 279, 243, 227, 236, 191, 200, 215, 196, 179, 207, 231, 183, 191, 239, 260, 199, 204, 233, 216, 191, 232, 188, 266, 279, 280, 178, 199, 263, 155, 220, 175, 255, 208, 239, 183, 180, 215, 233, 267, 204, 220, 180, 255, 236, 170, 268, 215, 231, 247, 195, 239, 239, 244, 239, 207, 215, 263, 234, 247, 259, 212, 170, 260, 255, 204, 200, 251, 207, 255, 227, 151, 289, 255, 232, 219, 168, 200, 171, 249, 155, 263, 267, 215, 176, 207, 236, 228, 276, 220, 216, 186, 203, 228, 199, 215, 236, 256, 239, 248, 207, 212, 280, 244, 188, 255, 224, 207, 255, 255, 196, 244, 247, 199, 284, 194, 204, 175, 203, 227, 215, 195, 212, 247, 156, 218, 223, 239, 260, 255, 239, 228, 274, 186], \"y\": [91, 146, 117, 107, 94, 83, 95, 154, 126, 146, 139, 81, 130, 82, 85, 118, 66, 142, 67, 103, 132, 67, 130, 144, 119, 150, 99, 86, 79, 153, 75, 82, 86, 134, 73, 126, 125, 86, 99, 126, 75, 138, 86, 123, 66, 134, 147, 84, 141, 132, 117, 98, 149, 82, 130, 93, 150, 99, 98, 74, 99, 114, 70, 155, 98, 143, 131, 97, 92, 75, 118, 76, 126, 87, 147, 87, 147, 88, 90, 87, 137, 138, 140, 145, 94, 119, 82, 69, 129, 91, 66, 68, 82, 66, 106, 99, 134, 128, 128, 84, 141, 122, 128, 118, 142, 68, 91, 134, 131, 104, 83, 155, 90, 73, 119, 132, 83, 139, 122, 155, 122, 114, 117, 90, 142, 147, 82, 98, 151, 118, 131, 136, 98, 86, 68, 121, 122, 127, 106, 83, 151, 74, 86, 104, 146, 142, 152, 91, 73, 141, 120, 99, 140, 121, 67, 146, 127, 83, 105, 118, 92, 128, 76, 150, 87, 90, 83, 79, 95, 71, 67, 143, 78, 66, 68, 146, 146, 133, 143, 95, 138, 139, 82, 152, 79, 138, 122, 96, 82, 98, 107, 91, 147, 122, 86, 74, 70, 85, 99, 147, 152, 133, 72, 99, 68, 151, 137, 75, 128, 126, 154, 81, 142, 144, 82, 128, 130, 114, 90, 89, 87, 144, 131, 132, 131, 128, 86, 90, 83, 147, 150, 75, 131, 147, 101, 72, 106, 86, 88, 155, 98, 104, 75, 86, 91, 68, 114, 152, 126, 79, 129, 150, 95, 76, 101, 100, 114, 87, 143, 120, 154, 125, 93, 133, 124, 124, 76, 140, 119, 148, 75, 99, 83, 115, 104, 135, 154, 99, 123, 119, 70, 93, 120, 70, 145, 91, 74, 75, 90, 67, 91, 83, 94, 140, 135, 82, 91, 70, 132, 134, 126, 147, 97, 130, 130, 94, 146, 142, 93, 98, 116, 90, 118, 117, 140, 137, 98, 149, 97, 119, 74, 114, 84, 150, 103, 72, 92, 146, 89, 74, 66, 69, 99, 118, 104, 147, 74, 75, 115, 122, 99, 83, 118, 101, 114, 81, 148, 147, 90, 95, 87, 102, 125, 77, 104, 150, 147, 152, 95, 119, 127, 74, 69, 107, 90, 92, 153, 69, 83, 69, 146, 149, 91, 82, 106, 142, 148, 102, 66]}, {\"mode\": \"markers\", \"name\": \"step = 10250\", \"type\": \"scatter\", \"visible\": false, \"x\": [302, 232, 279, 242, 162, 177, 263, 173, 268, 229, 236, 258, 277, 246, 269, 289, 282, 261, 227, 268, 236, 233, 239, 219, 251, 169, 219, 181, 260, 262, 259, 228, 259, 242, 225, 242, 242, 245, 153, 239, 242, 222, 201, 202, 151, 160, 211, 292, 256, 243, 193, 282, 231, 217, 272, 289, 237, 209, 225, 163, 157, 161, 231, 249, 246, 219, 194, 231, 183, 182, 192, 238, 228, 204, 237, 178, 240, 241, 151, 222, 175, 186, 273, 221, 213, 161, 226, 173, 302, 169, 224, 181, 267, 165, 209, 222, 163, 209, 278, 274, 196, 247, 177, 229, 204, 256, 220, 141, 224, 290, 211, 190, 271, 178, 252, 228, 197, 159, 256, 188, 193, 244, 149, 204, 164, 198, 264, 189, 221, 294, 214, 242, 219, 203, 204, 195, 291, 253, 146, 198, 214, 205, 204, 246, 257, 283, 247, 228, 225, 231, 197, 214, 181, 204, 198, 242, 227, 281, 207, 197, 189, 240, 231, 165, 227, 213, 167, 302, 280, 189, 149, 272, 273, 247, 248, 235, 282, 249, 237, 214, 248, 271, 203, 229, 193, 281, 258, 155, 175, 179, 235, 184, 177, 188, 232, 227, 178, 187, 286, 141, 265, 282, 237, 247, 257, 194, 169, 186, 255, 163, 193, 227, 234, 242, 241, 179, 291, 259, 169, 217, 261, 258, 280, 257, 255, 226, 152, 201, 260, 166, 223, 161, 236, 198, 229, 251, 237, 195, 254, 218, 263, 141, 221, 217, 182, 199, 287, 245, 225, 234, 189, 198, 221, 188, 169, 211, 235, 177, 183, 237, 264, 193, 198, 235, 208, 181, 234, 180, 270, 287, 288, 168, 191, 267, 145, 212, 167, 263, 210, 247, 177, 176, 221, 229, 271, 196, 218, 176, 257, 246, 160, 274, 219, 227, 249, 191, 249, 249, 248, 243, 203, 207, 269, 240, 249, 265, 210, 160, 264, 259, 206, 202, 255, 201, 257, 221, 141, 299, 257, 230, 211, 162, 194, 165, 251, 145, 271, 271, 217, 168, 203, 232, 230, 284, 212, 214, 184, 201, 236, 201, 213, 232, 262, 241, 256, 203, 204, 290, 252, 178, 261, 222, 199, 261, 259, 188, 246, 253, 193, 294, 186, 198, 169, 201, 225, 209, 187, 206, 253, 146, 212, 217, 237, 268, 265, 247, 226, 284, 180], \"y\": [87, 156, 119, 105, 90, 77, 91, 164, 130, 156, 145, 73, 136, 74, 79, 120, 56, 150, 57, 101, 138, 57, 136, 152, 121, 160, 95, 80, 71, 163, 65, 76, 80, 140, 63, 130, 129, 80, 95, 130, 67, 146, 80, 125, 56, 140, 157, 78, 149, 138, 119, 96, 159, 74, 136, 89, 160, 95, 96, 66, 95, 116, 60, 165, 94, 151, 135, 93, 88, 65, 120, 68, 130, 81, 155, 81, 155, 82, 86, 81, 143, 144, 148, 153, 90, 121, 74, 59, 133, 85, 56, 58, 74, 56, 104, 95, 140, 132, 132, 78, 149, 126, 132, 120, 150, 58, 85, 140, 135, 102, 75, 165, 84, 63, 121, 138, 75, 145, 126, 165, 124, 116, 119, 84, 150, 157, 76, 96, 161, 120, 137, 142, 96, 80, 58, 123, 124, 131, 104, 75, 161, 66, 80, 102, 156, 150, 162, 85, 63, 149, 122, 95, 148, 123, 57, 156, 131, 75, 103, 120, 88, 132, 68, 160, 81, 86, 75, 71, 91, 61, 57, 151, 70, 56, 58, 156, 154, 139, 151, 91, 146, 147, 76, 162, 71, 146, 126, 92, 74, 94, 105, 87, 155, 126, 80, 64, 60, 79, 97, 157, 162, 139, 62, 97, 58, 161, 143, 65, 132, 130, 164, 73, 150, 152, 76, 132, 136, 116, 84, 83, 81, 152, 137, 138, 135, 132, 80, 86, 75, 155, 160, 65, 135, 157, 99, 62, 104, 80, 82, 165, 96, 102, 67, 80, 85, 58, 116, 162, 130, 71, 133, 160, 91, 68, 99, 98, 116, 81, 151, 122, 164, 129, 89, 139, 128, 128, 68, 148, 121, 158, 67, 95, 77, 117, 102, 141, 164, 95, 125, 121, 60, 89, 122, 60, 153, 87, 64, 67, 84, 57, 85, 75, 90, 148, 141, 76, 87, 60, 138, 140, 130, 157, 93, 136, 134, 90, 156, 150, 89, 94, 118, 86, 120, 119, 148, 143, 94, 159, 93, 121, 64, 116, 78, 160, 101, 62, 88, 154, 83, 66, 56, 59, 97, 120, 102, 157, 66, 65, 117, 124, 97, 75, 120, 99, 116, 73, 158, 157, 86, 91, 81, 100, 129, 69, 102, 160, 155, 162, 91, 121, 131, 66, 59, 105, 86, 88, 163, 59, 75, 59, 156, 159, 87, 76, 104, 150, 158, 100, 56]}, {\"mode\": \"markers\", \"name\": \"step = 10252\", \"type\": \"scatter\", \"visible\": false, \"x\": [312, 228, 285, 250, 156, 171, 267, 163, 276, 233, 244, 264, 283, 256, 275, 299, 292, 267, 231, 276, 244, 231, 245, 215, 255, 163, 223, 175, 264, 264, 269, 230, 263, 240, 231, 240, 240, 249, 143, 237, 240, 218, 199, 200, 143, 150, 215, 300, 260, 247, 187, 290, 239, 211, 280, 297, 235, 207, 227, 157, 147, 155, 239, 251, 248, 223, 184, 239, 175, 176, 184, 236, 230, 198, 243, 168, 248, 243, 143, 216, 171, 176, 283, 219, 211, 155, 224, 163, 312, 159, 222, 179, 275, 159, 203, 216, 157, 211, 288, 280, 188, 255, 171, 233, 206, 260, 224, 131, 220, 298, 215, 186, 279, 168, 254, 224, 187, 151, 264, 180, 187, 246, 139, 196, 158, 192, 270, 187, 217, 304, 212, 240, 221, 197, 196, 191, 299, 259, 136, 194, 218, 199, 206, 250, 259, 293, 255, 232, 223, 239, 187, 216, 171, 196, 188, 252, 223, 291, 203, 187, 187, 238, 239, 159, 231, 211, 157, 312, 286, 179, 139, 278, 281, 253, 252, 239, 288, 255, 241, 210, 252, 279, 205, 227, 183, 291, 266, 147, 167, 175, 239, 176, 169, 182, 228, 231, 170, 183, 296, 131, 271, 288, 243, 255, 267, 186, 163, 176, 259, 157, 187, 231, 232, 240, 243, 175, 301, 267, 163, 219, 267, 264, 288, 267, 263, 228, 144, 195, 268, 156, 229, 153, 244, 188, 235, 255, 243, 189, 256, 216, 269, 131, 219, 219, 176, 191, 295, 247, 223, 232, 187, 196, 227, 180, 159, 215, 239, 171, 175, 235, 268, 187, 192, 237, 200, 171, 236, 172, 274, 295, 296, 158, 183, 271, 135, 204, 159, 271, 212, 255, 171, 172, 227, 225, 275, 188, 216, 172, 259, 256, 150, 280, 223, 223, 251, 187, 259, 259, 252, 247, 199, 199, 275, 246, 251, 271, 208, 150, 268, 263, 208, 204, 259, 195, 259, 215, 131, 309, 259, 228, 203, 156, 188, 159, 253, 135, 279, 275, 219, 160, 199, 228, 232, 292, 204, 212, 182, 199, 244, 203, 211, 228, 268, 243, 264, 199, 196, 300, 260, 168, 267, 220, 191, 267, 263, 180, 248, 259, 187, 304, 178, 192, 163, 199, 223, 203, 179, 200, 259, 136, 206, 211, 235, 276, 275, 255, 224, 294, 174], \"y\": [83, 166, 121, 103, 86, 71, 87, 174, 134, 166, 151, 65, 142, 66, 73, 122, 46, 158, 47, 99, 144, 47, 142, 160, 123, 170, 91, 74, 63, 173, 55, 70, 74, 146, 53, 134, 133, 74, 91, 134, 59, 154, 74, 127, 46, 146, 167, 72, 157, 144, 121, 94, 169, 66, 142, 85, 170, 91, 94, 58, 91, 118, 50, 175, 90, 159, 139, 89, 84, 55, 122, 60, 134, 75, 163, 75, 163, 76, 82, 75, 149, 150, 156, 161, 86, 123, 66, 49, 137, 79, 46, 48, 66, 46, 102, 91, 146, 136, 136, 72, 157, 130, 136, 122, 158, 48, 79, 146, 139, 100, 67, 175, 78, 53, 123, 144, 67, 151, 130, 175, 126, 118, 121, 78, 158, 167, 70, 94, 171, 122, 143, 148, 94, 74, 48, 125, 126, 135, 102, 67, 171, 58, 74, 100, 166, 158, 172, 79, 53, 157, 124, 91, 156, 125, 47, 166, 135, 67, 101, 122, 84, 136, 60, 170, 75, 82, 67, 63, 87, 51, 47, 159, 62, 46, 48, 166, 162, 145, 159, 87, 154, 155, 70, 172, 63, 154, 130, 88, 66, 90, 103, 83, 163, 130, 74, 54, 50, 73, 95, 167, 172, 145, 52, 95, 48, 171, 149, 55, 136, 134, 174, 65, 158, 160, 70, 136, 142, 118, 78, 77, 75, 160, 143, 144, 139, 136, 74, 82, 67, 163, 170, 55, 139, 167, 97, 52, 102, 74, 76, 175, 94, 100, 59, 74, 79, 48, 118, 172, 134, 63, 137, 170, 87, 60, 97, 96, 118, 75, 159, 124, 174, 133, 85, 145, 132, 132, 60, 156, 123, 168, 59, 91, 71, 119, 100, 147, 174, 91, 127, 123, 50, 85, 124, 50, 161, 83, 54, 59, 78, 47, 79, 67, 86, 156, 147, 70, 83, 50, 144, 146, 134, 167, 89, 142, 138, 86, 166, 158, 85, 90, 120, 82, 122, 121, 156, 149, 90, 169, 89, 123, 54, 118, 72, 170, 99, 52, 84, 162, 77, 58, 46, 49, 95, 122, 100, 167, 58, 55, 119, 126, 95, 67, 122, 97, 118, 65, 168, 167, 82, 87, 75, 98, 133, 61, 100, 170, 163, 172, 87, 123, 135, 58, 49, 103, 82, 84, 173, 49, 67, 49, 166, 169, 83, 70, 102, 158, 168, 98, 46]}, {\"mode\": \"markers\", \"name\": \"step = 10254\", \"type\": \"scatter\", \"visible\": false, \"x\": [322, 224, 291, 258, 150, 165, 271, 153, 284, 237, 252, 270, 289, 266, 281, 309, 302, 273, 235, 284, 252, 229, 251, 211, 259, 157, 227, 169, 268, 266, 279, 232, 267, 238, 237, 238, 238, 253, 133, 235, 238, 214, 197, 198, 135, 140, 219, 308, 264, 251, 181, 298, 247, 205, 288, 305, 233, 205, 229, 151, 137, 149, 247, 253, 250, 227, 174, 247, 167, 170, 176, 234, 232, 192, 249, 158, 256, 245, 135, 210, 167, 166, 293, 217, 209, 149, 222, 153, 322, 149, 220, 177, 283, 153, 197, 210, 151, 213, 298, 286, 180, 263, 165, 237, 208, 264, 228, 121, 216, 306, 219, 182, 287, 158, 256, 220, 177, 143, 272, 172, 181, 248, 129, 188, 152, 186, 276, 185, 213, 314, 210, 238, 223, 191, 188, 187, 307, 265, 126, 190, 222, 193, 208, 254, 261, 303, 263, 236, 221, 247, 177, 218, 161, 188, 178, 262, 219, 301, 199, 177, 185, 236, 247, 153, 235, 209, 147, 322, 292, 169, 129, 284, 289, 259, 256, 243, 294, 261, 245, 206, 256, 287, 207, 225, 173, 301, 274, 139, 159, 171, 243, 168, 161, 176, 224, 235, 162, 179, 306, 121, 277, 294, 249, 263, 277, 178, 157, 166, 263, 151, 181, 235, 230, 238, 245, 171, 311, 275, 157, 221, 273, 270, 296, 277, 271, 230, 136, 189, 276, 146, 235, 145, 252, 178, 241, 259, 249, 183, 258, 214, 275, 121, 217, 221, 170, 183, 303, 249, 221, 230, 185, 194, 233, 172, 149, 219, 243, 165, 167, 233, 272, 181, 186, 239, 192, 161, 238, 164, 278, 303, 304, 148, 175, 275, 125, 196, 151, 279, 214, 263, 165, 168, 233, 221, 279, 180, 214, 168, 261, 266, 140, 286, 227, 219, 253, 183, 269, 269, 256, 251, 195, 191, 281, 252, 253, 277, 206, 140, 272, 267, 210, 206, 263, 189, 261, 209, 121, 319, 261, 226, 195, 150, 182, 153, 255, 125, 287, 279, 221, 152, 195, 224, 234, 300, 196, 210, 180, 197, 252, 205, 209, 224, 274, 245, 272, 195, 188, 310, 268, 158, 273, 218, 183, 273, 267, 172, 250, 265, 181, 314, 170, 186, 157, 197, 221, 197, 171, 194, 265, 126, 200, 205, 233, 284, 285, 263, 222, 304, 168], \"y\": [79, 176, 123, 101, 82, 65, 83, 184, 138, 176, 157, 57, 148, 58, 67, 124, 36, 166, 37, 97, 150, 37, 148, 168, 125, 180, 87, 68, 55, 183, 45, 64, 68, 152, 43, 138, 137, 68, 87, 138, 51, 162, 68, 129, 36, 152, 177, 66, 165, 150, 123, 92, 179, 58, 148, 81, 180, 87, 92, 50, 87, 120, 40, 185, 86, 167, 143, 85, 80, 45, 124, 52, 138, 69, 171, 69, 171, 70, 78, 69, 155, 156, 164, 169, 82, 125, 58, 39, 141, 73, 36, 38, 58, 36, 100, 87, 152, 140, 140, 66, 165, 134, 140, 124, 166, 38, 73, 152, 143, 98, 59, 185, 72, 43, 125, 150, 59, 157, 134, 185, 128, 120, 123, 72, 166, 177, 64, 92, 181, 124, 149, 154, 92, 68, 38, 127, 128, 139, 100, 59, 181, 50, 68, 98, 176, 166, 182, 73, 43, 165, 126, 87, 164, 127, 37, 176, 139, 59, 99, 124, 80, 140, 52, 180, 69, 78, 59, 55, 83, 41, 37, 167, 54, 36, 38, 176, 170, 151, 167, 83, 162, 163, 64, 182, 55, 162, 134, 84, 58, 86, 101, 79, 171, 134, 68, 44, 40, 67, 93, 177, 182, 151, 42, 93, 38, 181, 155, 45, 140, 138, 184, 57, 166, 168, 64, 140, 148, 120, 72, 71, 69, 168, 149, 150, 143, 140, 68, 78, 59, 171, 180, 45, 143, 177, 95, 42, 100, 68, 70, 185, 92, 98, 51, 68, 73, 38, 120, 182, 138, 55, 141, 180, 83, 52, 95, 94, 120, 69, 167, 126, 184, 137, 81, 151, 136, 136, 52, 164, 125, 178, 51, 87, 65, 121, 98, 153, 184, 87, 129, 125, 40, 81, 126, 40, 169, 79, 44, 51, 72, 37, 73, 59, 82, 164, 153, 64, 79, 40, 150, 152, 138, 177, 85, 148, 142, 82, 176, 166, 81, 86, 122, 78, 124, 123, 164, 155, 86, 179, 85, 125, 44, 120, 66, 180, 97, 42, 80, 170, 71, 50, 36, 39, 93, 124, 98, 177, 50, 45, 121, 128, 93, 59, 124, 95, 120, 57, 178, 177, 78, 83, 69, 96, 137, 53, 98, 180, 171, 182, 83, 125, 139, 50, 39, 101, 78, 80, 183, 39, 59, 39, 176, 179, 79, 64, 100, 166, 178, 96, 36]}, {\"mode\": \"markers\", \"name\": \"step = 10256\", \"type\": \"scatter\", \"visible\": false, \"x\": [332, 220, 297, 266, 144, 159, 275, 143, 292, 241, 260, 276, 295, 276, 287, 319, 312, 279, 239, 292, 260, 227, 257, 207, 263, 151, 231, 163, 272, 268, 289, 234, 271, 236, 243, 236, 236, 257, 123, 233, 236, 210, 195, 196, 127, 130, 223, 316, 268, 255, 175, 306, 255, 199, 296, 313, 231, 203, 231, 145, 127, 143, 255, 255, 252, 231, 164, 255, 159, 164, 168, 232, 234, 186, 255, 148, 264, 247, 127, 204, 163, 156, 303, 215, 207, 143, 220, 143, 332, 139, 218, 175, 291, 147, 191, 204, 145, 215, 308, 292, 172, 271, 159, 241, 210, 268, 232, 111, 212, 314, 223, 178, 295, 148, 258, 216, 167, 135, 280, 164, 175, 250, 119, 180, 146, 180, 282, 183, 209, 324, 208, 236, 225, 185, 180, 183, 315, 271, 116, 186, 226, 187, 210, 258, 263, 313, 271, 240, 219, 255, 167, 220, 151, 180, 168, 272, 215, 311, 195, 167, 183, 234, 255, 147, 239, 207, 137, 332, 298, 159, 119, 290, 297, 265, 260, 247, 300, 267, 249, 202, 260, 295, 209, 223, 163, 311, 282, 131, 151, 167, 247, 160, 153, 170, 220, 239, 154, 175, 316, 111, 283, 300, 255, 271, 287, 170, 151, 156, 267, 145, 175, 239, 228, 236, 247, 167, 321, 283, 151, 223, 279, 276, 304, 287, 279, 232, 128, 183, 284, 136, 241, 137, 260, 168, 247, 263, 255, 177, 260, 212, 281, 111, 215, 223, 164, 175, 311, 251, 219, 228, 183, 192, 239, 164, 139, 223, 247, 159, 159, 231, 276, 175, 180, 241, 184, 151, 240, 156, 282, 311, 312, 138, 167, 279, 115, 188, 143, 287, 216, 271, 159, 164, 239, 217, 283, 172, 212, 164, 263, 276, 130, 292, 231, 215, 255, 179, 279, 279, 260, 255, 191, 183, 287, 258, 255, 283, 204, 130, 276, 271, 212, 208, 267, 183, 263, 203, 111, 329, 263, 224, 187, 144, 176, 147, 257, 115, 295, 283, 223, 144, 191, 220, 236, 308, 188, 208, 178, 195, 260, 207, 207, 220, 280, 247, 280, 191, 180, 320, 276, 148, 279, 216, 175, 279, 271, 164, 252, 271, 175, 324, 162, 180, 151, 195, 219, 191, 163, 188, 271, 116, 194, 199, 231, 292, 295, 271, 220, 314, 162], \"y\": [75, 186, 125, 99, 78, 59, 79, 194, 142, 186, 163, 49, 154, 50, 61, 126, 26, 174, 27, 95, 156, 27, 154, 176, 127, 190, 83, 62, 47, 193, 35, 58, 62, 158, 33, 142, 141, 62, 83, 142, 43, 170, 62, 131, 26, 158, 187, 60, 173, 156, 125, 90, 189, 50, 154, 77, 190, 83, 90, 42, 83, 122, 30, 195, 82, 175, 147, 81, 76, 35, 126, 44, 142, 63, 179, 63, 179, 64, 74, 63, 161, 162, 172, 177, 78, 127, 50, 29, 145, 67, 26, 28, 50, 26, 98, 83, 158, 144, 144, 60, 173, 138, 144, 126, 174, 28, 67, 158, 147, 96, 51, 195, 66, 33, 127, 156, 51, 163, 138, 195, 130, 122, 125, 66, 174, 187, 58, 90, 191, 126, 155, 160, 90, 62, 28, 129, 130, 143, 98, 51, 191, 42, 62, 96, 186, 174, 192, 67, 33, 173, 128, 83, 172, 129, 27, 186, 143, 51, 97, 126, 76, 144, 44, 190, 63, 74, 51, 47, 79, 31, 27, 175, 46, 26, 28, 186, 178, 157, 175, 79, 170, 171, 58, 192, 47, 170, 138, 80, 50, 82, 99, 75, 179, 138, 62, 34, 30, 61, 91, 187, 192, 157, 32, 91, 28, 191, 161, 35, 144, 142, 194, 49, 174, 176, 58, 144, 154, 122, 66, 65, 63, 176, 155, 156, 147, 144, 62, 74, 51, 179, 190, 35, 147, 187, 93, 32, 98, 62, 64, 195, 90, 96, 43, 62, 67, 28, 122, 192, 142, 47, 145, 190, 79, 44, 93, 92, 122, 63, 175, 128, 194, 141, 77, 157, 140, 140, 44, 172, 127, 188, 43, 83, 59, 123, 96, 159, 194, 83, 131, 127, 30, 77, 128, 30, 177, 75, 34, 43, 66, 27, 67, 51, 78, 172, 159, 58, 75, 30, 156, 158, 142, 187, 81, 154, 146, 78, 186, 174, 77, 82, 124, 74, 126, 125, 172, 161, 82, 189, 81, 127, 34, 122, 60, 190, 95, 32, 76, 178, 65, 42, 26, 29, 91, 126, 96, 187, 42, 35, 123, 130, 91, 51, 126, 93, 122, 49, 188, 187, 74, 79, 63, 94, 141, 45, 96, 190, 179, 192, 79, 127, 143, 42, 29, 99, 74, 76, 193, 29, 51, 29, 186, 189, 75, 58, 98, 174, 188, 94, 26]}, {\"mode\": \"markers\", \"name\": \"step = 10258\", \"type\": \"scatter\", \"visible\": false, \"x\": [342, 216, 303, 274, 138, 153, 279, 133, 300, 245, 268, 282, 301, 286, 293, 329, 322, 285, 243, 300, 268, 225, 263, 203, 267, 145, 235, 157, 276, 270, 299, 236, 275, 234, 249, 234, 234, 261, 113, 231, 234, 206, 193, 194, 119, 120, 227, 324, 272, 259, 169, 314, 263, 193, 304, 321, 229, 201, 233, 139, 117, 137, 263, 257, 254, 235, 154, 263, 151, 158, 160, 230, 236, 180, 261, 138, 272, 249, 119, 198, 159, 146, 313, 213, 205, 137, 218, 133, 342, 129, 216, 173, 299, 141, 185, 198, 139, 217, 318, 298, 164, 279, 153, 245, 212, 272, 236, 101, 208, 322, 227, 174, 303, 138, 260, 212, 157, 127, 288, 156, 169, 252, 109, 172, 140, 174, 288, 181, 205, 334, 206, 234, 227, 179, 172, 179, 323, 277, 106, 182, 230, 181, 212, 262, 265, 323, 279, 244, 217, 263, 157, 222, 141, 172, 158, 282, 211, 321, 191, 157, 181, 232, 263, 141, 243, 205, 127, 342, 304, 149, 109, 296, 305, 271, 264, 251, 306, 273, 253, 198, 264, 303, 211, 221, 153, 321, 290, 123, 143, 163, 251, 152, 145, 164, 216, 243, 146, 171, 326, 101, 289, 306, 261, 279, 297, 162, 145, 146, 271, 139, 169, 243, 226, 234, 249, 163, 331, 291, 145, 225, 285, 282, 312, 297, 287, 234, 120, 177, 292, 126, 247, 129, 268, 158, 253, 267, 261, 171, 262, 210, 287, 101, 213, 225, 158, 167, 319, 253, 217, 226, 181, 190, 245, 156, 129, 227, 251, 153, 151, 229, 280, 169, 174, 243, 176, 141, 242, 148, 286, 319, 320, 128, 159, 283, 105, 180, 135, 295, 218, 279, 153, 160, 245, 213, 287, 164, 210, 160, 265, 286, 120, 298, 235, 211, 257, 175, 289, 289, 264, 259, 187, 175, 293, 264, 257, 289, 202, 120, 280, 275, 214, 210, 271, 177, 265, 197, 101, 339, 265, 222, 179, 138, 170, 141, 259, 105, 303, 287, 225, 136, 187, 216, 238, 316, 180, 206, 176, 193, 268, 209, 205, 216, 286, 249, 288, 187, 172, 330, 284, 138, 285, 214, 167, 285, 275, 156, 254, 277, 169, 334, 154, 174, 145, 193, 217, 185, 155, 182, 277, 106, 188, 193, 229, 300, 305, 279, 218, 324, 156], \"y\": [71, 196, 127, 97, 74, 53, 75, 204, 146, 196, 169, 41, 160, 42, 55, 128, 16, 182, 17, 93, 162, 17, 160, 184, 129, 200, 79, 56, 39, 203, 25, 52, 56, 164, 23, 146, 145, 56, 79, 146, 35, 178, 56, 133, 16, 164, 197, 54, 181, 162, 127, 88, 199, 42, 160, 73, 200, 79, 88, 34, 79, 124, 20, 205, 78, 183, 151, 77, 72, 25, 128, 36, 146, 57, 187, 57, 187, 58, 70, 57, 167, 168, 180, 185, 74, 129, 42, 19, 149, 61, 16, 18, 42, 16, 96, 79, 164, 148, 148, 54, 181, 142, 148, 128, 182, 18, 61, 164, 151, 94, 43, 205, 60, 23, 129, 162, 43, 169, 142, 205, 132, 124, 127, 60, 182, 197, 52, 88, 201, 128, 161, 166, 88, 56, 18, 131, 132, 147, 96, 43, 201, 34, 56, 94, 196, 182, 202, 61, 23, 181, 130, 79, 180, 131, 17, 196, 147, 43, 95, 128, 72, 148, 36, 200, 57, 70, 43, 39, 75, 21, 17, 183, 38, 16, 18, 196, 186, 163, 183, 75, 178, 179, 52, 202, 39, 178, 142, 76, 42, 78, 97, 71, 187, 142, 56, 24, 20, 55, 89, 197, 202, 163, 22, 89, 18, 201, 167, 25, 148, 146, 204, 41, 182, 184, 52, 148, 160, 124, 60, 59, 57, 184, 161, 162, 151, 148, 56, 70, 43, 187, 200, 25, 151, 197, 91, 22, 96, 56, 58, 205, 88, 94, 35, 56, 61, 18, 124, 202, 146, 39, 149, 200, 75, 36, 91, 90, 124, 57, 183, 130, 204, 145, 73, 163, 144, 144, 36, 180, 129, 198, 35, 79, 53, 125, 94, 165, 204, 79, 133, 129, 20, 73, 130, 20, 185, 71, 24, 35, 60, 17, 61, 43, 74, 180, 165, 52, 71, 20, 162, 164, 146, 197, 77, 160, 150, 74, 196, 182, 73, 78, 126, 70, 128, 127, 180, 167, 78, 199, 77, 129, 24, 124, 54, 200, 93, 22, 72, 186, 59, 34, 16, 19, 89, 128, 94, 197, 34, 25, 125, 132, 89, 43, 128, 91, 124, 41, 198, 197, 70, 75, 57, 92, 145, 37, 94, 200, 187, 202, 75, 129, 147, 34, 19, 97, 70, 72, 203, 19, 43, 19, 196, 199, 71, 52, 96, 182, 198, 92, 16]}, {\"mode\": \"markers\", \"name\": \"step = 10260\", \"type\": \"scatter\", \"visible\": false, \"x\": [352, 212, 309, 282, 132, 147, 283, 123, 308, 249, 276, 288, 307, 296, 299, 339, 332, 291, 247, 308, 276, 223, 269, 199, 271, 139, 239, 151, 280, 272, 309, 238, 279, 232, 255, 232, 232, 265, 103, 229, 232, 202, 191, 192, 111, 110, 231, 332, 276, 263, 163, 322, 271, 187, 312, 329, 227, 199, 235, 133, 107, 131, 271, 259, 256, 239, 144, 271, 143, 152, 152, 228, 238, 174, 267, 128, 280, 251, 111, 192, 155, 136, 323, 211, 203, 131, 216, 123, 352, 119, 214, 171, 307, 135, 179, 192, 133, 219, 328, 304, 156, 287, 147, 249, 214, 276, 240, 91, 204, 330, 231, 170, 311, 128, 262, 208, 147, 119, 296, 148, 163, 254, 99, 164, 134, 168, 294, 179, 201, 344, 204, 232, 229, 173, 164, 175, 331, 283, 96, 178, 234, 175, 214, 266, 267, 333, 287, 248, 215, 271, 147, 224, 131, 164, 148, 292, 207, 331, 187, 147, 179, 230, 271, 135, 247, 203, 117, 352, 310, 139, 99, 302, 313, 277, 268, 255, 312, 279, 257, 194, 268, 311, 213, 219, 143, 331, 298, 115, 135, 159, 255, 144, 137, 158, 212, 247, 138, 167, 336, 91, 295, 312, 267, 287, 307, 154, 139, 136, 275, 133, 163, 247, 224, 232, 251, 159, 341, 299, 139, 227, 291, 288, 320, 307, 295, 236, 112, 171, 300, 116, 253, 121, 276, 148, 259, 271, 267, 165, 264, 208, 293, 91, 211, 227, 152, 159, 327, 255, 215, 224, 179, 188, 251, 148, 119, 231, 255, 147, 143, 227, 284, 163, 168, 245, 168, 131, 244, 140, 290, 327, 328, 118, 151, 287, 95, 172, 127, 303, 220, 287, 147, 156, 251, 209, 291, 156, 208, 156, 267, 296, 110, 304, 239, 207, 259, 171, 299, 299, 268, 263, 183, 167, 299, 270, 259, 295, 200, 110, 284, 279, 216, 212, 275, 171, 267, 191, 91, 349, 267, 220, 171, 132, 164, 135, 261, 95, 311, 291, 227, 128, 183, 212, 240, 324, 172, 204, 174, 191, 276, 211, 203, 212, 292, 251, 296, 183, 164, 340, 292, 128, 291, 212, 159, 291, 279, 148, 256, 283, 163, 344, 146, 168, 139, 191, 215, 179, 147, 176, 283, 96, 182, 187, 227, 308, 315, 287, 216, 334, 150], \"y\": [67, 206, 129, 95, 70, 47, 71, 214, 150, 206, 175, 33, 166, 34, 49, 130, 6, 190, 7, 91, 168, 7, 166, 192, 131, 210, 75, 50, 31, 213, 15, 46, 50, 170, 13, 150, 149, 50, 75, 150, 27, 186, 50, 135, 6, 170, 207, 48, 189, 168, 129, 86, 209, 34, 166, 69, 210, 75, 86, 26, 75, 126, 10, 215, 74, 191, 155, 73, 68, 15, 130, 28, 150, 51, 195, 51, 195, 52, 66, 51, 173, 174, 188, 193, 70, 131, 34, 9, 153, 55, 6, 8, 34, 6, 94, 75, 170, 152, 152, 48, 189, 146, 152, 130, 190, 8, 55, 170, 155, 92, 35, 215, 54, 13, 131, 168, 35, 175, 146, 215, 134, 126, 129, 54, 190, 207, 46, 86, 211, 130, 167, 172, 86, 50, 8, 133, 134, 151, 94, 35, 211, 26, 50, 92, 206, 190, 212, 55, 13, 189, 132, 75, 188, 133, 7, 206, 151, 35, 93, 130, 68, 152, 28, 210, 51, 66, 35, 31, 71, 11, 7, 191, 30, 6, 8, 206, 194, 169, 191, 71, 186, 187, 46, 212, 31, 186, 146, 72, 34, 74, 95, 67, 195, 146, 50, 14, 10, 49, 87, 207, 212, 169, 12, 87, 8, 211, 173, 15, 152, 150, 214, 33, 190, 192, 46, 152, 166, 126, 54, 53, 51, 192, 167, 168, 155, 152, 50, 66, 35, 195, 210, 15, 155, 207, 89, 12, 94, 50, 52, 215, 86, 92, 27, 50, 55, 8, 126, 212, 150, 31, 153, 210, 71, 28, 89, 88, 126, 51, 191, 132, 214, 149, 69, 169, 148, 148, 28, 188, 131, 208, 27, 75, 47, 127, 92, 171, 214, 75, 135, 131, 10, 69, 132, 10, 193, 67, 14, 27, 54, 7, 55, 35, 70, 188, 171, 46, 67, 10, 168, 170, 150, 207, 73, 166, 154, 70, 206, 190, 69, 74, 128, 66, 130, 129, 188, 173, 74, 209, 73, 131, 14, 126, 48, 210, 91, 12, 68, 194, 53, 26, 6, 9, 87, 130, 92, 207, 26, 15, 127, 134, 87, 35, 130, 89, 126, 33, 208, 207, 66, 71, 51, 90, 149, 29, 92, 210, 195, 212, 71, 131, 151, 26, 9, 95, 66, 68, 213, 9, 35, 9, 206, 209, 67, 46, 94, 190, 208, 90, 6]}, {\"mode\": \"markers\", \"name\": \"step = 10262\", \"type\": \"scatter\", \"visible\": false, \"x\": [362, 208, 315, 290, 126, 141, 287, 113, 316, 253, 284, 294, 313, 306, 305, 349, 342, 297, 251, 316, 284, 221, 275, 195, 275, 133, 243, 145, 284, 274, 319, 240, 283, 230, 261, 230, 230, 269, 93, 227, 230, 198, 189, 190, 103, 100, 235, 340, 280, 267, 157, 330, 279, 181, 320, 337, 225, 197, 237, 127, 97, 125, 279, 261, 258, 243, 134, 279, 135, 146, 144, 226, 240, 168, 273, 118, 288, 253, 103, 186, 151, 126, 333, 209, 201, 125, 214, 113, 362, 109, 212, 169, 315, 129, 173, 186, 127, 221, 338, 310, 148, 295, 141, 253, 216, 280, 244, 81, 200, 338, 235, 166, 319, 118, 264, 204, 137, 111, 304, 140, 157, 256, 89, 156, 128, 162, 300, 177, 197, 354, 202, 230, 231, 167, 156, 171, 339, 289, 86, 174, 238, 169, 216, 270, 269, 343, 295, 252, 213, 279, 137, 226, 121, 156, 138, 302, 203, 341, 183, 137, 177, 228, 279, 129, 251, 201, 107, 362, 316, 129, 89, 308, 321, 283, 272, 259, 318, 285, 261, 190, 272, 319, 215, 217, 133, 341, 306, 107, 127, 155, 259, 136, 129, 152, 208, 251, 130, 163, 346, 81, 301, 318, 273, 295, 317, 146, 133, 126, 279, 127, 157, 251, 222, 230, 253, 155, 351, 307, 133, 229, 297, 294, 328, 317, 303, 238, 104, 165, 308, 106, 259, 113, 284, 138, 265, 275, 273, 159, 266, 206, 299, 81, 209, 229, 146, 151, 335, 257, 213, 222, 177, 186, 257, 140, 109, 235, 259, 141, 135, 225, 288, 157, 162, 247, 160, 121, 246, 132, 294, 335, 336, 108, 143, 291, 85, 164, 119, 311, 222, 295, 141, 152, 257, 205, 295, 148, 206, 152, 269, 306, 100, 310, 243, 203, 261, 167, 309, 309, 272, 267, 179, 159, 305, 276, 261, 301, 198, 100, 288, 283, 218, 214, 279, 165, 269, 185, 81, 359, 269, 218, 163, 126, 158, 129, 263, 85, 319, 295, 229, 120, 179, 208, 242, 332, 164, 202, 172, 189, 284, 213, 201, 208, 298, 253, 304, 179, 156, 350, 300, 118, 297, 210, 151, 297, 283, 140, 258, 289, 157, 354, 138, 162, 133, 189, 213, 173, 139, 170, 289, 86, 176, 181, 225, 316, 325, 295, 214, 344, 144], \"y\": [63, 216, 131, 93, 66, 41, 67, 224, 154, 216, 181, 25, 172, 26, 43, 132, -4, 198, -3, 89, 174, -3, 172, 200, 133, 220, 71, 44, 23, 223, 5, 40, 44, 176, 3, 154, 153, 44, 71, 154, 19, 194, 44, 137, -4, 176, 217, 42, 197, 174, 131, 84, 219, 26, 172, 65, 220, 71, 84, 18, 71, 128, 0, 225, 70, 199, 159, 69, 64, 5, 132, 20, 154, 45, 203, 45, 203, 46, 62, 45, 179, 180, 196, 201, 66, 133, 26, -1, 157, 49, -4, -2, 26, -4, 92, 71, 176, 156, 156, 42, 197, 150, 156, 132, 198, -2, 49, 176, 159, 90, 27, 225, 48, 3, 133, 174, 27, 181, 150, 225, 136, 128, 131, 48, 198, 217, 40, 84, 221, 132, 173, 178, 84, 44, -2, 135, 136, 155, 92, 27, 221, 18, 44, 90, 216, 198, 222, 49, 3, 197, 134, 71, 196, 135, -3, 216, 155, 27, 91, 132, 64, 156, 20, 220, 45, 62, 27, 23, 67, 1, -3, 199, 22, -4, -2, 216, 202, 175, 199, 67, 194, 195, 40, 222, 23, 194, 150, 68, 26, 70, 93, 63, 203, 150, 44, 4, 0, 43, 85, 217, 222, 175, 2, 85, -2, 221, 179, 5, 156, 154, 224, 25, 198, 200, 40, 156, 172, 128, 48, 47, 45, 200, 173, 174, 159, 156, 44, 62, 27, 203, 220, 5, 159, 217, 87, 2, 92, 44, 46, 225, 84, 90, 19, 44, 49, -2, 128, 222, 154, 23, 157, 220, 67, 20, 87, 86, 128, 45, 199, 134, 224, 153, 65, 175, 152, 152, 20, 196, 133, 218, 19, 71, 41, 129, 90, 177, 224, 71, 137, 133, 0, 65, 134, 0, 201, 63, 4, 19, 48, -3, 49, 27, 66, 196, 177, 40, 63, 0, 174, 176, 154, 217, 69, 172, 158, 66, 216, 198, 65, 70, 130, 62, 132, 131, 196, 179, 70, 219, 69, 133, 4, 128, 42, 220, 89, 2, 64, 202, 47, 18, -4, -1, 85, 132, 90, 217, 18, 5, 129, 136, 85, 27, 132, 87, 128, 25, 218, 217, 62, 67, 45, 88, 153, 21, 90, 220, 203, 222, 67, 133, 155, 18, -1, 93, 62, 64, 223, -1, 27, -1, 216, 219, 63, 40, 92, 198, 218, 88, -4]}, {\"mode\": \"markers\", \"name\": \"step = 10264\", \"type\": \"scatter\", \"visible\": false, \"x\": [372, 204, 321, 298, 120, 135, 291, 103, 324, 257, 292, 300, 319, 316, 311, 359, 352, 303, 255, 324, 292, 219, 281, 191, 279, 127, 247, 139, 288, 276, 329, 242, 287, 228, 267, 228, 228, 273, 83, 225, 228, 194, 187, 188, 95, 90, 239, 348, 284, 271, 151, 338, 287, 175, 328, 345, 223, 195, 239, 121, 87, 119, 287, 263, 260, 247, 124, 287, 127, 140, 136, 224, 242, 162, 279, 108, 296, 255, 95, 180, 147, 116, 343, 207, 199, 119, 212, 103, 372, 99, 210, 167, 323, 123, 167, 180, 121, 223, 348, 316, 140, 303, 135, 257, 218, 284, 248, 71, 196, 346, 239, 162, 327, 108, 266, 200, 127, 103, 312, 132, 151, 258, 79, 148, 122, 156, 306, 175, 193, 364, 200, 228, 233, 161, 148, 167, 347, 295, 76, 170, 242, 163, 218, 274, 271, 353, 303, 256, 211, 287, 127, 228, 111, 148, 128, 312, 199, 351, 179, 127, 175, 226, 287, 123, 255, 199, 97, 372, 322, 119, 79, 314, 329, 289, 276, 263, 324, 291, 265, 186, 276, 327, 217, 215, 123, 351, 314, 99, 119, 151, 263, 128, 121, 146, 204, 255, 122, 159, 356, 71, 307, 324, 279, 303, 327, 138, 127, 116, 283, 121, 151, 255, 220, 228, 255, 151, 361, 315, 127, 231, 303, 300, 336, 327, 311, 240, 96, 159, 316, 96, 265, 105, 292, 128, 271, 279, 279, 153, 268, 204, 305, 71, 207, 231, 140, 143, 343, 259, 211, 220, 175, 184, 263, 132, 99, 239, 263, 135, 127, 223, 292, 151, 156, 249, 152, 111, 248, 124, 298, 343, 344, 98, 135, 295, 75, 156, 111, 319, 224, 303, 135, 148, 263, 201, 299, 140, 204, 148, 271, 316, 90, 316, 247, 199, 263, 163, 319, 319, 276, 271, 175, 151, 311, 282, 263, 307, 196, 90, 292, 287, 220, 216, 283, 159, 271, 179, 71, 369, 271, 216, 155, 120, 152, 123, 265, 75, 327, 299, 231, 112, 175, 204, 244, 340, 156, 200, 170, 187, 292, 215, 199, 204, 304, 255, 312, 175, 148, 360, 308, 108, 303, 208, 143, 303, 287, 132, 260, 295, 151, 364, 130, 156, 127, 187, 211, 167, 131, 164, 295, 76, 170, 175, 223, 324, 335, 303, 212, 354, 138], \"y\": [59, 226, 133, 91, 62, 35, 63, 234, 158, 226, 187, 17, 178, 18, 37, 134, -14, 206, -13, 87, 180, -13, 178, 208, 135, 230, 67, 38, 15, 233, -5, 34, 38, 182, -7, 158, 157, 38, 67, 158, 11, 202, 38, 139, -14, 182, 227, 36, 205, 180, 133, 82, 229, 18, 178, 61, 230, 67, 82, 10, 67, 130, -10, 235, 66, 207, 163, 65, 60, -5, 134, 12, 158, 39, 211, 39, 211, 40, 58, 39, 185, 186, 204, 209, 62, 135, 18, -11, 161, 43, -14, -12, 18, -14, 90, 67, 182, 160, 160, 36, 205, 154, 160, 134, 206, -12, 43, 182, 163, 88, 19, 235, 42, -7, 135, 180, 19, 187, 154, 235, 138, 130, 133, 42, 206, 227, 34, 82, 231, 134, 179, 184, 82, 38, -12, 137, 138, 159, 90, 19, 231, 10, 38, 88, 226, 206, 232, 43, -7, 205, 136, 67, 204, 137, -13, 226, 159, 19, 89, 134, 60, 160, 12, 230, 39, 58, 19, 15, 63, -9, -13, 207, 14, -14, -12, 226, 210, 181, 207, 63, 202, 203, 34, 232, 15, 202, 154, 64, 18, 66, 91, 59, 211, 154, 38, -6, -10, 37, 83, 227, 232, 181, -8, 83, -12, 231, 185, -5, 160, 158, 234, 17, 206, 208, 34, 160, 178, 130, 42, 41, 39, 208, 179, 180, 163, 160, 38, 58, 19, 211, 230, -5, 163, 227, 85, -8, 90, 38, 40, 235, 82, 88, 11, 38, 43, -12, 130, 232, 158, 15, 161, 230, 63, 12, 85, 84, 130, 39, 207, 136, 234, 157, 61, 181, 156, 156, 12, 204, 135, 228, 11, 67, 35, 131, 88, 183, 234, 67, 139, 135, -10, 61, 136, -10, 209, 59, -6, 11, 42, -13, 43, 19, 62, 204, 183, 34, 59, -10, 180, 182, 158, 227, 65, 178, 162, 62, 226, 206, 61, 66, 132, 58, 134, 133, 204, 185, 66, 229, 65, 135, -6, 130, 36, 230, 87, -8, 60, 210, 41, 10, -14, -11, 83, 134, 88, 227, 10, -5, 131, 138, 83, 19, 134, 85, 130, 17, 228, 227, 58, 63, 39, 86, 157, 13, 88, 230, 211, 232, 63, 135, 159, 10, -11, 91, 58, 60, 233, -11, 19, -11, 226, 229, 59, 34, 90, 206, 228, 86, -14]}, {\"mode\": \"markers\", \"name\": \"step = 10266\", \"type\": \"scatter\", \"visible\": false, \"x\": [382, 200, 327, 306, 114, 129, 295, 93, 332, 261, 300, 306, 325, 326, 317, 369, 362, 309, 259, 332, 300, 217, 287, 187, 283, 121, 251, 133, 292, 278, 339, 244, 291, 226, 273, 226, 226, 277, 73, 223, 226, 190, 185, 186, 87, 80, 243, 356, 288, 275, 145, 346, 295, 169, 336, 353, 221, 193, 241, 115, 77, 113, 295, 265, 262, 251, 114, 295, 119, 134, 128, 222, 244, 156, 285, 98, 304, 257, 87, 174, 143, 106, 353, 205, 197, 113, 210, 93, 382, 89, 208, 165, 331, 117, 161, 174, 115, 225, 358, 322, 132, 311, 129, 261, 220, 288, 252, 61, 192, 354, 243, 158, 335, 98, 268, 196, 117, 95, 320, 124, 145, 260, 69, 140, 116, 150, 312, 173, 189, 374, 198, 226, 235, 155, 140, 163, 355, 301, 66, 166, 246, 157, 220, 278, 273, 363, 311, 260, 209, 295, 117, 230, 101, 140, 118, 322, 195, 361, 175, 117, 173, 224, 295, 117, 259, 197, 87, 382, 328, 109, 69, 320, 337, 295, 280, 267, 330, 297, 269, 182, 280, 335, 219, 213, 113, 361, 322, 91, 111, 147, 267, 120, 113, 140, 200, 259, 114, 155, 366, 61, 313, 330, 285, 311, 337, 130, 121, 106, 287, 115, 145, 259, 218, 226, 257, 147, 371, 323, 121, 233, 309, 306, 344, 337, 319, 242, 88, 153, 324, 86, 271, 97, 300, 118, 277, 283, 285, 147, 270, 202, 311, 61, 205, 233, 134, 135, 351, 261, 209, 218, 173, 182, 269, 124, 89, 243, 267, 129, 119, 221, 296, 145, 150, 251, 144, 101, 250, 116, 302, 351, 352, 88, 127, 299, 65, 148, 103, 327, 226, 311, 129, 144, 269, 197, 303, 132, 202, 144, 273, 326, 80, 322, 251, 195, 265, 159, 329, 329, 280, 275, 171, 143, 317, 288, 265, 313, 194, 80, 296, 291, 222, 218, 287, 153, 273, 173, 61, 379, 273, 214, 147, 114, 146, 117, 267, 65, 335, 303, 233, 104, 171, 200, 246, 348, 148, 198, 168, 185, 300, 217, 197, 200, 310, 257, 320, 171, 140, 370, 316, 98, 309, 206, 135, 309, 291, 124, 262, 301, 145, 374, 122, 150, 121, 185, 209, 161, 123, 158, 301, 66, 164, 169, 221, 332, 345, 311, 210, 364, 132], \"y\": [55, 236, 135, 89, 58, 29, 59, 244, 162, 236, 193, 9, 184, 10, 31, 136, -24, 214, -23, 85, 186, -23, 184, 216, 137, 240, 63, 32, 7, 243, -15, 28, 32, 188, -17, 162, 161, 32, 63, 162, 3, 210, 32, 141, -24, 188, 237, 30, 213, 186, 135, 80, 239, 10, 184, 57, 240, 63, 80, 2, 63, 132, -20, 245, 62, 215, 167, 61, 56, -15, 136, 4, 162, 33, 219, 33, 219, 34, 54, 33, 191, 192, 212, 217, 58, 137, 10, -21, 165, 37, -24, -22, 10, -24, 88, 63, 188, 164, 164, 30, 213, 158, 164, 136, 214, -22, 37, 188, 167, 86, 11, 245, 36, -17, 137, 186, 11, 193, 158, 245, 140, 132, 135, 36, 214, 237, 28, 80, 241, 136, 185, 190, 80, 32, -22, 139, 140, 163, 88, 11, 241, 2, 32, 86, 236, 214, 242, 37, -17, 213, 138, 63, 212, 139, -23, 236, 163, 11, 87, 136, 56, 164, 4, 240, 33, 54, 11, 7, 59, -19, -23, 215, 6, -24, -22, 236, 218, 187, 215, 59, 210, 211, 28, 242, 7, 210, 158, 60, 10, 62, 89, 55, 219, 158, 32, -16, -20, 31, 81, 237, 242, 187, -18, 81, -22, 241, 191, -15, 164, 162, 244, 9, 214, 216, 28, 164, 184, 132, 36, 35, 33, 216, 185, 186, 167, 164, 32, 54, 11, 219, 240, -15, 167, 237, 83, -18, 88, 32, 34, 245, 80, 86, 3, 32, 37, -22, 132, 242, 162, 7, 165, 240, 59, 4, 83, 82, 132, 33, 215, 138, 244, 161, 57, 187, 160, 160, 4, 212, 137, 238, 3, 63, 29, 133, 86, 189, 244, 63, 141, 137, -20, 57, 138, -20, 217, 55, -16, 3, 36, -23, 37, 11, 58, 212, 189, 28, 55, -20, 186, 188, 162, 237, 61, 184, 166, 58, 236, 214, 57, 62, 134, 54, 136, 135, 212, 191, 62, 239, 61, 137, -16, 132, 30, 240, 85, -18, 56, 218, 35, 2, -24, -21, 81, 136, 86, 237, 2, -15, 133, 140, 81, 11, 136, 83, 132, 9, 238, 237, 54, 59, 33, 84, 161, 5, 86, 240, 219, 242, 59, 137, 163, 2, -21, 89, 54, 56, 243, -21, 11, -21, 236, 239, 55, 28, 88, 214, 238, 84, -24]}, {\"mode\": \"markers\", \"name\": \"step = 10268\", \"type\": \"scatter\", \"visible\": false, \"x\": [392, 196, 333, 314, 108, 123, 299, 83, 340, 265, 308, 312, 331, 336, 323, 379, 372, 315, 263, 340, 308, 215, 293, 183, 287, 115, 255, 127, 296, 280, 349, 246, 295, 224, 279, 224, 224, 281, 63, 221, 224, 186, 183, 184, 79, 70, 247, 364, 292, 279, 139, 354, 303, 163, 344, 361, 219, 191, 243, 109, 67, 107, 303, 267, 264, 255, 104, 303, 111, 128, 120, 220, 246, 150, 291, 88, 312, 259, 79, 168, 139, 96, 363, 203, 195, 107, 208, 83, 392, 79, 206, 163, 339, 111, 155, 168, 109, 227, 368, 328, 124, 319, 123, 265, 222, 292, 256, 51, 188, 362, 247, 154, 343, 88, 270, 192, 107, 87, 328, 116, 139, 262, 59, 132, 110, 144, 318, 171, 185, 384, 196, 224, 237, 149, 132, 159, 363, 307, 56, 162, 250, 151, 222, 282, 275, 373, 319, 264, 207, 303, 107, 232, 91, 132, 108, 332, 191, 371, 171, 107, 171, 222, 303, 111, 263, 195, 77, 392, 334, 99, 59, 326, 345, 301, 284, 271, 336, 303, 273, 178, 284, 343, 221, 211, 103, 371, 330, 83, 103, 143, 271, 112, 105, 134, 196, 263, 106, 151, 376, 51, 319, 336, 291, 319, 347, 122, 115, 96, 291, 109, 139, 263, 216, 224, 259, 143, 381, 331, 115, 235, 315, 312, 352, 347, 327, 244, 80, 147, 332, 76, 277, 89, 308, 108, 283, 287, 291, 141, 272, 200, 317, 51, 203, 235, 128, 127, 359, 263, 207, 216, 171, 180, 275, 116, 79, 247, 271, 123, 111, 219, 300, 139, 144, 253, 136, 91, 252, 108, 306, 359, 360, 78, 119, 303, 55, 140, 95, 335, 228, 319, 123, 140, 275, 193, 307, 124, 200, 140, 275, 336, 70, 328, 255, 191, 267, 155, 339, 339, 284, 279, 167, 135, 323, 294, 267, 319, 192, 70, 300, 295, 224, 220, 291, 147, 275, 167, 51, 389, 275, 212, 139, 108, 140, 111, 269, 55, 343, 307, 235, 96, 167, 196, 248, 356, 140, 196, 166, 183, 308, 219, 195, 196, 316, 259, 328, 167, 132, 380, 324, 88, 315, 204, 127, 315, 295, 116, 264, 307, 139, 384, 114, 144, 115, 183, 207, 155, 115, 152, 307, 56, 158, 163, 219, 340, 355, 319, 208, 374, 126], \"y\": [51, 246, 137, 87, 54, 23, 55, 254, 166, 246, 199, 1, 190, 2, 25, 138, -34, 222, -33, 83, 192, -33, 190, 224, 139, 250, 59, 26, -1, 253, -25, 22, 26, 194, -27, 166, 165, 26, 59, 166, -5, 218, 26, 143, -34, 194, 247, 24, 221, 192, 137, 78, 249, 2, 190, 53, 250, 59, 78, -6, 59, 134, -30, 255, 58, 223, 171, 57, 52, -25, 138, -4, 166, 27, 227, 27, 227, 28, 50, 27, 197, 198, 220, 225, 54, 139, 2, -31, 169, 31, -34, -32, 2, -34, 86, 59, 194, 168, 168, 24, 221, 162, 168, 138, 222, -32, 31, 194, 171, 84, 3, 255, 30, -27, 139, 192, 3, 199, 162, 255, 142, 134, 137, 30, 222, 247, 22, 78, 251, 138, 191, 196, 78, 26, -32, 141, 142, 167, 86, 3, 251, -6, 26, 84, 246, 222, 252, 31, -27, 221, 140, 59, 220, 141, -33, 246, 167, 3, 85, 138, 52, 168, -4, 250, 27, 50, 3, -1, 55, -29, -33, 223, -2, -34, -32, 246, 226, 193, 223, 55, 218, 219, 22, 252, -1, 218, 162, 56, 2, 58, 87, 51, 227, 162, 26, -26, -30, 25, 79, 247, 252, 193, -28, 79, -32, 251, 197, -25, 168, 166, 254, 1, 222, 224, 22, 168, 190, 134, 30, 29, 27, 224, 191, 192, 171, 168, 26, 50, 3, 227, 250, -25, 171, 247, 81, -28, 86, 26, 28, 255, 78, 84, -5, 26, 31, -32, 134, 252, 166, -1, 169, 250, 55, -4, 81, 80, 134, 27, 223, 140, 254, 165, 53, 193, 164, 164, -4, 220, 139, 248, -5, 59, 23, 135, 84, 195, 254, 59, 143, 139, -30, 53, 140, -30, 225, 51, -26, -5, 30, -33, 31, 3, 54, 220, 195, 22, 51, -30, 192, 194, 166, 247, 57, 190, 170, 54, 246, 222, 53, 58, 136, 50, 138, 137, 220, 197, 58, 249, 57, 139, -26, 134, 24, 250, 83, -28, 52, 226, 29, -6, -34, -31, 79, 138, 84, 247, -6, -25, 135, 142, 79, 3, 138, 81, 134, 1, 248, 247, 50, 55, 27, 82, 165, -3, 84, 250, 227, 252, 55, 139, 167, -6, -31, 87, 50, 52, 253, -31, 3, -31, 246, 249, 51, 22, 86, 222, 248, 82, -34]}, {\"mode\": \"markers\", \"name\": \"step = 10270\", \"type\": \"scatter\", \"visible\": false, \"x\": [402, 192, 339, 322, 102, 117, 303, 73, 348, 269, 316, 318, 337, 346, 329, 389, 382, 321, 267, 348, 316, 213, 299, 179, 291, 109, 259, 121, 300, 282, 359, 248, 299, 222, 285, 222, 222, 285, 53, 219, 222, 182, 181, 182, 71, 60, 251, 372, 296, 283, 133, 362, 311, 157, 352, 369, 217, 189, 245, 103, 57, 101, 311, 269, 266, 259, 94, 311, 103, 122, 112, 218, 248, 144, 297, 78, 320, 261, 71, 162, 135, 86, 373, 201, 193, 101, 206, 73, 402, 69, 204, 161, 347, 105, 149, 162, 103, 229, 378, 334, 116, 327, 117, 269, 224, 296, 260, 41, 184, 370, 251, 150, 351, 78, 272, 188, 97, 79, 336, 108, 133, 264, 49, 124, 104, 138, 324, 169, 181, 394, 194, 222, 239, 143, 124, 155, 371, 313, 46, 158, 254, 145, 224, 286, 277, 383, 327, 268, 205, 311, 97, 234, 81, 124, 98, 342, 187, 381, 167, 97, 169, 220, 311, 105, 267, 193, 67, 402, 340, 89, 49, 332, 353, 307, 288, 275, 342, 309, 277, 174, 288, 351, 223, 209, 93, 381, 338, 75, 95, 139, 275, 104, 97, 128, 192, 267, 98, 147, 386, 41, 325, 342, 297, 327, 357, 114, 109, 86, 295, 103, 133, 267, 214, 222, 261, 139, 391, 339, 109, 237, 321, 318, 360, 357, 335, 246, 72, 141, 340, 66, 283, 81, 316, 98, 289, 291, 297, 135, 274, 198, 323, 41, 201, 237, 122, 119, 367, 265, 205, 214, 169, 178, 281, 108, 69, 251, 275, 117, 103, 217, 304, 133, 138, 255, 128, 81, 254, 100, 310, 367, 368, 68, 111, 307, 45, 132, 87, 343, 230, 327, 117, 136, 281, 189, 311, 116, 198, 136, 277, 346, 60, 334, 259, 187, 269, 151, 349, 349, 288, 283, 163, 127, 329, 300, 269, 325, 190, 60, 304, 299, 226, 222, 295, 141, 277, 161, 41, 399, 277, 210, 131, 102, 134, 105, 271, 45, 351, 311, 237, 88, 163, 192, 250, 364, 132, 194, 164, 181, 316, 221, 193, 192, 322, 261, 336, 163, 124, 390, 332, 78, 321, 202, 119, 321, 299, 108, 266, 313, 133, 394, 106, 138, 109, 181, 205, 149, 107, 146, 313, 46, 152, 157, 217, 348, 365, 327, 206, 384, 120], \"y\": [47, 256, 139, 85, 50, 17, 51, 264, 170, 256, 205, -7, 196, -6, 19, 140, -44, 230, -43, 81, 198, -43, 196, 232, 141, 260, 55, 20, -9, 263, -35, 16, 20, 200, -37, 170, 169, 20, 55, 170, -13, 226, 20, 145, -44, 200, 257, 18, 229, 198, 139, 76, 259, -6, 196, 49, 260, 55, 76, -14, 55, 136, -40, 265, 54, 231, 175, 53, 48, -35, 140, -12, 170, 21, 235, 21, 235, 22, 46, 21, 203, 204, 228, 233, 50, 141, -6, -41, 173, 25, -44, -42, -6, -44, 84, 55, 200, 172, 172, 18, 229, 166, 172, 140, 230, -42, 25, 200, 175, 82, -5, 265, 24, -37, 141, 198, -5, 205, 166, 265, 144, 136, 139, 24, 230, 257, 16, 76, 261, 140, 197, 202, 76, 20, -42, 143, 144, 171, 84, -5, 261, -14, 20, 82, 256, 230, 262, 25, -37, 229, 142, 55, 228, 143, -43, 256, 171, -5, 83, 140, 48, 172, -12, 260, 21, 46, -5, -9, 51, -39, -43, 231, -10, -44, -42, 256, 234, 199, 231, 51, 226, 227, 16, 262, -9, 226, 166, 52, -6, 54, 85, 47, 235, 166, 20, -36, -40, 19, 77, 257, 262, 199, -38, 77, -42, 261, 203, -35, 172, 170, 264, -7, 230, 232, 16, 172, 196, 136, 24, 23, 21, 232, 197, 198, 175, 172, 20, 46, -5, 235, 260, -35, 175, 257, 79, -38, 84, 20, 22, 265, 76, 82, -13, 20, 25, -42, 136, 262, 170, -9, 173, 260, 51, -12, 79, 78, 136, 21, 231, 142, 264, 169, 49, 199, 168, 168, -12, 228, 141, 258, -13, 55, 17, 137, 82, 201, 264, 55, 145, 141, -40, 49, 142, -40, 233, 47, -36, -13, 24, -43, 25, -5, 50, 228, 201, 16, 47, -40, 198, 200, 170, 257, 53, 196, 174, 50, 256, 230, 49, 54, 138, 46, 140, 139, 228, 203, 54, 259, 53, 141, -36, 136, 18, 260, 81, -38, 48, 234, 23, -14, -44, -41, 77, 140, 82, 257, -14, -35, 137, 144, 77, -5, 140, 79, 136, -7, 258, 257, 46, 51, 21, 80, 169, -11, 82, 260, 235, 262, 51, 141, 171, -14, -41, 85, 46, 48, 263, -41, -5, -41, 256, 259, 47, 16, 84, 230, 258, 80, -44]}, {\"mode\": \"markers\", \"name\": \"step = 10272\", \"type\": \"scatter\", \"visible\": false, \"x\": [412, 188, 345, 330, 96, 111, 307, 63, 356, 273, 324, 324, 343, 356, 335, 399, 392, 327, 271, 356, 324, 211, 305, 175, 295, 103, 263, 115, 304, 284, 369, 250, 303, 220, 291, 220, 220, 289, 43, 217, 220, 178, 179, 180, 63, 50, 255, 380, 300, 287, 127, 370, 319, 151, 360, 377, 215, 187, 247, 97, 47, 95, 319, 271, 268, 263, 84, 319, 95, 116, 104, 216, 250, 138, 303, 68, 328, 263, 63, 156, 131, 76, 383, 199, 191, 95, 204, 63, 412, 59, 202, 159, 355, 99, 143, 156, 97, 231, 388, 340, 108, 335, 111, 273, 226, 300, 264, 31, 180, 378, 255, 146, 359, 68, 274, 184, 87, 71, 344, 100, 127, 266, 39, 116, 98, 132, 330, 167, 177, 404, 192, 220, 241, 137, 116, 151, 379, 319, 36, 154, 258, 139, 226, 290, 279, 393, 335, 272, 203, 319, 87, 236, 71, 116, 88, 352, 183, 391, 163, 87, 167, 218, 319, 99, 271, 191, 57, 412, 346, 79, 39, 338, 361, 313, 292, 279, 348, 315, 281, 170, 292, 359, 225, 207, 83, 391, 346, 67, 87, 135, 279, 96, 89, 122, 188, 271, 90, 143, 396, 31, 331, 348, 303, 335, 367, 106, 103, 76, 299, 97, 127, 271, 212, 220, 263, 135, 401, 347, 103, 239, 327, 324, 368, 367, 343, 248, 64, 135, 348, 56, 289, 73, 324, 88, 295, 295, 303, 129, 276, 196, 329, 31, 199, 239, 116, 111, 375, 267, 203, 212, 167, 176, 287, 100, 59, 255, 279, 111, 95, 215, 308, 127, 132, 257, 120, 71, 256, 92, 314, 375, 376, 58, 103, 311, 35, 124, 79, 351, 232, 335, 111, 132, 287, 185, 315, 108, 196, 132, 279, 356, 50, 340, 263, 183, 271, 147, 359, 359, 292, 287, 159, 119, 335, 306, 271, 331, 188, 50, 308, 303, 228, 224, 299, 135, 279, 155, 31, 409, 279, 208, 123, 96, 128, 99, 273, 35, 359, 315, 239, 80, 159, 188, 252, 372, 124, 192, 162, 179, 324, 223, 191, 188, 328, 263, 344, 159, 116, 400, 340, 68, 327, 200, 111, 327, 303, 100, 268, 319, 127, 404, 98, 132, 103, 179, 203, 143, 99, 140, 319, 36, 146, 151, 215, 356, 375, 335, 204, 394, 114], \"y\": [43, 266, 141, 83, 46, 11, 47, 274, 174, 266, 211, -15, 202, -14, 13, 142, -54, 238, -53, 79, 204, -53, 202, 240, 143, 270, 51, 14, -17, 273, -45, 10, 14, 206, -47, 174, 173, 14, 51, 174, -21, 234, 14, 147, -54, 206, 267, 12, 237, 204, 141, 74, 269, -14, 202, 45, 270, 51, 74, -22, 51, 138, -50, 275, 50, 239, 179, 49, 44, -45, 142, -20, 174, 15, 243, 15, 243, 16, 42, 15, 209, 210, 236, 241, 46, 143, -14, -51, 177, 19, -54, -52, -14, -54, 82, 51, 206, 176, 176, 12, 237, 170, 176, 142, 238, -52, 19, 206, 179, 80, -13, 275, 18, -47, 143, 204, -13, 211, 170, 275, 146, 138, 141, 18, 238, 267, 10, 74, 271, 142, 203, 208, 74, 14, -52, 145, 146, 175, 82, -13, 271, -22, 14, 80, 266, 238, 272, 19, -47, 237, 144, 51, 236, 145, -53, 266, 175, -13, 81, 142, 44, 176, -20, 270, 15, 42, -13, -17, 47, -49, -53, 239, -18, -54, -52, 266, 242, 205, 239, 47, 234, 235, 10, 272, -17, 234, 170, 48, -14, 50, 83, 43, 243, 170, 14, -46, -50, 13, 75, 267, 272, 205, -48, 75, -52, 271, 209, -45, 176, 174, 274, -15, 238, 240, 10, 176, 202, 138, 18, 17, 15, 240, 203, 204, 179, 176, 14, 42, -13, 243, 270, -45, 179, 267, 77, -48, 82, 14, 16, 275, 74, 80, -21, 14, 19, -52, 138, 272, 174, -17, 177, 270, 47, -20, 77, 76, 138, 15, 239, 144, 274, 173, 45, 205, 172, 172, -20, 236, 143, 268, -21, 51, 11, 139, 80, 207, 274, 51, 147, 143, -50, 45, 144, -50, 241, 43, -46, -21, 18, -53, 19, -13, 46, 236, 207, 10, 43, -50, 204, 206, 174, 267, 49, 202, 178, 46, 266, 238, 45, 50, 140, 42, 142, 141, 236, 209, 50, 269, 49, 143, -46, 138, 12, 270, 79, -48, 44, 242, 17, -22, -54, -51, 75, 142, 80, 267, -22, -45, 139, 146, 75, -13, 142, 77, 138, -15, 268, 267, 42, 47, 15, 78, 173, -19, 80, 270, 243, 272, 47, 143, 175, -22, -51, 83, 42, 44, 273, -51, -13, -51, 266, 269, 43, 10, 82, 238, 268, 78, -54]}, {\"mode\": \"markers\", \"name\": \"step = 10274\", \"type\": \"scatter\", \"visible\": false, \"x\": [422, 184, 351, 338, 90, 105, 311, 53, 364, 277, 332, 330, 349, 366, 341, 409, 402, 333, 275, 364, 332, 209, 311, 171, 299, 97, 267, 109, 308, 286, 379, 252, 307, 218, 297, 218, 218, 293, 33, 215, 218, 174, 177, 178, 55, 40, 259, 388, 304, 291, 121, 378, 327, 145, 368, 385, 213, 185, 249, 91, 37, 89, 327, 273, 270, 267, 74, 327, 87, 110, 96, 214, 252, 132, 309, 58, 336, 265, 55, 150, 127, 66, 393, 197, 189, 89, 202, 53, 422, 49, 200, 157, 363, 93, 137, 150, 91, 233, 398, 346, 100, 343, 105, 277, 228, 304, 268, 21, 176, 386, 259, 142, 367, 58, 276, 180, 77, 63, 352, 92, 121, 268, 29, 108, 92, 126, 336, 165, 173, 414, 190, 218, 243, 131, 108, 147, 387, 325, 26, 150, 262, 133, 228, 294, 281, 403, 343, 276, 201, 327, 77, 238, 61, 108, 78, 362, 179, 401, 159, 77, 165, 216, 327, 93, 275, 189, 47, 422, 352, 69, 29, 344, 369, 319, 296, 283, 354, 321, 285, 166, 296, 367, 227, 205, 73, 401, 354, 59, 79, 131, 283, 88, 81, 116, 184, 275, 82, 139, 406, 21, 337, 354, 309, 343, 377, 98, 97, 66, 303, 91, 121, 275, 210, 218, 265, 131, 411, 355, 97, 241, 333, 330, 376, 377, 351, 250, 56, 129, 356, 46, 295, 65, 332, 78, 301, 299, 309, 123, 278, 194, 335, 21, 197, 241, 110, 103, 383, 269, 201, 210, 165, 174, 293, 92, 49, 259, 283, 105, 87, 213, 312, 121, 126, 259, 112, 61, 258, 84, 318, 383, 384, 48, 95, 315, 25, 116, 71, 359, 234, 343, 105, 128, 293, 181, 319, 100, 194, 128, 281, 366, 40, 346, 267, 179, 273, 143, 369, 369, 296, 291, 155, 111, 341, 312, 273, 337, 186, 40, 312, 307, 230, 226, 303, 129, 281, 149, 21, 419, 281, 206, 115, 90, 122, 93, 275, 25, 367, 319, 241, 72, 155, 184, 254, 380, 116, 190, 160, 177, 332, 225, 189, 184, 334, 265, 352, 155, 108, 410, 348, 58, 333, 198, 103, 333, 307, 92, 270, 325, 121, 414, 90, 126, 97, 177, 201, 137, 91, 134, 325, 26, 140, 145, 213, 364, 385, 343, 202, 404, 108], \"y\": [39, 276, 143, 81, 42, 5, 43, 284, 178, 276, 217, -23, 208, -22, 7, 144, -64, 246, -63, 77, 210, -63, 208, 248, 145, 280, 47, 8, -25, 283, -55, 4, 8, 212, -57, 178, 177, 8, 47, 178, -29, 242, 8, 149, -64, 212, 277, 6, 245, 210, 143, 72, 279, -22, 208, 41, 280, 47, 72, -30, 47, 140, -60, 285, 46, 247, 183, 45, 40, -55, 144, -28, 178, 9, 251, 9, 251, 10, 38, 9, 215, 216, 244, 249, 42, 145, -22, -61, 181, 13, -64, -62, -22, -64, 80, 47, 212, 180, 180, 6, 245, 174, 180, 144, 246, -62, 13, 212, 183, 78, -21, 285, 12, -57, 145, 210, -21, 217, 174, 285, 148, 140, 143, 12, 246, 277, 4, 72, 281, 144, 209, 214, 72, 8, -62, 147, 148, 179, 80, -21, 281, -30, 8, 78, 276, 246, 282, 13, -57, 245, 146, 47, 244, 147, -63, 276, 179, -21, 79, 144, 40, 180, -28, 280, 9, 38, -21, -25, 43, -59, -63, 247, -26, -64, -62, 276, 250, 211, 247, 43, 242, 243, 4, 282, -25, 242, 174, 44, -22, 46, 81, 39, 251, 174, 8, -56, -60, 7, 73, 277, 282, 211, -58, 73, -62, 281, 215, -55, 180, 178, 284, -23, 246, 248, 4, 180, 208, 140, 12, 11, 9, 248, 209, 210, 183, 180, 8, 38, -21, 251, 280, -55, 183, 277, 75, -58, 80, 8, 10, 285, 72, 78, -29, 8, 13, -62, 140, 282, 178, -25, 181, 280, 43, -28, 75, 74, 140, 9, 247, 146, 284, 177, 41, 211, 176, 176, -28, 244, 145, 278, -29, 47, 5, 141, 78, 213, 284, 47, 149, 145, -60, 41, 146, -60, 249, 39, -56, -29, 12, -63, 13, -21, 42, 244, 213, 4, 39, -60, 210, 212, 178, 277, 45, 208, 182, 42, 276, 246, 41, 46, 142, 38, 144, 143, 244, 215, 46, 279, 45, 145, -56, 140, 6, 280, 77, -58, 40, 250, 11, -30, -64, -61, 73, 144, 78, 277, -30, -55, 141, 148, 73, -21, 144, 75, 140, -23, 278, 277, 38, 43, 9, 76, 177, -27, 78, 280, 251, 282, 43, 145, 179, -30, -61, 81, 38, 40, 283, -61, -21, -61, 276, 279, 39, 4, 80, 246, 278, 76, -64]}, {\"mode\": \"markers\", \"name\": \"step = 10276\", \"type\": \"scatter\", \"visible\": false, \"x\": [432, 180, 357, 346, 84, 99, 315, 43, 372, 281, 340, 336, 355, 376, 347, 419, 412, 339, 279, 372, 340, 207, 317, 167, 303, 91, 271, 103, 312, 288, 389, 254, 311, 216, 303, 216, 216, 297, 23, 213, 216, 170, 175, 176, 47, 30, 263, 396, 308, 295, 115, 386, 335, 139, 376, 393, 211, 183, 251, 85, 27, 83, 335, 275, 272, 271, 64, 335, 79, 104, 88, 212, 254, 126, 315, 48, 344, 267, 47, 144, 123, 56, 403, 195, 187, 83, 200, 43, 432, 39, 198, 155, 371, 87, 131, 144, 85, 235, 408, 352, 92, 351, 99, 281, 230, 308, 272, 11, 172, 394, 263, 138, 375, 48, 278, 176, 67, 55, 360, 84, 115, 270, 19, 100, 86, 120, 342, 163, 169, 424, 188, 216, 245, 125, 100, 143, 395, 331, 16, 146, 266, 127, 230, 298, 283, 413, 351, 280, 199, 335, 67, 240, 51, 100, 68, 372, 175, 411, 155, 67, 163, 214, 335, 87, 279, 187, 37, 432, 358, 59, 19, 350, 377, 325, 300, 287, 360, 327, 289, 162, 300, 375, 229, 203, 63, 411, 362, 51, 71, 127, 287, 80, 73, 110, 180, 279, 74, 135, 416, 11, 343, 360, 315, 351, 387, 90, 91, 56, 307, 85, 115, 279, 208, 216, 267, 127, 421, 363, 91, 243, 339, 336, 384, 387, 359, 252, 48, 123, 364, 36, 301, 57, 340, 68, 307, 303, 315, 117, 280, 192, 341, 11, 195, 243, 104, 95, 391, 271, 199, 208, 163, 172, 299, 84, 39, 263, 287, 99, 79, 211, 316, 115, 120, 261, 104, 51, 260, 76, 322, 391, 392, 38, 87, 319, 15, 108, 63, 367, 236, 351, 99, 124, 299, 177, 323, 92, 192, 124, 283, 376, 30, 352, 271, 175, 275, 139, 379, 379, 300, 295, 151, 103, 347, 318, 275, 343, 184, 30, 316, 311, 232, 228, 307, 123, 283, 143, 11, 429, 283, 204, 107, 84, 116, 87, 277, 15, 375, 323, 243, 64, 151, 180, 256, 388, 108, 188, 158, 175, 340, 227, 187, 180, 340, 267, 360, 151, 100, 420, 356, 48, 339, 196, 95, 339, 311, 84, 272, 331, 115, 424, 82, 120, 91, 175, 199, 131, 83, 128, 331, 16, 134, 139, 211, 372, 395, 351, 200, 414, 102], \"y\": [35, 286, 145, 79, 38, -1, 39, 294, 182, 286, 223, -31, 214, -30, 1, 146, -74, 254, -73, 75, 216, -73, 214, 256, 147, 290, 43, 2, -33, 293, -65, -2, 2, 218, -67, 182, 181, 2, 43, 182, -37, 250, 2, 151, -74, 218, 287, 0, 253, 216, 145, 70, 289, -30, 214, 37, 290, 43, 70, -38, 43, 142, -70, 295, 42, 255, 187, 41, 36, -65, 146, -36, 182, 3, 259, 3, 259, 4, 34, 3, 221, 222, 252, 257, 38, 147, -30, -71, 185, 7, -74, -72, -30, -74, 78, 43, 218, 184, 184, 0, 253, 178, 184, 146, 254, -72, 7, 218, 187, 76, -29, 295, 6, -67, 147, 216, -29, 223, 178, 295, 150, 142, 145, 6, 254, 287, -2, 70, 291, 146, 215, 220, 70, 2, -72, 149, 150, 183, 78, -29, 291, -38, 2, 76, 286, 254, 292, 7, -67, 253, 148, 43, 252, 149, -73, 286, 183, -29, 77, 146, 36, 184, -36, 290, 3, 34, -29, -33, 39, -69, -73, 255, -34, -74, -72, 286, 258, 217, 255, 39, 250, 251, -2, 292, -33, 250, 178, 40, -30, 42, 79, 35, 259, 178, 2, -66, -70, 1, 71, 287, 292, 217, -68, 71, -72, 291, 221, -65, 184, 182, 294, -31, 254, 256, -2, 184, 214, 142, 6, 5, 3, 256, 215, 216, 187, 184, 2, 34, -29, 259, 290, -65, 187, 287, 73, -68, 78, 2, 4, 295, 70, 76, -37, 2, 7, -72, 142, 292, 182, -33, 185, 290, 39, -36, 73, 72, 142, 3, 255, 148, 294, 181, 37, 217, 180, 180, -36, 252, 147, 288, -37, 43, -1, 143, 76, 219, 294, 43, 151, 147, -70, 37, 148, -70, 257, 35, -66, -37, 6, -73, 7, -29, 38, 252, 219, -2, 35, -70, 216, 218, 182, 287, 41, 214, 186, 38, 286, 254, 37, 42, 144, 34, 146, 145, 252, 221, 42, 289, 41, 147, -66, 142, 0, 290, 75, -68, 36, 258, 5, -38, -74, -71, 71, 146, 76, 287, -38, -65, 143, 150, 71, -29, 146, 73, 142, -31, 288, 287, 34, 39, 3, 74, 181, -35, 76, 290, 259, 292, 39, 147, 183, -38, -71, 79, 34, 36, 293, -71, -29, -71, 286, 289, 35, -2, 78, 254, 288, 74, -74]}, {\"mode\": \"markers\", \"name\": \"step = 10278\", \"type\": \"scatter\", \"visible\": false, \"x\": [442, 176, 363, 354, 78, 93, 319, 33, 380, 285, 348, 342, 361, 386, 353, 429, 422, 345, 283, 380, 348, 205, 323, 163, 307, 85, 275, 97, 316, 290, 399, 256, 315, 214, 309, 214, 214, 301, 13, 211, 214, 166, 173, 174, 39, 20, 267, 404, 312, 299, 109, 394, 343, 133, 384, 401, 209, 181, 253, 79, 17, 77, 343, 277, 274, 275, 54, 343, 71, 98, 80, 210, 256, 120, 321, 38, 352, 269, 39, 138, 119, 46, 413, 193, 185, 77, 198, 33, 442, 29, 196, 153, 379, 81, 125, 138, 79, 237, 418, 358, 84, 359, 93, 285, 232, 312, 276, 1, 168, 402, 267, 134, 383, 38, 280, 172, 57, 47, 368, 76, 109, 272, 9, 92, 80, 114, 348, 161, 165, 434, 186, 214, 247, 119, 92, 139, 403, 337, 6, 142, 270, 121, 232, 302, 285, 423, 359, 284, 197, 343, 57, 242, 41, 92, 58, 382, 171, 421, 151, 57, 161, 212, 343, 81, 283, 185, 27, 442, 364, 49, 9, 356, 385, 331, 304, 291, 366, 333, 293, 158, 304, 383, 231, 201, 53, 421, 370, 43, 63, 123, 291, 72, 65, 104, 176, 283, 66, 131, 426, 1, 349, 366, 321, 359, 397, 82, 85, 46, 311, 79, 109, 283, 206, 214, 269, 123, 431, 371, 85, 245, 345, 342, 392, 397, 367, 254, 40, 117, 372, 26, 307, 49, 348, 58, 313, 307, 321, 111, 282, 190, 347, 1, 193, 245, 98, 87, 399, 273, 197, 206, 161, 170, 305, 76, 29, 267, 291, 93, 71, 209, 320, 109, 114, 263, 96, 41, 262, 68, 326, 399, 400, 28, 79, 323, 5, 100, 55, 375, 238, 359, 93, 120, 305, 173, 327, 84, 190, 120, 285, 386, 20, 358, 275, 171, 277, 135, 389, 389, 304, 299, 147, 95, 353, 324, 277, 349, 182, 20, 320, 315, 234, 230, 311, 117, 285, 137, 1, 439, 285, 202, 99, 78, 110, 81, 279, 5, 383, 327, 245, 56, 147, 176, 258, 396, 100, 186, 156, 173, 348, 229, 185, 176, 346, 269, 368, 147, 92, 430, 364, 38, 345, 194, 87, 345, 315, 76, 274, 337, 109, 434, 74, 114, 85, 173, 197, 125, 75, 122, 337, 6, 128, 133, 209, 380, 405, 359, 198, 424, 96], \"y\": [31, 296, 147, 77, 34, -7, 35, 304, 186, 296, 229, -39, 220, -38, -5, 148, -84, 262, -83, 73, 222, -83, 220, 264, 149, 300, 39, -4, -41, 303, -75, -8, -4, 224, -77, 186, 185, -4, 39, 186, -45, 258, -4, 153, -84, 224, 297, -6, 261, 222, 147, 68, 299, -38, 220, 33, 300, 39, 68, -46, 39, 144, -80, 305, 38, 263, 191, 37, 32, -75, 148, -44, 186, -3, 267, -3, 267, -2, 30, -3, 227, 228, 260, 265, 34, 149, -38, -81, 189, 1, -84, -82, -38, -84, 76, 39, 224, 188, 188, -6, 261, 182, 188, 148, 262, -82, 1, 224, 191, 74, -37, 305, 0, -77, 149, 222, -37, 229, 182, 305, 152, 144, 147, 0, 262, 297, -8, 68, 301, 148, 221, 226, 68, -4, -82, 151, 152, 187, 76, -37, 301, -46, -4, 74, 296, 262, 302, 1, -77, 261, 150, 39, 260, 151, -83, 296, 187, -37, 75, 148, 32, 188, -44, 300, -3, 30, -37, -41, 35, -79, -83, 263, -42, -84, -82, 296, 266, 223, 263, 35, 258, 259, -8, 302, -41, 258, 182, 36, -38, 38, 77, 31, 267, 182, -4, -76, -80, -5, 69, 297, 302, 223, -78, 69, -82, 301, 227, -75, 188, 186, 304, -39, 262, 264, -8, 188, 220, 144, 0, -1, -3, 264, 221, 222, 191, 188, -4, 30, -37, 267, 300, -75, 191, 297, 71, -78, 76, -4, -2, 305, 68, 74, -45, -4, 1, -82, 144, 302, 186, -41, 189, 300, 35, -44, 71, 70, 144, -3, 263, 150, 304, 185, 33, 223, 184, 184, -44, 260, 149, 298, -45, 39, -7, 145, 74, 225, 304, 39, 153, 149, -80, 33, 150, -80, 265, 31, -76, -45, 0, -83, 1, -37, 34, 260, 225, -8, 31, -80, 222, 224, 186, 297, 37, 220, 190, 34, 296, 262, 33, 38, 146, 30, 148, 147, 260, 227, 38, 299, 37, 149, -76, 144, -6, 300, 73, -78, 32, 266, -1, -46, -84, -81, 69, 148, 74, 297, -46, -75, 145, 152, 69, -37, 148, 71, 144, -39, 298, 297, 30, 35, -3, 72, 185, -43, 74, 300, 267, 302, 35, 149, 187, -46, -81, 77, 30, 32, 303, -81, -37, -81, 296, 299, 31, -8, 76, 262, 298, 72, -84]}, {\"mode\": \"markers\", \"name\": \"step = 10280\", \"type\": \"scatter\", \"visible\": false, \"x\": [452, 172, 369, 362, 72, 87, 323, 23, 388, 289, 356, 348, 367, 396, 359, 439, 432, 351, 287, 388, 356, 203, 329, 159, 311, 79, 279, 91, 320, 292, 409, 258, 319, 212, 315, 212, 212, 305, 3, 209, 212, 162, 171, 172, 31, 10, 271, 412, 316, 303, 103, 402, 351, 127, 392, 409, 207, 179, 255, 73, 7, 71, 351, 279, 276, 279, 44, 351, 63, 92, 72, 208, 258, 114, 327, 28, 360, 271, 31, 132, 115, 36, 423, 191, 183, 71, 196, 23, 452, 19, 194, 151, 387, 75, 119, 132, 73, 239, 428, 364, 76, 367, 87, 289, 234, 316, 280, -9, 164, 410, 271, 130, 391, 28, 282, 168, 47, 39, 376, 68, 103, 274, -1, 84, 74, 108, 354, 159, 161, 444, 184, 212, 249, 113, 84, 135, 411, 343, -4, 138, 274, 115, 234, 306, 287, 433, 367, 288, 195, 351, 47, 244, 31, 84, 48, 392, 167, 431, 147, 47, 159, 210, 351, 75, 287, 183, 17, 452, 370, 39, -1, 362, 393, 337, 308, 295, 372, 339, 297, 154, 308, 391, 233, 199, 43, 431, 378, 35, 55, 119, 295, 64, 57, 98, 172, 287, 58, 127, 436, -9, 355, 372, 327, 367, 407, 74, 79, 36, 315, 73, 103, 287, 204, 212, 271, 119, 441, 379, 79, 247, 351, 348, 400, 407, 375, 256, 32, 111, 380, 16, 313, 41, 356, 48, 319, 311, 327, 105, 284, 188, 353, -9, 191, 247, 92, 79, 407, 275, 195, 204, 159, 168, 311, 68, 19, 271, 295, 87, 63, 207, 324, 103, 108, 265, 88, 31, 264, 60, 330, 407, 408, 18, 71, 327, -5, 92, 47, 383, 240, 367, 87, 116, 311, 169, 331, 76, 188, 116, 287, 396, 10, 364, 279, 167, 279, 131, 399, 399, 308, 303, 143, 87, 359, 330, 279, 355, 180, 10, 324, 319, 236, 232, 315, 111, 287, 131, -9, 449, 287, 200, 91, 72, 104, 75, 281, -5, 391, 331, 247, 48, 143, 172, 260, 404, 92, 184, 154, 171, 356, 231, 183, 172, 352, 271, 376, 143, 84, 440, 372, 28, 351, 192, 79, 351, 319, 68, 276, 343, 103, 444, 66, 108, 79, 171, 195, 119, 67, 116, 343, -4, 122, 127, 207, 388, 415, 367, 196, 434, 90], \"y\": [27, 306, 149, 75, 30, -13, 31, 314, 190, 306, 235, -47, 226, -46, -11, 150, -94, 270, -93, 71, 228, -93, 226, 272, 151, 310, 35, -10, -49, 313, -85, -14, -10, 230, -87, 190, 189, -10, 35, 190, -53, 266, -10, 155, -94, 230, 307, -12, 269, 228, 149, 66, 309, -46, 226, 29, 310, 35, 66, -54, 35, 146, -90, 315, 34, 271, 195, 33, 28, -85, 150, -52, 190, -9, 275, -9, 275, -8, 26, -9, 233, 234, 268, 273, 30, 151, -46, -91, 193, -5, -94, -92, -46, -94, 74, 35, 230, 192, 192, -12, 269, 186, 192, 150, 270, -92, -5, 230, 195, 72, -45, 315, -6, -87, 151, 228, -45, 235, 186, 315, 154, 146, 149, -6, 270, 307, -14, 66, 311, 150, 227, 232, 66, -10, -92, 153, 154, 191, 74, -45, 311, -54, -10, 72, 306, 270, 312, -5, -87, 269, 152, 35, 268, 153, -93, 306, 191, -45, 73, 150, 28, 192, -52, 310, -9, 26, -45, -49, 31, -89, -93, 271, -50, -94, -92, 306, 274, 229, 271, 31, 266, 267, -14, 312, -49, 266, 186, 32, -46, 34, 75, 27, 275, 186, -10, -86, -90, -11, 67, 307, 312, 229, -88, 67, -92, 311, 233, -85, 192, 190, 314, -47, 270, 272, -14, 192, 226, 146, -6, -7, -9, 272, 227, 228, 195, 192, -10, 26, -45, 275, 310, -85, 195, 307, 69, -88, 74, -10, -8, 315, 66, 72, -53, -10, -5, -92, 146, 312, 190, -49, 193, 310, 31, -52, 69, 68, 146, -9, 271, 152, 314, 189, 29, 229, 188, 188, -52, 268, 151, 308, -53, 35, -13, 147, 72, 231, 314, 35, 155, 151, -90, 29, 152, -90, 273, 27, -86, -53, -6, -93, -5, -45, 30, 268, 231, -14, 27, -90, 228, 230, 190, 307, 33, 226, 194, 30, 306, 270, 29, 34, 148, 26, 150, 149, 268, 233, 34, 309, 33, 151, -86, 146, -12, 310, 71, -88, 28, 274, -7, -54, -94, -91, 67, 150, 72, 307, -54, -85, 147, 154, 67, -45, 150, 69, 146, -47, 308, 307, 26, 31, -9, 70, 189, -51, 72, 310, 275, 312, 31, 151, 191, -54, -91, 75, 26, 28, 313, -91, -45, -91, 306, 309, 27, -14, 74, 270, 308, 70, -94]}, {\"mode\": \"markers\", \"name\": \"step = 10282\", \"type\": \"scatter\", \"visible\": false, \"x\": [462, 168, 375, 370, 66, 81, 327, 13, 396, 293, 364, 354, 373, 406, 365, 449, 442, 357, 291, 396, 364, 201, 335, 155, 315, 73, 283, 85, 324, 294, 419, 260, 323, 210, 321, 210, 210, 309, -7, 207, 210, 158, 169, 170, 23, 0, 275, 420, 320, 307, 97, 410, 359, 121, 400, 417, 205, 177, 257, 67, -3, 65, 359, 281, 278, 283, 34, 359, 55, 86, 64, 206, 260, 108, 333, 18, 368, 273, 23, 126, 111, 26, 433, 189, 181, 65, 194, 13, 462, 9, 192, 149, 395, 69, 113, 126, 67, 241, 438, 370, 68, 375, 81, 293, 236, 320, 284, -19, 160, 418, 275, 126, 399, 18, 284, 164, 37, 31, 384, 60, 97, 276, -11, 76, 68, 102, 360, 157, 157, 454, 182, 210, 251, 107, 76, 131, 419, 349, -14, 134, 278, 109, 236, 310, 289, 443, 375, 292, 193, 359, 37, 246, 21, 76, 38, 402, 163, 441, 143, 37, 157, 208, 359, 69, 291, 181, 7, 462, 376, 29, -11, 368, 401, 343, 312, 299, 378, 345, 301, 150, 312, 399, 235, 197, 33, 441, 386, 27, 47, 115, 299, 56, 49, 92, 168, 291, 50, 123, 446, -19, 361, 378, 333, 375, 417, 66, 73, 26, 319, 67, 97, 291, 202, 210, 273, 115, 451, 387, 73, 249, 357, 354, 408, 417, 383, 258, 24, 105, 388, 6, 319, 33, 364, 38, 325, 315, 333, 99, 286, 186, 359, -19, 189, 249, 86, 71, 415, 277, 193, 202, 157, 166, 317, 60, 9, 275, 299, 81, 55, 205, 328, 97, 102, 267, 80, 21, 266, 52, 334, 415, 416, 8, 63, 331, -15, 84, 39, 391, 242, 375, 81, 112, 317, 165, 335, 68, 186, 112, 289, 406, 0, 370, 283, 163, 281, 127, 409, 409, 312, 307, 139, 79, 365, 336, 281, 361, 178, 0, 328, 323, 238, 234, 319, 105, 289, 125, -19, 459, 289, 198, 83, 66, 98, 69, 283, -15, 399, 335, 249, 40, 139, 168, 262, 412, 84, 182, 152, 169, 364, 233, 181, 168, 358, 273, 384, 139, 76, 450, 380, 18, 357, 190, 71, 357, 323, 60, 278, 349, 97, 454, 58, 102, 73, 169, 193, 113, 59, 110, 349, -14, 116, 121, 205, 396, 425, 375, 194, 444, 84], \"y\": [23, 316, 151, 73, 26, -19, 27, 324, 194, 316, 241, -55, 232, -54, -17, 152, -104, 278, -103, 69, 234, -103, 232, 280, 153, 320, 31, -16, -57, 323, -95, -20, -16, 236, -97, 194, 193, -16, 31, 194, -61, 274, -16, 157, -104, 236, 317, -18, 277, 234, 151, 64, 319, -54, 232, 25, 320, 31, 64, -62, 31, 148, -100, 325, 30, 279, 199, 29, 24, -95, 152, -60, 194, -15, 283, -15, 283, -14, 22, -15, 239, 240, 276, 281, 26, 153, -54, -101, 197, -11, -104, -102, -54, -104, 72, 31, 236, 196, 196, -18, 277, 190, 196, 152, 278, -102, -11, 236, 199, 70, -53, 325, -12, -97, 153, 234, -53, 241, 190, 325, 156, 148, 151, -12, 278, 317, -20, 64, 321, 152, 233, 238, 64, -16, -102, 155, 156, 195, 72, -53, 321, -62, -16, 70, 316, 278, 322, -11, -97, 277, 154, 31, 276, 155, -103, 316, 195, -53, 71, 152, 24, 196, -60, 320, -15, 22, -53, -57, 27, -99, -103, 279, -58, -104, -102, 316, 282, 235, 279, 27, 274, 275, -20, 322, -57, 274, 190, 28, -54, 30, 73, 23, 283, 190, -16, -96, -100, -17, 65, 317, 322, 235, -98, 65, -102, 321, 239, -95, 196, 194, 324, -55, 278, 280, -20, 196, 232, 148, -12, -13, -15, 280, 233, 234, 199, 196, -16, 22, -53, 283, 320, -95, 199, 317, 67, -98, 72, -16, -14, 325, 64, 70, -61, -16, -11, -102, 148, 322, 194, -57, 197, 320, 27, -60, 67, 66, 148, -15, 279, 154, 324, 193, 25, 235, 192, 192, -60, 276, 153, 318, -61, 31, -19, 149, 70, 237, 324, 31, 157, 153, -100, 25, 154, -100, 281, 23, -96, -61, -12, -103, -11, -53, 26, 276, 237, -20, 23, -100, 234, 236, 194, 317, 29, 232, 198, 26, 316, 278, 25, 30, 150, 22, 152, 151, 276, 239, 30, 319, 29, 153, -96, 148, -18, 320, 69, -98, 24, 282, -13, -62, -104, -101, 65, 152, 70, 317, -62, -95, 149, 156, 65, -53, 152, 67, 148, -55, 318, 317, 22, 27, -15, 68, 193, -59, 70, 320, 283, 322, 27, 153, 195, -62, -101, 73, 22, 24, 323, -101, -53, -101, 316, 319, 23, -20, 72, 278, 318, 68, -104]}, {\"mode\": \"markers\", \"name\": \"step = 10284\", \"type\": \"scatter\", \"visible\": false, \"x\": [472, 164, 381, 378, 60, 75, 331, 3, 404, 297, 372, 360, 379, 416, 371, 459, 452, 363, 295, 404, 372, 199, 341, 151, 319, 67, 287, 79, 328, 296, 429, 262, 327, 208, 327, 208, 208, 313, -17, 205, 208, 154, 167, 168, 15, -10, 279, 428, 324, 311, 91, 418, 367, 115, 408, 425, 203, 175, 259, 61, -13, 59, 367, 283, 280, 287, 24, 367, 47, 80, 56, 204, 262, 102, 339, 8, 376, 275, 15, 120, 107, 16, 443, 187, 179, 59, 192, 3, 472, -1, 190, 147, 403, 63, 107, 120, 61, 243, 448, 376, 60, 383, 75, 297, 238, 324, 288, -29, 156, 426, 279, 122, 407, 8, 286, 160, 27, 23, 392, 52, 91, 278, -21, 68, 62, 96, 366, 155, 153, 464, 180, 208, 253, 101, 68, 127, 427, 355, -24, 130, 282, 103, 238, 314, 291, 453, 383, 296, 191, 367, 27, 248, 11, 68, 28, 412, 159, 451, 139, 27, 155, 206, 367, 63, 295, 179, -3, 472, 382, 19, -21, 374, 409, 349, 316, 303, 384, 351, 305, 146, 316, 407, 237, 195, 23, 451, 394, 19, 39, 111, 303, 48, 41, 86, 164, 295, 42, 119, 456, -29, 367, 384, 339, 383, 427, 58, 67, 16, 323, 61, 91, 295, 200, 208, 275, 111, 461, 395, 67, 251, 363, 360, 416, 427, 391, 260, 16, 99, 396, -4, 325, 25, 372, 28, 331, 319, 339, 93, 288, 184, 365, -29, 187, 251, 80, 63, 423, 279, 191, 200, 155, 164, 323, 52, -1, 279, 303, 75, 47, 203, 332, 91, 96, 269, 72, 11, 268, 44, 338, 423, 424, -2, 55, 335, -25, 76, 31, 399, 244, 383, 75, 108, 323, 161, 339, 60, 184, 108, 291, 416, -10, 376, 287, 159, 283, 123, 419, 419, 316, 311, 135, 71, 371, 342, 283, 367, 176, -10, 332, 327, 240, 236, 323, 99, 291, 119, -29, 469, 291, 196, 75, 60, 92, 63, 285, -25, 407, 339, 251, 32, 135, 164, 264, 420, 76, 180, 150, 167, 372, 235, 179, 164, 364, 275, 392, 135, 68, 460, 388, 8, 363, 188, 63, 363, 327, 52, 280, 355, 91, 464, 50, 96, 67, 167, 191, 107, 51, 104, 355, -24, 110, 115, 203, 404, 435, 383, 192, 454, 78], \"y\": [19, 326, 153, 71, 22, -25, 23, 334, 198, 326, 247, -63, 238, -62, -23, 154, -114, 286, -113, 67, 240, -113, 238, 288, 155, 330, 27, -22, -65, 333, -105, -26, -22, 242, -107, 198, 197, -22, 27, 198, -69, 282, -22, 159, -114, 242, 327, -24, 285, 240, 153, 62, 329, -62, 238, 21, 330, 27, 62, -70, 27, 150, -110, 335, 26, 287, 203, 25, 20, -105, 154, -68, 198, -21, 291, -21, 291, -20, 18, -21, 245, 246, 284, 289, 22, 155, -62, -111, 201, -17, -114, -112, -62, -114, 70, 27, 242, 200, 200, -24, 285, 194, 200, 154, 286, -112, -17, 242, 203, 68, -61, 335, -18, -107, 155, 240, -61, 247, 194, 335, 158, 150, 153, -18, 286, 327, -26, 62, 331, 154, 239, 244, 62, -22, -112, 157, 158, 199, 70, -61, 331, -70, -22, 68, 326, 286, 332, -17, -107, 285, 156, 27, 284, 157, -113, 326, 199, -61, 69, 154, 20, 200, -68, 330, -21, 18, -61, -65, 23, -109, -113, 287, -66, -114, -112, 326, 290, 241, 287, 23, 282, 283, -26, 332, -65, 282, 194, 24, -62, 26, 71, 19, 291, 194, -22, -106, -110, -23, 63, 327, 332, 241, -108, 63, -112, 331, 245, -105, 200, 198, 334, -63, 286, 288, -26, 200, 238, 150, -18, -19, -21, 288, 239, 240, 203, 200, -22, 18, -61, 291, 330, -105, 203, 327, 65, -108, 70, -22, -20, 335, 62, 68, -69, -22, -17, -112, 150, 332, 198, -65, 201, 330, 23, -68, 65, 64, 150, -21, 287, 156, 334, 197, 21, 241, 196, 196, -68, 284, 155, 328, -69, 27, -25, 151, 68, 243, 334, 27, 159, 155, -110, 21, 156, -110, 289, 19, -106, -69, -18, -113, -17, -61, 22, 284, 243, -26, 19, -110, 240, 242, 198, 327, 25, 238, 202, 22, 326, 286, 21, 26, 152, 18, 154, 153, 284, 245, 26, 329, 25, 155, -106, 150, -24, 330, 67, -108, 20, 290, -19, -70, -114, -111, 63, 154, 68, 327, -70, -105, 151, 158, 63, -61, 154, 65, 150, -63, 328, 327, 18, 23, -21, 66, 197, -67, 68, 330, 291, 332, 23, 155, 199, -70, -111, 71, 18, 20, 333, -111, -61, -111, 326, 329, 19, -26, 70, 286, 328, 66, -114]}, {\"mode\": \"markers\", \"name\": \"step = 10286\", \"type\": \"scatter\", \"visible\": false, \"x\": [482, 160, 387, 386, 54, 69, 335, -7, 412, 301, 380, 366, 385, 426, 377, 469, 462, 369, 299, 412, 380, 197, 347, 147, 323, 61, 291, 73, 332, 298, 439, 264, 331, 206, 333, 206, 206, 317, -27, 203, 206, 150, 165, 166, 7, -20, 283, 436, 328, 315, 85, 426, 375, 109, 416, 433, 201, 173, 261, 55, -23, 53, 375, 285, 282, 291, 14, 375, 39, 74, 48, 202, 264, 96, 345, -2, 384, 277, 7, 114, 103, 6, 453, 185, 177, 53, 190, -7, 482, -11, 188, 145, 411, 57, 101, 114, 55, 245, 458, 382, 52, 391, 69, 301, 240, 328, 292, -39, 152, 434, 283, 118, 415, -2, 288, 156, 17, 15, 400, 44, 85, 280, -31, 60, 56, 90, 372, 153, 149, 474, 178, 206, 255, 95, 60, 123, 435, 361, -34, 126, 286, 97, 240, 318, 293, 463, 391, 300, 189, 375, 17, 250, 1, 60, 18, 422, 155, 461, 135, 17, 153, 204, 375, 57, 299, 177, -13, 482, 388, 9, -31, 380, 417, 355, 320, 307, 390, 357, 309, 142, 320, 415, 239, 193, 13, 461, 402, 11, 31, 107, 307, 40, 33, 80, 160, 299, 34, 115, 466, -39, 373, 390, 345, 391, 437, 50, 61, 6, 327, 55, 85, 299, 198, 206, 277, 107, 471, 403, 61, 253, 369, 366, 424, 437, 399, 262, 8, 93, 404, -14, 331, 17, 380, 18, 337, 323, 345, 87, 290, 182, 371, -39, 185, 253, 74, 55, 431, 281, 189, 198, 153, 162, 329, 44, -11, 283, 307, 69, 39, 201, 336, 85, 90, 271, 64, 1, 270, 36, 342, 431, 432, -12, 47, 339, -35, 68, 23, 407, 246, 391, 69, 104, 329, 157, 343, 52, 182, 104, 293, 426, -20, 382, 291, 155, 285, 119, 429, 429, 320, 315, 131, 63, 377, 348, 285, 373, 174, -20, 336, 331, 242, 238, 327, 93, 293, 113, -39, 479, 293, 194, 67, 54, 86, 57, 287, -35, 415, 343, 253, 24, 131, 160, 266, 428, 68, 178, 148, 165, 380, 237, 177, 160, 370, 277, 400, 131, 60, 470, 396, -2, 369, 186, 55, 369, 331, 44, 282, 361, 85, 474, 42, 90, 61, 165, 189, 101, 43, 98, 361, -34, 104, 109, 201, 412, 445, 391, 190, 464, 72], \"y\": [15, 336, 155, 69, 18, -31, 19, 344, 202, 336, 253, -71, 244, -70, -29, 156, -124, 294, -123, 65, 246, -123, 244, 296, 157, 340, 23, -28, -73, 343, -115, -32, -28, 248, -117, 202, 201, -28, 23, 202, -77, 290, -28, 161, -124, 248, 337, -30, 293, 246, 155, 60, 339, -70, 244, 17, 340, 23, 60, -78, 23, 152, -120, 345, 22, 295, 207, 21, 16, -115, 156, -76, 202, -27, 299, -27, 299, -26, 14, -27, 251, 252, 292, 297, 18, 157, -70, -121, 205, -23, -124, -122, -70, -124, 68, 23, 248, 204, 204, -30, 293, 198, 204, 156, 294, -122, -23, 248, 207, 66, -69, 345, -24, -117, 157, 246, -69, 253, 198, 345, 160, 152, 155, -24, 294, 337, -32, 60, 341, 156, 245, 250, 60, -28, -122, 159, 160, 203, 68, -69, 341, -78, -28, 66, 336, 294, 342, -23, -117, 293, 158, 23, 292, 159, -123, 336, 203, -69, 67, 156, 16, 204, -76, 340, -27, 14, -69, -73, 19, -119, -123, 295, -74, -124, -122, 336, 298, 247, 295, 19, 290, 291, -32, 342, -73, 290, 198, 20, -70, 22, 69, 15, 299, 198, -28, -116, -120, -29, 61, 337, 342, 247, -118, 61, -122, 341, 251, -115, 204, 202, 344, -71, 294, 296, -32, 204, 244, 152, -24, -25, -27, 296, 245, 246, 207, 204, -28, 14, -69, 299, 340, -115, 207, 337, 63, -118, 68, -28, -26, 345, 60, 66, -77, -28, -23, -122, 152, 342, 202, -73, 205, 340, 19, -76, 63, 62, 152, -27, 295, 158, 344, 201, 17, 247, 200, 200, -76, 292, 157, 338, -77, 23, -31, 153, 66, 249, 344, 23, 161, 157, -120, 17, 158, -120, 297, 15, -116, -77, -24, -123, -23, -69, 18, 292, 249, -32, 15, -120, 246, 248, 202, 337, 21, 244, 206, 18, 336, 294, 17, 22, 154, 14, 156, 155, 292, 251, 22, 339, 21, 157, -116, 152, -30, 340, 65, -118, 16, 298, -25, -78, -124, -121, 61, 156, 66, 337, -78, -115, 153, 160, 61, -69, 156, 63, 152, -71, 338, 337, 14, 19, -27, 64, 201, -75, 66, 340, 299, 342, 19, 157, 203, -78, -121, 69, 14, 16, 343, -121, -69, -121, 336, 339, 15, -32, 68, 294, 338, 64, -124]}, {\"mode\": \"markers\", \"name\": \"step = 10288\", \"type\": \"scatter\", \"visible\": false, \"x\": [492, 156, 393, 394, 48, 63, 339, -17, 420, 305, 388, 372, 391, 436, 383, 479, 472, 375, 303, 420, 388, 195, 353, 143, 327, 55, 295, 67, 336, 300, 449, 266, 335, 204, 339, 204, 204, 321, -37, 201, 204, 146, 163, 164, -1, -30, 287, 444, 332, 319, 79, 434, 383, 103, 424, 441, 199, 171, 263, 49, -33, 47, 383, 287, 284, 295, 4, 383, 31, 68, 40, 200, 266, 90, 351, -12, 392, 279, -1, 108, 99, -4, 463, 183, 175, 47, 188, -17, 492, -21, 186, 143, 419, 51, 95, 108, 49, 247, 468, 388, 44, 399, 63, 305, 242, 332, 296, -49, 148, 442, 287, 114, 423, -12, 290, 152, 7, 7, 408, 36, 79, 282, -41, 52, 50, 84, 378, 151, 145, 484, 176, 204, 257, 89, 52, 119, 443, 367, -44, 122, 290, 91, 242, 322, 295, 473, 399, 304, 187, 383, 7, 252, -9, 52, 8, 432, 151, 471, 131, 7, 151, 202, 383, 51, 303, 175, -23, 492, 394, -1, -41, 386, 425, 361, 324, 311, 396, 363, 313, 138, 324, 423, 241, 191, 3, 471, 410, 3, 23, 103, 311, 32, 25, 74, 156, 303, 26, 111, 476, -49, 379, 396, 351, 399, 447, 42, 55, -4, 331, 49, 79, 303, 196, 204, 279, 103, 481, 411, 55, 255, 375, 372, 432, 447, 407, 264, 0, 87, 412, -24, 337, 9, 388, 8, 343, 327, 351, 81, 292, 180, 377, -49, 183, 255, 68, 47, 439, 283, 187, 196, 151, 160, 335, 36, -21, 287, 311, 63, 31, 199, 340, 79, 84, 273, 56, -9, 272, 28, 346, 439, 440, -22, 39, 343, -45, 60, 15, 415, 248, 399, 63, 100, 335, 153, 347, 44, 180, 100, 295, 436, -30, 388, 295, 151, 287, 115, 439, 439, 324, 319, 127, 55, 383, 354, 287, 379, 172, -30, 340, 335, 244, 240, 331, 87, 295, 107, -49, 489, 295, 192, 59, 48, 80, 51, 289, -45, 423, 347, 255, 16, 127, 156, 268, 436, 60, 176, 146, 163, 388, 239, 175, 156, 376, 279, 408, 127, 52, 480, 404, -12, 375, 184, 47, 375, 335, 36, 284, 367, 79, 484, 34, 84, 55, 163, 187, 95, 35, 92, 367, -44, 98, 103, 199, 420, 455, 399, 188, 474, 66], \"y\": [11, 346, 157, 67, 14, -37, 15, 354, 206, 346, 259, -79, 250, -78, -35, 158, -134, 302, -133, 63, 252, -133, 250, 304, 159, 350, 19, -34, -81, 353, -125, -38, -34, 254, -127, 206, 205, -34, 19, 206, -85, 298, -34, 163, -134, 254, 347, -36, 301, 252, 157, 58, 349, -78, 250, 13, 350, 19, 58, -86, 19, 154, -130, 355, 18, 303, 211, 17, 12, -125, 158, -84, 206, -33, 307, -33, 307, -32, 10, -33, 257, 258, 300, 305, 14, 159, -78, -131, 209, -29, -134, -132, -78, -134, 66, 19, 254, 208, 208, -36, 301, 202, 208, 158, 302, -132, -29, 254, 211, 64, -77, 355, -30, -127, 159, 252, -77, 259, 202, 355, 162, 154, 157, -30, 302, 347, -38, 58, 351, 158, 251, 256, 58, -34, -132, 161, 162, 207, 66, -77, 351, -86, -34, 64, 346, 302, 352, -29, -127, 301, 160, 19, 300, 161, -133, 346, 207, -77, 65, 158, 12, 208, -84, 350, -33, 10, -77, -81, 15, -129, -133, 303, -82, -134, -132, 346, 306, 253, 303, 15, 298, 299, -38, 352, -81, 298, 202, 16, -78, 18, 67, 11, 307, 202, -34, -126, -130, -35, 59, 347, 352, 253, -128, 59, -132, 351, 257, -125, 208, 206, 354, -79, 302, 304, -38, 208, 250, 154, -30, -31, -33, 304, 251, 252, 211, 208, -34, 10, -77, 307, 350, -125, 211, 347, 61, -128, 66, -34, -32, 355, 58, 64, -85, -34, -29, -132, 154, 352, 206, -81, 209, 350, 15, -84, 61, 60, 154, -33, 303, 160, 354, 205, 13, 253, 204, 204, -84, 300, 159, 348, -85, 19, -37, 155, 64, 255, 354, 19, 163, 159, -130, 13, 160, -130, 305, 11, -126, -85, -30, -133, -29, -77, 14, 300, 255, -38, 11, -130, 252, 254, 206, 347, 17, 250, 210, 14, 346, 302, 13, 18, 156, 10, 158, 157, 300, 257, 18, 349, 17, 159, -126, 154, -36, 350, 63, -128, 12, 306, -31, -86, -134, -131, 59, 158, 64, 347, -86, -125, 155, 162, 59, -77, 158, 61, 154, -79, 348, 347, 10, 15, -33, 62, 205, -83, 64, 350, 307, 352, 15, 159, 207, -86, -131, 67, 10, 12, 353, -131, -77, -131, 346, 349, 11, -38, 66, 302, 348, 62, -134]}, {\"mode\": \"markers\", \"name\": \"step = 10290\", \"type\": \"scatter\", \"visible\": false, \"x\": [502, 152, 399, 402, 42, 57, 343, -27, 428, 309, 396, 378, 397, 446, 389, 489, 482, 381, 307, 428, 396, 193, 359, 139, 331, 49, 299, 61, 340, 302, 459, 268, 339, 202, 345, 202, 202, 325, -47, 199, 202, 142, 161, 162, -9, -40, 291, 452, 336, 323, 73, 442, 391, 97, 432, 449, 197, 169, 265, 43, -43, 41, 391, 289, 286, 299, -6, 391, 23, 62, 32, 198, 268, 84, 357, -22, 400, 281, -9, 102, 95, -14, 473, 181, 173, 41, 186, -27, 502, -31, 184, 141, 427, 45, 89, 102, 43, 249, 478, 394, 36, 407, 57, 309, 244, 336, 300, -59, 144, 450, 291, 110, 431, -22, 292, 148, -3, -1, 416, 28, 73, 284, -51, 44, 44, 78, 384, 149, 141, 494, 174, 202, 259, 83, 44, 115, 451, 373, -54, 118, 294, 85, 244, 326, 297, 483, 407, 308, 185, 391, -3, 254, -19, 44, -2, 442, 147, 481, 127, -3, 149, 200, 391, 45, 307, 173, -33, 502, 400, -11, -51, 392, 433, 367, 328, 315, 402, 369, 317, 134, 328, 431, 243, 189, -7, 481, 418, -5, 15, 99, 315, 24, 17, 68, 152, 307, 18, 107, 486, -59, 385, 402, 357, 407, 457, 34, 49, -14, 335, 43, 73, 307, 194, 202, 281, 99, 491, 419, 49, 257, 381, 378, 440, 457, 415, 266, -8, 81, 420, -34, 343, 1, 396, -2, 349, 331, 357, 75, 294, 178, 383, -59, 181, 257, 62, 39, 447, 285, 185, 194, 149, 158, 341, 28, -31, 291, 315, 57, 23, 197, 344, 73, 78, 275, 48, -19, 274, 20, 350, 447, 448, -32, 31, 347, -55, 52, 7, 423, 250, 407, 57, 96, 341, 149, 351, 36, 178, 96, 297, 446, -40, 394, 299, 147, 289, 111, 449, 449, 328, 323, 123, 47, 389, 360, 289, 385, 170, -40, 344, 339, 246, 242, 335, 81, 297, 101, -59, 499, 297, 190, 51, 42, 74, 45, 291, -55, 431, 351, 257, 8, 123, 152, 270, 444, 52, 174, 144, 161, 396, 241, 173, 152, 382, 281, 416, 123, 44, 490, 412, -22, 381, 182, 39, 381, 339, 28, 286, 373, 73, 494, 26, 78, 49, 161, 185, 89, 27, 86, 373, -54, 92, 97, 197, 428, 465, 407, 186, 484, 60], \"y\": [7, 356, 159, 65, 10, -43, 11, 364, 210, 356, 265, -87, 256, -86, -41, 160, -144, 310, -143, 61, 258, -143, 256, 312, 161, 360, 15, -40, -89, 363, -135, -44, -40, 260, -137, 210, 209, -40, 15, 210, -93, 306, -40, 165, -144, 260, 357, -42, 309, 258, 159, 56, 359, -86, 256, 9, 360, 15, 56, -94, 15, 156, -140, 365, 14, 311, 215, 13, 8, -135, 160, -92, 210, -39, 315, -39, 315, -38, 6, -39, 263, 264, 308, 313, 10, 161, -86, -141, 213, -35, -144, -142, -86, -144, 64, 15, 260, 212, 212, -42, 309, 206, 212, 160, 310, -142, -35, 260, 215, 62, -85, 365, -36, -137, 161, 258, -85, 265, 206, 365, 164, 156, 159, -36, 310, 357, -44, 56, 361, 160, 257, 262, 56, -40, -142, 163, 164, 211, 64, -85, 361, -94, -40, 62, 356, 310, 362, -35, -137, 309, 162, 15, 308, 163, -143, 356, 211, -85, 63, 160, 8, 212, -92, 360, -39, 6, -85, -89, 11, -139, -143, 311, -90, -144, -142, 356, 314, 259, 311, 11, 306, 307, -44, 362, -89, 306, 206, 12, -86, 14, 65, 7, 315, 206, -40, -136, -140, -41, 57, 357, 362, 259, -138, 57, -142, 361, 263, -135, 212, 210, 364, -87, 310, 312, -44, 212, 256, 156, -36, -37, -39, 312, 257, 258, 215, 212, -40, 6, -85, 315, 360, -135, 215, 357, 59, -138, 64, -40, -38, 365, 56, 62, -93, -40, -35, -142, 156, 362, 210, -89, 213, 360, 11, -92, 59, 58, 156, -39, 311, 162, 364, 209, 9, 259, 208, 208, -92, 308, 161, 358, -93, 15, -43, 157, 62, 261, 364, 15, 165, 161, -140, 9, 162, -140, 313, 7, -136, -93, -36, -143, -35, -85, 10, 308, 261, -44, 7, -140, 258, 260, 210, 357, 13, 256, 214, 10, 356, 310, 9, 14, 158, 6, 160, 159, 308, 263, 14, 359, 13, 161, -136, 156, -42, 360, 61, -138, 8, 314, -37, -94, -144, -141, 57, 160, 62, 357, -94, -135, 157, 164, 57, -85, 160, 59, 156, -87, 358, 357, 6, 11, -39, 60, 209, -91, 62, 360, 315, 362, 11, 161, 211, -94, -141, 65, 6, 8, 363, -141, -85, -141, 356, 359, 7, -44, 64, 310, 358, 60, -144]}, {\"mode\": \"markers\", \"name\": \"step = 10292\", \"type\": \"scatter\", \"visible\": false, \"x\": [512, 148, 405, 410, 36, 51, 347, -37, 436, 313, 404, 384, 403, 456, 395, 499, 492, 387, 311, 436, 404, 191, 365, 135, 335, 43, 303, 55, 344, 304, 469, 270, 343, 200, 351, 200, 200, 329, -57, 197, 200, 138, 159, 160, -17, -50, 295, 460, 340, 327, 67, 450, 399, 91, 440, 457, 195, 167, 267, 37, -53, 35, 399, 291, 288, 303, -16, 399, 15, 56, 24, 196, 270, 78, 363, -32, 408, 283, -17, 96, 91, -24, 483, 179, 171, 35, 184, -37, 512, -41, 182, 139, 435, 39, 83, 96, 37, 251, 488, 400, 28, 415, 51, 313, 246, 340, 304, -69, 140, 458, 295, 106, 439, -32, 294, 144, -13, -9, 424, 20, 67, 286, -61, 36, 38, 72, 390, 147, 137, 504, 172, 200, 261, 77, 36, 111, 459, 379, -64, 114, 298, 79, 246, 330, 299, 493, 415, 312, 183, 399, -13, 256, -29, 36, -12, 452, 143, 491, 123, -13, 147, 198, 399, 39, 311, 171, -43, 512, 406, -21, -61, 398, 441, 373, 332, 319, 408, 375, 321, 130, 332, 439, 245, 187, -17, 491, 426, -13, 7, 95, 319, 16, 9, 62, 148, 311, 10, 103, 496, -69, 391, 408, 363, 415, 467, 26, 43, -24, 339, 37, 67, 311, 192, 200, 283, 95, 501, 427, 43, 259, 387, 384, 448, 467, 423, 268, -16, 75, 428, -44, 349, -7, 404, -12, 355, 335, 363, 69, 296, 176, 389, -69, 179, 259, 56, 31, 455, 287, 183, 192, 147, 156, 347, 20, -41, 295, 319, 51, 15, 195, 348, 67, 72, 277, 40, -29, 276, 12, 354, 455, 456, -42, 23, 351, -65, 44, -1, 431, 252, 415, 51, 92, 347, 145, 355, 28, 176, 92, 299, 456, -50, 400, 303, 143, 291, 107, 459, 459, 332, 327, 119, 39, 395, 366, 291, 391, 168, -50, 348, 343, 248, 244, 339, 75, 299, 95, -69, 509, 299, 188, 43, 36, 68, 39, 293, -65, 439, 355, 259, 0, 119, 148, 272, 452, 44, 172, 142, 159, 404, 243, 171, 148, 388, 283, 424, 119, 36, 500, 420, -32, 387, 180, 31, 387, 343, 20, 288, 379, 67, 504, 18, 72, 43, 159, 183, 83, 19, 80, 379, -64, 86, 91, 195, 436, 475, 415, 184, 494, 54], \"y\": [3, 366, 161, 63, 6, -49, 7, 374, 214, 366, 271, -95, 262, -94, -47, 162, -154, 318, -153, 59, 264, -153, 262, 320, 163, 370, 11, -46, -97, 373, -145, -50, -46, 266, -147, 214, 213, -46, 11, 214, -101, 314, -46, 167, -154, 266, 367, -48, 317, 264, 161, 54, 369, -94, 262, 5, 370, 11, 54, -102, 11, 158, -150, 375, 10, 319, 219, 9, 4, -145, 162, -100, 214, -45, 323, -45, 323, -44, 2, -45, 269, 270, 316, 321, 6, 163, -94, -151, 217, -41, -154, -152, -94, -154, 62, 11, 266, 216, 216, -48, 317, 210, 216, 162, 318, -152, -41, 266, 219, 60, -93, 375, -42, -147, 163, 264, -93, 271, 210, 375, 166, 158, 161, -42, 318, 367, -50, 54, 371, 162, 263, 268, 54, -46, -152, 165, 166, 215, 62, -93, 371, -102, -46, 60, 366, 318, 372, -41, -147, 317, 164, 11, 316, 165, -153, 366, 215, -93, 61, 162, 4, 216, -100, 370, -45, 2, -93, -97, 7, -149, -153, 319, -98, -154, -152, 366, 322, 265, 319, 7, 314, 315, -50, 372, -97, 314, 210, 8, -94, 10, 63, 3, 323, 210, -46, -146, -150, -47, 55, 367, 372, 265, -148, 55, -152, 371, 269, -145, 216, 214, 374, -95, 318, 320, -50, 216, 262, 158, -42, -43, -45, 320, 263, 264, 219, 216, -46, 2, -93, 323, 370, -145, 219, 367, 57, -148, 62, -46, -44, 375, 54, 60, -101, -46, -41, -152, 158, 372, 214, -97, 217, 370, 7, -100, 57, 56, 158, -45, 319, 164, 374, 213, 5, 265, 212, 212, -100, 316, 163, 368, -101, 11, -49, 159, 60, 267, 374, 11, 167, 163, -150, 5, 164, -150, 321, 3, -146, -101, -42, -153, -41, -93, 6, 316, 267, -50, 3, -150, 264, 266, 214, 367, 9, 262, 218, 6, 366, 318, 5, 10, 160, 2, 162, 161, 316, 269, 10, 369, 9, 163, -146, 158, -48, 370, 59, -148, 4, 322, -43, -102, -154, -151, 55, 162, 60, 367, -102, -145, 159, 166, 55, -93, 162, 57, 158, -95, 368, 367, 2, 7, -45, 58, 213, -99, 60, 370, 323, 372, 7, 163, 215, -102, -151, 63, 2, 4, 373, -151, -93, -151, 366, 369, 3, -50, 62, 318, 368, 58, -154]}, {\"mode\": \"markers\", \"name\": \"step = 10294\", \"type\": \"scatter\", \"visible\": false, \"x\": [522, 144, 411, 418, 30, 45, 351, -47, 444, 317, 412, 390, 409, 466, 401, 509, 502, 393, 315, 444, 412, 189, 371, 131, 339, 37, 307, 49, 348, 306, 479, 272, 347, 198, 357, 198, 198, 333, -67, 195, 198, 134, 157, 158, -25, -60, 299, 468, 344, 331, 61, 458, 407, 85, 448, 465, 193, 165, 269, 31, -63, 29, 407, 293, 290, 307, -26, 407, 7, 50, 16, 194, 272, 72, 369, -42, 416, 285, -25, 90, 87, -34, 493, 177, 169, 29, 182, -47, 522, -51, 180, 137, 443, 33, 77, 90, 31, 253, 498, 406, 20, 423, 45, 317, 248, 344, 308, -79, 136, 466, 299, 102, 447, -42, 296, 140, -23, -17, 432, 12, 61, 288, -71, 28, 32, 66, 396, 145, 133, 514, 170, 198, 263, 71, 28, 107, 467, 385, -74, 110, 302, 73, 248, 334, 301, 503, 423, 316, 181, 407, -23, 258, -39, 28, -22, 462, 139, 501, 119, -23, 145, 196, 407, 33, 315, 169, -53, 522, 412, -31, -71, 404, 449, 379, 336, 323, 414, 381, 325, 126, 336, 447, 247, 185, -27, 501, 434, -21, -1, 91, 323, 8, 1, 56, 144, 315, 2, 99, 506, -79, 397, 414, 369, 423, 477, 18, 37, -34, 343, 31, 61, 315, 190, 198, 285, 91, 511, 435, 37, 261, 393, 390, 456, 477, 431, 270, -24, 69, 436, -54, 355, -15, 412, -22, 361, 339, 369, 63, 298, 174, 395, -79, 177, 261, 50, 23, 463, 289, 181, 190, 145, 154, 353, 12, -51, 299, 323, 45, 7, 193, 352, 61, 66, 279, 32, -39, 278, 4, 358, 463, 464, -52, 15, 355, -75, 36, -9, 439, 254, 423, 45, 88, 353, 141, 359, 20, 174, 88, 301, 466, -60, 406, 307, 139, 293, 103, 469, 469, 336, 331, 115, 31, 401, 372, 293, 397, 166, -60, 352, 347, 250, 246, 343, 69, 301, 89, -79, 519, 301, 186, 35, 30, 62, 33, 295, -75, 447, 359, 261, -8, 115, 144, 274, 460, 36, 170, 140, 157, 412, 245, 169, 144, 394, 285, 432, 115, 28, 510, 428, -42, 393, 178, 23, 393, 347, 12, 290, 385, 61, 514, 10, 66, 37, 157, 181, 77, 11, 74, 385, -74, 80, 85, 193, 444, 485, 423, 182, 504, 48], \"y\": [-1, 376, 163, 61, 2, -55, 3, 384, 218, 376, 277, -103, 268, -102, -53, 164, -164, 326, -163, 57, 270, -163, 268, 328, 165, 380, 7, -52, -105, 383, -155, -56, -52, 272, -157, 218, 217, -52, 7, 218, -109, 322, -52, 169, -164, 272, 377, -54, 325, 270, 163, 52, 379, -102, 268, 1, 380, 7, 52, -110, 7, 160, -160, 385, 6, 327, 223, 5, 0, -155, 164, -108, 218, -51, 331, -51, 331, -50, -2, -51, 275, 276, 324, 329, 2, 165, -102, -161, 221, -47, -164, -162, -102, -164, 60, 7, 272, 220, 220, -54, 325, 214, 220, 164, 326, -162, -47, 272, 223, 58, -101, 385, -48, -157, 165, 270, -101, 277, 214, 385, 168, 160, 163, -48, 326, 377, -56, 52, 381, 164, 269, 274, 52, -52, -162, 167, 168, 219, 60, -101, 381, -110, -52, 58, 376, 326, 382, -47, -157, 325, 166, 7, 324, 167, -163, 376, 219, -101, 59, 164, 0, 220, -108, 380, -51, -2, -101, -105, 3, -159, -163, 327, -106, -164, -162, 376, 330, 271, 327, 3, 322, 323, -56, 382, -105, 322, 214, 4, -102, 6, 61, -1, 331, 214, -52, -156, -160, -53, 53, 377, 382, 271, -158, 53, -162, 381, 275, -155, 220, 218, 384, -103, 326, 328, -56, 220, 268, 160, -48, -49, -51, 328, 269, 270, 223, 220, -52, -2, -101, 331, 380, -155, 223, 377, 55, -158, 60, -52, -50, 385, 52, 58, -109, -52, -47, -162, 160, 382, 218, -105, 221, 380, 3, -108, 55, 54, 160, -51, 327, 166, 384, 217, 1, 271, 216, 216, -108, 324, 165, 378, -109, 7, -55, 161, 58, 273, 384, 7, 169, 165, -160, 1, 166, -160, 329, -1, -156, -109, -48, -163, -47, -101, 2, 324, 273, -56, -1, -160, 270, 272, 218, 377, 5, 268, 222, 2, 376, 326, 1, 6, 162, -2, 164, 163, 324, 275, 6, 379, 5, 165, -156, 160, -54, 380, 57, -158, 0, 330, -49, -110, -164, -161, 53, 164, 58, 377, -110, -155, 161, 168, 53, -101, 164, 55, 160, -103, 378, 377, -2, 3, -51, 56, 217, -107, 58, 380, 331, 382, 3, 165, 219, -110, -161, 61, -2, 0, 383, -161, -101, -161, 376, 379, -1, -56, 60, 326, 378, 56, -164]}, {\"mode\": \"markers\", \"name\": \"step = 10296\", \"type\": \"scatter\", \"visible\": false, \"x\": [532, 140, 417, 426, 24, 39, 355, -57, 452, 321, 420, 396, 415, 476, 407, 519, 512, 399, 319, 452, 420, 187, 377, 127, 343, 31, 311, 43, 352, 308, 489, 274, 351, 196, 363, 196, 196, 337, -77, 193, 196, 130, 155, 156, -33, -70, 303, 476, 348, 335, 55, 466, 415, 79, 456, 473, 191, 163, 271, 25, -73, 23, 415, 295, 292, 311, -36, 415, -1, 44, 8, 192, 274, 66, 375, -52, 424, 287, -33, 84, 83, -44, 503, 175, 167, 23, 180, -57, 532, -61, 178, 135, 451, 27, 71, 84, 25, 255, 508, 412, 12, 431, 39, 321, 250, 348, 312, -89, 132, 474, 303, 98, 455, -52, 298, 136, -33, -25, 440, 4, 55, 290, -81, 20, 26, 60, 402, 143, 129, 524, 168, 196, 265, 65, 20, 103, 475, 391, -84, 106, 306, 67, 250, 338, 303, 513, 431, 320, 179, 415, -33, 260, -49, 20, -32, 472, 135, 511, 115, -33, 143, 194, 415, 27, 319, 167, -63, 532, 418, -41, -81, 410, 457, 385, 340, 327, 420, 387, 329, 122, 340, 455, 249, 183, -37, 511, 442, -29, -9, 87, 327, 0, -7, 50, 140, 319, -6, 95, 516, -89, 403, 420, 375, 431, 487, 10, 31, -44, 347, 25, 55, 319, 188, 196, 287, 87, 521, 443, 31, 263, 399, 396, 464, 487, 439, 272, -32, 63, 444, -64, 361, -23, 420, -32, 367, 343, 375, 57, 300, 172, 401, -89, 175, 263, 44, 15, 471, 291, 179, 188, 143, 152, 359, 4, -61, 303, 327, 39, -1, 191, 356, 55, 60, 281, 24, -49, 280, -4, 362, 471, 472, -62, 7, 359, -85, 28, -17, 447, 256, 431, 39, 84, 359, 137, 363, 12, 172, 84, 303, 476, -70, 412, 311, 135, 295, 99, 479, 479, 340, 335, 111, 23, 407, 378, 295, 403, 164, -70, 356, 351, 252, 248, 347, 63, 303, 83, -89, 529, 303, 184, 27, 24, 56, 27, 297, -85, 455, 363, 263, -16, 111, 140, 276, 468, 28, 168, 138, 155, 420, 247, 167, 140, 400, 287, 440, 111, 20, 520, 436, -52, 399, 176, 15, 399, 351, 4, 292, 391, 55, 524, 2, 60, 31, 155, 179, 71, 3, 68, 391, -84, 74, 79, 191, 452, 495, 431, 180, 514, 42], \"y\": [-5, 386, 165, 59, -2, -61, -1, 394, 222, 386, 283, -111, 274, -110, -59, 166, -174, 334, -173, 55, 276, -173, 274, 336, 167, 390, 3, -58, -113, 393, -165, -62, -58, 278, -167, 222, 221, -58, 3, 222, -117, 330, -58, 171, -174, 278, 387, -60, 333, 276, 165, 50, 389, -110, 274, -3, 390, 3, 50, -118, 3, 162, -170, 395, 2, 335, 227, 1, -4, -165, 166, -116, 222, -57, 339, -57, 339, -56, -6, -57, 281, 282, 332, 337, -2, 167, -110, -171, 225, -53, -174, -172, -110, -174, 58, 3, 278, 224, 224, -60, 333, 218, 224, 166, 334, -172, -53, 278, 227, 56, -109, 395, -54, -167, 167, 276, -109, 283, 218, 395, 170, 162, 165, -54, 334, 387, -62, 50, 391, 166, 275, 280, 50, -58, -172, 169, 170, 223, 58, -109, 391, -118, -58, 56, 386, 334, 392, -53, -167, 333, 168, 3, 332, 169, -173, 386, 223, -109, 57, 166, -4, 224, -116, 390, -57, -6, -109, -113, -1, -169, -173, 335, -114, -174, -172, 386, 338, 277, 335, -1, 330, 331, -62, 392, -113, 330, 218, 0, -110, 2, 59, -5, 339, 218, -58, -166, -170, -59, 51, 387, 392, 277, -168, 51, -172, 391, 281, -165, 224, 222, 394, -111, 334, 336, -62, 224, 274, 162, -54, -55, -57, 336, 275, 276, 227, 224, -58, -6, -109, 339, 390, -165, 227, 387, 53, -168, 58, -58, -56, 395, 50, 56, -117, -58, -53, -172, 162, 392, 222, -113, 225, 390, -1, -116, 53, 52, 162, -57, 335, 168, 394, 221, -3, 277, 220, 220, -116, 332, 167, 388, -117, 3, -61, 163, 56, 279, 394, 3, 171, 167, -170, -3, 168, -170, 337, -5, -166, -117, -54, -173, -53, -109, -2, 332, 279, -62, -5, -170, 276, 278, 222, 387, 1, 274, 226, -2, 386, 334, -3, 2, 164, -6, 166, 165, 332, 281, 2, 389, 1, 167, -166, 162, -60, 390, 55, -168, -4, 338, -55, -118, -174, -171, 51, 166, 56, 387, -118, -165, 163, 170, 51, -109, 166, 53, 162, -111, 388, 387, -6, -1, -57, 54, 221, -115, 56, 390, 339, 392, -1, 167, 223, -118, -171, 59, -6, -4, 393, -171, -109, -171, 386, 389, -5, -62, 58, 334, 388, 54, -174]}, {\"mode\": \"markers\", \"name\": \"step = 10298\", \"type\": \"scatter\", \"visible\": false, \"x\": [542, 136, 423, 434, 18, 33, 359, -67, 460, 325, 428, 402, 421, 486, 413, 529, 522, 405, 323, 460, 428, 185, 383, 123, 347, 25, 315, 37, 356, 310, 499, 276, 355, 194, 369, 194, 194, 341, -87, 191, 194, 126, 153, 154, -41, -80, 307, 484, 352, 339, 49, 474, 423, 73, 464, 481, 189, 161, 273, 19, -83, 17, 423, 297, 294, 315, -46, 423, -9, 38, 0, 190, 276, 60, 381, -62, 432, 289, -41, 78, 79, -54, 513, 173, 165, 17, 178, -67, 542, -71, 176, 133, 459, 21, 65, 78, 19, 257, 518, 418, 4, 439, 33, 325, 252, 352, 316, -99, 128, 482, 307, 94, 463, -62, 300, 132, -43, -33, 448, -4, 49, 292, -91, 12, 20, 54, 408, 141, 125, 534, 166, 194, 267, 59, 12, 99, 483, 397, -94, 102, 310, 61, 252, 342, 305, 523, 439, 324, 177, 423, -43, 262, -59, 12, -42, 482, 131, 521, 111, -43, 141, 192, 423, 21, 323, 165, -73, 542, 424, -51, -91, 416, 465, 391, 344, 331, 426, 393, 333, 118, 344, 463, 251, 181, -47, 521, 450, -37, -17, 83, 331, -8, -15, 44, 136, 323, -14, 91, 526, -99, 409, 426, 381, 439, 497, 2, 25, -54, 351, 19, 49, 323, 186, 194, 289, 83, 531, 451, 25, 265, 405, 402, 472, 497, 447, 274, -40, 57, 452, -74, 367, -31, 428, -42, 373, 347, 381, 51, 302, 170, 407, -99, 173, 265, 38, 7, 479, 293, 177, 186, 141, 150, 365, -4, -71, 307, 331, 33, -9, 189, 360, 49, 54, 283, 16, -59, 282, -12, 366, 479, 480, -72, -1, 363, -95, 20, -25, 455, 258, 439, 33, 80, 365, 133, 367, 4, 170, 80, 305, 486, -80, 418, 315, 131, 297, 95, 489, 489, 344, 339, 107, 15, 413, 384, 297, 409, 162, -80, 360, 355, 254, 250, 351, 57, 305, 77, -99, 539, 305, 182, 19, 18, 50, 21, 299, -95, 463, 367, 265, -24, 107, 136, 278, 476, 20, 166, 136, 153, 428, 249, 165, 136, 406, 289, 448, 107, 12, 530, 444, -62, 405, 174, 7, 405, 355, -4, 294, 397, 49, 534, -6, 54, 25, 153, 177, 65, -5, 62, 397, -94, 68, 73, 189, 460, 505, 439, 178, 524, 36], \"y\": [-9, 396, 167, 57, -6, -67, -5, 404, 226, 396, 289, -119, 280, -118, -65, 168, -184, 342, -183, 53, 282, -183, 280, 344, 169, 400, -1, -64, -121, 403, -175, -68, -64, 284, -177, 226, 225, -64, -1, 226, -125, 338, -64, 173, -184, 284, 397, -66, 341, 282, 167, 48, 399, -118, 280, -7, 400, -1, 48, -126, -1, 164, -180, 405, -2, 343, 231, -3, -8, -175, 168, -124, 226, -63, 347, -63, 347, -62, -10, -63, 287, 288, 340, 345, -6, 169, -118, -181, 229, -59, -184, -182, -118, -184, 56, -1, 284, 228, 228, -66, 341, 222, 228, 168, 342, -182, -59, 284, 231, 54, -117, 405, -60, -177, 169, 282, -117, 289, 222, 405, 172, 164, 167, -60, 342, 397, -68, 48, 401, 168, 281, 286, 48, -64, -182, 171, 172, 227, 56, -117, 401, -126, -64, 54, 396, 342, 402, -59, -177, 341, 170, -1, 340, 171, -183, 396, 227, -117, 55, 168, -8, 228, -124, 400, -63, -10, -117, -121, -5, -179, -183, 343, -122, -184, -182, 396, 346, 283, 343, -5, 338, 339, -68, 402, -121, 338, 222, -4, -118, -2, 57, -9, 347, 222, -64, -176, -180, -65, 49, 397, 402, 283, -178, 49, -182, 401, 287, -175, 228, 226, 404, -119, 342, 344, -68, 228, 280, 164, -60, -61, -63, 344, 281, 282, 231, 228, -64, -10, -117, 347, 400, -175, 231, 397, 51, -178, 56, -64, -62, 405, 48, 54, -125, -64, -59, -182, 164, 402, 226, -121, 229, 400, -5, -124, 51, 50, 164, -63, 343, 170, 404, 225, -7, 283, 224, 224, -124, 340, 169, 398, -125, -1, -67, 165, 54, 285, 404, -1, 173, 169, -180, -7, 170, -180, 345, -9, -176, -125, -60, -183, -59, -117, -6, 340, 285, -68, -9, -180, 282, 284, 226, 397, -3, 280, 230, -6, 396, 342, -7, -2, 166, -10, 168, 167, 340, 287, -2, 399, -3, 169, -176, 164, -66, 400, 53, -178, -8, 346, -61, -126, -184, -181, 49, 168, 54, 397, -126, -175, 165, 172, 49, -117, 168, 51, 164, -119, 398, 397, -10, -5, -63, 52, 225, -123, 54, 400, 347, 402, -5, 169, 227, -126, -181, 57, -10, -8, 403, -181, -117, -181, 396, 399, -9, -68, 56, 342, 398, 52, -184]}],\n",
       "                        {\"sliders\": [{\"active\": 0, \"currentvalue\": {\"prefix\": \"step: \"}, \"pad\": {\"t\": 50}, \"steps\": [{\"args\": [\"visible\", [true, false, false, false, false, false, false, false, false, false, false, false, false, false, false, false, false, false, false, false, false, false, false, false, false, false, false, false, false, false, false, false, false, false, false, false, false, false, false, false, false, false, false, false, false, false, false, false, false, false]], \"method\": \"restyle\"}, {\"args\": [\"visible\", [false, true, false, false, false, false, false, false, false, false, false, false, false, false, false, false, false, false, false, false, false, false, false, false, false, false, false, false, false, false, false, false, false, false, false, false, false, false, false, false, false, false, false, false, false, false, false, false, false, false]], \"method\": \"restyle\"}, {\"args\": [\"visible\", [false, false, true, false, false, false, false, false, false, false, false, false, false, false, false, false, false, false, false, false, false, false, false, false, false, false, false, false, false, false, false, false, false, false, false, false, false, false, false, false, false, false, false, false, false, false, false, false, false, false]], \"method\": \"restyle\"}, {\"args\": [\"visible\", [false, false, false, true, false, false, false, false, false, false, false, false, false, false, false, false, false, false, false, false, false, false, false, false, false, false, false, false, false, false, false, false, false, false, false, false, false, false, false, false, false, false, false, false, false, false, false, false, false, false]], \"method\": \"restyle\"}, {\"args\": [\"visible\", [false, false, false, false, true, false, false, false, false, false, false, false, false, false, false, false, false, false, false, false, false, false, false, false, false, false, false, false, false, false, false, false, false, false, false, false, false, false, false, false, false, false, false, false, false, false, false, false, false, false]], \"method\": \"restyle\"}, {\"args\": [\"visible\", [false, false, false, false, false, true, false, false, false, false, false, false, false, false, false, false, false, false, false, false, false, false, false, false, false, false, false, false, false, false, false, false, false, false, false, false, false, false, false, false, false, false, false, false, false, false, false, false, false, false]], \"method\": \"restyle\"}, {\"args\": [\"visible\", [false, false, false, false, false, false, true, false, false, false, false, false, false, false, false, false, false, false, false, false, false, false, false, false, false, false, false, false, false, false, false, false, false, false, false, false, false, false, false, false, false, false, false, false, false, false, false, false, false, false]], \"method\": \"restyle\"}, {\"args\": [\"visible\", [false, false, false, false, false, false, false, true, false, false, false, false, false, false, false, false, false, false, false, false, false, false, false, false, false, false, false, false, false, false, false, false, false, false, false, false, false, false, false, false, false, false, false, false, false, false, false, false, false, false]], \"method\": \"restyle\"}, {\"args\": [\"visible\", [false, false, false, false, false, false, false, false, true, false, false, false, false, false, false, false, false, false, false, false, false, false, false, false, false, false, false, false, false, false, false, false, false, false, false, false, false, false, false, false, false, false, false, false, false, false, false, false, false, false]], \"method\": \"restyle\"}, {\"args\": [\"visible\", [false, false, false, false, false, false, false, false, false, true, false, false, false, false, false, false, false, false, false, false, false, false, false, false, false, false, false, false, false, false, false, false, false, false, false, false, false, false, false, false, false, false, false, false, false, false, false, false, false, false]], \"method\": \"restyle\"}, {\"args\": [\"visible\", [false, false, false, false, false, false, false, false, false, false, true, false, false, false, false, false, false, false, false, false, false, false, false, false, false, false, false, false, false, false, false, false, false, false, false, false, false, false, false, false, false, false, false, false, false, false, false, false, false, false]], \"method\": \"restyle\"}, {\"args\": [\"visible\", [false, false, false, false, false, false, false, false, false, false, false, true, false, false, false, false, false, false, false, false, false, false, false, false, false, false, false, false, false, false, false, false, false, false, false, false, false, false, false, false, false, false, false, false, false, false, false, false, false, false]], \"method\": \"restyle\"}, {\"args\": [\"visible\", [false, false, false, false, false, false, false, false, false, false, false, false, true, false, false, false, false, false, false, false, false, false, false, false, false, false, false, false, false, false, false, false, false, false, false, false, false, false, false, false, false, false, false, false, false, false, false, false, false, false]], \"method\": \"restyle\"}, {\"args\": [\"visible\", [false, false, false, false, false, false, false, false, false, false, false, false, false, true, false, false, false, false, false, false, false, false, false, false, false, false, false, false, false, false, false, false, false, false, false, false, false, false, false, false, false, false, false, false, false, false, false, false, false, false]], \"method\": \"restyle\"}, {\"args\": [\"visible\", [false, false, false, false, false, false, false, false, false, false, false, false, false, false, true, false, false, false, false, false, false, false, false, false, false, false, false, false, false, false, false, false, false, false, false, false, false, false, false, false, false, false, false, false, false, false, false, false, false, false]], \"method\": \"restyle\"}, {\"args\": [\"visible\", [false, false, false, false, false, false, false, false, false, false, false, false, false, false, false, true, false, false, false, false, false, false, false, false, false, false, false, false, false, false, false, false, false, false, false, false, false, false, false, false, false, false, false, false, false, false, false, false, false, false]], \"method\": \"restyle\"}, {\"args\": [\"visible\", [false, false, false, false, false, false, false, false, false, false, false, false, false, false, false, false, true, false, false, false, false, false, false, false, false, false, false, false, false, false, false, false, false, false, false, false, false, false, false, false, false, false, false, false, false, false, false, false, false, false]], \"method\": \"restyle\"}, {\"args\": [\"visible\", [false, false, false, false, false, false, false, false, false, false, false, false, false, false, false, false, false, true, false, false, false, false, false, false, false, false, false, false, false, false, false, false, false, false, false, false, false, false, false, false, false, false, false, false, false, false, false, false, false, false]], \"method\": \"restyle\"}, {\"args\": [\"visible\", [false, false, false, false, false, false, false, false, false, false, false, false, false, false, false, false, false, false, true, false, false, false, false, false, false, false, false, false, false, false, false, false, false, false, false, false, false, false, false, false, false, false, false, false, false, false, false, false, false, false]], \"method\": \"restyle\"}, {\"args\": [\"visible\", [false, false, false, false, false, false, false, false, false, false, false, false, false, false, false, false, false, false, false, true, false, false, false, false, false, false, false, false, false, false, false, false, false, false, false, false, false, false, false, false, false, false, false, false, false, false, false, false, false, false]], \"method\": \"restyle\"}, {\"args\": [\"visible\", [false, false, false, false, false, false, false, false, false, false, false, false, false, false, false, false, false, false, false, false, true, false, false, false, false, false, false, false, false, false, false, false, false, false, false, false, false, false, false, false, false, false, false, false, false, false, false, false, false, false]], \"method\": \"restyle\"}, {\"args\": [\"visible\", [false, false, false, false, false, false, false, false, false, false, false, false, false, false, false, false, false, false, false, false, false, true, false, false, false, false, false, false, false, false, false, false, false, false, false, false, false, false, false, false, false, false, false, false, false, false, false, false, false, false]], \"method\": \"restyle\"}, {\"args\": [\"visible\", [false, false, false, false, false, false, false, false, false, false, false, false, false, false, false, false, false, false, false, false, false, false, true, false, false, false, false, false, false, false, false, false, false, false, false, false, false, false, false, false, false, false, false, false, false, false, false, false, false, false]], \"method\": \"restyle\"}, {\"args\": [\"visible\", [false, false, false, false, false, false, false, false, false, false, false, false, false, false, false, false, false, false, false, false, false, false, false, true, false, false, false, false, false, false, false, false, false, false, false, false, false, false, false, false, false, false, false, false, false, false, false, false, false, false]], \"method\": \"restyle\"}, {\"args\": [\"visible\", [false, false, false, false, false, false, false, false, false, false, false, false, false, false, false, false, false, false, false, false, false, false, false, false, true, false, false, false, false, false, false, false, false, false, false, false, false, false, false, false, false, false, false, false, false, false, false, false, false, false]], \"method\": \"restyle\"}, {\"args\": [\"visible\", [false, false, false, false, false, false, false, false, false, false, false, false, false, false, false, false, false, false, false, false, false, false, false, false, false, true, false, false, false, false, false, false, false, false, false, false, false, false, false, false, false, false, false, false, false, false, false, false, false, false]], \"method\": \"restyle\"}, {\"args\": [\"visible\", [false, false, false, false, false, false, false, false, false, false, false, false, false, false, false, false, false, false, false, false, false, false, false, false, false, false, true, false, false, false, false, false, false, false, false, false, false, false, false, false, false, false, false, false, false, false, false, false, false, false]], \"method\": \"restyle\"}, {\"args\": [\"visible\", [false, false, false, false, false, false, false, false, false, false, false, false, false, false, false, false, false, false, false, false, false, false, false, false, false, false, false, true, false, false, false, false, false, false, false, false, false, false, false, false, false, false, false, false, false, false, false, false, false, false]], \"method\": \"restyle\"}, {\"args\": [\"visible\", [false, false, false, false, false, false, false, false, false, false, false, false, false, false, false, false, false, false, false, false, false, false, false, false, false, false, false, false, true, false, false, false, false, false, false, false, false, false, false, false, false, false, false, false, false, false, false, false, false, false]], \"method\": \"restyle\"}, {\"args\": [\"visible\", [false, false, false, false, false, false, false, false, false, false, false, false, false, false, false, false, false, false, false, false, false, false, false, false, false, false, false, false, false, true, false, false, false, false, false, false, false, false, false, false, false, false, false, false, false, false, false, false, false, false]], \"method\": \"restyle\"}, {\"args\": [\"visible\", [false, false, false, false, false, false, false, false, false, false, false, false, false, false, false, false, false, false, false, false, false, false, false, false, false, false, false, false, false, false, true, false, false, false, false, false, false, false, false, false, false, false, false, false, false, false, false, false, false, false]], \"method\": \"restyle\"}, {\"args\": [\"visible\", [false, false, false, false, false, false, false, false, false, false, false, false, false, false, false, false, false, false, false, false, false, false, false, false, false, false, false, false, false, false, false, true, false, false, false, false, false, false, false, false, false, false, false, false, false, false, false, false, false, false]], \"method\": \"restyle\"}, {\"args\": [\"visible\", [false, false, false, false, false, false, false, false, false, false, false, false, false, false, false, false, false, false, false, false, false, false, false, false, false, false, false, false, false, false, false, false, true, false, false, false, false, false, false, false, false, false, false, false, false, false, false, false, false, false]], \"method\": \"restyle\"}, {\"args\": [\"visible\", [false, false, false, false, false, false, false, false, false, false, false, false, false, false, false, false, false, false, false, false, false, false, false, false, false, false, false, false, false, false, false, false, false, true, false, false, false, false, false, false, false, false, false, false, false, false, false, false, false, false]], \"method\": \"restyle\"}, {\"args\": [\"visible\", [false, false, false, false, false, false, false, false, false, false, false, false, false, false, false, false, false, false, false, false, false, false, false, false, false, false, false, false, false, false, false, false, false, false, true, false, false, false, false, false, false, false, false, false, false, false, false, false, false, false]], \"method\": \"restyle\"}, {\"args\": [\"visible\", [false, false, false, false, false, false, false, false, false, false, false, false, false, false, false, false, false, false, false, false, false, false, false, false, false, false, false, false, false, false, false, false, false, false, false, true, false, false, false, false, false, false, false, false, false, false, false, false, false, false]], \"method\": \"restyle\"}, {\"args\": [\"visible\", [false, false, false, false, false, false, false, false, false, false, false, false, false, false, false, false, false, false, false, false, false, false, false, false, false, false, false, false, false, false, false, false, false, false, false, false, true, false, false, false, false, false, false, false, false, false, false, false, false, false]], \"method\": \"restyle\"}, {\"args\": [\"visible\", [false, false, false, false, false, false, false, false, false, false, false, false, false, false, false, false, false, false, false, false, false, false, false, false, false, false, false, false, false, false, false, false, false, false, false, false, false, true, false, false, false, false, false, false, false, false, false, false, false, false]], \"method\": \"restyle\"}, {\"args\": [\"visible\", [false, false, false, false, false, false, false, false, false, false, false, false, false, false, false, false, false, false, false, false, false, false, false, false, false, false, false, false, false, false, false, false, false, false, false, false, false, false, true, false, false, false, false, false, false, false, false, false, false, false]], \"method\": \"restyle\"}, {\"args\": [\"visible\", [false, false, false, false, false, false, false, false, false, false, false, false, false, false, false, false, false, false, false, false, false, false, false, false, false, false, false, false, false, false, false, false, false, false, false, false, false, false, false, true, false, false, false, false, false, false, false, false, false, false]], \"method\": \"restyle\"}, {\"args\": [\"visible\", [false, false, false, false, false, false, false, false, false, false, false, false, false, false, false, false, false, false, false, false, false, false, false, false, false, false, false, false, false, false, false, false, false, false, false, false, false, false, false, false, true, false, false, false, false, false, false, false, false, false]], \"method\": \"restyle\"}, {\"args\": [\"visible\", [false, false, false, false, false, false, false, false, false, false, false, false, false, false, false, false, false, false, false, false, false, false, false, false, false, false, false, false, false, false, false, false, false, false, false, false, false, false, false, false, false, true, false, false, false, false, false, false, false, false]], \"method\": \"restyle\"}, {\"args\": [\"visible\", [false, false, false, false, false, false, false, false, false, false, false, false, false, false, false, false, false, false, false, false, false, false, false, false, false, false, false, false, false, false, false, false, false, false, false, false, false, false, false, false, false, false, true, false, false, false, false, false, false, false]], \"method\": \"restyle\"}, {\"args\": [\"visible\", [false, false, false, false, false, false, false, false, false, false, false, false, false, false, false, false, false, false, false, false, false, false, false, false, false, false, false, false, false, false, false, false, false, false, false, false, false, false, false, false, false, false, false, true, false, false, false, false, false, false]], \"method\": \"restyle\"}, {\"args\": [\"visible\", [false, false, false, false, false, false, false, false, false, false, false, false, false, false, false, false, false, false, false, false, false, false, false, false, false, false, false, false, false, false, false, false, false, false, false, false, false, false, false, false, false, false, false, false, true, false, false, false, false, false]], \"method\": \"restyle\"}, {\"args\": [\"visible\", [false, false, false, false, false, false, false, false, false, false, false, false, false, false, false, false, false, false, false, false, false, false, false, false, false, false, false, false, false, false, false, false, false, false, false, false, false, false, false, false, false, false, false, false, false, true, false, false, false, false]], \"method\": \"restyle\"}, {\"args\": [\"visible\", [false, false, false, false, false, false, false, false, false, false, false, false, false, false, false, false, false, false, false, false, false, false, false, false, false, false, false, false, false, false, false, false, false, false, false, false, false, false, false, false, false, false, false, false, false, false, true, false, false, false]], \"method\": \"restyle\"}, {\"args\": [\"visible\", [false, false, false, false, false, false, false, false, false, false, false, false, false, false, false, false, false, false, false, false, false, false, false, false, false, false, false, false, false, false, false, false, false, false, false, false, false, false, false, false, false, false, false, false, false, false, false, true, false, false]], \"method\": \"restyle\"}, {\"args\": [\"visible\", [false, false, false, false, false, false, false, false, false, false, false, false, false, false, false, false, false, false, false, false, false, false, false, false, false, false, false, false, false, false, false, false, false, false, false, false, false, false, false, false, false, false, false, false, false, false, false, false, true, false]], \"method\": \"restyle\"}, {\"args\": [\"visible\", [false, false, false, false, false, false, false, false, false, false, false, false, false, false, false, false, false, false, false, false, false, false, false, false, false, false, false, false, false, false, false, false, false, false, false, false, false, false, false, false, false, false, false, false, false, false, false, false, false, true]], \"method\": \"restyle\"}]}], \"template\": {\"data\": {\"bar\": [{\"error_x\": {\"color\": \"#2a3f5f\"}, \"error_y\": {\"color\": \"#2a3f5f\"}, \"marker\": {\"line\": {\"color\": \"#E5ECF6\", \"width\": 0.5}}, \"type\": \"bar\"}], \"barpolar\": [{\"marker\": {\"line\": {\"color\": \"#E5ECF6\", \"width\": 0.5}}, \"type\": \"barpolar\"}], \"carpet\": [{\"aaxis\": {\"endlinecolor\": \"#2a3f5f\", \"gridcolor\": \"white\", \"linecolor\": \"white\", \"minorgridcolor\": \"white\", \"startlinecolor\": \"#2a3f5f\"}, \"baxis\": {\"endlinecolor\": \"#2a3f5f\", \"gridcolor\": \"white\", \"linecolor\": \"white\", \"minorgridcolor\": \"white\", \"startlinecolor\": \"#2a3f5f\"}, \"type\": \"carpet\"}], \"choropleth\": [{\"colorbar\": {\"outlinewidth\": 0, \"ticks\": \"\"}, \"type\": \"choropleth\"}], \"contour\": [{\"colorbar\": {\"outlinewidth\": 0, \"ticks\": \"\"}, \"colorscale\": [[0.0, \"#0d0887\"], [0.1111111111111111, \"#46039f\"], [0.2222222222222222, \"#7201a8\"], [0.3333333333333333, \"#9c179e\"], [0.4444444444444444, \"#bd3786\"], [0.5555555555555556, \"#d8576b\"], [0.6666666666666666, \"#ed7953\"], [0.7777777777777778, \"#fb9f3a\"], [0.8888888888888888, \"#fdca26\"], [1.0, \"#f0f921\"]], \"type\": \"contour\"}], \"contourcarpet\": [{\"colorbar\": {\"outlinewidth\": 0, \"ticks\": \"\"}, \"type\": \"contourcarpet\"}], \"heatmap\": [{\"colorbar\": {\"outlinewidth\": 0, \"ticks\": \"\"}, \"colorscale\": [[0.0, \"#0d0887\"], [0.1111111111111111, \"#46039f\"], [0.2222222222222222, \"#7201a8\"], [0.3333333333333333, \"#9c179e\"], [0.4444444444444444, \"#bd3786\"], [0.5555555555555556, \"#d8576b\"], [0.6666666666666666, \"#ed7953\"], [0.7777777777777778, \"#fb9f3a\"], [0.8888888888888888, \"#fdca26\"], [1.0, \"#f0f921\"]], \"type\": \"heatmap\"}], \"heatmapgl\": [{\"colorbar\": {\"outlinewidth\": 0, \"ticks\": \"\"}, \"colorscale\": [[0.0, \"#0d0887\"], [0.1111111111111111, \"#46039f\"], [0.2222222222222222, \"#7201a8\"], [0.3333333333333333, \"#9c179e\"], [0.4444444444444444, \"#bd3786\"], [0.5555555555555556, \"#d8576b\"], [0.6666666666666666, \"#ed7953\"], [0.7777777777777778, \"#fb9f3a\"], [0.8888888888888888, \"#fdca26\"], [1.0, \"#f0f921\"]], \"type\": \"heatmapgl\"}], \"histogram\": [{\"marker\": {\"colorbar\": {\"outlinewidth\": 0, \"ticks\": \"\"}}, \"type\": \"histogram\"}], \"histogram2d\": [{\"colorbar\": {\"outlinewidth\": 0, \"ticks\": \"\"}, \"colorscale\": [[0.0, \"#0d0887\"], [0.1111111111111111, \"#46039f\"], [0.2222222222222222, \"#7201a8\"], [0.3333333333333333, \"#9c179e\"], [0.4444444444444444, \"#bd3786\"], [0.5555555555555556, \"#d8576b\"], [0.6666666666666666, \"#ed7953\"], [0.7777777777777778, \"#fb9f3a\"], [0.8888888888888888, \"#fdca26\"], [1.0, \"#f0f921\"]], \"type\": \"histogram2d\"}], \"histogram2dcontour\": [{\"colorbar\": {\"outlinewidth\": 0, \"ticks\": \"\"}, \"colorscale\": [[0.0, \"#0d0887\"], [0.1111111111111111, \"#46039f\"], [0.2222222222222222, \"#7201a8\"], [0.3333333333333333, \"#9c179e\"], [0.4444444444444444, \"#bd3786\"], [0.5555555555555556, \"#d8576b\"], [0.6666666666666666, \"#ed7953\"], [0.7777777777777778, \"#fb9f3a\"], [0.8888888888888888, \"#fdca26\"], [1.0, \"#f0f921\"]], \"type\": \"histogram2dcontour\"}], \"mesh3d\": [{\"colorbar\": {\"outlinewidth\": 0, \"ticks\": \"\"}, \"type\": \"mesh3d\"}], \"parcoords\": [{\"line\": {\"colorbar\": {\"outlinewidth\": 0, \"ticks\": \"\"}}, \"type\": \"parcoords\"}], \"pie\": [{\"automargin\": true, \"type\": \"pie\"}], \"scatter\": [{\"marker\": {\"colorbar\": {\"outlinewidth\": 0, \"ticks\": \"\"}}, \"type\": \"scatter\"}], \"scatter3d\": [{\"line\": {\"colorbar\": {\"outlinewidth\": 0, \"ticks\": \"\"}}, \"marker\": {\"colorbar\": {\"outlinewidth\": 0, \"ticks\": \"\"}}, \"type\": \"scatter3d\"}], \"scattercarpet\": [{\"marker\": {\"colorbar\": {\"outlinewidth\": 0, \"ticks\": \"\"}}, \"type\": \"scattercarpet\"}], \"scattergeo\": [{\"marker\": {\"colorbar\": {\"outlinewidth\": 0, \"ticks\": \"\"}}, \"type\": \"scattergeo\"}], \"scattergl\": [{\"marker\": {\"colorbar\": {\"outlinewidth\": 0, \"ticks\": \"\"}}, \"type\": \"scattergl\"}], \"scattermapbox\": [{\"marker\": {\"colorbar\": {\"outlinewidth\": 0, \"ticks\": \"\"}}, \"type\": \"scattermapbox\"}], \"scatterpolar\": [{\"marker\": {\"colorbar\": {\"outlinewidth\": 0, \"ticks\": \"\"}}, \"type\": \"scatterpolar\"}], \"scatterpolargl\": [{\"marker\": {\"colorbar\": {\"outlinewidth\": 0, \"ticks\": \"\"}}, \"type\": \"scatterpolargl\"}], \"scatterternary\": [{\"marker\": {\"colorbar\": {\"outlinewidth\": 0, \"ticks\": \"\"}}, \"type\": \"scatterternary\"}], \"surface\": [{\"colorbar\": {\"outlinewidth\": 0, \"ticks\": \"\"}, \"colorscale\": [[0.0, \"#0d0887\"], [0.1111111111111111, \"#46039f\"], [0.2222222222222222, \"#7201a8\"], [0.3333333333333333, \"#9c179e\"], [0.4444444444444444, \"#bd3786\"], [0.5555555555555556, \"#d8576b\"], [0.6666666666666666, \"#ed7953\"], [0.7777777777777778, \"#fb9f3a\"], [0.8888888888888888, \"#fdca26\"], [1.0, \"#f0f921\"]], \"type\": \"surface\"}], \"table\": [{\"cells\": {\"fill\": {\"color\": \"#EBF0F8\"}, \"line\": {\"color\": \"white\"}}, \"header\": {\"fill\": {\"color\": \"#C8D4E3\"}, \"line\": {\"color\": \"white\"}}, \"type\": \"table\"}]}, \"layout\": {\"annotationdefaults\": {\"arrowcolor\": \"#2a3f5f\", \"arrowhead\": 0, \"arrowwidth\": 1}, \"coloraxis\": {\"colorbar\": {\"outlinewidth\": 0, \"ticks\": \"\"}}, \"colorscale\": {\"diverging\": [[0, \"#8e0152\"], [0.1, \"#c51b7d\"], [0.2, \"#de77ae\"], [0.3, \"#f1b6da\"], [0.4, \"#fde0ef\"], [0.5, \"#f7f7f7\"], [0.6, \"#e6f5d0\"], [0.7, \"#b8e186\"], [0.8, \"#7fbc41\"], [0.9, \"#4d9221\"], [1, \"#276419\"]], \"sequential\": [[0.0, \"#0d0887\"], [0.1111111111111111, \"#46039f\"], [0.2222222222222222, \"#7201a8\"], [0.3333333333333333, \"#9c179e\"], [0.4444444444444444, \"#bd3786\"], [0.5555555555555556, \"#d8576b\"], [0.6666666666666666, \"#ed7953\"], [0.7777777777777778, \"#fb9f3a\"], [0.8888888888888888, \"#fdca26\"], [1.0, \"#f0f921\"]], \"sequentialminus\": [[0.0, \"#0d0887\"], [0.1111111111111111, \"#46039f\"], [0.2222222222222222, \"#7201a8\"], [0.3333333333333333, \"#9c179e\"], [0.4444444444444444, \"#bd3786\"], [0.5555555555555556, \"#d8576b\"], [0.6666666666666666, \"#ed7953\"], [0.7777777777777778, \"#fb9f3a\"], [0.8888888888888888, \"#fdca26\"], [1.0, \"#f0f921\"]]}, \"colorway\": [\"#636efa\", \"#EF553B\", \"#00cc96\", \"#ab63fa\", \"#FFA15A\", \"#19d3f3\", \"#FF6692\", \"#B6E880\", \"#FF97FF\", \"#FECB52\"], \"font\": {\"color\": \"#2a3f5f\"}, \"geo\": {\"bgcolor\": \"white\", \"lakecolor\": \"white\", \"landcolor\": \"#E5ECF6\", \"showlakes\": true, \"showland\": true, \"subunitcolor\": \"white\"}, \"hoverlabel\": {\"align\": \"left\"}, \"hovermode\": \"closest\", \"mapbox\": {\"style\": \"light\"}, \"paper_bgcolor\": \"white\", \"plot_bgcolor\": \"#E5ECF6\", \"polar\": {\"angularaxis\": {\"gridcolor\": \"white\", \"linecolor\": \"white\", \"ticks\": \"\"}, \"bgcolor\": \"#E5ECF6\", \"radialaxis\": {\"gridcolor\": \"white\", \"linecolor\": \"white\", \"ticks\": \"\"}}, \"scene\": {\"xaxis\": {\"backgroundcolor\": \"#E5ECF6\", \"gridcolor\": \"white\", \"gridwidth\": 2, \"linecolor\": \"white\", \"showbackground\": true, \"ticks\": \"\", \"zerolinecolor\": \"white\"}, \"yaxis\": {\"backgroundcolor\": \"#E5ECF6\", \"gridcolor\": \"white\", \"gridwidth\": 2, \"linecolor\": \"white\", \"showbackground\": true, \"ticks\": \"\", \"zerolinecolor\": \"white\"}, \"zaxis\": {\"backgroundcolor\": \"#E5ECF6\", \"gridcolor\": \"white\", \"gridwidth\": 2, \"linecolor\": \"white\", \"showbackground\": true, \"ticks\": \"\", \"zerolinecolor\": \"white\"}}, \"shapedefaults\": {\"line\": {\"color\": \"#2a3f5f\"}}, \"ternary\": {\"aaxis\": {\"gridcolor\": \"white\", \"linecolor\": \"white\", \"ticks\": \"\"}, \"baxis\": {\"gridcolor\": \"white\", \"linecolor\": \"white\", \"ticks\": \"\"}, \"bgcolor\": \"#E5ECF6\", \"caxis\": {\"gridcolor\": \"white\", \"linecolor\": \"white\", \"ticks\": \"\"}}, \"title\": {\"x\": 0.05}, \"xaxis\": {\"automargin\": true, \"gridcolor\": \"white\", \"linecolor\": \"white\", \"ticks\": \"\", \"title\": {\"standoff\": 15}, \"zerolinecolor\": \"white\", \"zerolinewidth\": 2}, \"yaxis\": {\"automargin\": true, \"gridcolor\": \"white\", \"linecolor\": \"white\", \"ticks\": \"\", \"title\": {\"standoff\": 15}, \"zerolinecolor\": \"white\", \"zerolinewidth\": 2}}}, \"yaxis\": {\"autorange\": \"reversed\"}},\n",
       "                        {\"responsive\": true}\n",
       "                    ).then(function(){\n",
       "                            \n",
       "var gd = document.getElementById('d7628048-17ba-42de-bf3e-86ba7999fba9');\n",
       "var x = new MutationObserver(function (mutations, observer) {{\n",
       "        var display = window.getComputedStyle(gd).display;\n",
       "        if (!display || display === 'none') {{\n",
       "            console.log([gd, 'removed!']);\n",
       "            Plotly.purge(gd);\n",
       "            observer.disconnect();\n",
       "        }}\n",
       "}});\n",
       "\n",
       "// Listen for the removal of the full notebook cells\n",
       "var notebookContainer = gd.closest('#notebook-container');\n",
       "if (notebookContainer) {{\n",
       "    x.observe(notebookContainer, {childList: true});\n",
       "}}\n",
       "\n",
       "// Listen for the clearing of the current output cell\n",
       "var outputEl = gd.closest('.output');\n",
       "if (outputEl) {{\n",
       "    x.observe(outputEl, {childList: true});\n",
       "}}\n",
       "\n",
       "                        })\n",
       "                };\n",
       "                });\n",
       "            </script>\n",
       "        </div>"
      ]
     },
     "metadata": {},
     "output_type": "display_data"
    }
   ],
   "source": [
    "# https://plot.ly/python/sliders/\n",
    "import plotly.graph_objects as go\n",
    "\n",
    "fig = go.Figure()\n",
    "\n",
    "# Add traces, one for each slider step\n",
    "for step in np.arange(10200, 10300, 2):\n",
    "    pos = x0 + v * step \n",
    "    fig.add_trace(\n",
    "        go.Scatter(\n",
    "            visible=False,\n",
    "#             line=dict(color=\"#00CED1\", width=6),\n",
    "            name=f\"step = {step}\",\n",
    "            x=pos[:,0],\n",
    "            y=pos[:,1],\n",
    "            mode='markers',\n",
    "        ))\n",
    "\n",
    "# # Make 0th trace visible\n",
    "fig.data[0].visible = True\n",
    "\n",
    "# Create and add slider\n",
    "steps = []\n",
    "for i in range(len(fig.data)):\n",
    "    step = dict(\n",
    "        method=\"restyle\",\n",
    "        args=[\"visible\", [False] * len(fig.data)],\n",
    "    )\n",
    "    step[\"args\"][1][i] = True  # Toggle i'th trace to \"visible\"\n",
    "    steps.append(step)\n",
    "\n",
    "sliders = [dict(\n",
    "    active=0,\n",
    "    currentvalue={\"prefix\": \"step: \"},\n",
    "    pad={\"t\": 50},\n",
    "    steps=steps\n",
    ")]\n",
    "\n",
    "fig.update_layout(\n",
    "    sliders=sliders\n",
    ")\n",
    "\n",
    "fig.update_yaxes(autorange=\"reversed\")\n"
   ]
  },
  {
   "cell_type": "markdown",
   "metadata": {},
   "source": [
    "At t=10240, the points says \"RLEZNRAN\"."
   ]
  },
  {
   "cell_type": "code",
   "execution_count": 17,
   "metadata": {},
   "outputs": [
    {
     "name": "stdout",
     "output_type": "stream",
     "text": [
      "Day 11: Chronal Charge\n"
     ]
    }
   ],
   "source": [
    "get_title(11)"
   ]
  },
  {
   "cell_type": "markdown",
   "metadata": {},
   "source": [
    "## Day 11: Chronal Charge\n",
    "\n",
    "### Part 1\n",
    "\n",
    "Sum of 3x3-square entries from 300x300 grid."
   ]
  },
  {
   "cell_type": "code",
   "execution_count": 55,
   "metadata": {},
   "outputs": [],
   "source": [
    "def day11_power_level(cell, serial_num):\n",
    "    \"\"\"\n",
    "    >>> day11_power_level((3, 5), 8)\n",
    "    4\n",
    "    >>> day11_power_level((122, 79), 57)\n",
    "    -5\n",
    "    >>> day11_power_level((217, 196), 39)\n",
    "    0\n",
    "    >>> day11_power_level((101, 153), 71)\n",
    "    4\n",
    "    \"\"\"\n",
    "    x, y = cell\n",
    "    rack_id = x + 10\n",
    "    res = rack_id * y\n",
    "    res += serial_num\n",
    "    res *= rack_id\n",
    "    res = int(str(res)[-3])\n",
    "    res -= 5\n",
    "    return res\n",
    "\n",
    "def day11_total_power(cell, serial_num):\n",
    "    \"\"\"\n",
    "    >>> day11_total_power((33, 45), 18)\n",
    "    29\n",
    "    >>> day11_total_power((21, 61), 42)\n",
    "    30\n",
    "    \"\"\"\n",
    "    x, y = cell\n",
    "    res = sum(day11_power_level((x + i, y + j), serial_num)\n",
    "            for i in range(3) for j in range(3))\n",
    "    return res"
   ]
  },
  {
   "cell_type": "code",
   "execution_count": 56,
   "metadata": {},
   "outputs": [
    {
     "data": {
      "text/plain": [
       "TestResults(failed=0, attempted=6)"
      ]
     },
     "execution_count": 56,
     "metadata": {},
     "output_type": "execute_result"
    }
   ],
   "source": [
    "doctest.testmod()"
   ]
  },
  {
   "cell_type": "code",
   "execution_count": 52,
   "metadata": {},
   "outputs": [
    {
     "name": "stdout",
     "output_type": "stream",
     "text": [
      "-2 -4  4  4  4\n",
      "-4  4  4  4 -5\n",
      " 4  3  3  4 -4\n",
      " 1  1  2  4 -3\n",
      "-1  0  2 -5 -2\n"
     ]
    }
   ],
   "source": [
    "res = [[0]*5 for _ in range(5)]\n",
    "for i in range(5):\n",
    "    for j in range(5):\n",
    "        res[j][i] = day11_power_level((i + 32, j + 44), 18)\n",
    "\n",
    "for line in res:\n",
    "    print(\" \".join(map(lambda n: f\"{n: 2d}\", line)))"
   ]
  },
  {
   "cell_type": "code",
   "execution_count": 54,
   "metadata": {},
   "outputs": [
    {
     "name": "stdout",
     "output_type": "stream",
     "text": [
      "-3  4  2  2  2\n",
      "-4  4  3  3  4\n",
      "-5  3  3  4 -4\n",
      " 4  3  3  4 -3\n",
      " 3  3  3 -5 -1\n"
     ]
    }
   ],
   "source": [
    "res = [[0]*5 for _ in range(5)]\n",
    "for i in range(5):\n",
    "    for j in range(5):\n",
    "        res[j][i] = day11_power_level((i + 20, j + 60), 42)\n",
    "\n",
    "for line in res:\n",
    "    print(\" \".join(map(lambda n: f\"{n: 2d}\", line)))"
   ]
  },
  {
   "cell_type": "code",
   "execution_count": 64,
   "metadata": {},
   "outputs": [],
   "source": [
    "import scipy.signal"
   ]
  },
  {
   "cell_type": "code",
   "execution_count": 97,
   "metadata": {},
   "outputs": [],
   "source": [
    "def day11(serial_num):\n",
    "    \"\"\"\n",
    "    >>> day11(18)\n",
    "    (33, 45)\n",
    "    >>> day11(42)\n",
    "    (21, 61)\n",
    "    \"\"\"\n",
    "    grid = np.zeros((300, 300))\n",
    "    for i in range(300):\n",
    "        for j in range(300):\n",
    "            grid[i, j] = day11_power_level((i + 1, j + 1), serial_num)\n",
    "\n",
    "    out = scipy.signal.convolve2d(grid, np.ones((3, 3)), mode='valid')\n",
    "    idx = np.argmax(out)\n",
    "    i, j = np.unravel_index(idx, out.shape)\n",
    "    return (i + 1, j + 1)  # to 1-based indexing"
   ]
  },
  {
   "cell_type": "code",
   "execution_count": 95,
   "metadata": {},
   "outputs": [
    {
     "data": {
      "text/plain": [
       "TestResults(failed=0, attempted=8)"
      ]
     },
     "execution_count": 95,
     "metadata": {},
     "output_type": "execute_result"
    }
   ],
   "source": [
    "doctest.testmod()"
   ]
  },
  {
   "cell_type": "code",
   "execution_count": 96,
   "metadata": {},
   "outputs": [
    {
     "data": {
      "text/plain": [
       "(20, 54)"
      ]
     },
     "execution_count": 96,
     "metadata": {},
     "output_type": "execute_result"
    }
   ],
   "source": [
    "day11(3613)"
   ]
  },
  {
   "cell_type": "markdown",
   "metadata": {},
   "source": [
    "### Part 2\n",
    "\n",
    "Sum of NxN-square entries from 300x300 grid. \n",
    "\n",
    "**[FIXME]** This brute-force naive algorithm is slow."
   ]
  },
  {
   "cell_type": "code",
   "execution_count": 103,
   "metadata": {},
   "outputs": [],
   "source": [
    "def day11_mod(serial_num):\n",
    "    \"\"\"\n",
    "    >>> day11(18)\n",
    "    (90, 269, 16)\n",
    "    >>> day11(42)\n",
    "    (232, 251, 12)\n",
    "    \"\"\"\n",
    "    grid = np.zeros((300, 300))\n",
    "    for i in range(300):\n",
    "        for j in range(300):\n",
    "            grid[i, j] = day11_power_level((i + 1, j + 1), serial_num)\n",
    "\n",
    "    d = dict()\n",
    "    for size in range(1, 301):\n",
    "        out = scipy.signal.convolve2d(grid, np.ones((size, size)), mode='valid')\n",
    "        idx = np.argmax(out)\n",
    "        i, j = np.unravel_index(idx, out.shape)\n",
    "        d[i, j, size] = int(out[i, j])\n",
    "    \n",
    "    i, j, size = max(d.keys(), key=lambda k: d[k])\n",
    "    return (i + 1, j + 1, size)  # to 1-based indexing\n"
   ]
  },
  {
   "cell_type": "code",
   "execution_count": 105,
   "metadata": {},
   "outputs": [
    {
     "data": {
      "text/plain": [
       "(233, 93, 13)"
      ]
     },
     "execution_count": 105,
     "metadata": {},
     "output_type": "execute_result"
    }
   ],
   "source": [
    "day11_mod(3613)"
   ]
  },
  {
   "cell_type": "code",
   "execution_count": 106,
   "metadata": {},
   "outputs": [
    {
     "name": "stdout",
     "output_type": "stream",
     "text": [
      "Day 12: Subterranean Sustainability\n"
     ]
    }
   ],
   "source": [
    "get_title(12)"
   ]
  },
  {
   "cell_type": "markdown",
   "metadata": {},
   "source": [
    "## Day 12: Subterranean Sustainability\n",
    "\n",
    "### Part 1"
   ]
  },
  {
   "cell_type": "code",
   "execution_count": 107,
   "metadata": {},
   "outputs": [],
   "source": [
    "def day12_read():\n"
   ]
  },
  {
   "cell_type": "code",
   "execution_count": 108,
   "metadata": {},
   "outputs": [
    {
     "ename": "FileNotFoundError",
     "evalue": "[Errno 2] No such file or directory: './2019/day12.txt'",
     "output_type": "error",
     "traceback": [
      "\u001b[0;31m---------------------------------------------------------------------------\u001b[0m",
      "\u001b[0;31mFileNotFoundError\u001b[0m                         Traceback (most recent call last)",
      "\u001b[0;32m<ipython-input-108-0daf6dd48524>\u001b[0m in \u001b[0;36m<module>\u001b[0;34m\u001b[0m\n\u001b[0;32m----> 1\u001b[0;31m \u001b[0minputs\u001b[0m \u001b[0;34m=\u001b[0m \u001b[0mday12_read\u001b[0m\u001b[0;34m(\u001b[0m\u001b[0;34m)\u001b[0m\u001b[0;34m\u001b[0m\u001b[0;34m\u001b[0m\u001b[0m\n\u001b[0m",
      "\u001b[0;32m<ipython-input-107-3d484dcd9d94>\u001b[0m in \u001b[0;36mday12_read\u001b[0;34m()\u001b[0m\n\u001b[1;32m      1\u001b[0m \u001b[0;32mdef\u001b[0m \u001b[0mday12_read\u001b[0m\u001b[0;34m(\u001b[0m\u001b[0;34m)\u001b[0m\u001b[0;34m:\u001b[0m\u001b[0;34m\u001b[0m\u001b[0;34m\u001b[0m\u001b[0m\n\u001b[0;32m----> 2\u001b[0;31m     \u001b[0;32mreturn\u001b[0m \u001b[0;34m[\u001b[0m\u001b[0mline\u001b[0m\u001b[0;34m.\u001b[0m\u001b[0mstrip\u001b[0m\u001b[0;34m(\u001b[0m\u001b[0;34m)\u001b[0m \u001b[0;32mfor\u001b[0m \u001b[0mline\u001b[0m \u001b[0;32min\u001b[0m \u001b[0mopen\u001b[0m\u001b[0;34m(\u001b[0m\u001b[0;34m\"./2019/day12.txt\"\u001b[0m\u001b[0;34m)\u001b[0m\u001b[0;34m.\u001b[0m\u001b[0mreadlines\u001b[0m\u001b[0;34m(\u001b[0m\u001b[0;34m)\u001b[0m\u001b[0;34m]\u001b[0m\u001b[0;34m\u001b[0m\u001b[0;34m\u001b[0m\u001b[0m\n\u001b[0m",
      "\u001b[0;31mFileNotFoundError\u001b[0m: [Errno 2] No such file or directory: './2019/day12.txt'"
     ]
    }
   ],
   "source": [
    "inputs = day12_read()"
   ]
  },
  {
   "cell_type": "code",
   "execution_count": null,
   "metadata": {},
   "outputs": [],
   "source": []
  }
 ],
 "metadata": {
  "kernelspec": {
   "display_name": "Python 3",
   "language": "python",
   "name": "python3"
  },
  "language_info": {
   "codemirror_mode": {
    "name": "ipython",
    "version": 3
   },
   "file_extension": ".py",
   "mimetype": "text/x-python",
   "name": "python",
   "nbconvert_exporter": "python",
   "pygments_lexer": "ipython3",
   "version": "3.7.5"
  }
 },
 "nbformat": 4,
 "nbformat_minor": 2
}
