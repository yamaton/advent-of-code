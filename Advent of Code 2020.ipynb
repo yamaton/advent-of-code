{
 "cells": [
  {
   "cell_type": "markdown",
   "metadata": {},
   "source": [
    "# Advent of Code 2020\n"
   ]
  },
  {
   "cell_type": "markdown",
   "metadata": {},
   "source": [
    "## Day1: 2SUM\n",
    "Find product of two numbers in a list such that the sum of the two numbers is 2020."
   ]
  },
  {
   "cell_type": "code",
   "execution_count": 4,
   "metadata": {},
   "outputs": [],
   "source": [
    "def day01_2sum(xs: list[int], sumval=2020) -> int:\n",
    "    \"\"\"2SUM in O(n)\"\"\"\n",
    "    seen = set()\n",
    "    for x in xs:\n",
    "        if sumval - x in seen:\n",
    "            return x * (sumval - x)\n",
    "        seen.add(x)\n",
    "\n",
    "    # not found\n",
    "    return -1"
   ]
  },
  {
   "cell_type": "code",
   "execution_count": 5,
   "metadata": {},
   "outputs": [
    {
     "name": "stdout",
     "output_type": "stream",
     "text": [
      "786811\n"
     ]
    }
   ],
   "source": [
    "with open(\"2020/day01_input.txt\") as f:\n",
    "    xs = [int(x) for x in f.readlines()]\n",
    "    result = day01_2sum(xs)\n",
    "    print(result)"
   ]
  },
  {
   "cell_type": "markdown",
   "metadata": {},
   "source": [
    "## Day1: 3SUM\n",
    "Find product of three numbers in a list such that the sum of the two numbers is 2020."
   ]
  },
  {
   "cell_type": "code",
   "execution_count": 6,
   "metadata": {},
   "outputs": [],
   "source": [
    "def day01_3sum(xs: list[int], sumval=2020) -> int:    \n",
    "    \"\"\"3SUM in O(N^2)\"\"\"\n",
    "    seen = set()\n",
    "    n = len(xs)\n",
    "    for i in range(n):\n",
    "        x = xs[i]\n",
    "        for j in range(i + 1, n):\n",
    "            y = xs[j]\n",
    "            z = sumval - x - y\n",
    "            if z in seen:\n",
    "                return x * y * z\n",
    "            seen.add(y)\n",
    "        seen.add(x)\n",
    "    \n",
    "    # not found\n",
    "    return -1"
   ]
  },
  {
   "cell_type": "code",
   "execution_count": 7,
   "metadata": {},
   "outputs": [
    {
     "name": "stdout",
     "output_type": "stream",
     "text": [
      "199068980\n"
     ]
    }
   ],
   "source": [
    "with open(\"2020/day01_input.txt\") as f:\n",
    "    xs = [int(x) for x in f.readlines() if x.strip()]\n",
    "    result = day01_3sum(xs)\n",
    "    print(result)"
   ]
  },
  {
   "cell_type": "markdown",
   "metadata": {},
   "source": [
    "## Day 2: Password validity\n",
    "\n",
    "For example, `1-3 a` means the letter `a` can appear at least once, and at most three times. Assume each rule is about a single letter usage."
   ]
  },
  {
   "cell_type": "code",
   "execution_count": 7,
   "metadata": {},
   "outputs": [],
   "source": [
    "def day02_parse(line: str) -> tuple[int, int, str, str]:\n",
    "    \"\"\"\n",
    "    >>> day02_parse(\"1-3 a: abcde\")\n",
    "    (1, 3, 'a', 'abcde')\n",
    "    \"\"\"\n",
    "    rule, password = line.split(\": \")\n",
    "    range, letter = rule.split()\n",
    "    from_, to_ = map(int, range.split(\"-\"))\n",
    "    return (from_, to_, letter, password)\n",
    "\n",
    "def day02_isvalid(line: str) -> bool:\n",
    "    \"\"\"\n",
    "    >>> day02_isvalid(1, 3, 'a', 'abcde')\n",
    "    True\n",
    "    >>> day02_isvalid(1, 3, 'b', 'cdefg')\n",
    "    False\n",
    "    >>> day02_isvalid(2, 9, 'c', 'ccccccccc')\n",
    "    True\n",
    "    \"\"\"\n",
    "    from_, to_, letter, password = day02_parse(line)\n",
    "    cnt = password.count(letter)\n",
    "    return from_ <= cnt and cnt <= to_"
   ]
  },
  {
   "cell_type": "code",
   "execution_count": 8,
   "metadata": {},
   "outputs": [
    {
     "name": "stdout",
     "output_type": "stream",
     "text": [
      "607\n"
     ]
    }
   ],
   "source": [
    "with open(\"2020/day02_input.txt\") as f:\n",
    "    xs = [x for x in f.readlines() if x.strip()]\n",
    "    result = sum(day02_isvalid(x) for x in xs)\n",
    "    print(result)"
   ]
  },
  {
   "cell_type": "code",
   "execution_count": 16,
   "metadata": {},
   "outputs": [],
   "source": [
    "def day02_isvalid_updated(line: str) -> bool:\n",
    "    \"\"\"\n",
    "    >>> day02_isvalid_updated(1, 3, 'a', 'abcde')\n",
    "    True\n",
    "    >>> day02_isvalid_updated(1, 3, 'b', 'cdefg')\n",
    "    False\n",
    "    >>> day02_isvalid_updated(2, 9, 'c', 'ccccccccc')\n",
    "    False\n",
    "    \"\"\"\n",
    "    from_, to_, letter, password = day02_parse(line)\n",
    "    criteria1 = password[from_ - 1] == letter\n",
    "    criteria2 = password[to_ - 1] == letter\n",
    "    return criteria1 != criteria2"
   ]
  },
  {
   "cell_type": "code",
   "execution_count": 17,
   "metadata": {},
   "outputs": [
    {
     "name": "stdout",
     "output_type": "stream",
     "text": [
      "321\n"
     ]
    }
   ],
   "source": [
    "with open(\"2020/day02_input.txt\") as f:\n",
    "    xs = [x for x in f.readlines() if x.strip()]\n",
    "    result = sum(day02_isvalid_updated(x) for x in xs)\n",
    "    print(result)"
   ]
  },
  {
   "cell_type": "markdown",
   "metadata": {},
   "source": [
    "## Day 3: Slope in 2D"
   ]
  },
  {
   "cell_type": "code",
   "execution_count": 40,
   "metadata": {},
   "outputs": [],
   "source": [
    "def day03_slope(grid: list[str], hstepsize=3, vstepsize=1) -> int:\n",
    "    \"\"\"\n",
    "    Grid is rectangular composed of cells with either '.' or '#'.\n",
    "    \"\"\"\n",
    "    height = len(grid)\n",
    "    width = len(grid[0])\n",
    "    maxstep = (height + vstepsize - 1) // vstepsize\n",
    "    s = \"\".join(grid[vstepsize * i][(hstepsize * i) % width] for i in range(1, maxstep))\n",
    "    return s.count(\"#\")"
   ]
  },
  {
   "cell_type": "code",
   "execution_count": 41,
   "metadata": {},
   "outputs": [
    {
     "name": "stdout",
     "output_type": "stream",
     "text": [
      "189\n"
     ]
    }
   ],
   "source": [
    "with open(\"2020/day03_input.txt\") as f:\n",
    "    grid = [line.strip() for line in f.readlines() if line.strip()]\n",
    "    result = day03_slope(grid)\n",
    "    print(result)"
   ]
  },
  {
   "cell_type": "code",
   "execution_count": 42,
   "metadata": {},
   "outputs": [],
   "source": [
    "# Day 3 test \n",
    "grid = [\n",
    "    \"..##.......\",\n",
    "    \"#...#...#..\",\n",
    "    \".#....#..#.\",\n",
    "    \"..#.#...#.#\",\n",
    "    \".#...##..#.\",\n",
    "    \"..#.##.....\",\n",
    "    \".#.#.#....#\",\n",
    "    \".#........#\",\n",
    "    \"#.##...#...\",\n",
    "    \"#...##....#\",\n",
    "    \".#..#...#.#\",\n",
    "]"
   ]
  },
  {
   "cell_type": "code",
   "execution_count": 46,
   "metadata": {},
   "outputs": [
    {
     "name": "stdout",
     "output_type": "stream",
     "text": [
      "1718180100\n"
     ]
    }
   ],
   "source": [
    "with open(\"2020/day03_input.txt\") as f:\n",
    "    grid = [line.strip() for line in f.readlines() if line.strip()]\n",
    "    move11 = day03_slope(grid, 1, 1)\n",
    "    move31 = day03_slope(grid, 3, 1)\n",
    "    move51 = day03_slope(grid, 5, 1)\n",
    "    move71 = day03_slope(grid, 7, 1)\n",
    "    move12 = day03_slope(grid, 1, 2)\n",
    "\n",
    "    result = move11 * move31 * move51 * move71 * move12\n",
    "    print(result)"
   ]
  },
  {
   "cell_type": "markdown",
   "metadata": {},
   "source": [
    "## Day 4: Passport scanning"
   ]
  },
  {
   "cell_type": "code",
   "execution_count": 21,
   "metadata": {},
   "outputs": [],
   "source": [
    "from typing import Any, Union\n",
    "\n",
    "def day04_has_fields(data: dict[str, str]) -> bool:\n",
    "    \"\"\"\n",
    "    \"\"\"\n",
    "    required_fields = {'byr', 'iyr', 'eyr', 'hgt', 'hcl', 'ecl', 'pid'}\n",
    "    return all(f in data for f in required_fields)\n",
    "\n",
    "def day04_parse(chunk: str) -> dict[str, str]:\n",
    "    fields = [item.strip() for item in chunk.split() if item.strip()]\n",
    "    d = dict()\n",
    "    for field in fields:\n",
    "        k, v = field.split(':')\n",
    "        d[k] = v\n",
    "    return d"
   ]
  },
  {
   "cell_type": "code",
   "execution_count": 20,
   "metadata": {},
   "outputs": [
    {
     "name": "stdout",
     "output_type": "stream",
     "text": [
      "210\n"
     ]
    }
   ],
   "source": [
    "with open(\"2020/day04_input.txt\") as f:\n",
    "    chunks = [chunk.strip() for chunk in f.read().split('\\n\\n')]\n",
    "    ds = [day04_parse(chunk) for chunk in chunks]\n",
    "    records_with_fields = [d for d in ds if day04_has_fields(d)]\n",
    "    print(len(records_with_fields))"
   ]
  },
  {
   "cell_type": "code",
   "execution_count": 30,
   "metadata": {},
   "outputs": [],
   "source": [
    "def day04_isvalid(x: dict[str, str]) -> bool:\n",
    "    \"\"\"\n",
    "    byr (Birth Year) - four digits; at least 1920 and at most 2002.\n",
    "    iyr (Issue Year) - four digits; at least 2010 and at most 2020.\n",
    "    eyr (Expiration Year) - four digits; at least 2020 and at most 2030.\n",
    "    hgt (Height) - a number followed by either cm or in:\n",
    "        If cm, the number must be at least 150 and at most 193.\n",
    "        If in, the number must be at least 59 and at most 76.\n",
    "    hcl (Hair Color) - a # followed by exactly six characters 0-9 or a-f.\n",
    "    ecl (Eye Color) - exactly one of: amb blu brn gry grn hzl oth.\n",
    "    pid (Passport ID) - a nine-digit number, including leading zeroes.\n",
    "    cid (Country ID) - ignored, missing or not.\n",
    "\n",
    "    \"\"\"\n",
    "    if not day04_has_fields(x):\n",
    "        return False\n",
    "        \n",
    "    byr = len(x[\"byr\"]) == 4 and '1920' <= x[\"byr\"] <= '2002'\n",
    "    iyr = len(x[\"iyr\"]) == 4 and '2010' <= x[\"iyr\"] <= '2020'\n",
    "    eyr = len(x[\"eyr\"]) == 4 and '2020' <= x[\"eyr\"] <= '2030'\n",
    "    hgt = (\n",
    "        (x[\"hgt\"].endswith('cm') and '150' <= x[\"hgt\"][:-2] <= '193') \n",
    "        or \n",
    "        (x[\"hgt\"].endswith('in') and '59' <= x[\"hgt\"][:-2] <= '76')\n",
    "    )\n",
    "    hcl = (\n",
    "        x[\"hcl\"].startswith('#') and len(x[\"hcl\"][1:]) == 6 and \n",
    "        set(x[\"hcl\"][1:]) < set('0123456789abcdef')\n",
    "    )\n",
    "    ecl = x[\"ecl\"] in \"amb blu brn gry grn hzl oth\".split()\n",
    "    pid = len(x[\"pid\"]) == 9 and x[\"pid\"].isdigit()\n",
    "\n",
    "    return all([byr, iyr, eyr, hgt, hcl, ecl, pid])\n",
    "    "
   ]
  },
  {
   "cell_type": "code",
   "execution_count": 31,
   "metadata": {},
   "outputs": [
    {
     "name": "stdout",
     "output_type": "stream",
     "text": [
      "131\n"
     ]
    }
   ],
   "source": [
    "result = sum(day04_isvalid(d) for d in records_with_fields)\n",
    "print(result)"
   ]
  },
  {
   "cell_type": "code",
   "execution_count": 32,
   "metadata": {},
   "outputs": [
    {
     "name": "stdout",
     "output_type": "stream",
     "text": [
      "{'hcl': '#888785', 'hgt': '164cm', 'byr': '2001', 'iyr': '2015', 'cid': '88', 'pid': '545766238', 'ecl': 'hzl', 'eyr': '2022'}\n"
     ]
    },
    {
     "data": {
      "text/plain": [
       "True"
      ]
     },
     "execution_count": 32,
     "metadata": {},
     "output_type": "execute_result"
    }
   ],
   "source": [
    "test = \"\"\"\n",
    "hcl:#888785\n",
    "hgt:164cm byr:2001 iyr:2015 cid:88\n",
    "pid:545766238 ecl:hzl\n",
    "eyr:2022\n",
    "\"\"\"\n",
    "rec = day04_parse(test)\n",
    "print(rec)\n",
    "day04_isvalid(rec)"
   ]
  },
  {
   "cell_type": "markdown",
   "metadata": {},
   "source": [
    "## Day 5: Flight seating\n",
    "\n",
    "In the 7-letter seating code, the first `F`/`B` corresponds to `0`/`1` in the leftmost significant digit in the binary representation, and the second corresponds to the second leftmost significant digit, and so on. Similarly, `L`/`R` works in the exactly the same manner as `F`/`B`. Due to the clever choice of the seat ID, the ID itself is identical to the binary number translated from the sequence of `F`/`B`/`L`/`R` letters."
   ]
  },
  {
   "cell_type": "code",
   "execution_count": 52,
   "metadata": {},
   "outputs": [],
   "source": [
    "def day05_decode(code: str) -> int:\n",
    "    \"\"\"\n",
    "    >>> day05_decode(\"FBFBBFF\")\n",
    "    44\n",
    "\n",
    "    >>> day05_decode(\"RLR\")\n",
    "    5\n",
    "\n",
    "    >>> day05_decode(\"FBFBBFFRLR\")\n",
    "    357\n",
    "    \"\"\"\n",
    "    assert set(code) <= set(\"FBLR\")\n",
    "    assert len(code) == 10\n",
    "    table = str.maketrans(dict(F='0', B='1', L='0', R='1'))\n",
    "    binseq = code.translate(table)\n",
    "    return int(binseq, base=2)\n"
   ]
  },
  {
   "cell_type": "code",
   "execution_count": 55,
   "metadata": {},
   "outputs": [
    {
     "data": {
      "text/plain": [
       "357"
      ]
     },
     "execution_count": 55,
     "metadata": {},
     "output_type": "execute_result"
    }
   ],
   "source": [
    "day05_decode(\"FBFBBFFRLR\")"
   ]
  },
  {
   "cell_type": "code",
   "execution_count": 56,
   "metadata": {},
   "outputs": [
    {
     "name": "stdout",
     "output_type": "stream",
     "text": [
      "963\n"
     ]
    }
   ],
   "source": [
    "with open(\"2020/day05_input.txt\") as f:\n",
    "    lines = [line.strip() for line in f.readlines() if line.strip()]\n",
    "    result = max(day05_decode(line) for line in lines)\n",
    "    print(result)"
   ]
  },
  {
   "cell_type": "markdown",
   "metadata": {},
   "source": [
    "Find the seat ID sandwitched by the existing seats in the list."
   ]
  },
  {
   "cell_type": "code",
   "execution_count": 57,
   "metadata": {},
   "outputs": [
    {
     "name": "stdout",
     "output_type": "stream",
     "text": [
      "592\n"
     ]
    }
   ],
   "source": [
    "with open(\"2020/day05_input.txt\") as f:\n",
    "    lines = [line.strip() for line in f.readlines() if line.strip()]\n",
    "    seat_ids = [day05_decode(line) for line in lines]\n",
    "    seat_ids.sort()\n",
    "    for (a, b) in zip(seat_ids, seat_ids[1:]):\n",
    "        if b - a == 2:\n",
    "            print(a + 1)"
   ]
  },
  {
   "cell_type": "markdown",
   "metadata": {},
   "source": [
    "## Day 6: union and intersection\n",
    "\n",
    "A little bit boring."
   ]
  },
  {
   "cell_type": "code",
   "execution_count": 76,
   "metadata": {},
   "outputs": [],
   "source": [
    "def day06(lines: str, f=set.union) -> int:\n",
    "    chunk = lines.strip()\n",
    "    letters_set = [set(s.strip()) for s in chunk.split()]\n",
    "    letters = f(*letters_set)\n",
    "    return len(letters)"
   ]
  },
  {
   "cell_type": "code",
   "execution_count": 77,
   "metadata": {},
   "outputs": [
    {
     "name": "stdout",
     "output_type": "stream",
     "text": [
      "6590\n"
     ]
    }
   ],
   "source": [
    "with open(\"2020/day06_input.txt\") as f:\n",
    "    chunks = [chunk.strip() for chunk in f.read().split(\"\\n\\n\") if chunk.strip()]\n",
    "    counts = [day06(chunk) for chunk in chunks]\n",
    "    result = sum(counts)\n",
    "    print(result)"
   ]
  },
  {
   "cell_type": "code",
   "execution_count": 78,
   "metadata": {},
   "outputs": [
    {
     "name": "stdout",
     "output_type": "stream",
     "text": [
      "3288\n"
     ]
    }
   ],
   "source": [
    "with open(\"2020/day06_input.txt\") as f:\n",
    "    chunks = [chunk.strip() for chunk in f.read().split(\"\\n\\n\") if chunk.strip()]\n",
    "    counts = [day06(chunk, set.intersection) for chunk in chunks]\n",
    "    result = sum(counts)\n",
    "    print(result)"
   ]
  },
  {
   "cell_type": "markdown",
   "metadata": {},
   "source": [
    "## Day 7: DAG\n",
    "\n",
    "The bag relation may be represented by directed acyclic graph (DAG). A DAG may be represented by node -> (adjascent nodes). A node is represented by (tone, color)."
   ]
  },
  {
   "cell_type": "code",
   "execution_count": 108,
   "metadata": {},
   "outputs": [],
   "source": [
    "import collections\n",
    "\n",
    "Node = tuple[str, str]\n",
    "Dag = dict[Node, collections.Counter[Node]]\n",
    "\n",
    "def day07_parse(lines: list[str]) -> Dag:\n",
    "    \"\"\"Parse lines and get adjascency lists.\n",
    "    \"\"\"\n",
    "    \n",
    "    def parse(line: str) -> tuple[Node, collections.Counter[Node]]:\n",
    "        words = line.split()\n",
    "        node_orig: Node = (words[0], words[1])\n",
    "        acc = collections.Counter() \n",
    "        if \"contain no\" in line:\n",
    "            return (node_orig, acc)\n",
    "\n",
    "        _, latter = line.split(\" bags contain \")\n",
    "        items = [xs.split() for xs in latter.split(\", \")]\n",
    "        for item in items:\n",
    "            try:\n",
    "                count = int(item[0])\n",
    "                tone = item[1]\n",
    "                color = item[2]\n",
    "                node = (tone, color)\n",
    "                acc.update({node: count})\n",
    "            except ValueError:\n",
    "                pass\n",
    "        return (node_orig, acc)\n",
    "\n",
    "    d = dict()\n",
    "    for line in lines:\n",
    "        node_orig, adj_nodes = parse(line)\n",
    "        d[node_orig] = adj_nodes\n",
    "\n",
    "    return d\n",
    "\n",
    "\n",
    "def day07_part1(g: Dag, target: Node=(\"shiny\", \"gold\")) -> int:\n",
    "    \"\"\"Find number of nodes reachable to the target\"\"\"\n",
    "\n",
    "    def f(curr: Node) -> int:\n",
    "        if g[curr]:\n",
    "            if target in g[curr]:\n",
    "                return g[curr][target]\n",
    "            else:\n",
    "                return max(count * f(node) for node, count in g[curr].items())   \n",
    "        return 0\n",
    "\n",
    "    return sum(f(node) > 0 for node in g)"
   ]
  },
  {
   "cell_type": "code",
   "execution_count": 109,
   "metadata": {},
   "outputs": [
    {
     "name": "stdout",
     "output_type": "stream",
     "text": [
      "['light red bags contain 1 bright white bag, 2 muted yellow bags.', 'dark orange bags contain 3 bright white bags, 4 muted yellow bags.', 'bright white bags contain 1 shiny gold bag.', 'muted yellow bags contain 2 shiny gold bags, 9 faded blue bags.', 'shiny gold bags contain 1 dark olive bag, 2 vibrant plum bags.', 'dark olive bags contain 3 faded blue bags, 4 dotted black bags.', 'vibrant plum bags contain 5 faded blue bags, 6 dotted black bags.', 'faded blue bags contain no other bags.', 'dotted black bags contain no other bags.']\n"
     ]
    },
    {
     "data": {
      "text/plain": [
       "4"
      ]
     },
     "execution_count": 109,
     "metadata": {},
     "output_type": "execute_result"
    }
   ],
   "source": [
    "test = \"\"\"\n",
    "light red bags contain 1 bright white bag, 2 muted yellow bags.\n",
    "dark orange bags contain 3 bright white bags, 4 muted yellow bags.\n",
    "bright white bags contain 1 shiny gold bag.\n",
    "muted yellow bags contain 2 shiny gold bags, 9 faded blue bags.\n",
    "shiny gold bags contain 1 dark olive bag, 2 vibrant plum bags.\n",
    "dark olive bags contain 3 faded blue bags, 4 dotted black bags.\n",
    "vibrant plum bags contain 5 faded blue bags, 6 dotted black bags.\n",
    "faded blue bags contain no other bags.\n",
    "dotted black bags contain no other bags.\n",
    "\"\"\"\n",
    "\n",
    "xs = [x.strip() for x in test.split(\"\\n\") if x.strip()]\n",
    "print(xs)\n",
    "g = day07_parse(xs)\n",
    "day07_part1(g)"
   ]
  },
  {
   "cell_type": "code",
   "execution_count": 110,
   "metadata": {},
   "outputs": [
    {
     "name": "stdout",
     "output_type": "stream",
     "text": [
      "254\n"
     ]
    }
   ],
   "source": [
    "with open(\"2020/day07_input.txt\") as f:\n",
    "    lines = [line.strip() for line in f.readlines() if line.strip()]\n",
    "    g = day07_parse(lines)\n",
    "    result = day07_part1(g)\n",
    "    print(result)"
   ]
  },
  {
   "cell_type": "code",
   "execution_count": 121,
   "metadata": {},
   "outputs": [],
   "source": [
    "import functools\n",
    "\n",
    "def day07_part2(g: Dag, start: Node=(\"shiny\", \"gold\")) -> int:\n",
    "    \"\"\"Find total number of edges in the downstream from the start node\"\"\"\n",
    "\n",
    "    @functools.lru_cache()\n",
    "    def f(curr: Node) -> int:\n",
    "        if g[curr]:\n",
    "            return sum(count * (1 + f(node)) for node, count in g[curr].items())\n",
    "        return 0\n",
    "\n",
    "    return f(start)"
   ]
  },
  {
   "cell_type": "code",
   "execution_count": 122,
   "metadata": {},
   "outputs": [
    {
     "name": "stdout",
     "output_type": "stream",
     "text": [
      "['light red bags contain 1 bright white bag, 2 muted yellow bags.', 'dark orange bags contain 3 bright white bags, 4 muted yellow bags.', 'bright white bags contain 1 shiny gold bag.', 'muted yellow bags contain 2 shiny gold bags, 9 faded blue bags.', 'shiny gold bags contain 1 dark olive bag, 2 vibrant plum bags.', 'dark olive bags contain 3 faded blue bags, 4 dotted black bags.', 'vibrant plum bags contain 5 faded blue bags, 6 dotted black bags.', 'faded blue bags contain no other bags.', 'dotted black bags contain no other bags.']\n"
     ]
    },
    {
     "data": {
      "text/plain": [
       "32"
      ]
     },
     "execution_count": 122,
     "metadata": {},
     "output_type": "execute_result"
    }
   ],
   "source": [
    "test = \"\"\"\n",
    "light red bags contain 1 bright white bag, 2 muted yellow bags.\n",
    "dark orange bags contain 3 bright white bags, 4 muted yellow bags.\n",
    "bright white bags contain 1 shiny gold bag.\n",
    "muted yellow bags contain 2 shiny gold bags, 9 faded blue bags.\n",
    "shiny gold bags contain 1 dark olive bag, 2 vibrant plum bags.\n",
    "dark olive bags contain 3 faded blue bags, 4 dotted black bags.\n",
    "vibrant plum bags contain 5 faded blue bags, 6 dotted black bags.\n",
    "faded blue bags contain no other bags.\n",
    "dotted black bags contain no other bags.\n",
    "\"\"\"\n",
    "\n",
    "xs = [x.strip() for x in test.split(\"\\n\") if x.strip()]\n",
    "print(xs)\n",
    "g = day07_parse(xs)\n",
    "day07_part2(g)"
   ]
  },
  {
   "cell_type": "code",
   "execution_count": 123,
   "metadata": {},
   "outputs": [
    {
     "name": "stdout",
     "output_type": "stream",
     "text": [
      "6006\n"
     ]
    }
   ],
   "source": [
    "with open(\"2020/day07_input.txt\") as f:\n",
    "    lines = [line.strip() for line in f.readlines() if line.strip()]\n",
    "    g = day07_parse(lines)\n",
    "    result = day07_part2(g)\n",
    "    print(result)"
   ]
  },
  {
   "cell_type": "markdown",
   "metadata": {},
   "source": [
    "## Day 8: First assembly language\n",
    "\n",
    "* `nop`\n",
    "* `acc`\n",
    "* `jmp`\n"
   ]
  },
  {
   "cell_type": "code",
   "execution_count": 16,
   "metadata": {},
   "outputs": [],
   "source": [
    "\n",
    "def day08_part1(content: str) -> int:\n",
    "    \"\"\"\n",
    "    string-input interface of assembly language execution.\n",
    "    \"\"\"\n",
    "    tuples = [line.strip().split() for line in content.split(\"\\n\") if line.strip()]\n",
    "    program = [(cmd, int(arg)) for cmd, arg in tuples]\n",
    "    result, _ = day08_run(program)\n",
    "    return result\n",
    "\n",
    "\n",
    "def day08_run(program: list[tuple[str, int]]) -> tuple[int, bool]:\n",
    "    \"\"\"\n",
    "    Execute assembly language composed of nop, jmp, and acc.\n",
    "    \"\"\"\n",
    "    n = len(program)\n",
    "    acc = 0\n",
    "    i = 0\n",
    "    seen = set()\n",
    "    hist = []\n",
    "    while i not in seen and i < n:\n",
    "        seen.add(i)\n",
    "        hist.append(i)\n",
    "        cmd, arg = program[i]\n",
    "        if cmd == \"nop\":\n",
    "            i += 1\n",
    "        elif cmd == \"acc\":\n",
    "            i += 1\n",
    "            acc += arg\n",
    "        elif cmd == \"jmp\":\n",
    "            i += arg\n",
    "        else:\n",
    "            raise ValueError(\"Unknown command: {}\".format(cmd))\n",
    "\n",
    "    is_terminated = i == n\n",
    "    # print(hist)\n",
    "    return acc, is_terminated\n"
   ]
  },
  {
   "cell_type": "code",
   "execution_count": 17,
   "metadata": {},
   "outputs": [
    {
     "data": {
      "text/plain": [
       "5"
      ]
     },
     "execution_count": 17,
     "metadata": {},
     "output_type": "execute_result"
    }
   ],
   "source": [
    "test = \"\"\"\n",
    "nop +0\n",
    "acc +1\n",
    "jmp +4\n",
    "acc +3\n",
    "jmp -3\n",
    "acc -99\n",
    "acc +1\n",
    "jmp -4\n",
    "acc +6\n",
    "\"\"\"\n",
    "\n",
    "day08_part1(test)"
   ]
  },
  {
   "cell_type": "code",
   "execution_count": 18,
   "metadata": {},
   "outputs": [
    {
     "name": "stdout",
     "output_type": "stream",
     "text": [
      "1610\n"
     ]
    }
   ],
   "source": [
    "with open(\"2020/day08_input.txt\") as f:\n",
    "    result = day08_part1(f.read())\n",
    "    print(result)"
   ]
  },
  {
   "cell_type": "markdown",
   "metadata": {},
   "source": [
    "### Day08: Part2\n",
    "Replace single `jmp` with `nop` such that the program terminates. Here, program termination is meant by reaching to the last instruction (and finishing it).\n",
    "\n",
    "The assembly program may be considered as a directed graph; a node is a tuple of head and tail indices, and edge is created by `jmp` operation. Each node has a single outgoing edge. Replacing `jmp` to `nop` corresponds to replacing an edge to another.\n",
    "\n",
    "But the data contains merely 223 number of jumps hence naive search works."
   ]
  },
  {
   "cell_type": "code",
   "execution_count": 21,
   "metadata": {},
   "outputs": [],
   "source": [
    "from typing import Generator\n",
    "\n",
    "AssemblyProgram = list[tuple[str, int]]\n",
    "\n",
    "def day08_part2(content: str) -> int:\n",
    "    \"\"\"\n",
    "    \n",
    "    \"\"\"\n",
    "    def gen_jmp2nop(program: AssemblyProgram) -> Generator[AssemblyProgram, None, None]:\n",
    "        n = len(program)\n",
    "        for i in range(n):\n",
    "            if program[i][0] == \"jmp\":\n",
    "                new_program = program[:]\n",
    "                new_program[i] = (\"nop\", program[i][1])\n",
    "                yield new_program\n",
    "\n",
    "    tuples = [line.strip().split() for line in content.split(\"\\n\") if line.strip()]\n",
    "    program = [(cmd, int(arg)) for cmd, arg in tuples]\n",
    "    for program_mod in gen_jmp2nop(program):\n",
    "        acc, is_terminated = day08_run(program_mod)\n",
    "        if is_terminated:\n",
    "            return acc\n",
    "\n",
    "    # failed\n",
    "    return -10000000"
   ]
  },
  {
   "cell_type": "code",
   "execution_count": 22,
   "metadata": {},
   "outputs": [
    {
     "name": "stdout",
     "output_type": "stream",
     "text": [
      "1703\n"
     ]
    }
   ],
   "source": [
    "with open(\"2020/day08_input.txt\") as f:\n",
    "    result = day08_part2(f.read())\n",
    "    print(result)"
   ]
  },
  {
   "cell_type": "markdown",
   "metadata": {},
   "source": []
  }
 ],
 "metadata": {
  "interpreter": {
   "hash": "b84e109b045a092625b2c92e1e9fd866d76190a677d88b51d11192902177fa4e"
  },
  "kernelspec": {
   "display_name": "Python 3.9.7 64-bit ('base': conda)",
   "language": "python",
   "name": "python3"
  },
  "language_info": {
   "codemirror_mode": {
    "name": "ipython",
    "version": 3
   },
   "file_extension": ".py",
   "mimetype": "text/x-python",
   "name": "python",
   "nbconvert_exporter": "python",
   "pygments_lexer": "ipython3",
   "version": "3.10.0"
  },
  "orig_nbformat": 4
 },
 "nbformat": 4,
 "nbformat_minor": 2
}
