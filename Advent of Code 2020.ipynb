{
 "cells": [
  {
   "cell_type": "markdown",
   "metadata": {},
   "source": [
    "# Advent of Code 2020\n"
   ]
  },
  {
   "cell_type": "markdown",
   "metadata": {},
   "source": [
    "## Day1: 2SUM and 3SUM\n",
    "In the part 1, find product of two numbers in a list such that the sum of the two numbers is 2020."
   ]
  },
  {
   "cell_type": "code",
   "execution_count": 101,
   "metadata": {},
   "outputs": [],
   "source": [
    "def day01_2sum(xs: list[int], sumval=2020) -> int:\n",
    "    \"\"\"2SUM in O(n)\"\"\"\n",
    "    seen = set()\n",
    "    for x in xs:\n",
    "        if sumval - x in seen:\n",
    "            return x * (sumval - x)\n",
    "        seen.add(x)\n",
    "\n",
    "    # not found\n",
    "    return -1"
   ]
  },
  {
   "cell_type": "code",
   "execution_count": 5,
   "metadata": {},
   "outputs": [
    {
     "name": "stdout",
     "output_type": "stream",
     "text": [
      "786811\n"
     ]
    }
   ],
   "source": [
    "with open(\"2020/day01_input.txt\") as f:\n",
    "    xs = [int(x) for x in f.readlines()]\n",
    "    result = day01_2sum(xs)\n",
    "    print(result)"
   ]
  },
  {
   "cell_type": "markdown",
   "metadata": {},
   "source": [
    "In the part 2, find product of three numbers in a list such that the sum of the two numbers is 2020."
   ]
  },
  {
   "cell_type": "code",
   "execution_count": 6,
   "metadata": {},
   "outputs": [],
   "source": [
    "def day01_3sum(xs: list[int], sumval=2020) -> int:    \n",
    "    \"\"\"3SUM in O(N^2)\"\"\"\n",
    "    seen = set()\n",
    "    n = len(xs)\n",
    "    for i in range(n):\n",
    "        x = xs[i]\n",
    "        for j in range(i + 1, n):\n",
    "            y = xs[j]\n",
    "            z = sumval - x - y\n",
    "            if z in seen:\n",
    "                return x * y * z\n",
    "            seen.add(y)\n",
    "        seen.add(x)\n",
    "    \n",
    "    # not found\n",
    "    return -1"
   ]
  },
  {
   "cell_type": "code",
   "execution_count": 7,
   "metadata": {},
   "outputs": [
    {
     "name": "stdout",
     "output_type": "stream",
     "text": [
      "199068980\n"
     ]
    }
   ],
   "source": [
    "with open(\"2020/day01_input.txt\") as f:\n",
    "    xs = [int(x) for x in f.readlines() if x.strip()]\n",
    "    result = day01_3sum(xs)\n",
    "    print(result)"
   ]
  },
  {
   "cell_type": "markdown",
   "metadata": {},
   "source": [
    "## Day 2: Password validity\n",
    "\n",
    "For example, `1-3 a` means the letter `a` can appear at least once, and at most three times. Assume each rule is about a single letter usage."
   ]
  },
  {
   "cell_type": "code",
   "execution_count": 7,
   "metadata": {},
   "outputs": [],
   "source": [
    "def day02_parse(line: str) -> tuple[int, int, str, str]:\n",
    "    \"\"\"\n",
    "    >>> day02_parse(\"1-3 a: abcde\")\n",
    "    (1, 3, 'a', 'abcde')\n",
    "    \"\"\"\n",
    "    rule, password = line.split(\": \")\n",
    "    range, letter = rule.split()\n",
    "    from_, to_ = map(int, range.split(\"-\"))\n",
    "    return (from_, to_, letter, password)\n",
    "\n",
    "def day02_isvalid(line: str) -> bool:\n",
    "    \"\"\"\n",
    "    >>> day02_isvalid(1, 3, 'a', 'abcde')\n",
    "    True\n",
    "    >>> day02_isvalid(1, 3, 'b', 'cdefg')\n",
    "    False\n",
    "    >>> day02_isvalid(2, 9, 'c', 'ccccccccc')\n",
    "    True\n",
    "    \"\"\"\n",
    "    from_, to_, letter, password = day02_parse(line)\n",
    "    cnt = password.count(letter)\n",
    "    return from_ <= cnt and cnt <= to_"
   ]
  },
  {
   "cell_type": "code",
   "execution_count": 8,
   "metadata": {},
   "outputs": [
    {
     "name": "stdout",
     "output_type": "stream",
     "text": [
      "607\n"
     ]
    }
   ],
   "source": [
    "with open(\"2020/day02_input.txt\") as f:\n",
    "    xs = [x for x in f.readlines() if x.strip()]\n",
    "    result = sum(day02_isvalid(x) for x in xs)\n",
    "    print(result)"
   ]
  },
  {
   "cell_type": "code",
   "execution_count": 16,
   "metadata": {},
   "outputs": [],
   "source": [
    "def day02_isvalid_updated(line: str) -> bool:\n",
    "    \"\"\"\n",
    "    >>> day02_isvalid_updated(1, 3, 'a', 'abcde')\n",
    "    True\n",
    "    >>> day02_isvalid_updated(1, 3, 'b', 'cdefg')\n",
    "    False\n",
    "    >>> day02_isvalid_updated(2, 9, 'c', 'ccccccccc')\n",
    "    False\n",
    "    \"\"\"\n",
    "    from_, to_, letter, password = day02_parse(line)\n",
    "    criteria1 = password[from_ - 1] == letter\n",
    "    criteria2 = password[to_ - 1] == letter\n",
    "    return criteria1 != criteria2"
   ]
  },
  {
   "cell_type": "code",
   "execution_count": 17,
   "metadata": {},
   "outputs": [
    {
     "name": "stdout",
     "output_type": "stream",
     "text": [
      "321\n"
     ]
    }
   ],
   "source": [
    "with open(\"2020/day02_input.txt\") as f:\n",
    "    xs = [x for x in f.readlines() if x.strip()]\n",
    "    result = sum(day02_isvalid_updated(x) for x in xs)\n",
    "    print(result)"
   ]
  },
  {
   "cell_type": "markdown",
   "metadata": {},
   "source": [
    "## Day 3: Slope in 2D"
   ]
  },
  {
   "cell_type": "code",
   "execution_count": 40,
   "metadata": {},
   "outputs": [],
   "source": [
    "def day03_slope(grid: list[str], hstepsize=3, vstepsize=1) -> int:\n",
    "    \"\"\"\n",
    "    Grid is rectangular composed of cells with either '.' or '#'.\n",
    "    \"\"\"\n",
    "    height = len(grid)\n",
    "    width = len(grid[0])\n",
    "    maxstep = (height + vstepsize - 1) // vstepsize\n",
    "    s = \"\".join(grid[vstepsize * i][(hstepsize * i) % width] for i in range(1, maxstep))\n",
    "    return s.count(\"#\")"
   ]
  },
  {
   "cell_type": "code",
   "execution_count": 41,
   "metadata": {},
   "outputs": [
    {
     "name": "stdout",
     "output_type": "stream",
     "text": [
      "189\n"
     ]
    }
   ],
   "source": [
    "with open(\"2020/day03_input.txt\") as f:\n",
    "    grid = [line.strip() for line in f.readlines() if line.strip()]\n",
    "    result = day03_slope(grid)\n",
    "    print(result)"
   ]
  },
  {
   "cell_type": "code",
   "execution_count": 42,
   "metadata": {},
   "outputs": [],
   "source": [
    "# Day 3 test \n",
    "grid = [\n",
    "    \"..##.......\",\n",
    "    \"#...#...#..\",\n",
    "    \".#....#..#.\",\n",
    "    \"..#.#...#.#\",\n",
    "    \".#...##..#.\",\n",
    "    \"..#.##.....\",\n",
    "    \".#.#.#....#\",\n",
    "    \".#........#\",\n",
    "    \"#.##...#...\",\n",
    "    \"#...##....#\",\n",
    "    \".#..#...#.#\",\n",
    "]"
   ]
  },
  {
   "cell_type": "code",
   "execution_count": 46,
   "metadata": {},
   "outputs": [
    {
     "name": "stdout",
     "output_type": "stream",
     "text": [
      "1718180100\n"
     ]
    }
   ],
   "source": [
    "with open(\"2020/day03_input.txt\") as f:\n",
    "    grid = [line.strip() for line in f.readlines() if line.strip()]\n",
    "    move11 = day03_slope(grid, 1, 1)\n",
    "    move31 = day03_slope(grid, 3, 1)\n",
    "    move51 = day03_slope(grid, 5, 1)\n",
    "    move71 = day03_slope(grid, 7, 1)\n",
    "    move12 = day03_slope(grid, 1, 2)\n",
    "\n",
    "    result = move11 * move31 * move51 * move71 * move12\n",
    "    print(result)"
   ]
  },
  {
   "cell_type": "markdown",
   "metadata": {},
   "source": [
    "## Day 4: Passport scanning"
   ]
  },
  {
   "cell_type": "code",
   "execution_count": 21,
   "metadata": {},
   "outputs": [],
   "source": [
    "from typing import Any, Union\n",
    "\n",
    "def day04_has_fields(data: dict[str, str]) -> bool:\n",
    "    \"\"\"\n",
    "    \"\"\"\n",
    "    required_fields = {'byr', 'iyr', 'eyr', 'hgt', 'hcl', 'ecl', 'pid'}\n",
    "    return all(f in data for f in required_fields)\n",
    "\n",
    "def day04_parse(chunk: str) -> dict[str, str]:\n",
    "    fields = [item.strip() for item in chunk.split() if item.strip()]\n",
    "    d = dict()\n",
    "    for field in fields:\n",
    "        k, v = field.split(':')\n",
    "        d[k] = v\n",
    "    return d"
   ]
  },
  {
   "cell_type": "code",
   "execution_count": 20,
   "metadata": {},
   "outputs": [
    {
     "name": "stdout",
     "output_type": "stream",
     "text": [
      "210\n"
     ]
    }
   ],
   "source": [
    "with open(\"2020/day04_input.txt\") as f:\n",
    "    chunks = [chunk.strip() for chunk in f.read().split('\\n\\n')]\n",
    "    ds = [day04_parse(chunk) for chunk in chunks]\n",
    "    records_with_fields = [d for d in ds if day04_has_fields(d)]\n",
    "    print(len(records_with_fields))"
   ]
  },
  {
   "cell_type": "code",
   "execution_count": 30,
   "metadata": {},
   "outputs": [],
   "source": [
    "def day04_isvalid(x: dict[str, str]) -> bool:\n",
    "    \"\"\"\n",
    "    byr (Birth Year) - four digits; at least 1920 and at most 2002.\n",
    "    iyr (Issue Year) - four digits; at least 2010 and at most 2020.\n",
    "    eyr (Expiration Year) - four digits; at least 2020 and at most 2030.\n",
    "    hgt (Height) - a number followed by either cm or in:\n",
    "        If cm, the number must be at least 150 and at most 193.\n",
    "        If in, the number must be at least 59 and at most 76.\n",
    "    hcl (Hair Color) - a # followed by exactly six characters 0-9 or a-f.\n",
    "    ecl (Eye Color) - exactly one of: amb blu brn gry grn hzl oth.\n",
    "    pid (Passport ID) - a nine-digit number, including leading zeroes.\n",
    "    cid (Country ID) - ignored, missing or not.\n",
    "\n",
    "    \"\"\"\n",
    "    if not day04_has_fields(x):\n",
    "        return False\n",
    "        \n",
    "    byr = len(x[\"byr\"]) == 4 and '1920' <= x[\"byr\"] <= '2002'\n",
    "    iyr = len(x[\"iyr\"]) == 4 and '2010' <= x[\"iyr\"] <= '2020'\n",
    "    eyr = len(x[\"eyr\"]) == 4 and '2020' <= x[\"eyr\"] <= '2030'\n",
    "    hgt = (\n",
    "        (x[\"hgt\"].endswith('cm') and '150' <= x[\"hgt\"][:-2] <= '193') \n",
    "        or \n",
    "        (x[\"hgt\"].endswith('in') and '59' <= x[\"hgt\"][:-2] <= '76')\n",
    "    )\n",
    "    hcl = (\n",
    "        x[\"hcl\"].startswith('#') and len(x[\"hcl\"][1:]) == 6 and \n",
    "        set(x[\"hcl\"][1:]) < set('0123456789abcdef')\n",
    "    )\n",
    "    ecl = x[\"ecl\"] in \"amb blu brn gry grn hzl oth\".split()\n",
    "    pid = len(x[\"pid\"]) == 9 and x[\"pid\"].isdigit()\n",
    "\n",
    "    return all([byr, iyr, eyr, hgt, hcl, ecl, pid])\n",
    "    "
   ]
  },
  {
   "cell_type": "code",
   "execution_count": 31,
   "metadata": {},
   "outputs": [
    {
     "name": "stdout",
     "output_type": "stream",
     "text": [
      "131\n"
     ]
    }
   ],
   "source": [
    "result = sum(day04_isvalid(d) for d in records_with_fields)\n",
    "print(result)"
   ]
  },
  {
   "cell_type": "code",
   "execution_count": 32,
   "metadata": {},
   "outputs": [
    {
     "name": "stdout",
     "output_type": "stream",
     "text": [
      "{'hcl': '#888785', 'hgt': '164cm', 'byr': '2001', 'iyr': '2015', 'cid': '88', 'pid': '545766238', 'ecl': 'hzl', 'eyr': '2022'}\n"
     ]
    },
    {
     "data": {
      "text/plain": [
       "True"
      ]
     },
     "execution_count": 32,
     "metadata": {},
     "output_type": "execute_result"
    }
   ],
   "source": [
    "test = \"\"\"\n",
    "hcl:#888785\n",
    "hgt:164cm byr:2001 iyr:2015 cid:88\n",
    "pid:545766238 ecl:hzl\n",
    "eyr:2022\n",
    "\"\"\"\n",
    "rec = day04_parse(test)\n",
    "print(rec)\n",
    "day04_isvalid(rec)"
   ]
  },
  {
   "cell_type": "markdown",
   "metadata": {},
   "source": [
    "## Day 5: Flight seating\n",
    "\n",
    "In the 7-letter seating code, the first `F`/`B` corresponds to `0`/`1` in the leftmost significant digit in the binary representation, and the second corresponds to the second leftmost significant digit, and so on. Similarly, `L`/`R` works in the exactly the same manner as `F`/`B`. Due to the clever choice of the seat ID, the ID itself is identical to the binary number translated from the sequence of `F`/`B`/`L`/`R` letters."
   ]
  },
  {
   "cell_type": "code",
   "execution_count": 52,
   "metadata": {},
   "outputs": [],
   "source": [
    "def day05_decode(code: str) -> int:\n",
    "    \"\"\"\n",
    "    >>> day05_decode(\"FBFBBFF\")\n",
    "    44\n",
    "\n",
    "    >>> day05_decode(\"RLR\")\n",
    "    5\n",
    "\n",
    "    >>> day05_decode(\"FBFBBFFRLR\")\n",
    "    357\n",
    "    \"\"\"\n",
    "    assert set(code) <= set(\"FBLR\")\n",
    "    assert len(code) == 10\n",
    "    table = str.maketrans(dict(F='0', B='1', L='0', R='1'))\n",
    "    binseq = code.translate(table)\n",
    "    return int(binseq, base=2)\n"
   ]
  },
  {
   "cell_type": "code",
   "execution_count": 55,
   "metadata": {},
   "outputs": [
    {
     "data": {
      "text/plain": [
       "357"
      ]
     },
     "execution_count": 55,
     "metadata": {},
     "output_type": "execute_result"
    }
   ],
   "source": [
    "day05_decode(\"FBFBBFFRLR\")"
   ]
  },
  {
   "cell_type": "code",
   "execution_count": 56,
   "metadata": {},
   "outputs": [
    {
     "name": "stdout",
     "output_type": "stream",
     "text": [
      "963\n"
     ]
    }
   ],
   "source": [
    "with open(\"2020/day05_input.txt\") as f:\n",
    "    lines = [line.strip() for line in f.readlines() if line.strip()]\n",
    "    result = max(day05_decode(line) for line in lines)\n",
    "    print(result)"
   ]
  },
  {
   "cell_type": "markdown",
   "metadata": {},
   "source": [
    "Find the seat ID sandwitched by the existing seats in the list."
   ]
  },
  {
   "cell_type": "code",
   "execution_count": 57,
   "metadata": {},
   "outputs": [
    {
     "name": "stdout",
     "output_type": "stream",
     "text": [
      "592\n"
     ]
    }
   ],
   "source": [
    "with open(\"2020/day05_input.txt\") as f:\n",
    "    lines = [line.strip() for line in f.readlines() if line.strip()]\n",
    "    seat_ids = [day05_decode(line) for line in lines]\n",
    "    seat_ids.sort()\n",
    "    for (a, b) in zip(seat_ids, seat_ids[1:]):\n",
    "        if b - a == 2:\n",
    "            print(a + 1)"
   ]
  },
  {
   "cell_type": "markdown",
   "metadata": {},
   "source": [
    "## Day 6: union and intersection\n",
    "\n",
    "A little bit boring."
   ]
  },
  {
   "cell_type": "code",
   "execution_count": 76,
   "metadata": {},
   "outputs": [],
   "source": [
    "def day06(lines: str, f=set.union) -> int:\n",
    "    chunk = lines.strip()\n",
    "    letters_set = [set(s.strip()) for s in chunk.split()]\n",
    "    letters = f(*letters_set)\n",
    "    return len(letters)"
   ]
  },
  {
   "cell_type": "code",
   "execution_count": 77,
   "metadata": {},
   "outputs": [
    {
     "name": "stdout",
     "output_type": "stream",
     "text": [
      "6590\n"
     ]
    }
   ],
   "source": [
    "with open(\"2020/day06_input.txt\") as f:\n",
    "    chunks = [chunk.strip() for chunk in f.read().split(\"\\n\\n\") if chunk.strip()]\n",
    "    counts = [day06(chunk) for chunk in chunks]\n",
    "    result = sum(counts)\n",
    "    print(result)"
   ]
  },
  {
   "cell_type": "code",
   "execution_count": 78,
   "metadata": {},
   "outputs": [
    {
     "name": "stdout",
     "output_type": "stream",
     "text": [
      "3288\n"
     ]
    }
   ],
   "source": [
    "with open(\"2020/day06_input.txt\") as f:\n",
    "    chunks = [chunk.strip() for chunk in f.read().split(\"\\n\\n\") if chunk.strip()]\n",
    "    counts = [day06(chunk, set.intersection) for chunk in chunks]\n",
    "    result = sum(counts)\n",
    "    print(result)"
   ]
  },
  {
   "cell_type": "markdown",
   "metadata": {},
   "source": [
    "## Day 7: DAG\n",
    "\n",
    "The bag relation may be represented by directed acyclic graph (DAG). A DAG may be represented by node -> (adjascent nodes). A node is represented by (tone, color)."
   ]
  },
  {
   "cell_type": "code",
   "execution_count": 108,
   "metadata": {},
   "outputs": [],
   "source": [
    "import collections\n",
    "\n",
    "Node = tuple[str, str]\n",
    "Dag = dict[Node, collections.Counter[Node]]\n",
    "\n",
    "def day07_parse(lines: list[str]) -> Dag:\n",
    "    \"\"\"Parse lines and get adjascency lists.\n",
    "    \"\"\"\n",
    "    \n",
    "    def parse(line: str) -> tuple[Node, collections.Counter[Node]]:\n",
    "        words = line.split()\n",
    "        node_orig: Node = (words[0], words[1])\n",
    "        acc = collections.Counter() \n",
    "        if \"contain no\" in line:\n",
    "            return (node_orig, acc)\n",
    "\n",
    "        _, latter = line.split(\" bags contain \")\n",
    "        items = [xs.split() for xs in latter.split(\", \")]\n",
    "        for item in items:\n",
    "            try:\n",
    "                count = int(item[0])\n",
    "                tone = item[1]\n",
    "                color = item[2]\n",
    "                node = (tone, color)\n",
    "                acc.update({node: count})\n",
    "            except ValueError:\n",
    "                pass\n",
    "        return (node_orig, acc)\n",
    "\n",
    "    d = dict()\n",
    "    for line in lines:\n",
    "        node_orig, adj_nodes = parse(line)\n",
    "        d[node_orig] = adj_nodes\n",
    "\n",
    "    return d\n",
    "\n",
    "\n",
    "def day07_part1(g: Dag, target: Node=(\"shiny\", \"gold\")) -> int:\n",
    "    \"\"\"Find number of nodes reachable to the target\"\"\"\n",
    "\n",
    "    def f(curr: Node) -> int:\n",
    "        if g[curr]:\n",
    "            if target in g[curr]:\n",
    "                return g[curr][target]\n",
    "            else:\n",
    "                return max(count * f(node) for node, count in g[curr].items())   \n",
    "        return 0\n",
    "\n",
    "    return sum(f(node) > 0 for node in g)"
   ]
  },
  {
   "cell_type": "code",
   "execution_count": 109,
   "metadata": {},
   "outputs": [
    {
     "name": "stdout",
     "output_type": "stream",
     "text": [
      "['light red bags contain 1 bright white bag, 2 muted yellow bags.', 'dark orange bags contain 3 bright white bags, 4 muted yellow bags.', 'bright white bags contain 1 shiny gold bag.', 'muted yellow bags contain 2 shiny gold bags, 9 faded blue bags.', 'shiny gold bags contain 1 dark olive bag, 2 vibrant plum bags.', 'dark olive bags contain 3 faded blue bags, 4 dotted black bags.', 'vibrant plum bags contain 5 faded blue bags, 6 dotted black bags.', 'faded blue bags contain no other bags.', 'dotted black bags contain no other bags.']\n"
     ]
    },
    {
     "data": {
      "text/plain": [
       "4"
      ]
     },
     "execution_count": 109,
     "metadata": {},
     "output_type": "execute_result"
    }
   ],
   "source": [
    "test = \"\"\"\n",
    "light red bags contain 1 bright white bag, 2 muted yellow bags.\n",
    "dark orange bags contain 3 bright white bags, 4 muted yellow bags.\n",
    "bright white bags contain 1 shiny gold bag.\n",
    "muted yellow bags contain 2 shiny gold bags, 9 faded blue bags.\n",
    "shiny gold bags contain 1 dark olive bag, 2 vibrant plum bags.\n",
    "dark olive bags contain 3 faded blue bags, 4 dotted black bags.\n",
    "vibrant plum bags contain 5 faded blue bags, 6 dotted black bags.\n",
    "faded blue bags contain no other bags.\n",
    "dotted black bags contain no other bags.\n",
    "\"\"\"\n",
    "\n",
    "xs = [x.strip() for x in test.split(\"\\n\") if x.strip()]\n",
    "print(xs)\n",
    "g = day07_parse(xs)\n",
    "day07_part1(g)"
   ]
  },
  {
   "cell_type": "code",
   "execution_count": 110,
   "metadata": {},
   "outputs": [
    {
     "name": "stdout",
     "output_type": "stream",
     "text": [
      "254\n"
     ]
    }
   ],
   "source": [
    "with open(\"2020/day07_input.txt\") as f:\n",
    "    lines = [line.strip() for line in f.readlines() if line.strip()]\n",
    "    g = day07_parse(lines)\n",
    "    result = day07_part1(g)\n",
    "    print(result)"
   ]
  },
  {
   "cell_type": "code",
   "execution_count": 121,
   "metadata": {},
   "outputs": [],
   "source": [
    "import functools\n",
    "\n",
    "def day07_part2(g: Dag, start: Node=(\"shiny\", \"gold\")) -> int:\n",
    "    \"\"\"Find total number of edges in the downstream from the start node\"\"\"\n",
    "\n",
    "    @functools.lru_cache()\n",
    "    def f(curr: Node) -> int:\n",
    "        if g[curr]:\n",
    "            return sum(count * (1 + f(node)) for node, count in g[curr].items())\n",
    "        return 0\n",
    "\n",
    "    return f(start)"
   ]
  },
  {
   "cell_type": "code",
   "execution_count": 122,
   "metadata": {},
   "outputs": [
    {
     "name": "stdout",
     "output_type": "stream",
     "text": [
      "['light red bags contain 1 bright white bag, 2 muted yellow bags.', 'dark orange bags contain 3 bright white bags, 4 muted yellow bags.', 'bright white bags contain 1 shiny gold bag.', 'muted yellow bags contain 2 shiny gold bags, 9 faded blue bags.', 'shiny gold bags contain 1 dark olive bag, 2 vibrant plum bags.', 'dark olive bags contain 3 faded blue bags, 4 dotted black bags.', 'vibrant plum bags contain 5 faded blue bags, 6 dotted black bags.', 'faded blue bags contain no other bags.', 'dotted black bags contain no other bags.']\n"
     ]
    },
    {
     "data": {
      "text/plain": [
       "32"
      ]
     },
     "execution_count": 122,
     "metadata": {},
     "output_type": "execute_result"
    }
   ],
   "source": [
    "test = \"\"\"\n",
    "light red bags contain 1 bright white bag, 2 muted yellow bags.\n",
    "dark orange bags contain 3 bright white bags, 4 muted yellow bags.\n",
    "bright white bags contain 1 shiny gold bag.\n",
    "muted yellow bags contain 2 shiny gold bags, 9 faded blue bags.\n",
    "shiny gold bags contain 1 dark olive bag, 2 vibrant plum bags.\n",
    "dark olive bags contain 3 faded blue bags, 4 dotted black bags.\n",
    "vibrant plum bags contain 5 faded blue bags, 6 dotted black bags.\n",
    "faded blue bags contain no other bags.\n",
    "dotted black bags contain no other bags.\n",
    "\"\"\"\n",
    "\n",
    "xs = [x.strip() for x in test.split(\"\\n\") if x.strip()]\n",
    "print(xs)\n",
    "g = day07_parse(xs)\n",
    "day07_part2(g)"
   ]
  },
  {
   "cell_type": "code",
   "execution_count": 123,
   "metadata": {},
   "outputs": [
    {
     "name": "stdout",
     "output_type": "stream",
     "text": [
      "6006\n"
     ]
    }
   ],
   "source": [
    "with open(\"2020/day07_input.txt\") as f:\n",
    "    lines = [line.strip() for line in f.readlines() if line.strip()]\n",
    "    g = day07_parse(lines)\n",
    "    result = day07_part2(g)\n",
    "    print(result)"
   ]
  },
  {
   "cell_type": "markdown",
   "metadata": {},
   "source": [
    "## Day 8: First assembly language\n",
    "\n",
    "* `nop`\n",
    "* `acc`\n",
    "* `jmp`\n"
   ]
  },
  {
   "cell_type": "code",
   "execution_count": 16,
   "metadata": {},
   "outputs": [],
   "source": [
    "\n",
    "def day08_part1(content: str) -> int:\n",
    "    \"\"\"\n",
    "    string-input interface of assembly language execution.\n",
    "    \"\"\"\n",
    "    tuples = [line.strip().split() for line in content.split(\"\\n\") if line.strip()]\n",
    "    program = [(cmd, int(arg)) for cmd, arg in tuples]\n",
    "    result, _ = day08_run(program)\n",
    "    return result\n",
    "\n",
    "\n",
    "def day08_run(program: list[tuple[str, int]]) -> tuple[int, bool]:\n",
    "    \"\"\"\n",
    "    Execute assembly language composed of nop, jmp, and acc.\n",
    "    \"\"\"\n",
    "    n = len(program)\n",
    "    acc = 0\n",
    "    i = 0\n",
    "    seen = set()\n",
    "    hist = []\n",
    "    while i not in seen and i < n:\n",
    "        seen.add(i)\n",
    "        hist.append(i)\n",
    "        cmd, arg = program[i]\n",
    "        if cmd == \"nop\":\n",
    "            i += 1\n",
    "        elif cmd == \"acc\":\n",
    "            i += 1\n",
    "            acc += arg\n",
    "        elif cmd == \"jmp\":\n",
    "            i += arg\n",
    "        else:\n",
    "            raise ValueError(\"Unknown command: {}\".format(cmd))\n",
    "\n",
    "    is_terminated = i == n\n",
    "    # print(hist)\n",
    "    return acc, is_terminated\n"
   ]
  },
  {
   "cell_type": "code",
   "execution_count": 17,
   "metadata": {},
   "outputs": [
    {
     "data": {
      "text/plain": [
       "5"
      ]
     },
     "execution_count": 17,
     "metadata": {},
     "output_type": "execute_result"
    }
   ],
   "source": [
    "test = \"\"\"\n",
    "nop +0\n",
    "acc +1\n",
    "jmp +4\n",
    "acc +3\n",
    "jmp -3\n",
    "acc -99\n",
    "acc +1\n",
    "jmp -4\n",
    "acc +6\n",
    "\"\"\"\n",
    "\n",
    "day08_part1(test)"
   ]
  },
  {
   "cell_type": "code",
   "execution_count": 18,
   "metadata": {},
   "outputs": [
    {
     "name": "stdout",
     "output_type": "stream",
     "text": [
      "1610\n"
     ]
    }
   ],
   "source": [
    "with open(\"2020/day08_input.txt\") as f:\n",
    "    result = day08_part1(f.read())\n",
    "    print(result)"
   ]
  },
  {
   "cell_type": "markdown",
   "metadata": {},
   "source": [
    "### Day08: Part2\n",
    "Replace single `jmp` with `nop` such that the program terminates. Here, program termination is meant by reaching to the last instruction (and finishing it).\n",
    "\n",
    "The assembly program may be considered as a directed graph; a node is a tuple of head and tail indices, and edge is created by `jmp` operation. Each node has a single outgoing edge. Replacing `jmp` to `nop` corresponds to replacing an edge to another.\n",
    "\n",
    "But the data contains merely 223 number of jumps hence naive search works."
   ]
  },
  {
   "cell_type": "code",
   "execution_count": 21,
   "metadata": {},
   "outputs": [],
   "source": [
    "from typing import Generator\n",
    "\n",
    "AssemblyProgram = list[tuple[str, int]]\n",
    "\n",
    "def day08_part2(content: str) -> int:\n",
    "    \"\"\"\n",
    "    \n",
    "    \"\"\"\n",
    "    def gen_jmp2nop(program: AssemblyProgram) -> Generator[AssemblyProgram, None, None]:\n",
    "        n = len(program)\n",
    "        for i in range(n):\n",
    "            if program[i][0] == \"jmp\":\n",
    "                new_program = program[:]\n",
    "                new_program[i] = (\"nop\", program[i][1])\n",
    "                yield new_program\n",
    "\n",
    "    tuples = [line.strip().split() for line in content.split(\"\\n\") if line.strip()]\n",
    "    program = [(cmd, int(arg)) for cmd, arg in tuples]\n",
    "    for program_mod in gen_jmp2nop(program):\n",
    "        acc, is_terminated = day08_run(program_mod)\n",
    "        if is_terminated:\n",
    "            return acc\n",
    "\n",
    "    # failed\n",
    "    return -10000000"
   ]
  },
  {
   "cell_type": "code",
   "execution_count": 22,
   "metadata": {},
   "outputs": [
    {
     "name": "stdout",
     "output_type": "stream",
     "text": [
      "1703\n"
     ]
    }
   ],
   "source": [
    "with open(\"2020/day08_input.txt\") as f:\n",
    "    result = day08_part2(f.read())\n",
    "    print(result)"
   ]
  },
  {
   "cell_type": "markdown",
   "metadata": {},
   "source": [
    "## Day 9: Sliding-window 2SUM\n",
    "\n",
    "Given a sequence of integers, and we have a sliding window such that the immediately following number should be sum of two numbers (without replacement) in the window. The window size is 25 in part 1."
   ]
  },
  {
   "cell_type": "code",
   "execution_count": 31,
   "metadata": {},
   "outputs": [],
   "source": [
    "import itertools\n",
    "from typing import Optional\n",
    "\n",
    "def day09_part1(xs: list[int], window_size=25) -> Optional[int]:\n",
    "    \"\"\"Find the first integer that is NOT a 2-SUM from the immediately antecedent window.\"\"\"\n",
    "    def is_2sum(ys: list[int], target: int) -> bool:\n",
    "        g = itertools.combinations(ys, 2)\n",
    "        return any(sum(tup) == target for tup in g)\n",
    "\n",
    "    n = len(xs)\n",
    "    for i in range(window_size, n):\n",
    "        window = xs[i - window_size : i]\n",
    "        if not is_2sum(window, xs[i]):\n",
    "            return xs[i]\n",
    "    return None"
   ]
  },
  {
   "cell_type": "markdown",
   "metadata": {},
   "source": []
  },
  {
   "cell_type": "code",
   "execution_count": 32,
   "metadata": {},
   "outputs": [
    {
     "name": "stdout",
     "output_type": "stream",
     "text": [
      "127\n"
     ]
    }
   ],
   "source": [
    "content = \"\"\"\n",
    "35\n",
    "20\n",
    "15\n",
    "25\n",
    "47\n",
    "40\n",
    "62\n",
    "55\n",
    "65\n",
    "95\n",
    "102\n",
    "117\n",
    "150\n",
    "182\n",
    "127\n",
    "219\n",
    "299\n",
    "277\n",
    "309\n",
    "576\n",
    "\"\"\"\n",
    "\n",
    "xs = [int(s) for s in content.split()]\n",
    "result = day09_part1(xs, window_size=5)\n",
    "print(result)"
   ]
  },
  {
   "cell_type": "code",
   "execution_count": 33,
   "metadata": {},
   "outputs": [
    {
     "name": "stdout",
     "output_type": "stream",
     "text": [
      "22406676\n"
     ]
    }
   ],
   "source": [
    "with open(\"2020/day09_input.txt\") as f:\n",
    "    xs = [int(s) for s in f.readlines() if s.strip()]\n",
    "    result = day09_part1(xs, window_size=25)\n",
    "    print(result)"
   ]
  },
  {
   "cell_type": "markdown",
   "metadata": {},
   "source": [
    "Part 2 is to find a contiguous sequence whose sum equals to the answer from the Part 1. Here a contiguous sequence must contain at least two numbers. しゃくとり法でやってみる。"
   ]
  },
  {
   "cell_type": "code",
   "execution_count": 36,
   "metadata": {},
   "outputs": [],
   "source": [
    "def day09_part2(xs: list[int], target=int) -> Optional[int]:\n",
    "    \"\"\"しゃくとり法\"\"\"\n",
    "    n = len(xs)\n",
    "    i = 0\n",
    "    j = 2\n",
    "    acc = sum(xs[i:j])\n",
    "    while i < n - 2 and j < n:\n",
    "        if acc == target:\n",
    "            return min(xs[i : j]) + max(xs[i : j])\n",
    "        elif acc < target:\n",
    "            acc += xs[j]\n",
    "            j += 1\n",
    "        elif acc > target:\n",
    "            acc -= xs[i]\n",
    "            i += 1\n",
    "        else:\n",
    "            raise ValueError(f\"Something is wrong: i={j}, j={j}\")\n",
    "    return None"
   ]
  },
  {
   "cell_type": "code",
   "execution_count": 37,
   "metadata": {},
   "outputs": [
    {
     "name": "stdout",
     "output_type": "stream",
     "text": [
      "62\n"
     ]
    }
   ],
   "source": [
    "content = \"\"\"\n",
    "35\n",
    "20\n",
    "15\n",
    "25\n",
    "47\n",
    "40\n",
    "62\n",
    "55\n",
    "65\n",
    "95\n",
    "102\n",
    "117\n",
    "150\n",
    "182\n",
    "127\n",
    "219\n",
    "299\n",
    "277\n",
    "309\n",
    "576\n",
    "\"\"\"\n",
    "\n",
    "xs = [int(s) for s in content.split()]\n",
    "result = day09_part2(xs, target=127)\n",
    "print(result)"
   ]
  },
  {
   "cell_type": "code",
   "execution_count": 38,
   "metadata": {},
   "outputs": [
    {
     "name": "stdout",
     "output_type": "stream",
     "text": [
      "2942387\n"
     ]
    }
   ],
   "source": [
    "with open(\"2020/day09_input.txt\") as f:\n",
    "    xs = [int(s) for s in f.readlines() if s.strip()]\n",
    "    result = day09_part2(xs, target=22406676)\n",
    "    print(result)"
   ]
  },
  {
   "cell_type": "markdown",
   "metadata": {},
   "source": [
    "## Day 10: First DP"
   ]
  },
  {
   "cell_type": "code",
   "execution_count": 17,
   "metadata": {},
   "outputs": [],
   "source": [
    "import collections\n",
    "\n",
    "def day10_diff_counts(xs: list[int]) -> collections.Counter[int]:\n",
    "    \"\"\"Return Counter of diference of sorted integers\n",
    "    \"\"\"\n",
    "    ys = sorted(xs)\n",
    "    ys.insert(0, 0)        # starts from 0\n",
    "    ys.append(ys[-1] + 3)  # ends with the max + 3\n",
    "    counter = collections.Counter(b - a for a, b in zip(ys, ys[1:]))\n",
    "    return counter\n",
    "\n",
    "\n",
    "def day10_part1(xs: list[int]) -> int:\n",
    "    \"\"\"Return the count of diff==1 times the one of diff==3\"\"\"\n",
    "    counter = day10_diff_counts(xs)\n",
    "    print(counter)\n",
    "    return counter[1] * counter[3]"
   ]
  },
  {
   "cell_type": "code",
   "execution_count": 20,
   "metadata": {},
   "outputs": [
    {
     "data": {
      "text/plain": [
       "Counter({1: 7, 3: 5})"
      ]
     },
     "execution_count": 20,
     "metadata": {},
     "output_type": "execute_result"
    }
   ],
   "source": [
    "test = \"\"\"\n",
    "16\n",
    "10\n",
    "15\n",
    "5\n",
    "1\n",
    "11\n",
    "7\n",
    "19\n",
    "6\n",
    "12\n",
    "4\n",
    "\"\"\"\n",
    "xs = [int(s) for s in test.split()]\n",
    "day10_diff_counts(xs)"
   ]
  },
  {
   "cell_type": "code",
   "execution_count": 21,
   "metadata": {},
   "outputs": [
    {
     "name": "stdout",
     "output_type": "stream",
     "text": [
      "Counter({1: 70, 3: 33})\n",
      "2310\n"
     ]
    }
   ],
   "source": [
    "with open(\"2020/day10_input.txt\") as f:\n",
    "    xs = [int(s) for s in f.readlines() if s.strip()]\n",
    "    result = day10_part1(xs)\n",
    "    print(result)"
   ]
  },
  {
   "cell_type": "code",
   "execution_count": 28,
   "metadata": {},
   "outputs": [],
   "source": [
    "def day10_part2(xs: list[int]) -> int:\n",
    "    \"\"\"Return number of steps\n",
    "    \"\"\"\n",
    "    ys = sorted(xs)\n",
    "    ys.insert(0, 0)        # starts from 0\n",
    "    ys.append(ys[-1] + 3)  # ends with the max + 3\n",
    "\n",
    "    dp = [0 for _ in ys]\n",
    "    dp[0] = 1\n",
    "    n = len(dp)\n",
    "    for i in range(1, n):\n",
    "        k = i - 1\n",
    "        while k >= 0 and ys[i] - ys[k] <= 3:\n",
    "            dp[i] += dp[k]\n",
    "            k -= 1\n",
    "            \n",
    "    return dp[-1]\n",
    "\n"
   ]
  },
  {
   "cell_type": "code",
   "execution_count": 29,
   "metadata": {},
   "outputs": [
    {
     "data": {
      "text/plain": [
       "19208"
      ]
     },
     "execution_count": 29,
     "metadata": {},
     "output_type": "execute_result"
    }
   ],
   "source": [
    "test = \"\"\"\n",
    "28\n",
    "33\n",
    "18\n",
    "42\n",
    "31\n",
    "14\n",
    "46\n",
    "20\n",
    "48\n",
    "47\n",
    "24\n",
    "23\n",
    "49\n",
    "45\n",
    "19\n",
    "38\n",
    "39\n",
    "11\n",
    "1\n",
    "32\n",
    "25\n",
    "35\n",
    "8\n",
    "17\n",
    "7\n",
    "9\n",
    "4\n",
    "2\n",
    "34\n",
    "10\n",
    "3\n",
    "\"\"\"\n",
    "xs = [int(s) for s in test.split()]\n",
    "day10_part2(xs)"
   ]
  },
  {
   "cell_type": "code",
   "execution_count": 30,
   "metadata": {},
   "outputs": [
    {
     "name": "stdout",
     "output_type": "stream",
     "text": [
      "64793042714624\n"
     ]
    }
   ],
   "source": [
    "with open(\"2020/day10_input.txt\") as f:\n",
    "    xs = [int(s) for s in f.readlines() if s.strip()]\n",
    "    result = day10_part2(xs)\n",
    "    print(result)"
   ]
  },
  {
   "cell_type": "markdown",
   "metadata": {},
   "source": [
    "## Day 11: 2-D Automata\n",
    "\n",
    "In Part 1, find the number of iterations till the state reaches a fixed point."
   ]
  },
  {
   "cell_type": "code",
   "execution_count": 117,
   "metadata": {},
   "outputs": [],
   "source": [
    "Grid = list[list[str]]\n",
    "\n",
    "def day11_map(xs: Grid) -> Grid:\n",
    "    \"\"\"Evolve state in 2-D grid by one step according to the rule.\n",
    "\n",
    "    - If a seat is empty (L) and there are no occupied seats adjacent to it, the seat becomes occupied.\n",
    "    - If a seat is occupied (#) and four or more seats adjacent to it are also occupied, the seat becomes empty.\n",
    "\n",
    "    This is naive implementation. Introduce convoluiton if performance matters.\n",
    "    \"\"\"\n",
    "    horiz = len(xs[0])\n",
    "    vert = len(xs)\n",
    "    diffs = (-1, 0, +1)\n",
    "\n",
    "    def is_valid(i, j, dx, dy):\n",
    "        return (dx, dy) != (0, 0) and 0 <= j + dx < horiz and 0 <= i + dy < vert\n",
    "\n",
    "    zs = [['.' for _ in range(horiz)] for _ in range(vert)]\n",
    "\n",
    "    for i in range(vert):\n",
    "        for j in range(horiz):\n",
    "            if xs[i][j] == 'L':\n",
    "                criteria = all(\n",
    "                    xs[i + dy][j + dx] != '#' for dx in diffs for dy in diffs \n",
    "                    if is_valid(i, j, dx, dy)\n",
    "                )\n",
    "                zs[i][j] = '#' if criteria else 'L'\n",
    "            elif xs[i][j] == '#':\n",
    "                neighbors = sum(\n",
    "                    1 for dx in diffs for dy in diffs \n",
    "                    if is_valid(i, j, dx, dy) and xs[i + dy][j + dx] == '#')\n",
    "                zs[i][j] = 'L' if neighbors >= 4 else '#'\n",
    "            else:\n",
    "                assert xs[i][j] == '.'\n",
    "                zs[i][j] = xs[i][j]\n",
    "    \n",
    "    return zs\n",
    "\n",
    "def serialize(grid: Grid) -> str:\n",
    "    return \"\\n\".join(\"\".join(line) for line in grid)\n",
    "\n",
    "def day11_part1(state: Grid) -> int:\n",
    "    \"\"\"Count number of # in a fixed point.\"\"\"\n",
    "    ...\n",
    "    prev = None\n",
    "    cnt = 0\n",
    "    while prev != state:\n",
    "        cnt += 1\n",
    "        prev = state = state\n",
    "        state = day11_map(state)\n",
    "\n",
    "    print(f\"count: {cnt}\")\n",
    "    # print(serialize(state))\n",
    "\n",
    "    result = sum(1 for xs in state for x in xs if x == '#')\n",
    "    return result"
   ]
  },
  {
   "cell_type": "code",
   "execution_count": 118,
   "metadata": {},
   "outputs": [
    {
     "name": "stdout",
     "output_type": "stream",
     "text": [
      "count: 6\n"
     ]
    },
    {
     "data": {
      "text/plain": [
       "37"
      ]
     },
     "execution_count": 118,
     "metadata": {},
     "output_type": "execute_result"
    }
   ],
   "source": [
    "s = \"\"\"\n",
    "L.LL.LL.LL\n",
    "LLLLLLL.LL\n",
    "L.L.L..L..\n",
    "LLLL.LL.LL\n",
    "L.LL.LL.LL\n",
    "L.LLLLL.LL\n",
    "..L.L.....\n",
    "LLLLLLLLLL\n",
    "L.LLLLLL.L\n",
    "L.LLLLL.LL\n",
    "\"\"\"\n",
    "\n",
    "grid = [list(line.strip()) for line in s.split() if line.strip()]\n",
    "day11_part1(grid)"
   ]
  },
  {
   "cell_type": "code",
   "execution_count": 119,
   "metadata": {},
   "outputs": [
    {
     "name": "stdout",
     "output_type": "stream",
     "text": [
      "count: 122\n",
      "2296\n"
     ]
    }
   ],
   "source": [
    "with open(\"2020/day11_input.txt\") as f:\n",
    "    grid = [list(line.strip()) for line in f.readlines() if line.strip()]\n",
    "    result = day11_part1(grid)\n",
    "    print(result)"
   ]
  },
  {
   "cell_type": "markdown",
   "metadata": {},
   "source": [
    "#### Day 11: Part 2\n",
    "Observation of the rule gives us that a cell with `.` is permanent, and `#` and `L` can flip to the other. So, we focus on coordinates of `#` and `L`, and see how occupied coordnates (depicted as `#`) change in each step. Another observation tells that each coordinate point always refers the same neighbors in the eight directions.\n",
    "\n",
    "So we pre-compute neighbors for each cell (as `dict[Coordinate, set[Coordinate]]`) before iterative application of the rules. We also set \"state\" by `dict[Coordinate, bool]` where the dictionary holds seat coordinates as its keys, and occupied status as its values."
   ]
  },
  {
   "cell_type": "code",
   "execution_count": 68,
   "metadata": {},
   "outputs": [],
   "source": [
    "from typing import Iterable\n",
    "import collections\n",
    "\n",
    "Coordinate = tuple[int, int]\n",
    "Grid = list[list[str]]\n",
    "\n",
    "\n",
    "def day11_seats(xs: Grid) -> dict[Coordinate, bool]:\n",
    "    horiz = len(xs[0])\n",
    "    vert = len(xs)\n",
    "    result = {\n",
    "        (i, j): xs[i][j] == '#' \n",
    "        for i in range(vert) for j in range(horiz) if xs[i][j] != '.'\n",
    "    }\n",
    "    return result\n",
    "\n",
    "def day11_neighbors(seats: Iterable[Coordinate]) -> dict[Coordinate, set[Coordinate]]:\n",
    "    neighbors = collections.defaultdict(set)\n",
    "\n",
    "    def scan_lines(d: dict[int, list[Coordinate]]):\n",
    "        for _, coodinates in d.items():\n",
    "            line = sorted(coodinates)\n",
    "            for coord, coord_next in zip(line, line[1:]):\n",
    "                neighbors[coord].add(coord_next)\n",
    "                neighbors[coord_next].add(coord)\n",
    "\n",
    "    # prepare scanning diagonally/antidiagonally\n",
    "    rows = collections.defaultdict(list)\n",
    "    cols = collections.defaultdict(list)\n",
    "    diags = collections.defaultdict(list)\n",
    "    anti_diags = collections.defaultdict(list)\n",
    "    for (i, j) in seats:\n",
    "        rows[i].append((i, j))\n",
    "        cols[j].append((i, j))\n",
    "        diags[i - j].append((i, j))\n",
    "        anti_diags[i + j].append((i, j))\n",
    "\n",
    "    # scan horizontally, vertically, diagonally, anti-diagonally\n",
    "    scan_lines(rows)\n",
    "    scan_lines(cols)\n",
    "    scan_lines(diags)\n",
    "    scan_lines(anti_diags)\n",
    "\n",
    "    return dict(neighbors)      \n",
    "\n",
    "\n",
    "def day11_part2_update(seats: dict[Coordinate, bool], neighbors: dict[Coordinate, set[Coordinate]]) -> bool:\n",
    "    \"\"\"Update `seats` by modifying it. Also returns if the state is chaning.\"\"\"\n",
    "    diffs = dict()\n",
    "    for s, is_occupied in seats.items():\n",
    "        if is_occupied:\n",
    "            if sum(1 for t in neighbors[s] if seats[t]) >= 5:\n",
    "                diffs[s] = False\n",
    "        else:\n",
    "            # when the seat is vacant\n",
    "            if all(seats[t] is False for t in neighbors[s]):\n",
    "                diffs[s] = True\n",
    "\n",
    "    is_changing = bool(diffs)\n",
    "    for k, v in diffs.items():\n",
    "        seats[k] = v\n",
    "\n",
    "    return is_changing\n",
    "    \n",
    "\n",
    "def day11_part2(xs: Grid) -> int:\n",
    "    seats = day11_seats(xs)\n",
    "    neighbors = day11_neighbors(seats.keys())\n",
    "    is_changing = True\n",
    "    cnt = 0\n",
    "    \n",
    "    while is_changing:\n",
    "        is_changing = day11_part2_update(seats, neighbors)\n",
    "        if is_changing:\n",
    "            cnt += 1\n",
    "    \n",
    "    print(f\"{cnt = }\")\n",
    "    return sum(seats.values())\n",
    "\n",
    "\n",
    "def day11_display(seats: dict[Coordinate, bool], shape: tuple[int, int]):\n",
    "    v, h = shape\n",
    "    grid = [['.' for _ in range(h)] for _ in range(v)]\n",
    "    for i in range(v):\n",
    "        for j in range(h):\n",
    "            if (i, j) in seats:\n",
    "                grid[i][j] = '#' if seats[(i, j)] else 'L'\n",
    "    \n",
    "    s = \"\\n\".join(\"\".join(line) for line in grid)\n",
    "    print(s)\n"
   ]
  },
  {
   "cell_type": "code",
   "execution_count": 69,
   "metadata": {},
   "outputs": [
    {
     "name": "stdout",
     "output_type": "stream",
     "text": [
      "cnt = 6\n"
     ]
    },
    {
     "data": {
      "text/plain": [
       "26"
      ]
     },
     "execution_count": 69,
     "metadata": {},
     "output_type": "execute_result"
    }
   ],
   "source": [
    "s = \"\"\"\n",
    "L.LL.LL.LL\n",
    "LLLLLLL.LL\n",
    "L.L.L..L..\n",
    "LLLL.LL.LL\n",
    "L.LL.LL.LL\n",
    "L.LLLLL.LL\n",
    "..L.L.....\n",
    "LLLLLLLLLL\n",
    "L.LLLLLL.L\n",
    "L.LLLLL.LL\n",
    "\"\"\"\n",
    "\n",
    "grid = [list(line.strip()) for line in s.split() if line.strip()]\n",
    "day11_part2(grid)"
   ]
  },
  {
   "cell_type": "code",
   "execution_count": 72,
   "metadata": {},
   "outputs": [
    {
     "name": "stdout",
     "output_type": "stream",
     "text": [
      "L.LL.LL.LL\n",
      "LLLLLLL.LL\n",
      "L.L.L..L..\n",
      "LLLL.LL.LL\n",
      "L.LL.LL.LL\n",
      "L.LLLLL.LL\n",
      "..L.L.....\n",
      "LLLLLLLLLL\n",
      "L.LLLLLL.L\n",
      "L.LLLLL.LL\n"
     ]
    }
   ],
   "source": [
    "seats = day11_seats(grid)\n",
    "neighbors = day11_neighbors(seats.keys())\n",
    "shape = len(grid), len(grid[0])\n",
    "day11_display(seats, shape)"
   ]
  },
  {
   "cell_type": "code",
   "execution_count": 73,
   "metadata": {},
   "outputs": [
    {
     "name": "stdout",
     "output_type": "stream",
     "text": [
      "#.##.##.##\n",
      "#######.##\n",
      "#.#.#..#..\n",
      "####.##.##\n",
      "#.##.##.##\n",
      "#.#####.##\n",
      "..#.#.....\n",
      "##########\n",
      "#.######.#\n",
      "#.#####.##\n"
     ]
    }
   ],
   "source": [
    "day11_part2_update(seats, neighbors)\n",
    "day11_display(seats, shape)"
   ]
  },
  {
   "cell_type": "code",
   "execution_count": 74,
   "metadata": {},
   "outputs": [
    {
     "name": "stdout",
     "output_type": "stream",
     "text": [
      "#.LL.LL.L#\n",
      "#LLLLLL.LL\n",
      "L.L.L..L..\n",
      "LLLL.LL.LL\n",
      "L.LL.LL.LL\n",
      "L.LLLLL.LL\n",
      "..L.L.....\n",
      "LLLLLLLLL#\n",
      "#.LLLLLL.L\n",
      "#.LLLLL.L#\n"
     ]
    }
   ],
   "source": [
    "day11_part2_update(seats, neighbors)\n",
    "day11_display(seats, shape)"
   ]
  },
  {
   "cell_type": "code",
   "execution_count": 75,
   "metadata": {},
   "outputs": [
    {
     "name": "stdout",
     "output_type": "stream",
     "text": [
      "cnt = 87\n",
      "2089\n"
     ]
    }
   ],
   "source": [
    "with open(\"2020/day11_input.txt\") as f:\n",
    "    grid = [list(line.strip()) for line in f.readlines() if line.strip()]\n",
    "    result = day11_part2(grid)\n",
    "    print(result)"
   ]
  },
  {
   "cell_type": "markdown",
   "metadata": {},
   "source": [
    "## Day 12: 2-D grid movement"
   ]
  },
  {
   "cell_type": "code",
   "execution_count": 84,
   "metadata": {},
   "outputs": [],
   "source": [
    "def day12_parse(content: str) -> list[tuple[str, int]]:\n",
    "    lines = [line.strip() for line in content.split() if line.strip()]\n",
    "    res = [(line[0], int(line[1:])) for line in lines]\n",
    "    return res\n",
    "\n",
    "def day12_map(state: tuple[int, int, int], cmd: tuple[str, int]) -> tuple[int, int, int]:\n",
    "    \"\"\"trajectory\"\"\"\n",
    "    DIRS = \"ESWN\"\n",
    "\n",
    "    x, y, dir_idx = state\n",
    "    dir_ = DIRS[dir_idx]\n",
    "    cmd_name, cmd_value = cmd\n",
    "    if cmd_name == \"E\" or (cmd_name == \"F\" and dir_ == \"E\"):\n",
    "        x += cmd_value\n",
    "    elif cmd_name == \"W\" or (cmd_name == \"F\" and dir_ == \"W\"):\n",
    "        x -= cmd_value\n",
    "    elif cmd_name == \"S\" or (cmd_name == \"F\" and dir_ == \"S\"):\n",
    "        y += cmd_value\n",
    "    elif cmd_name == \"N\" or (cmd_name == \"F\" and dir_ == \"N\"):\n",
    "        y -= cmd_value\n",
    "    else:\n",
    "        assert cmd_name in \"RL\"\n",
    "        assert dir_idx in [0, 1, 2, 3]\n",
    "        assert cmd_value % 90 == 0\n",
    "        if cmd_name == \"R\":\n",
    "            dir_idx = (dir_idx + cmd_value // 90) % 4\n",
    "        else:\n",
    "            dir_idx = (dir_idx - cmd_value // 90) % 4\n",
    "\n",
    "    return (x, y, dir_idx)\n",
    "\n",
    "\n",
    "def day12_part1(commands: list[tuple[str, int]]) -> int:\n",
    "    state = (0, 0, 0)\n",
    "    for cmd in commands:\n",
    "        state = day12_map(state, cmd)\n",
    "    x, y, _ = state\n",
    "\n",
    "    return abs(x) + abs(y)\n",
    "\n"
   ]
  },
  {
   "cell_type": "code",
   "execution_count": 85,
   "metadata": {},
   "outputs": [
    {
     "name": "stdout",
     "output_type": "stream",
     "text": [
      "25\n"
     ]
    }
   ],
   "source": [
    "content = \"\"\"\n",
    "F10\n",
    "N3\n",
    "F7\n",
    "R90\n",
    "F11\n",
    "\"\"\"\n",
    "commands = day12_parse(content)\n",
    "result = day12_part1(commands)\n",
    "print(result)"
   ]
  },
  {
   "cell_type": "code",
   "execution_count": 86,
   "metadata": {},
   "outputs": [
    {
     "name": "stdout",
     "output_type": "stream",
     "text": [
      "2057\n"
     ]
    }
   ],
   "source": [
    "with open(\"2020/day12_input.txt\") as f:\n",
    "    commands = day12_parse(f.read())\n",
    "    result = day12_part1(commands)\n",
    "    print(result)"
   ]
  },
  {
   "cell_type": "code",
   "execution_count": 98,
   "metadata": {},
   "outputs": [],
   "source": [
    "Coordinate = tuple[int, int]\n",
    "def day12_map2(state: Coordinate, waypoint: Coordinate, cmd: tuple[str, int]) -> tuple[Coordinate, Coordinate]:\n",
    "    \"\"\"Now let E as +x, N as +y\"\"\"\n",
    "    x, y = state\n",
    "    wpx, wpy = waypoint\n",
    "\n",
    "    cmd_name, cmd_value = cmd\n",
    "    if cmd_name == \"F\":\n",
    "        x += cmd_value * wpx\n",
    "        y += cmd_value * wpy\n",
    "    elif cmd_name == \"E\":\n",
    "        wpx += cmd_value\n",
    "    elif cmd_name == \"W\":\n",
    "        wpx -= cmd_value\n",
    "    elif cmd_name == \"N\":\n",
    "        wpy += cmd_value\n",
    "    elif cmd_name == \"S\":\n",
    "        wpy -= cmd_value\n",
    "    else:\n",
    "        assert cmd_name in \"RL\"\n",
    "        assert cmd_value % 90 == 0\n",
    "        if (cmd_name, cmd_value) in [(\"R\", 90), (\"L\", 270)]:\n",
    "            wpx, wpy = wpy, -wpx\n",
    "        elif (cmd_name, cmd_value) in [(\"L\", 90), (\"R\", 270)]:\n",
    "            wpx, wpy = -wpy, wpx\n",
    "        elif cmd_value == 180:\n",
    "            wpx, wpy = -wpx, -wpy\n",
    "\n",
    "    return (x, y), (wpx, wpy)\n",
    "\n",
    "\n",
    "def day12_part2(commands: list[tuple[str, int]]) -> int:\n",
    "    state = (0, 0)\n",
    "    waypoint = (10, 1)\n",
    "    for cmd in commands:\n",
    "        state, waypoint = day12_map2(state, waypoint, cmd)\n",
    "        # print(f\"{state = }\")\n",
    "        # print(f\"{waypoint = }\")\n",
    "    x, y = state\n",
    "\n",
    "    return abs(x) + abs(y)"
   ]
  },
  {
   "cell_type": "code",
   "execution_count": 99,
   "metadata": {},
   "outputs": [
    {
     "name": "stdout",
     "output_type": "stream",
     "text": [
      "286\n"
     ]
    }
   ],
   "source": [
    "content = \"\"\"\n",
    "F10\n",
    "N3\n",
    "F7\n",
    "R90\n",
    "F11\n",
    "\"\"\"\n",
    "commands = day12_parse(content)\n",
    "result = day12_part2(commands)\n",
    "print(result)"
   ]
  },
  {
   "cell_type": "code",
   "execution_count": 100,
   "metadata": {},
   "outputs": [
    {
     "name": "stdout",
     "output_type": "stream",
     "text": [
      "71504\n"
     ]
    }
   ],
   "source": [
    "with open(\"2020/day12_input.txt\") as f:\n",
    "    commands = day12_parse(f.read())\n",
    "    result = day12_part2(commands)\n",
    "    print(result)"
   ]
  },
  {
   "cell_type": "markdown",
   "metadata": {},
   "source": [
    "## Day 13: Chinese remainder theorem"
   ]
  },
  {
   "cell_type": "markdown",
   "metadata": {},
   "source": [
    "Or, extended Euclidean algorithm."
   ]
  },
  {
   "cell_type": "code",
   "execution_count": 121,
   "metadata": {},
   "outputs": [],
   "source": [
    "def day13_parse(content: str) -> tuple[int, list[int]]:\n",
    "    line1, line2 = [line.strip() for line in content.split() if line.strip()]\n",
    "    t0 = int(line1)\n",
    "    xs = [int(s) for s in line2.split(\",\") if s != \"x\"]\n",
    "    return t0, xs\n",
    "\n",
    "\n",
    "def day13_part1(t0: int, xs: list[int]) -> int:\n",
    "    def waittime(n: int, divisor: int):\n",
    "        m = (divisor - n % divisor) % divisor\n",
    "        return m\n",
    "\n",
    "    tmp = [(waittime(t0, x), x) for x in xs]\n",
    "    print(tmp)\n",
    "    wait, x_selcted = min(tmp)\n",
    "    print(f\"{wait = }\")\n",
    "    print(f\"{x_selcted = }\")\n",
    "    result = wait * x_selcted\n",
    "    return result"
   ]
  },
  {
   "cell_type": "code",
   "execution_count": 122,
   "metadata": {},
   "outputs": [
    {
     "name": "stdout",
     "output_type": "stream",
     "text": [
      "[(6, 7), (10, 13), (5, 59), (22, 31), (11, 19)]\n",
      "wait = 5\n",
      "x_selcted = 59\n"
     ]
    },
    {
     "data": {
      "text/plain": [
       "295"
      ]
     },
     "execution_count": 122,
     "metadata": {},
     "output_type": "execute_result"
    }
   ],
   "source": [
    "content = \"\"\"\n",
    "939\n",
    "7,13,x,x,59,x,31,19\n",
    "\"\"\"\n",
    "\n",
    "t0, xs = day13_parse(content)\n",
    "day13_part1(t0, xs)"
   ]
  },
  {
   "cell_type": "code",
   "execution_count": 126,
   "metadata": {},
   "outputs": [
    {
     "name": "stdout",
     "output_type": "stream",
     "text": [
      "[(14, 19), (11, 37), (7, 751), (10, 29), (8, 13), (15, 23), (359, 431), (36, 41), (14, 17)]\n",
      "wait = 7\n",
      "x_selcted = 751\n",
      "5257\n"
     ]
    }
   ],
   "source": [
    "with open(\"2020/day13_input.txt\") as f:\n",
    "    t0, xs = day13_parse(f.read())\n",
    "    result = day13_part1(t0, xs)\n",
    "    print(result)"
   ]
  },
  {
   "cell_type": "code",
   "execution_count": null,
   "metadata": {},
   "outputs": [],
   "source": [
    "def day13_part2_parse(content: str) -> list[tuple[int, int]]:\n",
    "    _, line2 = [line.strip() for line in content.split() if line.strip()]\n",
    "    xs = [(int(s), i) for i, s in enumerate(line2.split(\",\")) if s != \"x\"]\n",
    "    return xs\n",
    "\n",
    "\n",
    "def day13_part2(pairs):\n",
    "    \"\"\"Chinese remainder theorem\"\"\"\n",
    "    ..."
   ]
  }
 ],
 "metadata": {
  "interpreter": {
   "hash": "b84e109b045a092625b2c92e1e9fd866d76190a677d88b51d11192902177fa4e"
  },
  "kernelspec": {
   "display_name": "Python 3.9.7 64-bit ('base': conda)",
   "language": "python",
   "name": "python3"
  },
  "language_info": {
   "codemirror_mode": {
    "name": "ipython",
    "version": 3
   },
   "file_extension": ".py",
   "mimetype": "text/x-python",
   "name": "python",
   "nbconvert_exporter": "python",
   "pygments_lexer": "ipython3",
   "version": "3.10.0"
  },
  "orig_nbformat": 4
 },
 "nbformat": 4,
 "nbformat_minor": 2
}
