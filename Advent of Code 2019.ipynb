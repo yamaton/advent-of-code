{
 "cells": [
  {
   "cell_type": "code",
   "execution_count": 206,
   "metadata": {},
   "outputs": [],
   "source": [
    "import sys\n",
    "import doctest\n",
    "import random\n",
    "import math\n",
    "import itertools as it\n",
    "import pathlib\n",
    "from typing import List, Tuple\n",
    "\n",
    "import bs4\n",
    "import urllib\n",
    "\n",
    "def get_title(day):\n",
    "    f = urllib.request.urlopen(f\"https://adventofcode.com/2019/day/{day}\")\n",
    "    soup = bs4.BeautifulSoup(f.read())\n",
    "    print(soup.h2.text.replace(\"-\",\"\").strip())\n",
    "    \n",
    "def get_path(day):\n",
    "    return pathlib.Path(f\"./2019/day{day:02}.txt\")"
   ]
  },
  {
   "cell_type": "markdown",
   "metadata": {},
   "source": [
    "## Day 1: The Tyranny of the Rocket Equation"
   ]
  },
  {
   "cell_type": "code",
   "execution_count": 71,
   "metadata": {},
   "outputs": [],
   "source": [
    "def day01_read():\n",
    "    file_ = get_path(1)\n",
    "    return [int(line) for line in open(file_).readlines()]\n",
    "    \n",
    "\n",
    "def day01(mass: int) -> int:\n",
    "    \"\"\"\n",
    "    >>> day01(12)\n",
    "    2\n",
    "    >>> day01(14)\n",
    "    2\n",
    "    >>> day01(1969)\n",
    "    654\n",
    "    >>> day01(100756)\n",
    "    33583\n",
    "    \"\"\"\n",
    "    return mass // 3 - 2\n"
   ]
  },
  {
   "cell_type": "code",
   "execution_count": 72,
   "metadata": {},
   "outputs": [
    {
     "data": {
      "text/plain": [
       "3286680"
      ]
     },
     "execution_count": 72,
     "metadata": {},
     "output_type": "execute_result"
    }
   ],
   "source": [
    "inputs = day01_read()\n",
    "output = sum(day01(x) for x in inputs)\n",
    "output"
   ]
  },
  {
   "cell_type": "code",
   "execution_count": 74,
   "metadata": {},
   "outputs": [],
   "source": [
    "def day01_mod(mass: int) -> int:\n",
    "    \"\"\"\n",
    "    >>> day01_mod(14)\n",
    "    2\n",
    "    >>> day01_mod(1969)\n",
    "    966\n",
    "    >>> day01_mod(100756)\n",
    "    50346\n",
    "    \"\"\"\n",
    "    res = []\n",
    "    while True:\n",
    "        mass = day01(mass)\n",
    "        if mass > 0:\n",
    "            res.append(mass)\n",
    "        else:\n",
    "            break\n",
    "    return sum(res)"
   ]
  },
  {
   "cell_type": "code",
   "execution_count": 75,
   "metadata": {},
   "outputs": [
    {
     "data": {
      "text/plain": [
       "TestResults(failed=0, attempted=7)"
      ]
     },
     "execution_count": 75,
     "metadata": {},
     "output_type": "execute_result"
    }
   ],
   "source": [
    "doctest.testmod()"
   ]
  },
  {
   "cell_type": "code",
   "execution_count": 76,
   "metadata": {},
   "outputs": [
    {
     "data": {
      "text/plain": [
       "4927158"
      ]
     },
     "execution_count": 76,
     "metadata": {},
     "output_type": "execute_result"
    }
   ],
   "source": [
    "inputs = day01_read()\n",
    "output = sum(day01_mod(x) for x in inputs)\n",
    "output"
   ]
  },
  {
   "cell_type": "code",
   "execution_count": null,
   "metadata": {},
   "outputs": [],
   "source": []
  },
  {
   "cell_type": "markdown",
   "metadata": {},
   "source": [
    "## Day 2: 1202 Program Alarm"
   ]
  },
  {
   "cell_type": "code",
   "execution_count": 77,
   "metadata": {},
   "outputs": [],
   "source": [
    "def day02_read():\n",
    "    file_ = get_path(2)\n",
    "    return [int(x) for x in open(file_).read().strip().split(\",\")]\n",
    "   \n",
    "\n",
    "def day02(state: List[int]) -> int:\n",
    "    \"\"\"\n",
    "    >>> day02([1,9,10,3,2,3,11,0,99,30,40,50])\n",
    "    3500\n",
    "    >>> day02([1,0,0,0,99])\n",
    "    2\n",
    "    >>> day02([2,4,4,5,99,0])\n",
    "    2\n",
    "    >>> day02([1,1,1,4,99,5,6,0,99])\n",
    "    30\n",
    "    \"\"\"\n",
    "    def _op1(xs: List[int], loc: int) -> List[int]:\n",
    "        xs[xs[loc + 3]] = xs[xs[loc + 1]] + xs[xs[loc + 2]]\n",
    "        return xs, loc + 4\n",
    "\n",
    "\n",
    "    def _op2(xs: List[int], loc: int) -> List[int]:\n",
    "        xs[xs[loc + 3]] = xs[xs[loc + 1]] * xs[xs[loc + 2]]\n",
    "        return xs, loc + 4\n",
    "    \n",
    "    loc = 0\n",
    "    while state[loc] != 99:\n",
    "        if state[loc] == 1:\n",
    "            state, loc = _op1(state, loc)\n",
    "        elif state[loc] == 2:\n",
    "            state, loc = _op2(state, loc)\n",
    "    return state[0]"
   ]
  },
  {
   "cell_type": "code",
   "execution_count": 78,
   "metadata": {},
   "outputs": [
    {
     "data": {
      "text/plain": [
       "TestResults(failed=0, attempted=11)"
      ]
     },
     "execution_count": 78,
     "metadata": {},
     "output_type": "execute_result"
    }
   ],
   "source": [
    "doctest.testmod()"
   ]
  },
  {
   "cell_type": "code",
   "execution_count": 79,
   "metadata": {},
   "outputs": [
    {
     "data": {
      "text/plain": [
       "9706670"
      ]
     },
     "execution_count": 79,
     "metadata": {},
     "output_type": "execute_result"
    }
   ],
   "source": [
    "inputs = day02_read()\n",
    "inputs[1] = 12\n",
    "inputs[2] = 2\n",
    "day02(inputs[:])"
   ]
  },
  {
   "cell_type": "code",
   "execution_count": 80,
   "metadata": {},
   "outputs": [],
   "source": [
    "def day02_mod(xs: List[int], target: int) -> int:\n",
    "    size = len(xs)\n",
    "    for noun in range(size):\n",
    "        for verb in range(size):\n",
    "            ys = xs[:]\n",
    "            ys[1] = noun\n",
    "            ys[2] = verb\n",
    "            if day02(ys) == target:\n",
    "                return 100 * noun + verb"
   ]
  },
  {
   "cell_type": "code",
   "execution_count": 81,
   "metadata": {},
   "outputs": [
    {
     "data": {
      "text/plain": [
       "2552"
      ]
     },
     "execution_count": 81,
     "metadata": {},
     "output_type": "execute_result"
    }
   ],
   "source": [
    "day02_mod(inputs, 19690720)"
   ]
  },
  {
   "cell_type": "code",
   "execution_count": null,
   "metadata": {},
   "outputs": [],
   "source": []
  },
  {
   "cell_type": "markdown",
   "metadata": {},
   "source": [
    "## Day 3: Crossed Wires\n",
    "\n",
    "### Part 1"
   ]
  },
  {
   "cell_type": "code",
   "execution_count": 82,
   "metadata": {},
   "outputs": [],
   "source": [
    "def day03_read():\n",
    "    file_ = get_path(3)\n",
    "    ss = open(file_).readlines()\n",
    "    res = [s.strip() for s in ss]\n",
    "    return res\n",
    "\n",
    "\n",
    "def _day03_exec_command(cmd, state):\n",
    "    dir_, steps = cmd[0], int(cmd[1:])\n",
    "    coord, record = state\n",
    "    x, y = coord\n",
    "    if dir_ == \"R\":\n",
    "        dx, dy = 1, 0\n",
    "    elif dir_ == \"L\":\n",
    "        dx, dy = -1, 0\n",
    "    elif dir_ == \"U\":\n",
    "        dx, dy = 0, 1\n",
    "    else:\n",
    "        assert dir_ == \"D\"\n",
    "        dx, dy = 0, -1\n",
    "        \n",
    "    for i in range(1, steps + 1):\n",
    "        record.add((x + dx * i, y + dy * i))\n",
    "                    \n",
    "    coord = (x + dx * steps, y + dy * steps)\n",
    "    return coord, record\n",
    "\n",
    "\n",
    "def day03(commands1, commands2):\n",
    "    \"\"\"\n",
    "    >>> day03(\"R8,U5,L5,D3\", \"U7,R6,D4,L4\")\n",
    "    6\n",
    "    \n",
    "    >>> day03(\"R75,D30,R83,U83,L12,D49,R71,U7,L72\", \"U62,R66,U55,R34,D71,R55,D58,R83\")\n",
    "    159\n",
    "    \n",
    "    >>> day03(\"R98,U47,R26,D63,R33,U87,L62,D20,R33,U53,R51\", \"U98,R91,D20,R16,D67,R40,U7,R15,U6,R7\")\n",
    "    135\n",
    "    \n",
    "    \"\"\"\n",
    "\n",
    "    def _run(commands):\n",
    "        commands = commands.split(\",\")\n",
    "        state = (0, 0), set()\n",
    "        for cmd in commands:\n",
    "            state = _day03_exec_command(cmd, state)\n",
    "        _, record = state\n",
    "        return record\n",
    "\n",
    "    rec1 = _run(commands1)\n",
    "    rec2 = _run(commands2)\n",
    "    crossings = rec1 & rec2\n",
    "    nearest = min(sum(map(abs, point)) for point in crossings)\n",
    "    return nearest"
   ]
  },
  {
   "cell_type": "code",
   "execution_count": 83,
   "metadata": {},
   "outputs": [
    {
     "data": {
      "text/plain": [
       "TestResults(failed=0, attempted=14)"
      ]
     },
     "execution_count": 83,
     "metadata": {},
     "output_type": "execute_result"
    }
   ],
   "source": [
    "doctest.testmod()"
   ]
  },
  {
   "cell_type": "code",
   "execution_count": 85,
   "metadata": {},
   "outputs": [
    {
     "data": {
      "text/plain": [
       "651"
      ]
     },
     "execution_count": 85,
     "metadata": {},
     "output_type": "execute_result"
    }
   ],
   "source": [
    "command1, commands2 = day03_read()\n",
    "day03(command1, commands2)"
   ]
  },
  {
   "cell_type": "markdown",
   "metadata": {},
   "source": [
    "### Part 2"
   ]
  },
  {
   "cell_type": "markdown",
   "metadata": {},
   "source": [
    "There is ambiguity of step count when a trajectory crosses by itself. Assume that such self-crossing points do not appear as crossing points between trajectories."
   ]
  },
  {
   "cell_type": "code",
   "execution_count": 86,
   "metadata": {},
   "outputs": [],
   "source": [
    "def _day03_exec_command_mod(cmd, state):\n",
    "    coord, record = state\n",
    "    steps = record[coord]\n",
    "    dir_, stride = cmd[0], int(cmd[1:])\n",
    "    x, y = coord\n",
    "    if dir_ == \"R\":\n",
    "        dx, dy = 1, 0\n",
    "    elif dir_ == \"L\":\n",
    "        dx, dy = -1, 0\n",
    "    elif dir_ == \"U\":\n",
    "        dx, dy = 0, 1\n",
    "    else:\n",
    "        assert dir_ == \"D\"\n",
    "        dx, dy = 0, -1\n",
    "        \n",
    "    for i in range(1, stride + 1):\n",
    "        coord = (x + dx * i, y + dy * i)\n",
    "#         if coord in record:\n",
    "#             print(\"Already visited!\")\n",
    "        record[coord] = steps + i\n",
    "                    \n",
    "    coord = (x + dx * stride, y + dy * stride)\n",
    "    return coord, record\n",
    "\n",
    "\n",
    "def _day03_process_mod(commands):\n",
    "    commands = commands.split(\",\")\n",
    "    state = (0, 0), {(0, 0): 0}\n",
    "    for cmd in commands:\n",
    "        state = _day03_exec_command_mod(cmd, state)\n",
    "    _, record = state\n",
    "    return record\n",
    "\n",
    "\n",
    "def day03_mod(commands1, commands2):\n",
    "    \"\"\"\n",
    "    >>> day03_mod(\"R8,U5,L5,D3\", \"U7,R6,D4,L4\")\n",
    "    30\n",
    "    \n",
    "    >>> day03_mod(\"R75,D30,R83,U83,L12,D49,R71,U7,L72\", \"U62,R66,U55,R34,D71,R55,D58,R83\")\n",
    "    610\n",
    "    \n",
    "    >>> day03_mod(\"R98,U47,R26,D63,R33,U87,L62,D20,R33,U53,R51\", \"U98,R91,D20,R16,D67,R40,U7,R15,U6,R7\")\n",
    "    410\n",
    "    \"\"\"\n",
    "    rec1 = _day03_process_mod(commands1)\n",
    "    rec2 = _day03_process_mod(commands2)\n",
    "    crossings = (set(rec1.keys()) & set(rec2.keys())) - {(0, 0)}\n",
    "    nearest = min(rec1[point] + rec2[point] for point in crossings)\n",
    "    return nearest"
   ]
  },
  {
   "cell_type": "code",
   "execution_count": 122,
   "metadata": {},
   "outputs": [
    {
     "data": {
      "text/plain": [
       "TestResults(failed=0, attempted=25)"
      ]
     },
     "execution_count": 122,
     "metadata": {},
     "output_type": "execute_result"
    }
   ],
   "source": [
    "doctest.testmod()"
   ]
  },
  {
   "cell_type": "code",
   "execution_count": 87,
   "metadata": {},
   "outputs": [
    {
     "data": {
      "text/plain": [
       "7534"
      ]
     },
     "execution_count": 87,
     "metadata": {},
     "output_type": "execute_result"
    }
   ],
   "source": [
    "command1, commands2 = day03_read()\n",
    "day03_mod(command1, commands2)"
   ]
  },
  {
   "cell_type": "code",
   "execution_count": null,
   "metadata": {},
   "outputs": [],
   "source": []
  },
  {
   "cell_type": "code",
   "execution_count": 88,
   "metadata": {},
   "outputs": [
    {
     "name": "stdout",
     "output_type": "stream",
     "text": [
      "Day 4: Secure Container\n"
     ]
    }
   ],
   "source": [
    "get_title(4)"
   ]
  },
  {
   "cell_type": "markdown",
   "metadata": {},
   "source": [
    "## Day 4: Secure Container\n"
   ]
  },
  {
   "cell_type": "markdown",
   "metadata": {},
   "source": [
    "Wasted a lot of time in interpreting the problem correctly."
   ]
  },
  {
   "cell_type": "code",
   "execution_count": 95,
   "metadata": {},
   "outputs": [],
   "source": [
    "def day04(s):\n",
    "    from_, to_ = map(int, s.split(\"-\"))\n",
    "    from_ = max(100000, from_)\n",
    "    to_ = min(999999, to_)\n",
    "    res = sum(1 for i in range(from_, to_ + 1)\n",
    "              if (all(c1 <= c2 for c1, c2 in zip(str(i), str(i)[1:])) and\n",
    "                  any(c1 == c2 for c1, c2 in zip(str(i), str(i)[1:])))\n",
    "          )\n",
    "    return res"
   ]
  },
  {
   "cell_type": "code",
   "execution_count": 96,
   "metadata": {},
   "outputs": [
    {
     "data": {
      "text/plain": [
       "1855"
      ]
     },
     "execution_count": 96,
     "metadata": {},
     "output_type": "execute_result"
    }
   ],
   "source": [
    "inputs = \"138307-654504\"\n",
    "day04(inputs)"
   ]
  },
  {
   "cell_type": "code",
   "execution_count": 97,
   "metadata": {},
   "outputs": [],
   "source": [
    "def day04_mod(s):\n",
    "    from_, to_ = map(int, s.split(\"-\"))\n",
    "    from_ = max(100000, from_)\n",
    "    to_ = min(999999, to_)\n",
    "    \n",
    "    res = 0\n",
    "    for i in range(from_, to_ + 1):\n",
    "        ss = str(i)\n",
    "        \n",
    "        if all(c1 <= c2 for c1, c2 in zip(ss, ss[1:])):\n",
    "            cnt = collections.Counter(ss)\n",
    "            if any(x for x in cnt.values() if x == 2):\n",
    "                res += 1\n",
    "    return res"
   ]
  },
  {
   "cell_type": "code",
   "execution_count": 98,
   "metadata": {},
   "outputs": [
    {
     "data": {
      "text/plain": [
       "1253"
      ]
     },
     "execution_count": 98,
     "metadata": {},
     "output_type": "execute_result"
    }
   ],
   "source": [
    "day04_mod(inputs)"
   ]
  },
  {
   "cell_type": "code",
   "execution_count": null,
   "metadata": {},
   "outputs": [],
   "source": []
  },
  {
   "cell_type": "code",
   "execution_count": 21,
   "metadata": {},
   "outputs": [
    {
     "name": "stdout",
     "output_type": "stream",
     "text": [
      "Day 5: Sunny with a Chance of Asteroids\n"
     ]
    }
   ],
   "source": [
    "get_title(5)"
   ]
  },
  {
   "cell_type": "markdown",
   "metadata": {},
   "source": [
    "## Day 5: Sunny with a Chance of Asteroids\n",
    "\n",
    "### Part 1 & Part 2\n",
    "\n",
    "I mean a `state` by a snapshot of time-chaninging intcode. "
   ]
  },
  {
   "cell_type": "code",
   "execution_count": 121,
   "metadata": {},
   "outputs": [],
   "source": [
    "def day05_read():\n",
    "    file_ = get_path(5)\n",
    "    return [int(x) for x in open(file_).read().strip().split(\",\")]\n",
    "\n",
    "\n",
    "def day05(state: List[int], input_: int, verbose=False) -> int:\n",
    "    \"\"\"\n",
    "    >>> day05([3,9,8,9,10,9,4,9,99,-1,8], 8)\n",
    "    [1]\n",
    "    >>> day05([3,9,8,9,10,9,4,9,99,-1,8], -3)\n",
    "    [0]\n",
    "    >>> day05([3,9,7,9,10,9,4,9,99,-1,8], 4)\n",
    "    [1]\n",
    "    >>> day05([3,9,7,9,10,9,4,9,99,-1,8], 8)\n",
    "    [0]\n",
    "    >>> day05([3,3,1108,-1,8,3,4,3,99], 8)\n",
    "    [1]\n",
    "    >>> day05([3,3,1108,-1,8,3,4,3,99], 7)\n",
    "    [0]\n",
    "    >>> day05([3,3,1107,-1,8,3,4,3,99], 1)\n",
    "    [1]\n",
    "    >>> day05([3,3,1107,-1,8,3,4,3,99], 9)\n",
    "    [0]\n",
    "    \"\"\"\n",
    "    res = []\n",
    "    \n",
    "    def _decode_opcode(n:int) -> Tuple[int, bool, bool, bool]:\n",
    "        op = n % 100       # take two right-most digits as int\n",
    "        s = str(n).zfill(5)\n",
    "        mode3 = s[0] == '0'  # True iff position mode\n",
    "        mode2 = s[1] == '0'  # False iff immediate mode\n",
    "        mode1 = s[2] == '0'\n",
    "        return op, mode1, mode2, mode3\n",
    "\n",
    "    def _bin_op(f, xs: List[int], loc: int, *mode) -> Tuple[List[int], int]:\n",
    "        left = xs[xs[loc + 1]] if mode[0] else xs[loc + 1]\n",
    "        right = xs[xs[loc + 2]] if mode[1] else xs[loc + 2]\n",
    "        if mode[2]:\n",
    "            xs[xs[loc + 3]] = f(left, right)\n",
    "        else:\n",
    "            raise ValueError(\"Something is wrong\")\n",
    "        return xs, loc + 4\n",
    "\n",
    "    def _add(xs: List[int], loc: int, *mode) -> Tuple[List[int], int]:\n",
    "        return _bin_op(lambda a, b: a + b, xs, loc, *mode)\n",
    "    \n",
    "    def _mul(xs: List[int], loc: int, *mode) -> Tuple[List[int], int]:\n",
    "        return _bin_op(lambda a, b: a * b, xs, loc, *mode)\n",
    "\n",
    "    def _in(xs: List[int], loc: int, *mode) -> Tuple[List[int], int]:\n",
    "        xs[xs[loc + 1]] = input_\n",
    "        return xs, loc + 2\n",
    "\n",
    "    def _out(xs: List[int], loc: int, *mode) -> Tuple[List[int], int]:\n",
    "        out = xs[xs[loc + 1]] if mode[0] else xs[loc + 1]\n",
    "        res.append(out)\n",
    "        return xs, loc + 2\n",
    "\n",
    "    def _jmp_true(xs: List[int], loc: int, *mode) -> Tuple[List[int], int]:\n",
    "        x = xs[xs[loc + 1]] if mode[0] else xs[loc + 1]\n",
    "        if x > 0:\n",
    "            loc = xs[xs[loc + 2]] if mode[1] else xs[loc + 2]\n",
    "        else:\n",
    "            loc += 3\n",
    "        return xs, loc\n",
    "\n",
    "    def _jmp_false(xs: List[int], loc: int, *mode) -> Tuple[List[int], int]:\n",
    "        x = xs[xs[loc + 1]] if mode[0] else xs[loc + 1]\n",
    "        if x == 0:\n",
    "            loc = xs[xs[loc + 2]] if mode[1] else xs[loc + 2]\n",
    "        else:\n",
    "            loc += 3\n",
    "        return xs, loc\n",
    "\n",
    "    def _lt(xs: List[int], loc: int, *mode) -> Tuple[List[int], int]:\n",
    "        return _bin_op(lambda a, b: int(a < b), xs, loc, *mode)\n",
    "    \n",
    "    def _eq(xs: List[int], loc: int, *mode) -> Tuple[List[int], int]:\n",
    "        return _bin_op(lambda a, b: int(a == b), xs, loc, *mode)    \n",
    "\n",
    "    opfun = {1: _add, 2: _mul, 3: _in, 4: _out, 5:_jmp_true, 6:_jmp_false, 7: _lt, 8: _eq}\n",
    "    \n",
    "    loc = 0\n",
    "    while state[loc] != 99:\n",
    "        if verbose:\n",
    "            print(f\"processing {state[loc]} at {loc}\", file=sys.stderr)\n",
    "        opcode = state[loc]\n",
    "        op, mode1, mode2, mode3 = _decode_opcode(opcode)\n",
    "        state, loc = opfun[op](state, loc, mode1, mode2, mode3)\n",
    "    return res"
   ]
  },
  {
   "cell_type": "code",
   "execution_count": 122,
   "metadata": {},
   "outputs": [
    {
     "data": {
      "text/plain": [
       "TestResults(failed=0, attempted=25)"
      ]
     },
     "execution_count": 122,
     "metadata": {},
     "output_type": "execute_result"
    }
   ],
   "source": [
    "doctest.testmod()"
   ]
  },
  {
   "cell_type": "code",
   "execution_count": 123,
   "metadata": {},
   "outputs": [],
   "source": [
    "def test_day05():\n",
    "    xs = [3,21,1008,21,8,20,1005,20,22,107,8,21,20,1006,20,31,1106,0,36,98,0,0,1002,21,125,20,4,20,1105,1,46,104,\n",
    "999,1105,1,46,1101,1000,1,20,4,20,1105,1,46,98,99]\n",
    "    x = random.randrange(20)\n",
    "    expected = 999 if x < 8 else 1000 if x == 8 else 1001\n",
    "    assert day05(xs, x) == [expected]"
   ]
  },
  {
   "cell_type": "code",
   "execution_count": 124,
   "metadata": {},
   "outputs": [],
   "source": [
    "test_day05()"
   ]
  },
  {
   "cell_type": "code",
   "execution_count": 125,
   "metadata": {},
   "outputs": [
    {
     "data": {
      "text/plain": [
       "[3, 225, 1, 225, 6, 6, 1100, 1, 238, 225]"
      ]
     },
     "execution_count": 125,
     "metadata": {},
     "output_type": "execute_result"
    }
   ],
   "source": [
    "inputs = day05_read()\n",
    "inputs[:10]"
   ]
  },
  {
   "cell_type": "code",
   "execution_count": 126,
   "metadata": {},
   "outputs": [
    {
     "data": {
      "text/plain": [
       "[0, 0, 0, 0, 0, 0, 0, 0, 0, 4887191]"
      ]
     },
     "execution_count": 126,
     "metadata": {},
     "output_type": "execute_result"
    }
   ],
   "source": [
    "day05(inputs[:], 1)"
   ]
  },
  {
   "cell_type": "code",
   "execution_count": 127,
   "metadata": {},
   "outputs": [
    {
     "data": {
      "text/plain": [
       "[3419022]"
      ]
     },
     "execution_count": 127,
     "metadata": {},
     "output_type": "execute_result"
    }
   ],
   "source": [
    "day05(inputs[:], 5)"
   ]
  },
  {
   "cell_type": "code",
   "execution_count": 128,
   "metadata": {},
   "outputs": [
    {
     "name": "stdout",
     "output_type": "stream",
     "text": [
      "Day 6: Universal Orbit Map\n"
     ]
    }
   ],
   "source": [
    "get_title(6)"
   ]
  },
  {
   "cell_type": "markdown",
   "metadata": {},
   "source": [
    "## Day 6: Universal Orbit Map\n",
    "\n",
    "### Part 1\n",
    "\n",
    "A DAG with the unique minimum node. Find # of steps from a node to the minimum node."
   ]
  },
  {
   "cell_type": "code",
   "execution_count": 129,
   "metadata": {},
   "outputs": [],
   "source": [
    "def day06_read():\n",
    "    file_ = get_path(6)\n",
    "    return [line.strip() for line in open(file_).readlines() if line.strip()]"
   ]
  },
  {
   "cell_type": "code",
   "execution_count": 130,
   "metadata": {},
   "outputs": [
    {
     "data": {
      "text/plain": [
       "['WR4)TZN', 'M6J)Q1N', 'D5B)2KR']"
      ]
     },
     "execution_count": 130,
     "metadata": {},
     "output_type": "execute_result"
    }
   ],
   "source": [
    "inputs = day06_read()\n",
    "inputs[:3]"
   ]
  },
  {
   "cell_type": "code",
   "execution_count": 131,
   "metadata": {},
   "outputs": [],
   "source": [
    "def _day06_to_adj(lines):\n",
    "    d = collections.defaultdict(list)\n",
    "    for line in lines:\n",
    "        inner, outer = line.split(\")\")\n",
    "        d[outer].append(inner)\n",
    "    \n",
    "    assert(all(len(lis) == 1 for lis in d.values()))\n",
    "    return {k:v[0] for k,v in d.items()}"
   ]
  },
  {
   "cell_type": "code",
   "execution_count": 132,
   "metadata": {},
   "outputs": [
    {
     "data": {
      "text/plain": [
       "{'TZN': 'WR4',\n",
       " 'Q1N': 'M6J',\n",
       " '2KR': 'D5B',\n",
       " '8JX': 'ZNY',\n",
       " 'N48': '349',\n",
       " 'GTH': '2RY',\n",
       " 'SV6': '84X',\n",
       " '8XL': 'F26',\n",
       " 'BV8': 'QT8',\n",
       " 'Z91': 'Q7X',\n",
       " '5YM': 'CHD',\n",
       " 'QLS': '3F1',\n",
       " 'WSB': 'M9P',\n",
       " '6J7': 'B1D',\n",
       " 'YDQ': '4CG',\n",
       " '23H': 'ZYW',\n",
       " 'KGS': 'BK9',\n",
       " '8PF': 'NHH',\n",
       " 'TT8': '53H',\n",
       " 'T72': 'P5X',\n",
       " 'S52': '54T',\n",
       " 'SM2': 'FC1',\n",
       " 'H2L': 'M82',\n",
       " '73K': '4SF',\n",
       " 'T5V': '7QG',\n",
       " '1HW': '7NH',\n",
       " 'PPD': 'FCQ',\n",
       " '5VM': 'NWP',\n",
       " '861': 'TMX',\n",
       " 'Z9N': '358',\n",
       " 'XP8': 'ZSC',\n",
       " '91X': '8M9',\n",
       " 'QJM': '8PF',\n",
       " 'S5Y': 'ZQJ',\n",
       " 'ZBQ': 'H4C',\n",
       " '4XN': 'KZ8',\n",
       " 'H4C': '2L8',\n",
       " 'BNB': 'DP6',\n",
       " '2HB': 'XTZ',\n",
       " '61P': 'X4X',\n",
       " 'LKS': '2NL',\n",
       " 'X27': 'R4L',\n",
       " 'S8D': 'GWG',\n",
       " 'B7H': '32W',\n",
       " '5QF': 'HDC',\n",
       " 'Y8M': 'B52',\n",
       " 'N57': 'CQ8',\n",
       " 'W8T': 'PSY',\n",
       " '592': '43M',\n",
       " 'BZK': 'H6Z',\n",
       " 'NFG': 'N6M',\n",
       " 'YKZ': '58M',\n",
       " '9CG': 'TCL',\n",
       " 'Y6S': '855',\n",
       " 'BCF': 'M7N',\n",
       " '5HK': 'GLC',\n",
       " 'WT7': 'MDY',\n",
       " 'ZHL': 'LPD',\n",
       " '94F': 'L87',\n",
       " 'TCV': 'KHH',\n",
       " 'D7T': 'XKM',\n",
       " '2KD': 'WX6',\n",
       " 'DPP': '4DM',\n",
       " 'Q55': 'XQD',\n",
       " 'D1Y': 'KSC',\n",
       " 'MMB': '168',\n",
       " 'W6B': 'P9Q',\n",
       " 'H19': 'XX1',\n",
       " 'L98': '5WW',\n",
       " 'VLV': 'RGL',\n",
       " '5VG': 'M3M',\n",
       " 'CZG': 'BTX',\n",
       " 'N2T': 'XYZ',\n",
       " '611': 'DS3',\n",
       " '1DL': 'W6B',\n",
       " '1WL': 'ZBZ',\n",
       " 'H6X': '1HW',\n",
       " 'D8N': 'NZ5',\n",
       " 'JGK': '271',\n",
       " 'SKL': 'P66',\n",
       " 'XYZ': '2HW',\n",
       " 'Z9L': 'X3Q',\n",
       " 'MRL': 'R1P',\n",
       " 'WX6': '3K9',\n",
       " 'QY3': 'MT6',\n",
       " '53H': 'QS4',\n",
       " 'RJN': 'BCF',\n",
       " 'H7H': '4SF',\n",
       " 'HG4': 'ZBQ',\n",
       " 'CBW': '3T7',\n",
       " 'L5F': 'HXH',\n",
       " 'KMS': 'XF1',\n",
       " '4JL': 'GCL',\n",
       " '32Z': 'G5J',\n",
       " '46L': 'SCK',\n",
       " '8RH': 'YFQ',\n",
       " '7RW': 'DVT',\n",
       " 'SNJ': '6MS',\n",
       " 'LB4': 'CS3',\n",
       " 'HBK': 'GG8',\n",
       " 'R18': 'LZ2',\n",
       " 'FC1': 'H6Z',\n",
       " 'HL9': 'BDT',\n",
       " 'FS7': 'S7V',\n",
       " 'VDD': 'RFV',\n",
       " 'DVL': 'V6W',\n",
       " 'F1R': 'WT7',\n",
       " 'FQC': 'FS7',\n",
       " 'WD3': 'QN5',\n",
       " 'B47': '8HZ',\n",
       " 'HG6': '8LF',\n",
       " 'TWR': '4TL',\n",
       " '13J': 'MLL',\n",
       " '5WW': 'MMD',\n",
       " 'K9T': 'V6W',\n",
       " 'HDC': 'CS5',\n",
       " 'N6M': 'R35',\n",
       " 'JZT': 'DT8',\n",
       " 'S8J': 'W44',\n",
       " '3LH': 'Z9L',\n",
       " 'HRL': '9N3',\n",
       " '6PP': 'FTF',\n",
       " 'MT6': 'KWV',\n",
       " 'ML5': 'NWP',\n",
       " '117': 'FB3',\n",
       " '1DY': '3JP',\n",
       " 'PSY': 'DMQ',\n",
       " '1F1': 'P2X',\n",
       " 'JZ1': 'NVS',\n",
       " 'ZNY': 'KTB',\n",
       " 'PG3': 'GVQ',\n",
       " '454': 'D8L',\n",
       " 'X9H': 'FK5',\n",
       " 'N3P': 'WC4',\n",
       " '5NQ': 'K33',\n",
       " '5TK': 'ZF2',\n",
       " 'ZGV': '6VH',\n",
       " 'Q61': 'W9R',\n",
       " '1KL': 'ZM4',\n",
       " '8T5': '88L',\n",
       " 'NC4': 'L4P',\n",
       " 'TPW': 'XNK',\n",
       " 'YZ9': '4D3',\n",
       " 'T9R': 'X3Q',\n",
       " '68N': '3PR',\n",
       " 'FNL': 'RG3',\n",
       " '5JY': '6PP',\n",
       " 'R8N': '4X3',\n",
       " '6HM': 'G81',\n",
       " '27N': 'NSV',\n",
       " 'TTR': 'KN1',\n",
       " 'Z1Z': 'N3P',\n",
       " 'H51': 'TJY',\n",
       " '6FP': 'PTQ',\n",
       " 'DTT': '81V',\n",
       " 'LPD': 'HMY',\n",
       " '349': '5PP',\n",
       " 'RGB': '7T4',\n",
       " 'SNG': 'G8Z',\n",
       " '8C4': 'QY3',\n",
       " 'Y1S': 'V16',\n",
       " '38T': 'JDY',\n",
       " 'Z7M': 'NKF',\n",
       " 'X2C': 'N1K',\n",
       " 'Z19': '1Y9',\n",
       " 'LFT': 'DXR',\n",
       " 'XM6': 'ZGV',\n",
       " 'L7P': 'NFG',\n",
       " 'BLY': '73K',\n",
       " 'STC': 'LDH',\n",
       " '5WN': 'JQY',\n",
       " 'DRQ': '3YQ',\n",
       " 'XC7': '9RL',\n",
       " '1NJ': '5TK',\n",
       " '2XH': 'MRZ',\n",
       " '93S': 'LKR',\n",
       " 'QDH': 'JVR',\n",
       " 'YFQ': '8T5',\n",
       " 'YOU': '46L',\n",
       " 'FL5': 'YTV',\n",
       " 'FK5': 'JX6',\n",
       " 'LFJ': 'KPH',\n",
       " '86D': 'WDV',\n",
       " 'G8G': 'ZBQ',\n",
       " '7H3': 'QZT',\n",
       " '55Y': '96P',\n",
       " 'HHJ': 'P8S',\n",
       " '6MB': 'Y7H',\n",
       " 'S3K': '99M',\n",
       " 'P93': 'LFJ',\n",
       " 'JBY': 'FFG',\n",
       " 'LJ2': 'NJG',\n",
       " 'KL6': 'Q55',\n",
       " '67J': 'JDP',\n",
       " 'Q9S': 'ZMM',\n",
       " 'PBM': 'PVQ',\n",
       " 'X3Q': '5TT',\n",
       " 'G6N': 'HZX',\n",
       " 'JS5': 'ML6',\n",
       " 'ZLF': '9DJ',\n",
       " '7YG': 'FGJ',\n",
       " '2FG': 'VQ9',\n",
       " 'FP7': '524',\n",
       " 'PM4': '85H',\n",
       " 'Y7H': 'JX9',\n",
       " 'TMZ': 'XVX',\n",
       " 'YGK': '8JZ',\n",
       " '2DL': 'SV6',\n",
       " 'S51': 'P79',\n",
       " 'DGP': '8V8',\n",
       " 'Y8Z': '23H',\n",
       " 'KMC': 'CVR',\n",
       " 'DXR': 'MWY',\n",
       " '1C8': 'Q99',\n",
       " '1GN': 'KXL',\n",
       " 'HZZ': 'T9K',\n",
       " '73W': 'W8T',\n",
       " '3FH': 'S9S',\n",
       " 'CBD': 'CDK',\n",
       " '29R': 'FGX',\n",
       " 'ZC2': '4LL',\n",
       " 'JQY': 'H8X',\n",
       " '2ZK': '21F',\n",
       " 'Y36': 'ZFK',\n",
       " 'YKM': '5HK',\n",
       " 'ZWX': 'QBH',\n",
       " 'QN5': 'QHX',\n",
       " 'D6M': 'NMT',\n",
       " 'BFJ': '4D6',\n",
       " '16T': 'KLC',\n",
       " 'S6W': 'F7R',\n",
       " 'D2Q': 'F26',\n",
       " '5CW': 'D34',\n",
       " '2FP': '4DM',\n",
       " 'LZ2': 'XC7',\n",
       " 'N7N': 'KMS',\n",
       " '1TM': '91F',\n",
       " 'BYD': 'ZPB',\n",
       " '4TL': 'BHF',\n",
       " 'BZM': 'BZK',\n",
       " '6HK': 'ZWH',\n",
       " '5SJ': 'RG9',\n",
       " 'XN1': '5JY',\n",
       " 'KPH': 'TWH',\n",
       " 'CB3': 'DD1',\n",
       " 'WY5': 'B3D',\n",
       " '16R': 'W2C',\n",
       " 'W2C': 'KN2',\n",
       " '9PZ': 'NBZ',\n",
       " 'FTF': '9FZ',\n",
       " 'GW2': '4KC',\n",
       " 'BLB': 'QHX',\n",
       " 'Y1F': '7H3',\n",
       " '8Y3': '3X9',\n",
       " '13D': 'GGH',\n",
       " 'D34': 'VJL',\n",
       " 'H92': '55Y',\n",
       " '1XY': '9MB',\n",
       " '4SB': 'ZGW',\n",
       " '3SL': 'NJC',\n",
       " 'HZD': '1F1',\n",
       " 'NWP': '91X',\n",
       " '29V': 'FP7',\n",
       " '2PL': '38T',\n",
       " '2DJ': 'QQF',\n",
       " 'K1F': 'HV2',\n",
       " 'JMJ': 'BW7',\n",
       " '3RY': '4NS',\n",
       " 'KHH': 'KMC',\n",
       " 'DW2': 'KFR',\n",
       " '7JF': 'ZLF',\n",
       " 'T9Y': 'TG2',\n",
       " 'T27': 'BFJ',\n",
       " 'DD1': 'GW2',\n",
       " 'BDT': 'YXP',\n",
       " '4XR': 'F15',\n",
       " '3YB': 'LG8',\n",
       " 'P5P': 'NNM',\n",
       " 'N1K': 'S2W',\n",
       " '5HZ': '67J',\n",
       " 'F3K': 'TZS',\n",
       " 'YVP': '3RT',\n",
       " '8DY': 'RFF',\n",
       " 'FTB': 'H6X',\n",
       " 'WR3': 'H9J',\n",
       " 'MYB': 'DPF',\n",
       " '2XL': '1M9',\n",
       " 'MQN': '6HL',\n",
       " 'RPC': '4KZ',\n",
       " 'RVN': '7RH',\n",
       " '7PS': '9N8',\n",
       " 'W9G': '4CX',\n",
       " 'XMN': '544',\n",
       " '7BW': 'GHP',\n",
       " '544': '1GN',\n",
       " 'LQH': '2KD',\n",
       " 'K8G': 'LNY',\n",
       " '9DR': '13D',\n",
       " 'BL3': 'VZF',\n",
       " 'TMX': 'KNT',\n",
       " 'F24': 'LPT',\n",
       " 'PDT': 'KCG',\n",
       " 'J3G': 'HBK',\n",
       " 'BST': 'B1J',\n",
       " '1YQ': 'LFT',\n",
       " 'TSD': 'FLX',\n",
       " '7LS': '631',\n",
       " 'B2X': 'S1L',\n",
       " 'KXK': 'VPW',\n",
       " '5ML': 'RVN',\n",
       " 'V5W': 'XKB',\n",
       " '2L8': '9DJ',\n",
       " '93L': '6JY',\n",
       " 'QBH': '8S6',\n",
       " 'WKZ': '5S5',\n",
       " '6TV': 'P8X',\n",
       " '4GB': 'LY5',\n",
       " 'HY9': 'WR3',\n",
       " '252': 'D2Q',\n",
       " 'Z3Q': 'K8G',\n",
       " 'ML6': 'DRQ',\n",
       " 'SKW': '8JT',\n",
       " '85H': '445',\n",
       " '5N3': '1HN',\n",
       " '169': 'F24',\n",
       " 'XNK': 'T9R',\n",
       " 'MFL': '6NH',\n",
       " '2NL': 'HMN',\n",
       " '8YT': '5QF',\n",
       " 'G9Q': 'MBV',\n",
       " 'D48': 'D36',\n",
       " 'SC9': '7SP',\n",
       " 'SHZ': 'RCB',\n",
       " 'V16': 'FQ2',\n",
       " '6WN': '283',\n",
       " '2X8': 'X9H',\n",
       " 'MCJ': 'D4T',\n",
       " '1ZV': 'SXN',\n",
       " 'SX4': 'TTG',\n",
       " 'M5N': 'H7H',\n",
       " 'X1B': '4CG',\n",
       " '8G6': 'QZ2',\n",
       " 'XNJ': 'DGP',\n",
       " 'J8Q': 'PG3',\n",
       " 'TJY': '6ZM',\n",
       " 'H53': 'BQY',\n",
       " '91P': '7X3',\n",
       " '4KC': 'WHS',\n",
       " '42P': '66T',\n",
       " '3DY': 'WDR',\n",
       " '26L': 'F3K',\n",
       " '1P4': 'P2N',\n",
       " 'PRQ': '1DL',\n",
       " 'GFT': 'FBG',\n",
       " 'QWM': 'BYL',\n",
       " '4W5': '1CD',\n",
       " 'PGD': '11F',\n",
       " 'MT5': 'MZZ',\n",
       " 'XXX': '9CL',\n",
       " '7HD': '63N',\n",
       " '418': '61P',\n",
       " 'LY5': 'TP5',\n",
       " 'VHQ': 'K1F',\n",
       " '8M9': 'VDD',\n",
       " 'S7V': 'WS6',\n",
       " 'GYH': 'KR8',\n",
       " '2RY': 'T2H',\n",
       " '4NS': 'Z57',\n",
       " 'BHF': '5ZS',\n",
       " 'D36': 'K8V',\n",
       " 'Q4Z': 'RN3',\n",
       " 'ZDM': 'JYL',\n",
       " '6ZK': '192',\n",
       " 'H5F': '3XF',\n",
       " 'F4W': 'PCV',\n",
       " 'RFN': 'KYW',\n",
       " '6NH': 'XM6',\n",
       " 'KR8': 'QT8',\n",
       " 'K8V': 'V8Z',\n",
       " 'LNS': 'JJP',\n",
       " 'VN5': 'WGS',\n",
       " 'TWH': '2SF',\n",
       " '57Z': '548',\n",
       " 'N4W': 'CBD',\n",
       " 'T7W': '3SR',\n",
       " 'FYC': 'CKQ',\n",
       " '8J1': '5ML',\n",
       " 'BBY': '1MX',\n",
       " 'B4C': 'SW2',\n",
       " '2KJ': 'MJD',\n",
       " '5S5': '192',\n",
       " 'JX9': 'RTS',\n",
       " '3GH': 'LTT',\n",
       " 'QS4': 'LLL',\n",
       " '5VV': '4GC',\n",
       " 'RH6': '242',\n",
       " 'HZX': 'JM6',\n",
       " '41D': 'RFN',\n",
       " 'M9P': 'FSN',\n",
       " 'RCB': 'P8L',\n",
       " 'HTG': 'MT6',\n",
       " 'HMN': 'L5F',\n",
       " 'PGK': 'V1P',\n",
       " 'JZP': 'WGB',\n",
       " 'H2R': 'DH4',\n",
       " '3PR': '358',\n",
       " 'P1Y': '5RJ',\n",
       " '6ZM': 'X2C',\n",
       " 'PD8': '117',\n",
       " 'Z6N': 'XKF',\n",
       " 'C2K': '26L',\n",
       " 'QN8': 'KSM',\n",
       " '5TT': 'ZDN',\n",
       " 'PMB': '48B',\n",
       " 'JVR': 'LH1',\n",
       " 'H7N': 'K9D',\n",
       " 'BTX': 'F3K',\n",
       " 'ZQJ': '651',\n",
       " 'CHD': '2KR',\n",
       " '99M': '856',\n",
       " 'ZWH': '76X',\n",
       " '3ZC': 'GVL',\n",
       " 'GYN': '7JF',\n",
       " 'T9K': 'M2P',\n",
       " 'K11': 'WRF',\n",
       " '3K9': 'RQ7',\n",
       " 'L87': 'S6M',\n",
       " 'JJP': 'Q35',\n",
       " '7ZS': 'JGK',\n",
       " 'LLX': 'GYH',\n",
       " '3ZN': 'XKB',\n",
       " 'MW9': '1TM',\n",
       " '9LJ': 'PTN',\n",
       " 'SS8': 'SGW',\n",
       " 'DB5': 'PRQ',\n",
       " 'NJC': 'BFR',\n",
       " '1CD': 'VK5',\n",
       " 'HDR': 'R18',\n",
       " '93K': 'DVL',\n",
       " 'NBZ': 'DNK',\n",
       " 'SGW': 'S8J',\n",
       " 'PCN': '94F',\n",
       " '6WP': 'GDY',\n",
       " 'DXY': 'Y63',\n",
       " 'H9J': 'GS1',\n",
       " 'C6D': '28B',\n",
       " '3VF': '5KR',\n",
       " 'ZYW': '1PV',\n",
       " 'SC5': 'LYF',\n",
       " '9FZ': '9R1',\n",
       " '1M9': 'HQ3',\n",
       " 'FRL': 'T9D',\n",
       " '7VL': '5VG',\n",
       " 'ZSC': '73K',\n",
       " 'M82': 'B47',\n",
       " '93W': 'SKV',\n",
       " 'F7R': '7VL',\n",
       " '1Y9': 'FRL',\n",
       " 'P8S': 'MLQ',\n",
       " 'WDV': 'D12',\n",
       " 'WWB': 'JS5',\n",
       " 'RV5': 'Y4R',\n",
       " '3X9': 'BL3',\n",
       " '7XQ': '3SL',\n",
       " 'LJD': 'TCV',\n",
       " 'LKR': 'P5P',\n",
       " '8HZ': '9BB',\n",
       " '631': 'D5H',\n",
       " '5XX': 'T3N',\n",
       " '358': 'G8G',\n",
       " 'K9D': 'HG7',\n",
       " 'GCP': 'N7N',\n",
       " 'TDF': 'JBY',\n",
       " 'FSD': '9PZ',\n",
       " 'ZPB': 'S6W',\n",
       " 'QT8': 'G2B',\n",
       " '1MX': '4FD',\n",
       " '1D8': 'W9Z',\n",
       " 'Z74': 'DS6',\n",
       " 'W44': '592',\n",
       " 'DS6': 'K9T',\n",
       " 'T94': '8H1',\n",
       " '56K': 'HNF',\n",
       " '62J': 'Z9N',\n",
       " 'ZGL': '1P4',\n",
       " 'B52': 'PD8',\n",
       " 'FL2': 'ZD7',\n",
       " 'H6Z': 'HM3',\n",
       " 'R7D': '89Z',\n",
       " '6MS': '3XC',\n",
       " '24V': 'FHR',\n",
       " 'CTQ': 'T3X',\n",
       " 'T62': '7Y8',\n",
       " 'DVT': 'N2T',\n",
       " '8MV': 'COM',\n",
       " 'DSW': '24V',\n",
       " 'SB6': 'FTP',\n",
       " 'VCG': 'H5Z',\n",
       " '855': '5WN',\n",
       " '6GZ': 'HBX',\n",
       " 'Q99': '9LZ',\n",
       " 'SPY': 'NN2',\n",
       " 'JRX': 'ZDM',\n",
       " 'L73': 'QN8',\n",
       " 'Q18': '84X',\n",
       " '1PV': '8JX',\n",
       " 'GXW': 'TTR',\n",
       " 'LQQ': '2DL',\n",
       " 'NRT': 'XXX',\n",
       " 'B4Q': '7X3',\n",
       " 'MLL': 'FL5',\n",
       " '3DK': 'Z19',\n",
       " '11S': 'WQ8',\n",
       " 'N3Q': 'S5Y',\n",
       " 'H1W': 'K7K',\n",
       " 'YJR': 'BBY',\n",
       " '94N': 'HG6',\n",
       " '7Y8': 'FQ2',\n",
       " 'NY4': 'MJD',\n",
       " '89Z': 'J8Q',\n",
       " 'Z22': 'VZZ',\n",
       " 'HM3': 'BKD',\n",
       " '1BZ': '864',\n",
       " 'KYW': '7ZW',\n",
       " '96P': 'X2F',\n",
       " '8H1': 'HRL',\n",
       " 'M98': 'QX1',\n",
       " 'TS3': 'DW2',\n",
       " 'GWG': 'G79',\n",
       " 'RBH': '4C4',\n",
       " 'YHC': '63Y',\n",
       " '1M6': 'K11',\n",
       " 'RG9': '1TY',\n",
       " 'L4P': 'F7L',\n",
       " '34M': 'QJM',\n",
       " '5PV': '8VV',\n",
       " 'P9Q': 'SHZ',\n",
       " '283': '7ZW',\n",
       " 'ZJ9': '69N',\n",
       " 'G8Z': '5SJ',\n",
       " '81V': 'YS5',\n",
       " 'CGR': 'P1Y',\n",
       " 'PWS': '9BK',\n",
       " '76X': 'XP8',\n",
       " 'MQB': 'JRX',\n",
       " '5XB': 'YBC',\n",
       " '9CL': 'KNT',\n",
       " 'P4J': 'H92',\n",
       " 'MJD': 'ZGY',\n",
       " 'D4T': 'LB5',\n",
       " '4LL': 'Y3C',\n",
       " 'KWV': '1YQ',\n",
       " 'XF1': 'ZB2',\n",
       " '382': '4W5',\n",
       " 'Z5R': 'T5Q',\n",
       " '7VK': '6D5',\n",
       " 'FTP': 'TQS',\n",
       " 'KTB': 'ML5',\n",
       " '327': 'HQN',\n",
       " 'NKF': '7BW',\n",
       " '7GG': '1C8',\n",
       " 'C63': 'QPY',\n",
       " '4ZJ': '861',\n",
       " 'RQ7': '58P',\n",
       " 'MMD': 'HVM',\n",
       " '4SF': 'KCG',\n",
       " 'FCB': 'B2X',\n",
       " 'ZMM': '41D',\n",
       " 'CPP': '3Y4',\n",
       " 'TG2': '93L',\n",
       " 'VVL': 'V1C',\n",
       " '6Z3': 'T27',\n",
       " 'Y4R': '34M',\n",
       " 'YTV': 'TTR',\n",
       " '7T4': '2TX',\n",
       " '2Q4': 'C7S',\n",
       " 'D5B': 'WD3',\n",
       " 'NK5': 'DPF',\n",
       " 'KQC': 'LQH',\n",
       " 'TP5': 'MVV',\n",
       " 'KNT': 'M5N',\n",
       " 'RWW': '263',\n",
       " '8XJ': 'SD7',\n",
       " 'D5H': '3W4',\n",
       " '263': '6GZ',\n",
       " 'K7K': 'YP5',\n",
       " 'V1P': 'HJW',\n",
       " '7ZJ': 'L87',\n",
       " 'ZGY': 'TH3',\n",
       " '63N': '9FZ',\n",
       " 'DNQ': '1TP',\n",
       " 'KCK': '3W4',\n",
       " 'YKH': 'W9P',\n",
       " 'Y4M': 'GTH',\n",
       " 'RZD': 'W66',\n",
       " 'PTQ': 'SLG',\n",
       " 'W9P': 'F1R',\n",
       " 'M6J': '2DD',\n",
       " 'TWJ': 'ZBV',\n",
       " 'PCZ': 'L92',\n",
       " '9N8': 'R8N',\n",
       " 'FPS': 'Z1Z',\n",
       " 'V8Z': 'DXY',\n",
       " 'CKQ': '91P',\n",
       " 'N7Q': '28N',\n",
       " '6D5': 'DP2',\n",
       " 'NFW': 'JCS',\n",
       " 'W9R': '8QL',\n",
       " 'T3X': 'CPP',\n",
       " 'VMY': '4ZJ',\n",
       " 'M9L': '8GF',\n",
       " 'H5Z': 'MKB',\n",
       " 'YWV': 'S43',\n",
       " 'G81': 'XF1',\n",
       " 'ZBH': 'FDX',\n",
       " 'G79': 'FB3',\n",
       " 'CJD': '8J1',\n",
       " 'CQ8': 'TWR',\n",
       " 'KB7': 'LLX',\n",
       " 'DPF': '44X',\n",
       " 'T9M': 'K4X',\n",
       " '3ZK': 'C63',\n",
       " 'G2B': 'WY5',\n",
       " '5PX': '6D5',\n",
       " '27S': 'MQB',\n",
       " '54T': 'D4T',\n",
       " '1TP': '15R',\n",
       " '2QG': '2KD',\n",
       " '91F': '86D',\n",
       " '2LP': '94N',\n",
       " '7X4': 'C6V',\n",
       " 'LYF': '8N9',\n",
       " 'MKB': '7VK',\n",
       " 'NZ5': 'YWV',\n",
       " '71M': 'XNJ',\n",
       " 'ZD7': 'GFT',\n",
       " 'WQ8': 'MC6',\n",
       " 'HV2': 'N6K',\n",
       " 'LTT': '7ZS',\n",
       " 'L6R': 'MB1',\n",
       " '7GD': 'MWB',\n",
       " 'PB3': 'N4T',\n",
       " 'GJG': 'SKW',\n",
       " '5KR': 'HCC',\n",
       " 'N2L': 'Q4Z',\n",
       " '9LZ': 'Y1S',\n",
       " 'SGQ': 'VBN',\n",
       " 'ZBV': '3K8',\n",
       " '15R': 'B4C',\n",
       " 'KBP': '9LJ',\n",
       " '4TK': '2LP',\n",
       " 'MWB': 'YG9',\n",
       " 'HXH': 'JK7',\n",
       " 'C6T': 'RY9',\n",
       " '4WD': 'PDT',\n",
       " 'F37': 'FCB',\n",
       " '3HG': 'WKZ',\n",
       " 'VJL': 'YQ8',\n",
       " '2BG': '93S',\n",
       " 'NK7': '32W',\n",
       " '6T1': 'ZM3',\n",
       " 'WR4': 'JST',\n",
       " '271': 'TPW',\n",
       " 'NRY': 'BF3',\n",
       " 'GJX': '73W',\n",
       " 'B3D': '8MV',\n",
       " 'N6K': '1BZ',\n",
       " 'KSM': '168',\n",
       " '3XC': '1Y4',\n",
       " '6JY': 'T94',\n",
       " 'CS5': 'RFR',\n",
       " 'VHX': 'GJG',\n",
       " '3YQ': 'VDG',\n",
       " '6HL': 'SB6',\n",
       " 'S8L': 'J3G',\n",
       " 'LPT': 'KCK',\n",
       " 'DM5': 'V5W',\n",
       " 'KPT': 'ML5',\n",
       " '192': 'ZBH',\n",
       " 'WS6': 'Q63',\n",
       " '293': 'BK9',\n",
       " 'H68': 'DZT',\n",
       " '28N': 'Z74',\n",
       " 'SKV': 'Q9S',\n",
       " 'LH1': 'BST',\n",
       " '8VV': 'LNS',\n",
       " 'C95': '6T1',\n",
       " 'X4X': 'Z7M',\n",
       " '5ZS': 'XMN',\n",
       " 'Q63': '856',\n",
       " '8JT': '6FB',\n",
       " 'F7L': 'H53',\n",
       " 'JL9': 'FPS',\n",
       " '6VH': 'MWY',\n",
       " '2BW': 'NRT',\n",
       " 'HNF': 'JH6',\n",
       " 'SXN': '88V',\n",
       " '3K8': '68N',\n",
       " '4KZ': '6QH',\n",
       " 'JB7': 'KLX',\n",
       " 'JSQ': 'DPP',\n",
       " '1FH': 'J9J',\n",
       " 'XVZ': '4WD',\n",
       " 'V2H': '62J',\n",
       " 'M2P': 'RV5',\n",
       " 'TQS': 'X4F',\n",
       " 'S6M': 'S51',\n",
       " '86V': 'P4J',\n",
       " 'NJG': 'KPH',\n",
       " '5BV': 'VMY',\n",
       " 'MZ5': '56K',\n",
       " 'KSC': '9V4',\n",
       " 'KCG': 'T7W',\n",
       " 'QCF': '3VF',\n",
       " 'VK5': '3WF',\n",
       " '45P': 'B8F',\n",
       " 'C2J': 'T3N',\n",
       " 'LNY': 'L7P',\n",
       " '1WD': '29V',\n",
       " 'YFG': 'YXV',\n",
       " 'DCN': '21W',\n",
       " 'K4X': '1BZ',\n",
       " '8V8': '2M6',\n",
       " 'W8P': 'HG7',\n",
       " '3WF': '671',\n",
       " '9WN': '1WD',\n",
       " 'K33': 'HMN',\n",
       " 'ZGW': 'NKF',\n",
       " 'VZZ': '57Z',\n",
       " 'BHT': 'Z3Q',\n",
       " 'GLC': 'F52',\n",
       " 'X2F': 'S7V',\n",
       " 'BF3': 'CGR',\n",
       " 'L4J': 'SKL',\n",
       " 'FL3': '5ML',\n",
       " 'YD2': 'DNQ',\n",
       " 'P8X': 'WWQ',\n",
       " '48B': '9S1',\n",
       " 'DZT': 'MFL',\n",
       " 'RLV': '63N',\n",
       " 'TH3': '1M9',\n",
       " 'WDR': 'SNJ',\n",
       " '885': 'FK5',\n",
       " 'S7K': '1WL',\n",
       " 'HVS': '8KD',\n",
       " '9MB': 'D7T',\n",
       " 'QSG': '252',\n",
       " 'HNC': '5HZ',\n",
       " 'RFR': 'TQN',\n",
       " '2M6': 'K4X',\n",
       " 'FDD': 'KBP',\n",
       " 'D8L': 'KGS',\n",
       " 'YXV': '5VV',\n",
       " '1DQ': '293',\n",
       " '8KD': '9TD',\n",
       " 'QQF': 'PCS',\n",
       " 'H8X': '2XH',\n",
       " '88V': 'DS8',\n",
       " '3F1': 'PMB',\n",
       " '1TB': 'RSG',\n",
       " 'RSG': 'H1W',\n",
       " '5GV': '6Z3',\n",
       " 'GS1': '6R8',\n",
       " 'BKD': '6J7',\n",
       " 'BW7': '3HG',\n",
       " 'YG9': '7LS',\n",
       " 'F26': 'NK7',\n",
       " '43M': '2DJ',\n",
       " 'W9Z': 'NK7',\n",
       " 'YS7': '8RH',\n",
       " 'FHJ': 'BZM',\n",
       " 'FSN': 'BLY',\n",
       " 'YP5': 'RZD',\n",
       " '69N': 'TS3',\n",
       " '84X': 'FL2',\n",
       " 'B8F': 'FL3',\n",
       " 'JX6': '4DS',\n",
       " 'YV4': '7WC',\n",
       " 'BSB': 'NZ3',\n",
       " 'MC6': '4XN',\n",
       " '7WC': '1XY',\n",
       " 'WHS': 'D69',\n",
       " 'XKB': '9W3',\n",
       " 'W66': 'KMS',\n",
       " 'XR1': 'F4W',\n",
       " 'DP2': '32Z',\n",
       " '857': 'V2H',\n",
       " 'BK9': '7YG',\n",
       " 'QGF': 'W8Z',\n",
       " 'GCL': 'L4J',\n",
       " '6VN': 'HRL',\n",
       " 'YBC': 'LSQ',\n",
       " '524': '7GY',\n",
       " '242': 'LQQ',\n",
       " 'L63': 'J3L',\n",
       " '4X3': 'R1P',\n",
       " '4GC': 'DTT',\n",
       " 'DD7': 'D8L',\n",
       " 'C66': 'HLH',\n",
       " '3RT': 'Y36',\n",
       " '671': 'PB3',\n",
       " 'GVQ': '3LH',\n",
       " '5JD': 'SWX',\n",
       " '58M': '169',\n",
       " 'PZT': 'X5Y',\n",
       " 'D69': 'YGK',\n",
       " 'PTN': '2FG',\n",
       " 'WS9': 'YG9',\n",
       " 'RY9': '2KJ',\n",
       " '4DM': 'SS8',\n",
       " 'FQ2': '9TD',\n",
       " '1WX': 'MQN',\n",
       " 'CS3': 'CBW',\n",
       " 'TSQ': '2V6',\n",
       " 'JDY': '5BV',\n",
       " '2HW': 'DD7',\n",
       " 'X5Y': '4Y6',\n",
       " 'MTV': 'PPD',\n",
       " 'V1C': 'N4W',\n",
       " 'XKM': 'YWY',\n",
       " '651': '5QS',\n",
       " '63Y': '6FP',\n",
       " 'YWY': 'Z6N',\n",
       " 'GGH': 'JZP',\n",
       " 'HVM': 'BLB',\n",
       " '9RL': 'VLV',\n",
       " 'LG8': 'TH3',\n",
       " 'MZZ': '6MB',\n",
       " 'VDG': 'XP9',\n",
       " 'T9D': 'Y6S',\n",
       " 'TQN': 'LX9',\n",
       " 'LCL': 'SC5',\n",
       " 'QDP': 'ZB6',\n",
       " '5PP': '8RT',\n",
       " '84M': '7XQ',\n",
       " 'LP2': 'Y4M',\n",
       " '7GY': '27N',\n",
       " 'ZCT': 'Z91',\n",
       " 'D12': '2X8',\n",
       " '28B': '93K',\n",
       " '531': 'L73',\n",
       " 'BTQ': '5GV',\n",
       " '3JP': 'PZT',\n",
       " 'YHF': 'P93',\n",
       " 'MWY': '4SB',\n",
       " 'ZFK': 'CW3',\n",
       " 'BP9': 'HVS',\n",
       " 'PVQ': 'Z19',\n",
       " 'JST': 'ZGL',\n",
       " 'JW9': '6HM',\n",
       " 'DMQ': 'T5V',\n",
       " '4Y6': 'F4X',\n",
       " 'M7N': 'PBM',\n",
       " '2SF': '8C4',\n",
       " '88L': 'G9Q',\n",
       " '7FT': 'QDH',\n",
       " '8KF': 'BSB',\n",
       " '596': 'HMG',\n",
       " '864': 'HL9',\n",
       " 'SLG': 'KL6',\n",
       " 'DS8': 'W8P',\n",
       " 'LB5': 'QLS',\n",
       " 'KN1': '43M',\n",
       " 'FGX': 'K84',\n",
       " 'N4T': '4WD',\n",
       " 'VJM': 'RH6',\n",
       " 'GSK': '7GD',\n",
       " 'Q4D': '3ZN',\n",
       " 'XKF': 'GXW',\n",
       " 'P5X': 'PM4',\n",
       " 'FHR': '93W',\n",
       " '4C4': 'G3M',\n",
       " '1Y4': 'ZHY',\n",
       " '21W': '45P',\n",
       " 'MDY': 'BD3',\n",
       " 'QZ2': 'M9V',\n",
       " 'NZ6': '885',\n",
       " 'P66': 'WS9',\n",
       " 'FBG': 'TZ5',\n",
       " 'VQ9': 'RLG',\n",
       " 'HJB': 'LB4',\n",
       " 'NNM': '9JQ',\n",
       " 'J9J': 'ZCT',\n",
       " '624': 'YDQ',\n",
       " 'DP6': 'YXV',\n",
       " 'CNM': 'W9G',\n",
       " 'R35': 'JL9',\n",
       " 'RTS': 'B4Q',\n",
       " 'DH4': 'LJD',\n",
       " 'F52': 'TT8',\n",
       " 'P8L': '7ZJ',\n",
       " 'NHH': 'L1N',\n",
       " 'WRF': 'P63',\n",
       " 'GHP': '5VM',\n",
       " '3T7': 'CZG',\n",
       " 'DS3': '596',\n",
       " '3LD': '7PS',\n",
       " 'F4X': '1NJ',\n",
       " 'SD7': 'ZHL',\n",
       " 'XX1': 'PGD',\n",
       " '4YV': '13J',\n",
       " 'Y62': '8YT',\n",
       " 'LDH': 'KFR',\n",
       " 'ZBZ': 'C6T',\n",
       " 'BQ2': '1D8',\n",
       " '8RT': 'CB3',\n",
       " 'JYL': 'YX9',\n",
       " 'CW3': '6WN',\n",
       " '4CX': 'NRY',\n",
       " '4CG': 'KXK',\n",
       " 'Y3C': '6WP',\n",
       " 'S43': 'PCZ',\n",
       " 'ZHY': 'XXP',\n",
       " 'GDY': '8Y3',\n",
       " 'KLX': '8PF',\n",
       " '44X': 'WWB',\n",
       " 'Y96': 'STC',\n",
       " 'V6W': '8XL',\n",
       " 'JCS': 'H68',\n",
       " 'RN3': '7X4',\n",
       " 'RG3': 'MMD',\n",
       " 'VHS': 'SM2',\n",
       " 'HLH': 'HWH',\n",
       " 'L6M': 'Q2L',\n",
       " '8GF': 'X27',\n",
       " 'Q7X': '78V',\n",
       " 'BQY': 'SX4',\n",
       " 'GVL': '2PC',\n",
       " '3XQ': 'FTB',\n",
       " 'HGD': 'QZT',\n",
       " 'JH6': '5CL',\n",
       " 'RFF': 'QGF',\n",
       " '5CL': 'TZN',\n",
       " 'XXP': 'YFG',\n",
       " '4FD': '51S',\n",
       " 'FFG': '6TV',\n",
       " '5QS': 'YS7',\n",
       " 'KXL': '8PC',\n",
       " 'RLG': 'B7H',\n",
       " '2V6': 'Y62',\n",
       " 'WWQ': '45F',\n",
       " 'WB3': 'DCN',\n",
       " '8JZ': 'RBH',\n",
       " '9V4': '5QW',\n",
       " '3SR': 'QCF',\n",
       " 'HMY': 'BHT',\n",
       " '2PC': 'TMZ',\n",
       " 'XP9': 'Q1N',\n",
       " 'GTW': '3DK',\n",
       " 'GMT': '1DY',\n",
       " '2KH': '3LD',\n",
       " 'Q22': 'YV4',\n",
       " 'LTM': 'BP3',\n",
       " '7QG': 'CNM',\n",
       " '6QH': '6FB',\n",
       " 'G3M': 'GTW',\n",
       " 'HQN': 'RPC',\n",
       " 'T5Q': 'CJD',\n",
       " '445': 'WRF',\n",
       " 'YXP': 'XVZ',\n",
       " '9BK': 'NK5',\n",
       " '4DS': '2NL',\n",
       " '2TX': 'BNB',\n",
       " 'FLX': '3DY',\n",
       " 'RGL': 'YKH',\n",
       " '18L': 'Z74',\n",
       " '9JQ': 'XTQ',\n",
       " 'TZ5': 'CTQ',\n",
       " '9TD': 'MMB',\n",
       " 'G1V': '8XJ',\n",
       " 'L1N': 'S3K',\n",
       " 'Q2L': 'FYC',\n",
       " 'LDX': '6VN',\n",
       " 'V2R': 'T72',\n",
       " 'FR1': 'YHC',\n",
       " '1ZN': 'KB7',\n",
       " '6GY': '86V',\n",
       " 'HWH': 'ZGL',\n",
       " 'C7S': 'M98',\n",
       " 'PCV': '58M',\n",
       " 'YX9': '454',\n",
       " '7RH': '1M6',\n",
       " 'BD3': 'LTM',\n",
       " '1TY': 'Q18',\n",
       " '1LM': 'NY4',\n",
       " 'GG8': 'P81',\n",
       " 'QZT': 'BTQ',\n",
       " 'J3L': 'Y1S',\n",
       " 'B1J': '58P',\n",
       " 'MB1': 'M9L',\n",
       " 'KLC': 'YKM',\n",
       " 'GRB': 'M98',\n",
       " '58P': 'DM5',\n",
       " '7SP': 'LC4',\n",
       " 'PCS': 'MCJ',\n",
       " 'Y79': 'FRL',\n",
       " '9W3': 'HNC',\n",
       " 'S1L': 'PCN',\n",
       " '2HY': 'BYD',\n",
       " 'NMT': '8MG',\n",
       " ...}"
      ]
     },
     "execution_count": 132,
     "metadata": {},
     "output_type": "execute_result"
    }
   ],
   "source": [
    "adj = to_adj(inputs)\n",
    "adj"
   ]
  },
  {
   "cell_type": "code",
   "execution_count": 133,
   "metadata": {},
   "outputs": [],
   "source": [
    "def day06(lines):\n",
    "    adj = _day06_to_adj(lines)\n",
    "    def _count(k):\n",
    "        res = 0\n",
    "        while k != \"COM\":\n",
    "            k = adj[k]\n",
    "            res += 1\n",
    "        return res\n",
    "    return sum(_count(k) for k in adj.keys())"
   ]
  },
  {
   "cell_type": "code",
   "execution_count": 134,
   "metadata": {},
   "outputs": [
    {
     "data": {
      "text/plain": [
       "160040"
      ]
     },
     "execution_count": 134,
     "metadata": {},
     "output_type": "execute_result"
    }
   ],
   "source": [
    "day06(inputs)"
   ]
  },
  {
   "cell_type": "markdown",
   "metadata": {},
   "source": [
    "### Part 2\n",
    "Find the minimum sum of \"steps\" from two nodes (\"YOU\" and \"SAN\") to their common descendant node."
   ]
  },
  {
   "cell_type": "code",
   "execution_count": 135,
   "metadata": {},
   "outputs": [
    {
     "data": {
      "text/plain": [
       "42"
      ]
     },
     "execution_count": 135,
     "metadata": {},
     "output_type": "execute_result"
    }
   ],
   "source": [
    "test = \"\"\"COM)B\n",
    "B)C\n",
    "C)D\n",
    "D)E\n",
    "E)F\n",
    "B)G\n",
    "G)H\n",
    "D)I\n",
    "E)J\n",
    "J)K\n",
    "K)L\"\"\".split()\n",
    "day06(test)"
   ]
  },
  {
   "cell_type": "code",
   "execution_count": 136,
   "metadata": {},
   "outputs": [],
   "source": [
    "def day06_mod(lines):\n",
    "    adj = _day06_to_adj(lines)\n",
    "    def _traj():\n",
    "        k = \"SAN\"\n",
    "        res = []\n",
    "        while k != \"COM\":\n",
    "            k = adj[k]\n",
    "            res.append(k)\n",
    "        return res\n",
    "    \n",
    "    traj = _traj()\n",
    "    traj_set = set(traj)\n",
    "    k = \"YOU\"\n",
    "    res = 0\n",
    "    while k not in traj_set:\n",
    "        k = adj[k]\n",
    "        res += 1\n",
    "        \n",
    "    idx = traj.index(k)\n",
    "    return res + idx - 1"
   ]
  },
  {
   "cell_type": "code",
   "execution_count": 137,
   "metadata": {},
   "outputs": [
    {
     "data": {
      "text/plain": [
       "4"
      ]
     },
     "execution_count": 137,
     "metadata": {},
     "output_type": "execute_result"
    }
   ],
   "source": [
    "test = \"\"\"COM)B\n",
    "B)C\n",
    "C)D\n",
    "D)E\n",
    "E)F\n",
    "B)G\n",
    "G)H\n",
    "D)I\n",
    "E)J\n",
    "J)K\n",
    "K)L\n",
    "K)YOU\n",
    "I)SAN\"\"\".split()\n",
    "day06_mod(test)"
   ]
  },
  {
   "cell_type": "code",
   "execution_count": 138,
   "metadata": {},
   "outputs": [
    {
     "data": {
      "text/plain": [
       "373"
      ]
     },
     "execution_count": 138,
     "metadata": {},
     "output_type": "execute_result"
    }
   ],
   "source": [
    "day06_mod(inputs)"
   ]
  },
  {
   "cell_type": "code",
   "execution_count": 139,
   "metadata": {},
   "outputs": [
    {
     "name": "stdout",
     "output_type": "stream",
     "text": [
      "Day 7: Amplification Circuit\n"
     ]
    }
   ],
   "source": [
    "get_title(7)"
   ]
  },
  {
   "cell_type": "markdown",
   "metadata": {},
   "source": [
    "## Day 7: Amplification Circuit\n",
    "\n",
    "### Part 1 \n",
    "Continuation to INTCODE computer from day 5."
   ]
  },
  {
   "cell_type": "code",
   "execution_count": 10,
   "metadata": {},
   "outputs": [],
   "source": [
    "def day07_read():\n",
    "    file_ = get_path(7)\n",
    "    assert file_.exists()\n",
    "    return [int(w) for w in open(file_).read().split(',')]"
   ]
  },
  {
   "cell_type": "code",
   "execution_count": 11,
   "metadata": {},
   "outputs": [
    {
     "data": {
      "text/plain": [
       "[3, 8, 1001, 8, 10, 8, 105, 1, 0, 0]"
      ]
     },
     "execution_count": 11,
     "metadata": {},
     "output_type": "execute_result"
    }
   ],
   "source": [
    "inputs = day07_read()\n",
    "orig = inputs[:]\n",
    "inputs[:10]"
   ]
  },
  {
   "cell_type": "code",
   "execution_count": 62,
   "metadata": {},
   "outputs": [],
   "source": [
    "def intcomputer(intcode, phase, inputs_rest, verbose=True):\n",
    "    \"\"\"\n",
    "    \"\"\"\n",
    "    res = []\n",
    "    input_iter = iter(it.chain([phase], inputs_rest))\n",
    "    \n",
    "    def _decode_opcode(n:int) -> Tuple[int, bool, bool, bool]:\n",
    "        op = n % 100       # take two right-most digits as int\n",
    "        s = str(n).zfill(5)\n",
    "        mode3 = s[0] == '0'  # True iff position mode\n",
    "        mode2 = s[1] == '0'  # False iff immediate mode\n",
    "        mode1 = s[2] == '0'\n",
    "        return op, mode1, mode2, mode3\n",
    "\n",
    "    def _bin_op(f, xs: List[int], loc: int, *mode) -> Tuple[List[int], int]:\n",
    "        left = xs[xs[loc + 1]] if mode[0] else xs[loc + 1]\n",
    "        right = xs[xs[loc + 2]] if mode[1] else xs[loc + 2]\n",
    "        if mode[2]:\n",
    "            xs[xs[loc + 3]] = f(left, right)\n",
    "        else:\n",
    "            raise ValueError(\"Something is wrong\")\n",
    "        return xs, loc + 4\n",
    "\n",
    "    def _add(xs: List[int], loc: int, *mode) -> Tuple[List[int], int]:\n",
    "        return _bin_op(lambda a, b: a + b, xs, loc, *mode)\n",
    "    \n",
    "    def _mul(xs: List[int], loc: int, *mode) -> Tuple[List[int], int]:\n",
    "        return _bin_op(lambda a, b: a * b, xs, loc, *mode)\n",
    "\n",
    "    def _in(xs: List[int], loc: int, *mode) -> Tuple[List[int], int]:\n",
    "        xs[xs[loc + 1]] = next(input_iter)\n",
    "        return xs, loc + 2\n",
    "\n",
    "    def _out(xs: List[int], loc: int, *mode) -> Tuple[List[int], int]:\n",
    "        out = xs[xs[loc + 1]] if mode[0] else xs[loc + 1]\n",
    "        res.append(out)\n",
    "        return xs, loc + 2\n",
    "\n",
    "    def _jmp_true(xs: List[int], loc: int, *mode) -> Tuple[List[int], int]:\n",
    "        x = xs[xs[loc + 1]] if mode[0] else xs[loc + 1]\n",
    "        if x > 0:\n",
    "            loc = xs[xs[loc + 2]] if mode[1] else xs[loc + 2]\n",
    "        else:\n",
    "            loc += 3\n",
    "        return xs, loc\n",
    "\n",
    "    def _jmp_false(xs: List[int], loc: int, *mode) -> Tuple[List[int], int]:\n",
    "        x = xs[xs[loc + 1]] if mode[0] else xs[loc + 1]\n",
    "        if x == 0:\n",
    "            loc = xs[xs[loc + 2]] if mode[1] else xs[loc + 2]\n",
    "        else:\n",
    "            loc += 3\n",
    "        return xs, loc\n",
    "\n",
    "    def _lt(xs: List[int], loc: int, *mode) -> Tuple[List[int], int]:\n",
    "        return _bin_op(lambda a, b: int(a < b), xs, loc, *mode)\n",
    "    \n",
    "    def _eq(xs: List[int], loc: int, *mode) -> Tuple[List[int], int]:\n",
    "        return _bin_op(lambda a, b: int(a == b), xs, loc, *mode)    \n",
    "\n",
    "    opfun = {1: _add, 2: _mul, 3: _in, 4: _out, 5:_jmp_true, 6:_jmp_false, 7: _lt, 8: _eq}\n",
    "    \n",
    "    loc = 0\n",
    "    while intcode[loc] != 99:\n",
    "        if verbose:\n",
    "            print(f\"processing {intcode[loc]} at {loc}\", file=sys.stderr)\n",
    "        opcode = intcode[loc]\n",
    "        op, mode1, mode2, mode3 = _decode_opcode(opcode)\n",
    "        intcode, loc = opfun[op](intcode, loc, mode1, mode2, mode3)\n",
    "    return res"
   ]
  },
  {
   "cell_type": "code",
   "execution_count": 65,
   "metadata": {},
   "outputs": [],
   "source": [
    "def day07_amp(intcode, phases, verbose=False):\n",
    "    \"\"\"\n",
    "    >>> day07_amp([3,15,3,16,1002,16,10,16,1,16,15,15,4,15,99,0,0], [4,3,2,1,0])\n",
    "    [43210]\n",
    "    >>> day07_amp([3,23,3,24,1002,24,10,24,1002,23,-1,23,101,5,23,23,1,24,23,23,4,23,99,0,0], [0,1,2,3,4])\n",
    "    [54321]\n",
    "    >>> day07_amp([3,31,3,32,1002,32,10,32,1001,31,-2,31,1007,31,0,33,1002,33,7,33,1,33,31,31,1,32,31,31,4,31,99,0,0,0], [1,0,4,3,2])\n",
    "    [65210]\n",
    "    \"\"\"\n",
    "    if isinstance(phases, int):\n",
    "        phases = str(phases)\n",
    "    if isinstance(phases, str):\n",
    "        phases = list(map(int, phases))\n",
    "        \n",
    "    out = it.repeat(0)\n",
    "    for phase in phases:\n",
    "        if verbose:\n",
    "            print(f\"phase = {phase}\", file=sys.stderr)\n",
    "        out = intcomputer(intcode, phase, out, verbose=verbose)\n",
    "    return out"
   ]
  },
  {
   "cell_type": "code",
   "execution_count": 66,
   "metadata": {},
   "outputs": [
    {
     "name": "stdout",
     "output_type": "stream",
     "text": [
      "**********************************************************************\n",
      "File \"__main__\", line 3, in __main__.day07_amp_feedback\n",
      "Failed example:\n",
      "    day07_amp_feedback([3,26,1001,26,-4,26,3,27,1002,27,2,27,1,27,26,27,4,27,1001,28,-1,28,1005,28,6,99,0,0,5], [9,8,7,6,5])\n",
      "Expected:\n",
      "    [139629729]\n",
      "Got:\n",
      "    [5, 5, 5, 5, 5]\n",
      "    [14]\n",
      "    [31]\n",
      "    [64]\n",
      "    [129]\n",
      "    [263]\n",
      "    [530]\n",
      "    [1063]\n",
      "    [2128]\n",
      "    [4257]\n",
      "    [8519]\n",
      "    [17042]\n",
      "    [34087]\n",
      "    [68176]\n",
      "    [136353]\n",
      "    [136353]\n",
      "**********************************************************************\n",
      "1 items had failures:\n",
      "   1 of   1 in __main__.day07_amp_feedback\n",
      "***Test Failed*** 1 failures.\n"
     ]
    },
    {
     "data": {
      "text/plain": [
       "TestResults(failed=1, attempted=7)"
      ]
     },
     "execution_count": 66,
     "metadata": {},
     "output_type": "execute_result"
    }
   ],
   "source": [
    "doctest.testmod()"
   ]
  },
  {
   "cell_type": "code",
   "execution_count": 67,
   "metadata": {},
   "outputs": [],
   "source": [
    "def day07(intcode):\n",
    "    \"\"\"\n",
    "    >>> day07([3,15,3,16,1002,16,10,16,1,16,15,15,4,15,99,0,0])\n",
    "    43210\n",
    "    >>> day07([3,23,3,24,1002,24,10,24,1002,23,-1,23,101,5,23,23,1,24,23,23,4,23,99,0,0])\n",
    "    54321\n",
    "    >>> day07([3,31,3,32,1002,32,10,32,1001,31,-2,31,1007,31,0,33,1002,33,7,33,1,33,31,31,1,32,31,31,4,31,99,0,0,0])\n",
    "    65210\n",
    "    \"\"\"\n",
    "    max_signal = max(day07_amp(intcode, phases)[0] \n",
    "                     for phases in it.permutations(range(5)))\n",
    "    return max_signal"
   ]
  },
  {
   "cell_type": "code",
   "execution_count": 68,
   "metadata": {},
   "outputs": [
    {
     "name": "stdout",
     "output_type": "stream",
     "text": [
      "**********************************************************************\n",
      "File \"__main__\", line 3, in __main__.day07_amp_feedback\n",
      "Failed example:\n",
      "    day07_amp_feedback([3,26,1001,26,-4,26,3,27,1002,27,2,27,1,27,26,27,4,27,1001,28,-1,28,1005,28,6,99,0,0,5], [9,8,7,6,5])\n",
      "Expected:\n",
      "    [139629729]\n",
      "Got:\n",
      "    [5, 5, 5, 5, 5]\n",
      "    [14]\n",
      "    [31]\n",
      "    [64]\n",
      "    [129]\n",
      "    [263]\n",
      "    [530]\n",
      "    [1063]\n",
      "    [2128]\n",
      "    [4257]\n",
      "    [8519]\n",
      "    [17042]\n",
      "    [34087]\n",
      "    [68176]\n",
      "    [136353]\n",
      "    [136353]\n",
      "**********************************************************************\n",
      "1 items had failures:\n",
      "   1 of   1 in __main__.day07_amp_feedback\n",
      "***Test Failed*** 1 failures.\n"
     ]
    },
    {
     "data": {
      "text/plain": [
       "TestResults(failed=1, attempted=7)"
      ]
     },
     "execution_count": 68,
     "metadata": {},
     "output_type": "execute_result"
    }
   ],
   "source": [
    "doctest.testmod()"
   ]
  },
  {
   "cell_type": "code",
   "execution_count": 69,
   "metadata": {},
   "outputs": [
    {
     "data": {
      "text/plain": [
       "38834"
      ]
     },
     "execution_count": 69,
     "metadata": {},
     "output_type": "execute_result"
    }
   ],
   "source": [
    "day07(inputs)"
   ]
  },
  {
   "cell_type": "code",
   "execution_count": 22,
   "metadata": {},
   "outputs": [
    {
     "data": {
      "text/plain": [
       "[3, 8, 1001, 8, 10, 8, 105, 1, 0, 0]"
      ]
     },
     "execution_count": 22,
     "metadata": {},
     "output_type": "execute_result"
    }
   ],
   "source": [
    "orig[:10]"
   ]
  },
  {
   "cell_type": "markdown",
   "metadata": {},
   "source": [
    "### Part 2"
   ]
  },
  {
   "cell_type": "code",
   "execution_count": 102,
   "metadata": {},
   "outputs": [],
   "source": [
    "def day07_amp_feedback(intcode, phases, verbose=False):\n",
    "    \"\"\"\n",
    "    >>> day07_amp_feedback([3,26,1001,26,-4,26,3,27,1002,27,2,27,1,27,26,27,4,27,1001,28,-1,28,1005,28,6,99,0,0,5], [9,8,7,6,5])\n",
    "    [139629729]\n",
    "    \"\"\"\n",
    "    if isinstance(phases, int):\n",
    "        phases = str(phases)\n",
    "    if isinstance(phases, str):\n",
    "        phases = list(map(int, phases))\n",
    "        \n",
    "    out = [0] * 10\n",
    "    intcodes = [intcode[:] for _ in range(5)]\n",
    "    for _ in range(10):\n",
    "        for i, phase in enumerate(phases):\n",
    "            if verbose:\n",
    "                print(f\"phase = {phase}\", file=sys.stderr)\n",
    "                print(f\"out = {out}\", file=sys.stderr)\n",
    "            out = intcomputer(intcodes[i], phase, out, verbose=verbose)\n",
    "            print(out)\n",
    "    return out"
   ]
  },
  {
   "cell_type": "code",
   "execution_count": 103,
   "metadata": {},
   "outputs": [
    {
     "name": "stderr",
     "output_type": "stream",
     "text": [
      "processing 3 at 0\n",
      "processing 1001 at 2\n",
      "processing 3 at 6\n",
      "processing 1002 at 8\n",
      "processing 1 at 12\n",
      "processing 4 at 16\n",
      "processing 1001 at 18\n",
      "processing 1005 at 22\n",
      "processing 3 at 6\n",
      "processing 1002 at 8\n",
      "processing 1 at 12\n",
      "processing 4 at 16\n",
      "processing 1001 at 18\n",
      "processing 1005 at 22\n",
      "processing 3 at 6\n",
      "processing 1002 at 8\n",
      "processing 1 at 12\n",
      "processing 4 at 16\n",
      "processing 1001 at 18\n",
      "processing 1005 at 22\n",
      "processing 3 at 6\n",
      "processing 1002 at 8\n",
      "processing 1 at 12\n",
      "processing 4 at 16\n",
      "processing 1001 at 18\n",
      "processing 1005 at 22\n",
      "processing 3 at 6\n",
      "processing 1002 at 8\n",
      "processing 1 at 12\n",
      "processing 4 at 16\n",
      "processing 1001 at 18\n",
      "processing 1005 at 22\n"
     ]
    },
    {
     "data": {
      "text/plain": [
       "[5, 5, 5, 5, 5]"
      ]
     },
     "execution_count": 103,
     "metadata": {},
     "output_type": "execute_result"
    }
   ],
   "source": [
    "xs = [3,26,1001,26,-4,26,3,27,1002,27,2,27,1,27,26,27,4,27,1001,28,-1,28,1005,28,6,99,0,0,5]\n",
    "xss = [xs[:] for _ in range(5)]\n",
    "intcomputer(xss[0], 9, [0]*5, True)"
   ]
  },
  {
   "cell_type": "code",
   "execution_count": 91,
   "metadata": {},
   "outputs": [
    {
     "name": "stderr",
     "output_type": "stream",
     "text": [
      "processing 3 at 0\n",
      "processing 1001 at 2\n",
      "processing 3 at 6\n",
      "processing 1002 at 8\n",
      "processing 1 at 12\n",
      "processing 4 at 16\n",
      "processing 1001 at 18\n",
      "processing 1005 at 22\n"
     ]
    },
    {
     "data": {
      "text/plain": [
       "[263]"
      ]
     },
     "execution_count": 91,
     "metadata": {},
     "output_type": "execute_result"
    }
   ],
   "source": [
    "intcomputer(xss[0], 9, [129]*5, True)"
   ]
  },
  {
   "cell_type": "code",
   "execution_count": 104,
   "metadata": {},
   "outputs": [
    {
     "name": "stdout",
     "output_type": "stream",
     "text": [
      "[5, 5, 5, 5, 5]\n",
      "[14, 14, 14, 14, 14]\n",
      "[31, 31, 31, 31, 31]\n",
      "[64, 64, 64, 64, 64]\n",
      "[129, 129, 129, 129, 129]\n",
      "[263]\n",
      "[530]\n",
      "[1063]\n",
      "[2128]\n",
      "[4257]\n",
      "[8519]\n",
      "[17042]\n",
      "[34087]\n",
      "[68176]\n",
      "[136353]\n",
      "[272711]\n",
      "[545426]\n",
      "[1090855]\n",
      "[2181712]\n",
      "[4363425]\n",
      "[8726855]\n",
      "[17453714]\n",
      "[34907431]\n",
      "[69814864]\n",
      "[139629729]\n",
      "[279259463]\n",
      "[558518930]\n",
      "[1117037863]\n",
      "[2234075728]\n",
      "[4468151457]\n",
      "[8936302919]\n",
      "[17872605842]\n",
      "[35745211687]\n",
      "[71490423376]\n",
      "[142980846753]\n",
      "[285961693511]\n",
      "[571923387026]\n",
      "[1143846774055]\n",
      "[2287693548112]\n",
      "[4575387096225]\n",
      "[9150774192455]\n",
      "[18301548384914]\n",
      "[36603096769831]\n",
      "[73206193539664]\n",
      "[146412387079329]\n",
      "[292824774158663]\n",
      "[585649548317330]\n",
      "[1171299096634663]\n",
      "[2342598193269328]\n",
      "[4685196386538657]\n"
     ]
    },
    {
     "data": {
      "text/plain": [
       "[4685196386538657]"
      ]
     },
     "execution_count": 104,
     "metadata": {},
     "output_type": "execute_result"
    }
   ],
   "source": [
    "day07_amp_feedback(xs[:], [9,8,7,6,5])"
   ]
  },
  {
   "cell_type": "code",
   "execution_count": 87,
   "metadata": {},
   "outputs": [
    {
     "name": "stderr",
     "output_type": "stream",
     "text": [
      "processing 3 at 0\n",
      "processing 1001 at 2\n",
      "processing 3 at 6\n",
      "processing 1 at 8\n",
      "processing 1007 at 12\n",
      "processing 1005 at 16\n",
      "processing 1001 at 19\n",
      "processing 1105 at 23\n",
      "processing 1007 at 12\n",
      "processing 1005 at 16\n",
      "processing 1001 at 19\n",
      "processing 1105 at 23\n",
      "processing 1007 at 12\n",
      "processing 1005 at 16\n",
      "processing 1 at 26\n",
      "processing 1008 at 30\n",
      "processing 1001 at 34\n",
      "processing 2 at 38\n",
      "processing 4 at 42\n",
      "processing 1001 at 44\n",
      "processing 1005 at 48\n",
      "processing 3 at 6\n",
      "processing 1 at 8\n",
      "processing 1007 at 12\n",
      "processing 1005 at 16\n",
      "processing 1001 at 19\n",
      "processing 1105 at 23\n",
      "processing 1007 at 12\n",
      "processing 1005 at 16\n",
      "processing 1001 at 19\n",
      "processing 1105 at 23\n",
      "processing 1007 at 12\n",
      "processing 1005 at 16\n",
      "processing 1 at 26\n",
      "processing 1008 at 30\n",
      "processing 1001 at 34\n",
      "processing 2 at 38\n",
      "processing 4 at 42\n",
      "processing 1001 at 44\n",
      "processing 1005 at 48\n",
      "processing 3 at 6\n",
      "processing 1 at 8\n",
      "processing 1007 at 12\n",
      "processing 1005 at 16\n",
      "processing 1001 at 19\n",
      "processing 1105 at 23\n",
      "processing 1007 at 12\n",
      "processing 1005 at 16\n",
      "processing 1001 at 19\n",
      "processing 1105 at 23\n",
      "processing 1007 at 12\n",
      "processing 1005 at 16\n",
      "processing 1 at 26\n",
      "processing 1008 at 30\n",
      "processing 1001 at 34\n",
      "processing 2 at 38\n",
      "processing 4 at 42\n",
      "processing 1001 at 44\n",
      "processing 1005 at 48\n",
      "processing 3 at 6\n",
      "processing 1 at 8\n",
      "processing 1007 at 12\n",
      "processing 1005 at 16\n",
      "processing 1001 at 19\n",
      "processing 1105 at 23\n",
      "processing 1007 at 12\n",
      "processing 1005 at 16\n",
      "processing 1001 at 19\n",
      "processing 1105 at 23\n",
      "processing 1007 at 12\n",
      "processing 1005 at 16\n",
      "processing 1 at 26\n",
      "processing 1008 at 30\n",
      "processing 1001 at 34\n",
      "processing 2 at 38\n",
      "processing 4 at 42\n",
      "processing 1001 at 44\n",
      "processing 1005 at 48\n",
      "processing 3 at 6\n",
      "processing 1 at 8\n",
      "processing 1007 at 12\n",
      "processing 1005 at 16\n",
      "processing 1001 at 19\n",
      "processing 1105 at 23\n",
      "processing 1007 at 12\n",
      "processing 1005 at 16\n",
      "processing 1001 at 19\n",
      "processing 1105 at 23\n",
      "processing 1007 at 12\n",
      "processing 1005 at 16\n",
      "processing 1 at 26\n",
      "processing 1008 at 30\n",
      "processing 1001 at 34\n",
      "processing 2 at 38\n",
      "processing 4 at 42\n",
      "processing 1001 at 44\n",
      "processing 1005 at 48\n",
      "processing 3 at 6\n",
      "processing 1 at 8\n",
      "processing 1007 at 12\n",
      "processing 1005 at 16\n",
      "processing 1001 at 19\n",
      "processing 1105 at 23\n",
      "processing 1007 at 12\n",
      "processing 1005 at 16\n",
      "processing 1 at 26\n",
      "processing 1008 at 30\n",
      "processing 1001 at 34\n",
      "processing 2 at 38\n",
      "processing 4 at 42\n",
      "processing 1001 at 44\n",
      "processing 1005 at 48\n",
      "processing 3 at 6\n",
      "processing 1 at 8\n",
      "processing 1007 at 12\n",
      "processing 1005 at 16\n",
      "processing 1001 at 19\n",
      "processing 1105 at 23\n",
      "processing 1007 at 12\n",
      "processing 1005 at 16\n",
      "processing 1 at 26\n",
      "processing 1008 at 30\n",
      "processing 1001 at 34\n",
      "processing 2 at 38\n",
      "processing 4 at 42\n",
      "processing 1001 at 44\n",
      "processing 1005 at 48\n",
      "processing 3 at 6\n",
      "processing 1 at 8\n",
      "processing 1007 at 12\n",
      "processing 1005 at 16\n",
      "processing 1001 at 19\n",
      "processing 1105 at 23\n",
      "processing 1007 at 12\n",
      "processing 1005 at 16\n",
      "processing 1 at 26\n",
      "processing 1008 at 30\n",
      "processing 1001 at 34\n",
      "processing 2 at 38\n",
      "processing 4 at 42\n",
      "processing 1001 at 44\n",
      "processing 1005 at 48\n",
      "processing 3 at 6\n",
      "processing 1 at 8\n",
      "processing 1007 at 12\n",
      "processing 1005 at 16\n",
      "processing 1001 at 19\n",
      "processing 1105 at 23\n",
      "processing 1007 at 12\n",
      "processing 1005 at 16\n",
      "processing 1 at 26\n",
      "processing 1008 at 30\n",
      "processing 1001 at 34\n",
      "processing 2 at 38\n",
      "processing 4 at 42\n",
      "processing 1001 at 44\n",
      "processing 1005 at 48\n",
      "processing 3 at 6\n",
      "processing 1 at 8\n",
      "processing 1007 at 12\n",
      "processing 1005 at 16\n",
      "processing 1001 at 19\n",
      "processing 1105 at 23\n",
      "processing 1007 at 12\n",
      "processing 1005 at 16\n",
      "processing 1 at 26\n",
      "processing 1008 at 30\n",
      "processing 1001 at 34\n",
      "processing 2 at 38\n",
      "processing 4 at 42\n",
      "processing 1001 at 44\n",
      "processing 1005 at 48\n"
     ]
    },
    {
     "data": {
      "text/plain": [
       "[4, 3, 2, 1, 0, 4, 3, 2, 1, 0]"
      ]
     },
     "execution_count": 87,
     "metadata": {},
     "output_type": "execute_result"
    }
   ],
   "source": [
    "intcomputer(ys, 9, [0]*10)"
   ]
  },
  {
   "cell_type": "code",
   "execution_count": 88,
   "metadata": {},
   "outputs": [
    {
     "name": "stderr",
     "output_type": "stream",
     "text": [
      "processing 3 at 0\n",
      "processing 1001 at 2\n",
      "processing 3 at 6\n",
      "processing 1 at 8\n",
      "processing 1007 at 12\n",
      "processing 1005 at 16\n",
      "processing 1 at 26\n",
      "processing 1008 at 30\n",
      "processing 1001 at 34\n",
      "processing 2 at 38\n",
      "processing 4 at 42\n",
      "processing 1001 at 44\n",
      "processing 1005 at 48\n"
     ]
    },
    {
     "data": {
      "text/plain": [
       "[23]"
      ]
     },
     "execution_count": 88,
     "metadata": {},
     "output_type": "execute_result"
    }
   ],
   "source": [
    "intcomputer(ys, 9, [19, 20, 12, 15, 10, 19, 20, 12, 15, 10])"
   ]
  },
  {
   "cell_type": "code",
   "execution_count": 105,
   "metadata": {},
   "outputs": [
    {
     "name": "stdout",
     "output_type": "stream",
     "text": [
      "[4, 3, 2, 1, 0, 4, 3, 2, 1, 0]\n",
      "[6, 4, 4, 5, 3, 6, 4, 4, 5, 3]\n",
      "[9, 6, 5, 10, 7, 9, 6, 5, 10, 7]\n",
      "[18, 10, 8, 12, 8, 18, 10, 8, 12, 8]\n",
      "[19, 20, 12, 15, 10, 19, 20, 12, 15, 10]\n",
      "[23]\n",
      "[25]\n",
      "[28]\n",
      "[56]\n",
      "[57]\n",
      "[60]\n",
      "[61]\n",
      "[63]\n",
      "[62]\n",
      "[124]\n",
      "[126]\n",
      "[252]\n",
      "[253]\n",
      "[251]\n",
      "[250]\n",
      "[251]\n",
      "[250]\n",
      "[500]\n",
      "[497]\n",
      "[495]\n",
      "[990]\n",
      "[988]\n",
      "[987]\n",
      "[983]\n",
      "[980]\n",
      "[979]\n",
      "[976]\n",
      "[974]\n",
      "[969]\n",
      "[965]\n",
      "[963]\n",
      "[959]\n",
      "[956]\n",
      "[950]\n",
      "[945]\n",
      "[942]\n",
      "[937]\n",
      "[933]\n",
      "[926]\n",
      "[920]\n",
      "[916]\n",
      "[910]\n",
      "[905]\n",
      "[897]\n",
      "[890]\n"
     ]
    },
    {
     "data": {
      "text/plain": [
       "[890]"
      ]
     },
     "execution_count": 105,
     "metadata": {},
     "output_type": "execute_result"
    }
   ],
   "source": [
    "ys = [3,52,1001,52,-5,52,3,53,1,52,56,54,1007,54,5,55,1005,55,26,1001,54,\n",
    "      -5,54,1105,1,12,1,53,54,53,1008,54,0,55,1001,55,1,55,2,53,55,53,4,\n",
    "      53,1001,56,-1,56,1005,56,6,99,0,0,0,0,10]\n",
    "day07_amp_feedback(ys[:], [9,7,8,5,6])"
   ]
  },
  {
   "cell_type": "code",
   "execution_count": 108,
   "metadata": {},
   "outputs": [],
   "source": [
    "# def day07_mod(intcode):\n",
    "#     \"\"\"\n",
    "#     >>> day07_mod([3,26,1001,26,-4,26,3,27,1002,27,2,27,1,27,26,27,4,27,1001,28,-1,28,1005,28,6,99,0,0,5])\n",
    "#     139629729\n",
    "#     >>> day07_mod([3,52,1001,52,-5,52,3,53,1,52,56,54,1007,54,5,55,1005,55,26,1001,54,-5,54,1105,1,12,1,53,54,53,1008,54,0,55,1001,55,1,55,2,53,55,53,4,53,1001,56,-1,56,1005,56,6,99,0,0,0,0,10])\n",
    "#     18216\n",
    "#     \"\"\"\n",
    "#     max_signal = max(day07_amp(intcode, phases)[0]\n",
    "#                      for phases in it.permutations(range(5, 10)))\n",
    "#     return max_signal"
   ]
  },
  {
   "cell_type": "code",
   "execution_count": 106,
   "metadata": {},
   "outputs": [
    {
     "name": "stderr",
     "output_type": "stream",
     "text": [
      "phase = 9\n",
      "processing 3 at 0\n",
      "processing 1001 at 2\n",
      "processing 3 at 6\n",
      "processing 1002 at 8\n",
      "processing 1 at 12\n",
      "processing 4 at 16\n",
      "processing 1001 at 18\n",
      "processing 1005 at 22\n",
      "processing 3 at 6\n",
      "processing 1002 at 8\n",
      "processing 1 at 12\n",
      "processing 4 at 16\n",
      "processing 1001 at 18\n",
      "processing 1005 at 22\n",
      "processing 3 at 6\n",
      "processing 1002 at 8\n",
      "processing 1 at 12\n",
      "processing 4 at 16\n",
      "processing 1001 at 18\n",
      "processing 1005 at 22\n",
      "processing 3 at 6\n",
      "processing 1002 at 8\n",
      "processing 1 at 12\n",
      "processing 4 at 16\n",
      "processing 1001 at 18\n",
      "processing 1005 at 22\n",
      "processing 3 at 6\n",
      "processing 1002 at 8\n",
      "processing 1 at 12\n",
      "processing 4 at 16\n",
      "processing 1001 at 18\n",
      "processing 1005 at 22\n",
      "phase = 8\n",
      "processing 3 at 0\n",
      "processing 1001 at 2\n",
      "processing 3 at 6\n",
      "processing 1002 at 8\n",
      "processing 1 at 12\n",
      "processing 4 at 16\n",
      "processing 1001 at 18\n",
      "processing 1005 at 22\n",
      "phase = 7\n",
      "processing 3 at 0\n",
      "processing 1001 at 2\n",
      "processing 3 at 6\n",
      "processing 1002 at 8\n",
      "processing 1 at 12\n",
      "processing 4 at 16\n",
      "processing 1001 at 18\n",
      "processing 1005 at 22\n",
      "phase = 6\n",
      "processing 3 at 0\n",
      "processing 1001 at 2\n",
      "processing 3 at 6\n",
      "processing 1002 at 8\n",
      "processing 1 at 12\n",
      "processing 4 at 16\n",
      "processing 1001 at 18\n",
      "processing 1005 at 22\n",
      "phase = 5\n",
      "processing 3 at 0\n",
      "processing 1001 at 2\n",
      "processing 3 at 6\n",
      "processing 1002 at 8\n",
      "processing 1 at 12\n",
      "processing 4 at 16\n",
      "processing 1001 at 18\n",
      "processing 1005 at 22\n"
     ]
    },
    {
     "data": {
      "text/plain": [
       "[129]"
      ]
     },
     "execution_count": 106,
     "metadata": {},
     "output_type": "execute_result"
    }
   ],
   "source": [
    "day07_amp([3,26,1001,26,-4,26,3,27,1002,27,2,27,1,27,26,27,4,27,1001,28,-1,28,1005,28,6,99,0,0,5], [9,8,7,6,5], verbose=True)"
   ]
  },
  {
   "cell_type": "code",
   "execution_count": 109,
   "metadata": {},
   "outputs": [
    {
     "name": "stdout",
     "output_type": "stream",
     "text": [
      "Day 8: Space Image Format\n"
     ]
    }
   ],
   "source": [
    "get_title(8)"
   ]
  },
  {
   "cell_type": "code",
   "execution_count": 230,
   "metadata": {},
   "outputs": [
    {
     "name": "stdout",
     "output_type": "stream",
     "text": [
      "**********************************************************************\n",
      "File \"__main__\", line 3, in __main__.day07_mod\n",
      "Failed example:\n",
      "    day07_mod([3,26,1001,26,-4,26,3,27,1002,27,2,27,1,27,26,27,4,27,1001,28,-1,28,1005,28,6,99,0,0,5])\n",
      "Exception raised:\n",
      "    Traceback (most recent call last):\n",
      "      File \"<ipython-input-229-e26d247d6990>\", line 9, in <genexpr>\n",
      "        for phases in it.permutations(range(5, 10)))\n",
      "      File \"<ipython-input-221-0c674c85b339>\", line 17, in day07_amp\n",
      "        out = intcomputer(intcode, [phase, out], verbose=False)\n",
      "      File \"<ipython-input-220-51fdd08d1ef2>\", line 69, in intcomputer\n",
      "        intcode, loc = opfun[op](intcode, loc, mode1, mode2, mode3)\n",
      "      File \"<ipython-input-220-51fdd08d1ef2>\", line 31, in _in\n",
      "        xs[xs[loc + 1]] = next(input_iter)\n",
      "    StopIteration\n",
      "\n",
      "    The above exception was the direct cause of the following exception:\n",
      "\n",
      "    Traceback (most recent call last):\n",
      "      File \"/Users/yamato/miniconda3/lib/python3.7/doctest.py\", line 1329, in __run\n",
      "        compileflags, 1), test.globs)\n",
      "      File \"<doctest __main__.day07_mod[0]>\", line 1, in <module>\n",
      "        day07_mod([3,26,1001,26,-4,26,3,27,1002,27,2,27,1,27,26,27,4,27,1001,28,-1,28,1005,28,6,99,0,0,5])\n",
      "      File \"<ipython-input-229-e26d247d6990>\", line 9, in day07_mod\n",
      "        for phases in it.permutations(range(5, 10)))\n",
      "    RuntimeError: generator raised StopIteration\n",
      "**********************************************************************\n",
      "File \"__main__\", line 5, in __main__.day07_mod\n",
      "Failed example:\n",
      "    day07_mod([3,52,1001,52,-5,52,3,53,1,52,56,54,1007,54,5,55,1005,55,26,1001,54,-5,54,1105,1,12,1,53,54,53,1008,54,0,55,1001,55,1,55,2,53,55,53,4,53,1001,56,-1,56,1005,56,6,99,0,0,0,0,10])\n",
      "Exception raised:\n",
      "    Traceback (most recent call last):\n",
      "      File \"<ipython-input-229-e26d247d6990>\", line 9, in <genexpr>\n",
      "        for phases in it.permutations(range(5, 10)))\n",
      "      File \"<ipython-input-221-0c674c85b339>\", line 17, in day07_amp\n",
      "        out = intcomputer(intcode, [phase, out], verbose=False)\n",
      "      File \"<ipython-input-220-51fdd08d1ef2>\", line 69, in intcomputer\n",
      "        intcode, loc = opfun[op](intcode, loc, mode1, mode2, mode3)\n",
      "      File \"<ipython-input-220-51fdd08d1ef2>\", line 31, in _in\n",
      "        xs[xs[loc + 1]] = next(input_iter)\n",
      "    StopIteration\n",
      "\n",
      "    The above exception was the direct cause of the following exception:\n",
      "\n",
      "    Traceback (most recent call last):\n",
      "      File \"/Users/yamato/miniconda3/lib/python3.7/doctest.py\", line 1329, in __run\n",
      "        compileflags, 1), test.globs)\n",
      "      File \"<doctest __main__.day07_mod[1]>\", line 1, in <module>\n",
      "        day07_mod([3,52,1001,52,-5,52,3,53,1,52,56,54,1007,54,5,55,1005,55,26,1001,54,-5,54,1105,1,12,1,53,54,53,1008,54,0,55,1001,55,1,55,2,53,55,53,4,53,1001,56,-1,56,1005,56,6,99,0,0,0,0,10])\n",
      "      File \"<ipython-input-229-e26d247d6990>\", line 9, in day07_mod\n",
      "        for phases in it.permutations(range(5, 10)))\n",
      "    RuntimeError: generator raised StopIteration\n",
      "**********************************************************************\n",
      "1 items had failures:\n",
      "   2 of   2 in __main__.day07_mod\n",
      "***Test Failed*** 2 failures.\n"
     ]
    },
    {
     "data": {
      "text/plain": [
       "TestResults(failed=2, attempted=33)"
      ]
     },
     "execution_count": 230,
     "metadata": {},
     "output_type": "execute_result"
    }
   ],
   "source": [
    "doctest.testmaod()"
   ]
  },
  {
   "cell_type": "markdown",
   "metadata": {},
   "source": [
    "## Day 8: Space Image Format\n",
    "\n",
    "### Part 1"
   ]
  },
  {
   "cell_type": "code",
   "execution_count": 113,
   "metadata": {},
   "outputs": [],
   "source": [
    "def day08_read():\n",
    "    p = get_path(8)\n",
    "    return open(p).read().strip()"
   ]
  },
  {
   "cell_type": "code",
   "execution_count": 115,
   "metadata": {},
   "outputs": [
    {
     "data": {
      "text/plain": [
       "'2222222222222202221222222200222222222222022222222222222202022222222222012122221202222222202221022222'"
      ]
     },
     "execution_count": 115,
     "metadata": {},
     "output_type": "execute_result"
    }
   ],
   "source": [
    "inputs = day08_read()\n",
    "inputs[:100]"
   ]
  },
  {
   "cell_type": "code",
   "execution_count": 117,
   "metadata": {},
   "outputs": [
    {
     "data": {
      "text/plain": [
       "15000"
      ]
     },
     "execution_count": 117,
     "metadata": {},
     "output_type": "execute_result"
    }
   ],
   "source": [
    "len(inputs)"
   ]
  },
  {
   "cell_type": "code",
   "execution_count": 122,
   "metadata": {},
   "outputs": [],
   "source": [
    "# https://docs.python.org/3/library/itertools.html\n",
    "def grouper(iterable, n, fillvalue=None):\n",
    "    \"Collect data into fixed-length chunks or blocks\"\n",
    "    # grouper('ABCDEFG', 3, 'x') --> ABC DEF Gxx\"\n",
    "    args = [iter(iterable)] * n\n",
    "    return it.zip_longest(*args, fillvalue=fillvalue)"
   ]
  },
  {
   "cell_type": "code",
   "execution_count": 123,
   "metadata": {},
   "outputs": [],
   "source": [
    "def day08(s):\n",
    "    chunks = grouper(s, 25 * 6)\n",
    "    ss = min(chunks, key=lambda x: collections.Counter(x)['0'])\n",
    "    cnt = collections.Counter(ss)\n",
    "    return cnt['1'] * cnt['2']"
   ]
  },
  {
   "cell_type": "code",
   "execution_count": 124,
   "metadata": {},
   "outputs": [
    {
     "data": {
      "text/plain": [
       "1965"
      ]
     },
     "execution_count": 124,
     "metadata": {},
     "output_type": "execute_result"
    }
   ],
   "source": [
    "day08(inputs)"
   ]
  },
  {
   "cell_type": "markdown",
   "metadata": {},
   "source": [
    "### Part 2"
   ]
  },
  {
   "cell_type": "code",
   "execution_count": 155,
   "metadata": {},
   "outputs": [],
   "source": [
    "def _day08_numpy(s):\n",
    "    xs = np.array([int(c) for c in s])\n",
    "    return xs.reshape(-1, 6, 25)\n",
    "\n",
    "def _day08_show(xss):\n",
    "    s = \"\\n\".join(\"\".join(map(lambda x: \"X\" if x == 0 else ' ', xs)) for xs in xss)\n",
    "    print(s)\n",
    "    \n",
    "def _day08_reduce(xs):\n",
    "    return next(it.dropwhile(lambda x: x == 2, xs))\n",
    "\n",
    "def day08_mod(s):\n",
    "    xss = _day08_numpy(s)\n",
    "    _day08_show(np.apply_along_axis(_day08_reduce, 0, xss))"
   ]
  },
  {
   "cell_type": "code",
   "execution_count": 158,
   "metadata": {},
   "outputs": [
    {
     "name": "stdout",
     "output_type": "stream",
     "text": [
      "X  XX    X XX XXX  X XXX \n",
      " XX XXXX X X XXXXX X XXX \n",
      " XXXXXX XX  XXXXXX XX X X\n",
      " X  XX XXX X XXXXX XXX XX\n",
      " XX X XXXX X XX XX XXX XX\n",
      "X   X    X XX XX  XXXX XX\n"
     ]
    }
   ],
   "source": [
    "day08_mod(inputs)"
   ]
  },
  {
   "cell_type": "code",
   "execution_count": 159,
   "metadata": {},
   "outputs": [
    {
     "name": "stdout",
     "output_type": "stream",
     "text": [
      "Day 9: Sensor Boost\n"
     ]
    }
   ],
   "source": [
    "get_title(9)"
   ]
  },
  {
   "cell_type": "markdown",
   "metadata": {},
   "source": [
    "## Day 9: Sensor Boost"
   ]
  },
  {
   "cell_type": "code",
   "execution_count": 160,
   "metadata": {},
   "outputs": [
    {
     "name": "stdout",
     "output_type": "stream",
     "text": [
      "Day 10: Monitoring Station\n"
     ]
    }
   ],
   "source": [
    "get_title(10)"
   ]
  },
  {
   "cell_type": "markdown",
   "metadata": {},
   "source": [
    "## Day 10: Monitoring Station\n",
    "\n",
    "### Part 1"
   ]
  },
  {
   "cell_type": "code",
   "execution_count": 161,
   "metadata": {},
   "outputs": [],
   "source": [
    "import fractions"
   ]
  },
  {
   "cell_type": "code",
   "execution_count": 164,
   "metadata": {},
   "outputs": [],
   "source": [
    "def day10_read():\n",
    "    p = get_path(10)\n",
    "    return [line.strip() for line in open(p).readlines()]"
   ]
  },
  {
   "cell_type": "code",
   "execution_count": 196,
   "metadata": {},
   "outputs": [
    {
     "data": {
      "text/plain": [
       "['.###.###.###.#####.#',\n",
       " '#####.##.###..###..#',\n",
       " '.#...####.###.######',\n",
       " '######.###.####.####',\n",
       " '#####..###..########',\n",
       " '#.##.###########.#.#',\n",
       " '##.###.######..#.#.#',\n",
       " '.#.##.###.#.####.###',\n",
       " '##..#.#.##.#########',\n",
       " '###.#######.###..##.',\n",
       " '###.###.##.##..####.',\n",
       " '.##.####.##########.',\n",
       " '#######.##.###.#####',\n",
       " '#####.##..####.#####',\n",
       " '##.#.#####.##.#.#..#',\n",
       " '###########.#######.',\n",
       " '#.##..#####.#####..#',\n",
       " '#####..#####.###.###',\n",
       " '####.#.############.',\n",
       " '####.#.#.##########.']"
      ]
     },
     "execution_count": 196,
     "metadata": {},
     "output_type": "execute_result"
    }
   ],
   "source": [
    "inputs = day10_read()\n",
    "inputs"
   ]
  },
  {
   "cell_type": "code",
   "execution_count": 228,
   "metadata": {},
   "outputs": [],
   "source": [
    "def _to_int_frac_pair(dx, dy):\n",
    "    if dx == 0:\n",
    "        return (0, dy // abs(dy))\n",
    "    \n",
    "    return (dx // abs(dx), fractions.Fraction(dy, abs(dx)))\n",
    "\n",
    "def _count(positions, p):\n",
    "    px, py = p\n",
    "    res = set()\n",
    "    for q in positions:\n",
    "        if q == p:\n",
    "            continue\n",
    "        qx, qy = q\n",
    "        pair = _to_int_frac_pair(qx - px, qy - py)\n",
    "        res.add(pair)\n",
    "    return len(res)\n",
    "\n",
    "def _get_asteroid_locs(grid):\n",
    "    width = len(grid[0])\n",
    "    height = len(grid)\n",
    "    res = {\n",
    "        (j, i)  # record as (x, y) defined in the problem\n",
    "        for i in range(height)\n",
    "        for j in range(width)\n",
    "        if grid[i][j] == \"#\"\n",
    "    }\n",
    "    return res\n",
    "\n",
    "def day10(grid):\n",
    "    asteroid_locs = _get_asteroid_locs(grid)\n",
    "    return max((_count(asteroid_locs, p), p) for p in asteroid_locs)"
   ]
  },
  {
   "cell_type": "code",
   "execution_count": 229,
   "metadata": {},
   "outputs": [
    {
     "data": {
      "text/plain": [
       "(8, (3, 4))"
      ]
     },
     "execution_count": 229,
     "metadata": {},
     "output_type": "execute_result"
    }
   ],
   "source": [
    "test1 = \"\"\"\n",
    ".#..#\n",
    ".....\n",
    "#####\n",
    "....#\n",
    "...##\"\"\".strip().split(\"\\n\")\n",
    "\n",
    "day10(test1)"
   ]
  },
  {
   "cell_type": "code",
   "execution_count": 230,
   "metadata": {},
   "outputs": [
    {
     "data": {
      "text/plain": [
       "(33, (5, 8))"
      ]
     },
     "execution_count": 230,
     "metadata": {},
     "output_type": "execute_result"
    }
   ],
   "source": [
    "test2 = \"\"\"\n",
    "......#.#.\n",
    "#..#.#....\n",
    "..#######.\n",
    ".#.#.###..\n",
    ".#..#.....\n",
    "..#....#.#\n",
    "#..#....#.\n",
    ".##.#..###\n",
    "##...#..#.\n",
    ".#....####\"\"\".strip().split(\"\\n\")\n",
    "\n",
    "day10(test2)"
   ]
  },
  {
   "cell_type": "code",
   "execution_count": 231,
   "metadata": {},
   "outputs": [
    {
     "data": {
      "text/plain": [
       "(210, (11, 13))"
      ]
     },
     "execution_count": 231,
     "metadata": {},
     "output_type": "execute_result"
    }
   ],
   "source": [
    "test3 = \"\"\"\n",
    ".#..##.###...#######\n",
    "##.############..##.\n",
    ".#.######.########.#\n",
    ".###.#######.####.#.\n",
    "#####.##.#.##.###.##\n",
    "..#####..#.#########\n",
    "####################\n",
    "#.####....###.#.#.##\n",
    "##.#################\n",
    "#####.##.###..####..\n",
    "..######..##.#######\n",
    "####.##.####...##..#\n",
    ".#####..#.######.###\n",
    "##...#.##########...\n",
    "#.##########.#######\n",
    ".####.#.###.###.#.##\n",
    "....##.##.###..#####\n",
    ".#.#.###########.###\n",
    "#.#.#.#####.####.###\n",
    "###.##.####.##.#..##\"\"\".strip().split(\"\\n\")\n",
    "\n",
    "day10(test3)"
   ]
  },
  {
   "cell_type": "code",
   "execution_count": 233,
   "metadata": {},
   "outputs": [
    {
     "data": {
      "text/plain": [
       "(214, (8, 16))"
      ]
     },
     "execution_count": 233,
     "metadata": {},
     "output_type": "execute_result"
    }
   ],
   "source": [
    "day10(inputs)"
   ]
  },
  {
   "cell_type": "markdown",
   "metadata": {},
   "source": [
    "### Part 2\n",
    "\n",
    "Take a naive approach: create ordered dict `{angle: list of coordinate point}` where the list is ordered by the distance from the source. Then consume the lists in round robin manner."
   ]
  },
  {
   "cell_type": "code",
   "execution_count": 289,
   "metadata": {},
   "outputs": [],
   "source": [
    "def coord_to_angle(target, source):\n",
    "    \"\"\"Get angle as range [0, 2*pi)\n",
    "    \"\"\"\n",
    "    x, y = target\n",
    "    x0, y0 = source\n",
    "    angle = math.atan2(y - y0, x - x0) + math.pi / 2\n",
    "    angle %= 2 * math.pi\n",
    "    return angle\n",
    "\n",
    "\n",
    "def get_sorted_dict(asteroid_locs, source):\n",
    "    def _dist(p):\n",
    "        x0, y0 = source\n",
    "        x, y = p\n",
    "        return math.hypot(x - x0, y - y0)\n",
    "    \n",
    "    d = collections.defaultdict(list)\n",
    "    for p in asteroid_locs:\n",
    "        if p == source:\n",
    "            continue\n",
    "        angle = coord_to_angle(p, source)\n",
    "        d[angle].append(p)\n",
    "    \n",
    "    # sort each list\n",
    "    for k in d:\n",
    "        d[k] = sorted(d[k], key=_dist)\n",
    "    \n",
    "    # sort dictionary keys\n",
    "    # Note that the order of dictionary entreies is fixed since python 3.6 or so\n",
    "    d = {k: d[k] for k in sorted(d)}\n",
    "    return d\n",
    "\n",
    "\n",
    "# https://docs.python.org/3/library/itertools.html\n",
    "def roundrobin(*iterables):\n",
    "    \"roundrobin('ABC', 'D', 'EF') --> A D E B F C\"\n",
    "    # Recipe credited to George Sakkis\n",
    "    num_active = len(iterables)\n",
    "    nexts = it.cycle(iter(it).__next__ for it in iterables)\n",
    "    while num_active:\n",
    "        try:\n",
    "            for next in nexts:\n",
    "                yield next()\n",
    "        except StopIteration:\n",
    "            # Remove the iterator we just exhausted from the cycle.\n",
    "            num_active -= 1\n",
    "            nexts = it.cycle(it.islice(nexts, num_active))\n",
    "\n",
    "            \n",
    "def day10_mod_iterator(grid, source):\n",
    "    asteroid_locs = _get_asteroid_locs(grid)\n",
    "    d = get_sorted_dict(asteroid_locs, source)\n",
    "    iterable = roundrobin(*d.values())\n",
    "    return iterable\n",
    "\n",
    "\n",
    "def day10_mod(grid, source=(8, 16)):\n",
    "    iterable = day10_mod_iterator(grid, source)\n",
    "    for i, p in enumerate(iterable, 1):\n",
    "        if i == 200:\n",
    "            x, y = p\n",
    "            break\n",
    "    return 100 * x + y"
   ]
  },
  {
   "cell_type": "code",
   "execution_count": 290,
   "metadata": {},
   "outputs": [
    {
     "name": "stdout",
     "output_type": "stream",
     "text": [
      "1-th point: (11, 12)\n",
      "2-th point: (12, 1)\n",
      "3-th point: (12, 2)\n",
      "10-th point: (12, 8)\n",
      "20-th point: (16, 0)\n",
      "50-th point: (16, 9)\n",
      "100-th point: (10, 16)\n",
      "199-th point: (9, 6)\n",
      "200-th point: (8, 2)\n",
      "201-th point: (10, 9)\n",
      "299-th point: (11, 1)\n"
     ]
    }
   ],
   "source": [
    "test2 = \"\"\"\n",
    ".#..##.###...#######\n",
    "##.############..##.\n",
    ".#.######.########.#\n",
    ".###.#######.####.#.\n",
    "#####.##.#.##.###.##\n",
    "..#####..#.#########\n",
    "####################\n",
    "#.####....###.#.#.##\n",
    "##.#################\n",
    "#####.##.###..####..\n",
    "..######..##.#######\n",
    "####.##.####...##..#\n",
    ".#####..#.######.###\n",
    "##...#.##########...\n",
    "#.##########.#######\n",
    ".####.#.###.###.#.##\n",
    "....##.##.###..#####\n",
    ".#.#.###########.###\n",
    "#.#.#.#####.####.###\n",
    "###.##.####.##.#..##\n",
    "\"\"\".strip().split(\"\\n\")\n",
    "\n",
    "iterable = day10_mod_iterator(test2, (11, 13))\n",
    "for i, p in enumerate(iterable, 1):\n",
    "    if i in {1, 2, 3, 10, 20, 50, 100, 199, 200, 201, 299}:\n",
    "        print(f\"{i}-th point: {p}\")"
   ]
  },
  {
   "cell_type": "code",
   "execution_count": 291,
   "metadata": {},
   "outputs": [
    {
     "data": {
      "text/plain": [
       "802"
      ]
     },
     "execution_count": 291,
     "metadata": {},
     "output_type": "execute_result"
    }
   ],
   "source": [
    "day10_mod(test2, (11, 13))"
   ]
  },
  {
   "cell_type": "code",
   "execution_count": 292,
   "metadata": {},
   "outputs": [
    {
     "data": {
      "text/plain": [
       "502"
      ]
     },
     "execution_count": 292,
     "metadata": {},
     "output_type": "execute_result"
    }
   ],
   "source": [
    "day10_mod(inputs, (8, 16))"
   ]
  },
  {
   "cell_type": "code",
   "execution_count": null,
   "metadata": {},
   "outputs": [],
   "source": []
  }
 ],
 "metadata": {
  "kernelspec": {
   "display_name": "Python 3",
   "language": "python",
   "name": "python3"
  },
  "language_info": {
   "codemirror_mode": {
    "name": "ipython",
    "version": 3
   },
   "file_extension": ".py",
   "mimetype": "text/x-python",
   "name": "python",
   "nbconvert_exporter": "python",
   "pygments_lexer": "ipython3",
   "version": "3.7.5"
  }
 },
 "nbformat": 4,
 "nbformat_minor": 2
}
