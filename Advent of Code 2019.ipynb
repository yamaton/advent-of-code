{
 "cells": [
  {
   "cell_type": "code",
   "execution_count": 21,
   "metadata": {},
   "outputs": [],
   "source": [
    "import doctest\n",
    "import itertools as it\n",
    "from typing import List, Tuple\n",
    "\n",
    "import bs4\n",
    "import urllib\n",
    "\n",
    "def get_title(day):\n",
    "    f = urllib.request.urlopen(f\"https://adventofcode.com/2019/day/{day}\")\n",
    "    soup = bs4.BeautifulSoup(f.read())\n",
    "    print(soup.h2.text.replace(\"-\",\"\").strip())"
   ]
  },
  {
   "cell_type": "code",
   "execution_count": null,
   "metadata": {},
   "outputs": [],
   "source": []
  },
  {
   "cell_type": "markdown",
   "metadata": {},
   "source": [
    "## Day 1: The Tyranny of the Rocket Equation"
   ]
  },
  {
   "cell_type": "code",
   "execution_count": 2,
   "metadata": {},
   "outputs": [],
   "source": [
    "def day01_parse(file_):\n",
    "    return [int(line) for line in open(file_).readlines()]\n",
    "    \n",
    "\n",
    "def day01(mass: int) -> int:\n",
    "    \"\"\"\n",
    "    >>> day01(12)\n",
    "    2\n",
    "    >>> day01(14)\n",
    "    2\n",
    "    >>> day01(1969)\n",
    "    654\n",
    "    >>> day01(100756)\n",
    "    33583\n",
    "    \"\"\"\n",
    "    return mass // 3 - 2\n"
   ]
  },
  {
   "cell_type": "code",
   "execution_count": 3,
   "metadata": {},
   "outputs": [
    {
     "data": {
      "text/plain": [
       "3286680"
      ]
     },
     "execution_count": 3,
     "metadata": {},
     "output_type": "execute_result"
    }
   ],
   "source": [
    "inputs = day01_parse(\"./2019/day01.txt\")\n",
    "output = sum(day01(x) for x in inputs)\n",
    "output"
   ]
  },
  {
   "cell_type": "code",
   "execution_count": 4,
   "metadata": {},
   "outputs": [],
   "source": [
    "def day01_mod(mass: int) -> int:\n",
    "    \"\"\"\n",
    "    >>> day01_mod(14)\n",
    "    2\n",
    "    >>> day01_mod(1969)\n",
    "    966\n",
    "    >>> day01_mod(100756)\n",
    "    50346\n",
    "    \"\"\"\n",
    "    res = []\n",
    "    while True:\n",
    "        mass = day01(mass)\n",
    "        if mass > 0:\n",
    "            res.append(mass)\n",
    "        else:\n",
    "            break\n",
    "    return sum(res)"
   ]
  },
  {
   "cell_type": "code",
   "execution_count": 5,
   "metadata": {},
   "outputs": [
    {
     "data": {
      "text/plain": [
       "TestResults(failed=0, attempted=7)"
      ]
     },
     "execution_count": 5,
     "metadata": {},
     "output_type": "execute_result"
    }
   ],
   "source": [
    "doctest.testmod()"
   ]
  },
  {
   "cell_type": "code",
   "execution_count": 6,
   "metadata": {},
   "outputs": [
    {
     "data": {
      "text/plain": [
       "4927158"
      ]
     },
     "execution_count": 6,
     "metadata": {},
     "output_type": "execute_result"
    }
   ],
   "source": [
    "inputs = day01_parse(\"./2019/day01.txt\")\n",
    "output = sum(day01_mod(x) for x in inputs)\n",
    "output"
   ]
  },
  {
   "cell_type": "code",
   "execution_count": null,
   "metadata": {},
   "outputs": [],
   "source": []
  },
  {
   "cell_type": "markdown",
   "metadata": {},
   "source": [
    "## Day 2: 1202 Program Alarm"
   ]
  },
  {
   "cell_type": "code",
   "execution_count": 7,
   "metadata": {},
   "outputs": [],
   "source": [
    "def day02_parse(file_):\n",
    "    return [int(x) for x in open(file_).read().strip().split(\",\")]\n",
    "   \n",
    "    \n",
    "def _day02_op1(xs: List[int], loc: int) -> List[int]:\n",
    "    xs[xs[loc + 3]] = xs[xs[loc + 1]] + xs[xs[loc + 2]]\n",
    "    return xs, loc + 4\n",
    "\n",
    "\n",
    "def _day02_op2(xs: List[int], loc: int) -> List[int]:\n",
    "    xs[xs[loc + 3]] = xs[xs[loc + 1]] * xs[xs[loc + 2]]\n",
    "    return xs, loc + 4\n",
    "\n",
    "\n",
    "def day02(state: List[int]) -> int:\n",
    "    \"\"\"\n",
    "    >>> day02([1,9,10,3,2,3,11,0,99,30,40,50])\n",
    "    3500\n",
    "    >>> day02([1,0,0,0,99])\n",
    "    2\n",
    "    >>> day02([2,4,4,5,99,0])\n",
    "    2\n",
    "    >>> day02([1,1,1,4,99,5,6,0,99])\n",
    "    30\n",
    "    \"\"\"\n",
    "    loc = 0\n",
    "    while state[loc] != 99:\n",
    "        if state[loc] == 1:\n",
    "            state, loc = _day02_op1(state, loc)\n",
    "        elif state[loc] == 2:\n",
    "            state, loc = _day02_op2(state, loc)\n",
    "    return state[0]"
   ]
  },
  {
   "cell_type": "code",
   "execution_count": 8,
   "metadata": {},
   "outputs": [
    {
     "data": {
      "text/plain": [
       "TestResults(failed=0, attempted=11)"
      ]
     },
     "execution_count": 8,
     "metadata": {},
     "output_type": "execute_result"
    }
   ],
   "source": [
    "doctest.testmod()"
   ]
  },
  {
   "cell_type": "code",
   "execution_count": 9,
   "metadata": {},
   "outputs": [
    {
     "data": {
      "text/plain": [
       "9706670"
      ]
     },
     "execution_count": 9,
     "metadata": {},
     "output_type": "execute_result"
    }
   ],
   "source": [
    "inputs = day02_parse(\"./2019/day02.txt\")\n",
    "inputs[1] = 12\n",
    "inputs[2] = 2\n",
    "day02(inputs[:])"
   ]
  },
  {
   "cell_type": "code",
   "execution_count": 10,
   "metadata": {},
   "outputs": [],
   "source": [
    "def day02_mod(xs: List[int], target: int) -> int:\n",
    "    size = len(xs)\n",
    "    for noun in range(size):\n",
    "        for verb in range(size):\n",
    "            ys = xs[:]\n",
    "            ys[1] = noun\n",
    "            ys[2] = verb\n",
    "            if day02(ys) == target:\n",
    "                return 100 * noun + verb"
   ]
  },
  {
   "cell_type": "code",
   "execution_count": 11,
   "metadata": {},
   "outputs": [
    {
     "data": {
      "text/plain": [
       "2552"
      ]
     },
     "execution_count": 11,
     "metadata": {},
     "output_type": "execute_result"
    }
   ],
   "source": [
    "day02_mod(inputs, 19690720)"
   ]
  },
  {
   "cell_type": "code",
   "execution_count": null,
   "metadata": {},
   "outputs": [],
   "source": []
  },
  {
   "cell_type": "code",
   "execution_count": null,
   "metadata": {},
   "outputs": [],
   "source": []
  },
  {
   "cell_type": "markdown",
   "metadata": {},
   "source": [
    "## Day 3: Crossed Wires\n",
    "\n",
    "### Part 1"
   ]
  },
  {
   "cell_type": "code",
   "execution_count": 13,
   "metadata": {},
   "outputs": [],
   "source": [
    "def _day03_exec_command(cmd, state):\n",
    "    dir_, steps = cmd[0], int(cmd[1:])\n",
    "    coord, record = state\n",
    "    x, y = coord\n",
    "    if dir_ == \"R\":\n",
    "        dx, dy = 1, 0\n",
    "    elif dir_ == \"L\":\n",
    "        dx, dy = -1, 0\n",
    "    elif dir_ == \"U\":\n",
    "        dx, dy = 0, 1\n",
    "    else:\n",
    "        assert dir_ == \"D\"\n",
    "        dx, dy = 0, -1\n",
    "        \n",
    "    for i in range(1, steps + 1):\n",
    "        record.add((x + dx * i, y + dy * i))\n",
    "                    \n",
    "    coord = (x + dx * steps, y + dy * steps)\n",
    "    return coord, record\n",
    "\n",
    "\n",
    "def day03_parse(file_):\n",
    "    ss = open(file_).readlines()\n",
    "    res = [s.strip() for s in ss]\n",
    "    return res\n",
    "\n",
    "\n",
    "def _day03_process(commands):\n",
    "    commands = commands.split(\",\")\n",
    "    state = (0, 0), set()\n",
    "    for cmd in commands:\n",
    "        state = _day03_exec_command(cmd, state)\n",
    "\n",
    "    _, record = state\n",
    "    return record\n",
    "\n",
    "\n",
    "def day03(commands1, commands2):\n",
    "    \"\"\"\n",
    "    >>> day03(\"R8,U5,L5,D3\", \"U7,R6,D4,L4\")\n",
    "    6\n",
    "    \n",
    "    >>> day03(\"R75,D30,R83,U83,L12,D49,R71,U7,L72\", \"U62,R66,U55,R34,D71,R55,D58,R83\")\n",
    "    159\n",
    "    \n",
    "    >>> day03(\"R98,U47,R26,D63,R33,U87,L62,D20,R33,U53,R51\", \"U98,R91,D20,R16,D67,R40,U7,R15,U6,R7\")\n",
    "    135\n",
    "    \n",
    "    \"\"\"\n",
    "    rec1 = _day03_process(commands1)\n",
    "    rec2 = _day03_process(commands2)\n",
    "    crossings = rec1 & rec2\n",
    "    nearest = min(sum(map(abs, point)) for point in crossings)\n",
    "    return nearest"
   ]
  },
  {
   "cell_type": "code",
   "execution_count": 14,
   "metadata": {},
   "outputs": [
    {
     "data": {
      "text/plain": [
       "TestResults(failed=0, attempted=14)"
      ]
     },
     "execution_count": 14,
     "metadata": {},
     "output_type": "execute_result"
    }
   ],
   "source": [
    "doctest.testmod()"
   ]
  },
  {
   "cell_type": "code",
   "execution_count": 15,
   "metadata": {},
   "outputs": [
    {
     "data": {
      "text/plain": [
       "651"
      ]
     },
     "execution_count": 15,
     "metadata": {},
     "output_type": "execute_result"
    }
   ],
   "source": [
    "command1, commands2 = day03_parse(\"./2019/day03.txt\")\n",
    "day03(command1, commands2)"
   ]
  },
  {
   "cell_type": "markdown",
   "metadata": {},
   "source": [
    "### Part 2"
   ]
  },
  {
   "cell_type": "markdown",
   "metadata": {},
   "source": [
    "There is ambiguity of step count when a trajectory crosses by itself. Assume that such self-crossing points do not appear as crossing points between trajectories."
   ]
  },
  {
   "cell_type": "code",
   "execution_count": 16,
   "metadata": {},
   "outputs": [],
   "source": [
    "def _day03_exec_command_mod(cmd, state):\n",
    "    coord, record = state\n",
    "    steps = record[coord]\n",
    "    dir_, stride = cmd[0], int(cmd[1:])\n",
    "    x, y = coord\n",
    "    if dir_ == \"R\":\n",
    "        dx, dy = 1, 0\n",
    "    elif dir_ == \"L\":\n",
    "        dx, dy = -1, 0\n",
    "    elif dir_ == \"U\":\n",
    "        dx, dy = 0, 1\n",
    "    else:\n",
    "        assert dir_ == \"D\"\n",
    "        dx, dy = 0, -1\n",
    "        \n",
    "    for i in range(1, stride + 1):\n",
    "        coord = (x + dx * i, y + dy * i)\n",
    "#         if coord in record:\n",
    "#             print(\"Already visited!\")\n",
    "        record[coord] = steps + i\n",
    "                    \n",
    "    coord = (x + dx * stride, y + dy * stride)\n",
    "    return coord, record\n",
    "\n",
    "\n",
    "def _day03_process_mod(commands):\n",
    "    commands = commands.split(\",\")\n",
    "    state = (0, 0), {(0, 0): 0}\n",
    "    for cmd in commands:\n",
    "        state = _day03_exec_command_mod(cmd, state)\n",
    "    _, record = state\n",
    "    return record\n",
    "\n",
    "\n",
    "def day03_mod(commands1, commands2):\n",
    "    \"\"\"\n",
    "    >>> day03_mod(\"R8,U5,L5,D3\", \"U7,R6,D4,L4\")\n",
    "    30\n",
    "    \n",
    "    >>> day03_mod(\"R75,D30,R83,U83,L12,D49,R71,U7,L72\", \"U62,R66,U55,R34,D71,R55,D58,R83\")\n",
    "    610\n",
    "    \n",
    "    >>> day03_mod(\"R98,U47,R26,D63,R33,U87,L62,D20,R33,U53,R51\", \"U98,R91,D20,R16,D67,R40,U7,R15,U6,R7\")\n",
    "    410\n",
    "    \"\"\"\n",
    "    rec1 = _day03_process_mod(commands1)\n",
    "    rec2 = _day03_process_mod(commands2)\n",
    "    crossings = (set(rec1.keys()) & set(rec2.keys())) - {(0, 0)}\n",
    "    nearest = min(rec1[point] + rec2[point] for point in crossings)\n",
    "    return nearest"
   ]
  },
  {
   "cell_type": "code",
   "execution_count": 17,
   "metadata": {},
   "outputs": [
    {
     "data": {
      "text/plain": [
       "TestResults(failed=0, attempted=17)"
      ]
     },
     "execution_count": 17,
     "metadata": {},
     "output_type": "execute_result"
    }
   ],
   "source": [
    "doctest.testmod()"
   ]
  },
  {
   "cell_type": "code",
   "execution_count": 18,
   "metadata": {},
   "outputs": [
    {
     "data": {
      "text/plain": [
       "7534"
      ]
     },
     "execution_count": 18,
     "metadata": {},
     "output_type": "execute_result"
    }
   ],
   "source": [
    "command1, commands2 = day03_parse(\"./2019/day03.txt\")\n",
    "day03_mod(command1, commands2)"
   ]
  },
  {
   "cell_type": "code",
   "execution_count": null,
   "metadata": {},
   "outputs": [],
   "source": []
  }
 ],
 "metadata": {
  "kernelspec": {
   "display_name": "Python 3",
   "language": "python",
   "name": "python3"
  },
  "language_info": {
   "codemirror_mode": {
    "name": "ipython",
    "version": 3
   },
   "file_extension": ".py",
   "mimetype": "text/x-python",
   "name": "python",
   "nbconvert_exporter": "python",
   "pygments_lexer": "ipython3",
   "version": "3.7.5"
  }
 },
 "nbformat": 4,
 "nbformat_minor": 2
}
