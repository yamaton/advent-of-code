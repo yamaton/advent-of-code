{
 "cells": [
  {
   "cell_type": "markdown",
   "metadata": {},
   "source": [
    "## Day 1\n",
    "\n",
    "In part 2, increment of sum of three consecutive numbers is determined from the sliding window of **four** elements. The head of the four elements is going out, and the tail element is incomming.  "
   ]
  },
  {
   "cell_type": "code",
   "execution_count": 14,
   "metadata": {},
   "outputs": [
    {
     "name": "stdout",
     "output_type": "stream",
     "text": [
      "1752\n"
     ]
    }
   ],
   "source": [
    "# day 1, part 1\n",
    "\n",
    "import itertools\n",
    "# python 3.10 introduces itertools.pairwise\n",
    "\n",
    "with open(\"./2021/day01_input.txt\") as f:\n",
    "    xs = [int(s) for s in f.readlines() if s.strip()]\n",
    "    count = sum(1 for a, b in itertools.pairwise(xs) if a < b)\n",
    "    print(count)"
   ]
  },
  {
   "cell_type": "code",
   "execution_count": 15,
   "metadata": {},
   "outputs": [
    {
     "name": "stdout",
     "output_type": "stream",
     "text": [
      "1781\n"
     ]
    }
   ],
   "source": [
    "# day 1, part 2\n",
    "\n",
    "import itertools\n",
    "import collections\n",
    "from typing import Iterable, Generator, Any\n",
    "\n",
    "# https://docs.python.org/3/library/itertools.html#itertools-recipes\n",
    "def sliding_window(iterable, n):\n",
    "    # sliding_window('ABCDEFG', 4) -> ABCD BCDE CDEF DEFG\n",
    "    it = iter(iterable)\n",
    "    window = collections.deque(itertools.islice(it, n), maxlen=n)\n",
    "    if len(window) == n:\n",
    "        yield tuple(window)\n",
    "    for x in it:\n",
    "        window.append(x)\n",
    "        yield tuple(window)\n",
    "\n",
    "with open(\"./2021/day01_input.txt\") as f:\n",
    "    xs = [int(s) for s in f.readlines() if s.strip()]\n",
    "    count = sum(1 for head, _, _, tail in sliding_window(xs, 4) if head < tail)\n",
    "    print(count)"
   ]
  },
  {
   "cell_type": "markdown",
   "metadata": {},
   "source": [
    "## Day 2\n",
    "\n",
    "Discuss change in submarine's position both horizontally and vertically (as depth). The part 2 introduces \"aim\" as an additional variable."
   ]
  },
  {
   "cell_type": "code",
   "execution_count": 9,
   "metadata": {},
   "outputs": [],
   "source": [
    "from typing import Iterable\n",
    "\n",
    "def day02_part1(xs: Iterable[tuple[str, int]]) -> int:\n",
    "    h, d = 0, 0\n",
    "    for cmd, amount in xs:\n",
    "        if cmd == \"forward\":\n",
    "            h += amount\n",
    "        elif cmd == \"down\":\n",
    "            d += amount\n",
    "        elif cmd == \"up\":\n",
    "            d -= amount\n",
    "        else:\n",
    "            raise ValueError(f\"Unknown command: {cmd} {amount}\")\n",
    "    return h * d"
   ]
  },
  {
   "cell_type": "code",
   "execution_count": 10,
   "metadata": {},
   "outputs": [
    {
     "name": "stdout",
     "output_type": "stream",
     "text": [
      "1804520\n"
     ]
    }
   ],
   "source": [
    "with open(\"./2021/day02_input.txt\") as f:\n",
    "    xs = [s.split() for s in f.readlines() if s.strip()]\n",
    "    xs = [(cmd, int(w)) for cmd, w in xs]\n",
    "    res = day02_part1(xs)\n",
    "    print(res)"
   ]
  },
  {
   "cell_type": "code",
   "execution_count": 20,
   "metadata": {},
   "outputs": [],
   "source": [
    "def day02_part2(xs: Iterable[tuple[str, int]]) -> int:\n",
    "    h = 0\n",
    "    d = 0\n",
    "    aim = 0\n",
    "    for cmd, amount in xs:\n",
    "        if cmd == \"forward\":\n",
    "            h += amount\n",
    "            d += amount * aim\n",
    "        elif cmd == \"down\":\n",
    "            aim += amount\n",
    "        elif cmd == \"up\":\n",
    "            aim -= amount\n",
    "        else:\n",
    "            raise ValueError(f\"Unknown command: {cmd} {amount}\")\n",
    "    return h * d"
   ]
  },
  {
   "cell_type": "code",
   "execution_count": 21,
   "metadata": {},
   "outputs": [
    {
     "name": "stdout",
     "output_type": "stream",
     "text": [
      "1971095320\n"
     ]
    }
   ],
   "source": [
    "with open(\"./2021/day02_input.txt\") as f:\n",
    "    xs = [s.split() for s in f.readlines() if s.strip()]\n",
    "    xs = [(cmd, int(w)) for cmd, w in xs]\n",
    "    res = day02_part2(xs)\n",
    "    print(res)\n"
   ]
  },
  {
   "cell_type": "markdown",
   "metadata": {},
   "source": [
    "## Day 3: Binary manipulations"
   ]
  },
  {
   "cell_type": "code",
   "execution_count": 41,
   "metadata": {},
   "outputs": [],
   "source": [
    "import collections\n",
    "from typing import Iterable\n",
    "\n",
    "\n",
    "def day03_part1(content: str) -> int:\n",
    "\n",
    "    def most_common(xs: Iterable[str]) -> str:\n",
    "        \"\"\"Assert xs contains either 0 or 1\"\"\"\n",
    "        cnt = collections.Counter(xs)\n",
    "        return str(int(cnt['0'] <= cnt['1']))\n",
    "    \n",
    "    lines = [list(line.strip()) for line in content.split() if line.strip()]\n",
    "    gamma = \"\".join(most_common(seq) for seq in zip(*lines))\n",
    "    gamma = int(gamma, 2)\n",
    "    bin_length = len(lines[0])\n",
    "    epsilon = ((1 << bin_length) - 1) ^ gamma\n",
    "    print(f\"{(gamma, epsilon) = }\")\n",
    "    return gamma * epsilon\n"
   ]
  },
  {
   "cell_type": "code",
   "execution_count": 42,
   "metadata": {},
   "outputs": [
    {
     "name": "stdout",
     "output_type": "stream",
     "text": [
      "(gamma, epsilon) = (22, 9)\n"
     ]
    },
    {
     "data": {
      "text/plain": [
       "198"
      ]
     },
     "execution_count": 42,
     "metadata": {},
     "output_type": "execute_result"
    }
   ],
   "source": [
    "s = \"\"\"\n",
    "00100\n",
    "11110\n",
    "10110\n",
    "10111\n",
    "10101\n",
    "01111\n",
    "00111\n",
    "11100\n",
    "10000\n",
    "11001\n",
    "00010\n",
    "01010\n",
    "\"\"\"\n",
    "\n",
    "day03_part1(s)"
   ]
  },
  {
   "cell_type": "code",
   "execution_count": 43,
   "metadata": {},
   "outputs": [
    {
     "name": "stdout",
     "output_type": "stream",
     "text": [
      "(gamma, epsilon) = (190, 3905)\n",
      "741950\n"
     ]
    }
   ],
   "source": [
    "with open(\"./2021/day03_input.txt\") as f:\n",
    "    res = day03_part1(f.read())\n",
    "    print(res)"
   ]
  },
  {
   "cell_type": "code",
   "execution_count": 44,
   "metadata": {},
   "outputs": [],
   "source": [
    "import numpy as np\n",
    "from typing import Iterable\n",
    "import collections\n",
    "\n",
    "def day03_part2(content: str) -> int:\n",
    "\n",
    "    def most_common(xs: Iterable[int]) -> int:\n",
    "        \"\"\"Assert xs contains either 0 or 1\"\"\"\n",
    "        cnt = collections.Counter(xs)\n",
    "        return int(cnt[0] <= cnt[1])\n",
    "    \n",
    "\n",
    "    def _rating(zs, n_digits, cmp) -> int:\n",
    "        xs = np.copy(zs)\n",
    "        \n",
    "        i = n_digits - 1\n",
    "        while len(xs) > 1:\n",
    "            digits = (xs >> i) & 1\n",
    "            criteria = cmp(digits, most_common(digits))\n",
    "            xs = xs[criteria]\n",
    "            i -= 1\n",
    "        return xs[0]\n",
    "\n",
    "    def oxygen_rating(zs, n_digits) -> int:\n",
    "        return _rating(zs, n_digits, np.equal)\n",
    "\n",
    "    def co2_rating(zs, n_digits) -> int:\n",
    "        return _rating(zs, n_digits, np.not_equal)\n",
    "    \n",
    "    lines = [line.strip() for line in content.split() if line.strip()]\n",
    "    xs = np.array([int(line, 2) for line in lines])\n",
    "\n",
    "    n_digits = len(lines[0])\n",
    "    oxygen = oxygen_rating(xs, n_digits)\n",
    "    co2 = co2_rating(xs, n_digits)\n",
    "    print(f\"{(oxygen, co2) = }\")\n",
    "    return oxygen * co2\n"
   ]
  },
  {
   "cell_type": "code",
   "execution_count": 45,
   "metadata": {},
   "outputs": [
    {
     "name": "stdout",
     "output_type": "stream",
     "text": [
      "(oxygen, co2) = (23, 10)\n"
     ]
    },
    {
     "data": {
      "text/plain": [
       "230"
      ]
     },
     "execution_count": 45,
     "metadata": {},
     "output_type": "execute_result"
    }
   ],
   "source": [
    "s = \"\"\"\n",
    "00100\n",
    "11110\n",
    "10110\n",
    "10111\n",
    "10101\n",
    "01111\n",
    "00111\n",
    "11100\n",
    "10000\n",
    "11001\n",
    "00010\n",
    "01010\n",
    "\"\"\"\n",
    "\n",
    "day03_part2(s)"
   ]
  },
  {
   "cell_type": "code",
   "execution_count": 46,
   "metadata": {},
   "outputs": [
    {
     "name": "stdout",
     "output_type": "stream",
     "text": [
      "(oxygen, co2) = (282, 3205)\n",
      "903810\n"
     ]
    }
   ],
   "source": [
    "with open(\"./2021/day03_input.txt\") as f:\n",
    "    res = day03_part2(f.read())\n",
    "    print(res)"
   ]
  },
  {
   "cell_type": "markdown",
   "metadata": {},
   "source": [
    "## Day 4: 5 x 5 Bingo"
   ]
  },
  {
   "cell_type": "code",
   "execution_count": 5,
   "metadata": {},
   "outputs": [],
   "source": [
    "def day04_parse(content: str) -> tuple[list[int], list[list[list[int]]]]:\n",
    "    \"\"\"Return integer sequence AND a list of 5x5 bingos\"\"\"\n",
    "    chunks = [chunk.strip() for chunk in content.split(\"\\n\\n\") if chunk.strip()]\n",
    "    xs = [int(s) for s in chunks[0].split(\",\") if s.strip()]\n",
    "    dominos = [\n",
    "        [\n",
    "            [int(s) for s in line.split()]\n",
    "            for line in chunk.split(\"\\n\") if line.strip()\n",
    "        ] \n",
    "        for chunk in chunks[1:]\n",
    "    ]\n",
    "    return xs, dominos\n",
    "\n"
   ]
  },
  {
   "cell_type": "code",
   "execution_count": 9,
   "metadata": {},
   "outputs": [
    {
     "data": {
      "text/plain": [
       "[[[22, 13, 17, 11, 0],\n",
       "  [8, 2, 23, 4, 24],\n",
       "  [21, 9, 14, 16, 7],\n",
       "  [6, 10, 3, 18, 5],\n",
       "  [1, 12, 20, 15, 19]],\n",
       " [[3, 15, 0, 2, 22],\n",
       "  [9, 18, 13, 17, 5],\n",
       "  [19, 8, 7, 25, 23],\n",
       "  [20, 11, 10, 24, 4],\n",
       "  [14, 21, 16, 12, 6]],\n",
       " [[14, 21, 17, 24, 4],\n",
       "  [10, 16, 15, 9, 19],\n",
       "  [18, 8, 23, 26, 20],\n",
       "  [22, 11, 13, 6, 5],\n",
       "  [2, 0, 12, 3, 7]]]"
      ]
     },
     "execution_count": 9,
     "metadata": {},
     "output_type": "execute_result"
    }
   ],
   "source": [
    "s = \"\"\"7,4,9,5,11,17,23,2,0,14,21,24,10,16,13,6,15,25,12,22,18,20,8,19,3,26,1\n",
    "\n",
    "22 13 17 11  0\n",
    " 8  2 23  4 24\n",
    "21  9 14 16  7\n",
    " 6 10  3 18  5\n",
    " 1 12 20 15 19\n",
    "\n",
    " 3 15  0  2 22\n",
    " 9 18 13 17  5\n",
    "19  8  7 25 23\n",
    "20 11 10 24  4\n",
    "14 21 16 12  6\n",
    "\n",
    "14 21 17 24  4\n",
    "10 16 15  9 19\n",
    "18  8 23 26 20\n",
    "22 11 13  6  5\n",
    " 2  0 12  3  7\n",
    "\"\"\"\n",
    "\n",
    "calls, dominos = day04_parse(s)\n",
    "dominos"
   ]
  },
  {
   "cell_type": "code",
   "execution_count": null,
   "metadata": {},
   "outputs": [],
   "source": []
  }
 ],
 "metadata": {
  "interpreter": {
   "hash": "b84e109b045a092625b2c92e1e9fd866d76190a677d88b51d11192902177fa4e"
  },
  "kernelspec": {
   "display_name": "Python 3.10.0 64-bit ('base': conda)",
   "language": "python",
   "name": "python3"
  },
  "language_info": {
   "codemirror_mode": {
    "name": "ipython",
    "version": 3
   },
   "file_extension": ".py",
   "mimetype": "text/x-python",
   "name": "python",
   "nbconvert_exporter": "python",
   "pygments_lexer": "ipython3",
   "version": "3.10.0"
  },
  "orig_nbformat": 4
 },
 "nbformat": 4,
 "nbformat_minor": 2
}
