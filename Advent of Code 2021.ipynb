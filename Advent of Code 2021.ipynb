{
 "cells": [
  {
   "cell_type": "code",
   "execution_count": 1,
   "metadata": {},
   "outputs": [
    {
     "data": {
      "text/plain": [
       "TestResults(failed=0, attempted=0)"
      ]
     },
     "execution_count": 1,
     "metadata": {},
     "output_type": "execute_result"
    }
   ],
   "source": [
    "import doctest\n",
    "doctest.testmod()"
   ]
  },
  {
   "cell_type": "markdown",
   "metadata": {},
   "source": [
    "## Day 1\n",
    "\n",
    "In part 2, increment of sum of three consecutive numbers is determined from the sliding window of **four** elements. The head of the four elements is going out, and the tail element is incomming.  "
   ]
  },
  {
   "cell_type": "code",
   "execution_count": 14,
   "metadata": {},
   "outputs": [
    {
     "name": "stdout",
     "output_type": "stream",
     "text": [
      "1752\n"
     ]
    }
   ],
   "source": [
    "# day 1, part 1\n",
    "\n",
    "import itertools\n",
    "# python 3.10 introduces itertools.pairwise\n",
    "\n",
    "with open(\"./2021/day01_input.txt\") as f:\n",
    "    xs = [int(s) for s in f.readlines() if s.strip()]\n",
    "    count = sum(1 for a, b in itertools.pairwise(xs) if a < b)\n",
    "    print(count)"
   ]
  },
  {
   "cell_type": "code",
   "execution_count": 15,
   "metadata": {},
   "outputs": [
    {
     "name": "stdout",
     "output_type": "stream",
     "text": [
      "1781\n"
     ]
    }
   ],
   "source": [
    "# day 1, part 2\n",
    "\n",
    "import itertools\n",
    "import collections\n",
    "from typing import Iterable, Generator, Any\n",
    "\n",
    "# https://docs.python.org/3/library/itertools.html#itertools-recipes\n",
    "def sliding_window(iterable, n):\n",
    "    # sliding_window('ABCDEFG', 4) -> ABCD BCDE CDEF DEFG\n",
    "    it = iter(iterable)\n",
    "    window = collections.deque(itertools.islice(it, n), maxlen=n)\n",
    "    if len(window) == n:\n",
    "        yield tuple(window)\n",
    "    for x in it:\n",
    "        window.append(x)\n",
    "        yield tuple(window)\n",
    "\n",
    "with open(\"./2021/day01_input.txt\") as f:\n",
    "    xs = [int(s) for s in f.readlines() if s.strip()]\n",
    "    count = sum(1 for head, _, _, tail in sliding_window(xs, 4) if head < tail)\n",
    "    print(count)"
   ]
  },
  {
   "cell_type": "markdown",
   "metadata": {},
   "source": [
    "## Day 2\n",
    "\n",
    "Discuss change in submarine's position both horizontally and vertically (as depth). The part 2 introduces \"aim\" as an additional variable."
   ]
  },
  {
   "cell_type": "code",
   "execution_count": 3,
   "metadata": {},
   "outputs": [],
   "source": [
    "from typing import Iterable\n",
    "\n",
    "def day02_part1(xs: Iterable[tuple[str, int]]) -> int:\n",
    "    \"\"\"\n",
    "    \"\"\"\n",
    "    h, d = 0, 0\n",
    "    for cmd, amount in xs:\n",
    "        if cmd == \"forward\":\n",
    "            h += amount\n",
    "        elif cmd == \"down\":\n",
    "            d += amount\n",
    "        elif cmd == \"up\":\n",
    "            d -= amount\n",
    "        else:\n",
    "            raise ValueError(f\"Unknown command: {cmd} {amount}\")\n",
    "    return h * d"
   ]
  },
  {
   "cell_type": "code",
   "execution_count": 5,
   "metadata": {},
   "outputs": [
    {
     "data": {
      "text/plain": [
       "150"
      ]
     },
     "execution_count": 5,
     "metadata": {},
     "output_type": "execute_result"
    }
   ],
   "source": [
    "test = \"\"\"\n",
    "forward 5\n",
    "down 5\n",
    "forward 8\n",
    "up 3\n",
    "down 8\n",
    "forward 2\n",
    "\"\"\"\n",
    "xs = [s.split() for s in test.split(\"\\n\") if s.strip()]\n",
    "xs = [(cmd, int(w)) for cmd, w in xs]\n",
    "day02_part1(xs)"
   ]
  },
  {
   "cell_type": "code",
   "execution_count": 6,
   "metadata": {},
   "outputs": [
    {
     "name": "stdout",
     "output_type": "stream",
     "text": [
      "1804520\n"
     ]
    }
   ],
   "source": [
    "with open(\"./2021/day02_input.txt\") as f:\n",
    "    xs = [s.split() for s in f.readlines() if s.strip()]\n",
    "    xs = [(cmd, int(w)) for cmd, w in xs]\n",
    "    res = day02_part1(xs)\n",
    "    print(res)"
   ]
  },
  {
   "cell_type": "code",
   "execution_count": 7,
   "metadata": {},
   "outputs": [],
   "source": [
    "def day02_part2(xs: Iterable[tuple[str, int]]) -> int:\n",
    "    h = 0\n",
    "    d = 0\n",
    "    aim = 0\n",
    "    for cmd, amount in xs:\n",
    "        if cmd == \"forward\":\n",
    "            h += amount\n",
    "            d += amount * aim\n",
    "        elif cmd == \"down\":\n",
    "            aim += amount\n",
    "        elif cmd == \"up\":\n",
    "            aim -= amount\n",
    "        else:\n",
    "            raise ValueError(f\"Unknown command: {cmd} {amount}\")\n",
    "    return h * d"
   ]
  },
  {
   "cell_type": "code",
   "execution_count": 8,
   "metadata": {},
   "outputs": [
    {
     "data": {
      "text/plain": [
       "900"
      ]
     },
     "execution_count": 8,
     "metadata": {},
     "output_type": "execute_result"
    }
   ],
   "source": [
    "test = \"\"\"\n",
    "forward 5\n",
    "down 5\n",
    "forward 8\n",
    "up 3\n",
    "down 8\n",
    "forward 2\n",
    "\"\"\"\n",
    "xs = [s.split() for s in test.split(\"\\n\") if s.strip()]\n",
    "xs = [(cmd, int(w)) for cmd, w in xs]\n",
    "day02_part2(xs)"
   ]
  },
  {
   "cell_type": "code",
   "execution_count": 9,
   "metadata": {},
   "outputs": [
    {
     "name": "stdout",
     "output_type": "stream",
     "text": [
      "1971095320\n"
     ]
    }
   ],
   "source": [
    "with open(\"./2021/day02_input.txt\") as f:\n",
    "    xs = [s.split() for s in f.readlines() if s.strip()]\n",
    "    xs = [(cmd, int(w)) for cmd, w in xs]\n",
    "    res = day02_part2(xs)\n",
    "    print(res)\n"
   ]
  },
  {
   "cell_type": "markdown",
   "metadata": {},
   "source": [
    "## Day 3: Binary manipulations"
   ]
  },
  {
   "cell_type": "code",
   "execution_count": 41,
   "metadata": {},
   "outputs": [],
   "source": [
    "import collections\n",
    "from typing import Iterable\n",
    "\n",
    "\n",
    "def day03_part1(content: str) -> int:\n",
    "\n",
    "    def most_common(xs: Iterable[str]) -> str:\n",
    "        \"\"\"Assert xs contains either 0 or 1\"\"\"\n",
    "        cnt = collections.Counter(xs)\n",
    "        return str(int(cnt['0'] <= cnt['1']))\n",
    "    \n",
    "    lines = [list(line.strip()) for line in content.split() if line.strip()]\n",
    "    gamma = \"\".join(most_common(seq) for seq in zip(*lines))\n",
    "    gamma = int(gamma, 2)\n",
    "    bin_length = len(lines[0])\n",
    "    epsilon = ((1 << bin_length) - 1) ^ gamma\n",
    "    print(f\"{(gamma, epsilon) = }\")\n",
    "    return gamma * epsilon\n"
   ]
  },
  {
   "cell_type": "code",
   "execution_count": 42,
   "metadata": {},
   "outputs": [
    {
     "name": "stdout",
     "output_type": "stream",
     "text": [
      "(gamma, epsilon) = (22, 9)\n"
     ]
    },
    {
     "data": {
      "text/plain": [
       "198"
      ]
     },
     "execution_count": 42,
     "metadata": {},
     "output_type": "execute_result"
    }
   ],
   "source": [
    "s = \"\"\"\n",
    "00100\n",
    "11110\n",
    "10110\n",
    "10111\n",
    "10101\n",
    "01111\n",
    "00111\n",
    "11100\n",
    "10000\n",
    "11001\n",
    "00010\n",
    "01010\n",
    "\"\"\"\n",
    "\n",
    "day03_part1(s)"
   ]
  },
  {
   "cell_type": "code",
   "execution_count": 43,
   "metadata": {},
   "outputs": [
    {
     "name": "stdout",
     "output_type": "stream",
     "text": [
      "(gamma, epsilon) = (190, 3905)\n",
      "741950\n"
     ]
    }
   ],
   "source": [
    "with open(\"./2021/day03_input.txt\") as f:\n",
    "    res = day03_part1(f.read())\n",
    "    print(res)"
   ]
  },
  {
   "cell_type": "code",
   "execution_count": 44,
   "metadata": {},
   "outputs": [],
   "source": [
    "import numpy as np\n",
    "from typing import Iterable\n",
    "import collections\n",
    "\n",
    "def day03_part2(content: str) -> int:\n",
    "\n",
    "    def most_common(xs: Iterable[int]) -> int:\n",
    "        \"\"\"Assert xs contains either 0 or 1\"\"\"\n",
    "        cnt = collections.Counter(xs)\n",
    "        return int(cnt[0] <= cnt[1])\n",
    "    \n",
    "\n",
    "    def _rating(zs, n_digits, cmp) -> int:\n",
    "        xs = np.copy(zs)\n",
    "        \n",
    "        i = n_digits - 1\n",
    "        while len(xs) > 1:\n",
    "            digits = (xs >> i) & 1\n",
    "            criteria = cmp(digits, most_common(digits))\n",
    "            xs = xs[criteria]\n",
    "            i -= 1\n",
    "        return xs[0]\n",
    "\n",
    "    def oxygen_rating(zs, n_digits) -> int:\n",
    "        return _rating(zs, n_digits, np.equal)\n",
    "\n",
    "    def co2_rating(zs, n_digits) -> int:\n",
    "        return _rating(zs, n_digits, np.not_equal)\n",
    "    \n",
    "    lines = [line.strip() for line in content.split() if line.strip()]\n",
    "    xs = np.array([int(line, 2) for line in lines])\n",
    "\n",
    "    n_digits = len(lines[0])\n",
    "    oxygen = oxygen_rating(xs, n_digits)\n",
    "    co2 = co2_rating(xs, n_digits)\n",
    "    print(f\"{(oxygen, co2) = }\")\n",
    "    return oxygen * co2\n"
   ]
  },
  {
   "cell_type": "code",
   "execution_count": 45,
   "metadata": {},
   "outputs": [
    {
     "name": "stdout",
     "output_type": "stream",
     "text": [
      "(oxygen, co2) = (23, 10)\n"
     ]
    },
    {
     "data": {
      "text/plain": [
       "230"
      ]
     },
     "execution_count": 45,
     "metadata": {},
     "output_type": "execute_result"
    }
   ],
   "source": [
    "s = \"\"\"\n",
    "00100\n",
    "11110\n",
    "10110\n",
    "10111\n",
    "10101\n",
    "01111\n",
    "00111\n",
    "11100\n",
    "10000\n",
    "11001\n",
    "00010\n",
    "01010\n",
    "\"\"\"\n",
    "\n",
    "day03_part2(s)"
   ]
  },
  {
   "cell_type": "code",
   "execution_count": 46,
   "metadata": {},
   "outputs": [
    {
     "name": "stdout",
     "output_type": "stream",
     "text": [
      "(oxygen, co2) = (282, 3205)\n",
      "903810\n"
     ]
    }
   ],
   "source": [
    "with open(\"./2021/day03_input.txt\") as f:\n",
    "    res = day03_part2(f.read())\n",
    "    print(res)"
   ]
  },
  {
   "cell_type": "markdown",
   "metadata": {},
   "source": [
    "## Day 4: 5 x 5 Bingo\n",
    "\n",
    "**NOTE**: diagonals don't count!"
   ]
  },
  {
   "cell_type": "code",
   "execution_count": 133,
   "metadata": {},
   "outputs": [],
   "source": [
    "from typing import Generator, Any, Iterable, Optional\n",
    "import collections\n",
    "\n",
    "\n",
    "def day04_parse(content: str) -> tuple[list[int], list[list[list[int]]]]:\n",
    "    \"\"\"Return integer sequence AND a list of 5x5 bingos\"\"\"\n",
    "    chunks = [chunk.strip() for chunk in content.split(\"\\n\\n\") if chunk.strip()]\n",
    "    xs = [int(s) for s in chunks[0].split(\",\") if s.strip()]\n",
    "    dominos = [\n",
    "        [\n",
    "            [int(s) for s in line.split()]\n",
    "            for line in chunk.split(\"\\n\") if line.strip()\n",
    "        ] \n",
    "        for chunk in chunks[1:]\n",
    "    ]\n",
    "    return xs, dominos\n",
    "\n",
    "\n",
    "def day04_candidates(domino: list[list[Any]]) -> Generator[frozenset[Any], None, None]:\n",
    "    \"\"\"\n",
    "    \"\"\"\n",
    "    for xs in domino:\n",
    "        yield frozenset(xs)\n",
    "    \n",
    "    for xs in zip(*domino):\n",
    "        yield frozenset(xs)\n",
    "\n",
    "def day04_part1(calls: Iterable[int], dominos: list[list[list[int]]]) -> Optional[int]:\n",
    "\n",
    "    d = collections.defaultdict(list)\n",
    "    for i, domino in enumerate(dominos):\n",
    "        for candidate in day04_candidates(domino):\n",
    "            d[candidate].append(i)\n",
    "        \n",
    "    called = set()\n",
    "    last_x = -1   # placeholder for scope purpose\n",
    "    for x in calls:\n",
    "        called.add(x)\n",
    "        if any(candidate <= called for candidate in d):\n",
    "            last_x = x\n",
    "            break\n",
    "\n",
    "    for candidate in d:\n",
    "        if candidate <= called:\n",
    "            idx = d[candidate][0]  # assume the winner is unique\n",
    "            board = frozenset({x for xs in dominos[idx] for x in xs})\n",
    "            print(f\"{idx = },  {last_x = },  {candidate = },  {called = }\")\n",
    "            return sum(board - called) * last_x\n",
    "        \n",
    "    print(\"something is wrong!\")\n",
    "    return None"
   ]
  },
  {
   "cell_type": "code",
   "execution_count": 134,
   "metadata": {},
   "outputs": [
    {
     "name": "stdout",
     "output_type": "stream",
     "text": [
      "idx = 2,  last_x = 24,  candidate = frozenset({4, 14, 17, 21, 24}),  called = {0, 2, 4, 5, 7, 9, 11, 14, 17, 21, 23, 24}\n"
     ]
    },
    {
     "data": {
      "text/plain": [
       "4512"
      ]
     },
     "execution_count": 134,
     "metadata": {},
     "output_type": "execute_result"
    }
   ],
   "source": [
    "s = \"\"\"7,4,9,5,11,17,23,2,0,14,21,24,10,16,13,6,15,25,12,22,18,20,8,19,3,26,1\n",
    "\n",
    "22 13 17 11  0\n",
    " 8  2 23  4 24\n",
    "21  9 14 16  7\n",
    " 6 10  3 18  5\n",
    " 1 12 20 15 19\n",
    "\n",
    " 3 15  0  2 22\n",
    " 9 18 13 17  5\n",
    "19  8  7 25 23\n",
    "20 11 10 24  4\n",
    "14 21 16 12  6\n",
    "\n",
    "14 21 17 24  4\n",
    "10 16 15  9 19\n",
    "18  8 23 26 20\n",
    "22 11 13  6  5\n",
    " 2  0 12  3  7\n",
    "\"\"\"\n",
    "\n",
    "calls, dominos = day04_parse(s)\n",
    "day04_part1(calls, dominos)"
   ]
  },
  {
   "cell_type": "code",
   "execution_count": 135,
   "metadata": {},
   "outputs": [
    {
     "name": "stdout",
     "output_type": "stream",
     "text": [
      "idx = 88,  last_x = 14,  candidate = frozenset({71, 8, 14, 23, 24}),  called = {3, 8, 9, 12, 14, 18, 22, 23, 24, 30, 37, 40, 45, 53, 54, 57, 58, 62, 70, 71, 72, 73, 80, 81, 88, 95, 98}\n",
      "10374\n"
     ]
    }
   ],
   "source": [
    "with open(\"./2021/day04_input.txt\") as f:\n",
    "    calls, dominos = day04_parse(f.read())\n",
    "    res = day04_part1(calls, dominos)\n",
    "    print(res)"
   ]
  },
  {
   "cell_type": "code",
   "execution_count": 139,
   "metadata": {},
   "outputs": [],
   "source": [
    "def day04_part2(calls: Iterable[int], dominos: list[list[list[int]]]) -> Optional[int]:\n",
    "\n",
    "    d = collections.defaultdict(list)\n",
    "    for i, domino in enumerate(dominos):\n",
    "        for candidate in day04_candidates(domino):\n",
    "            d[candidate].append(i)\n",
    "    \n",
    "    n_boards = len(dominos)\n",
    "    print(f\"{n_boards = }\")\n",
    "    won_indices = []\n",
    "    called: set[int] = set()\n",
    "    done = set()\n",
    "    last_x = -1\n",
    "\n",
    "    for x in calls:\n",
    "        called.add(x)\n",
    "        for candidate, indices in d.items():\n",
    "            if candidate not in done and candidate <= called:\n",
    "                print(set(candidate), indices)\n",
    "                last_x = x\n",
    "                for idx in indices:\n",
    "                    if idx not in won_indices:\n",
    "                        won_indices.append(idx)\n",
    "                done.add(candidate)\n",
    "    \n",
    "        if len(won_indices) == n_boards:\n",
    "            break\n",
    "\n",
    "    if won_indices:\n",
    "        idx = won_indices[-1]\n",
    "        board = frozenset({x for xs in dominos[idx] for x in xs})\n",
    "        print(f\"{idx = },  {last_x = }, {called = }\")\n",
    "        return sum(board - called) * last_x\n",
    "    \n",
    "    print(\"something is wrong!\")\n",
    "    return None"
   ]
  },
  {
   "cell_type": "code",
   "execution_count": 140,
   "metadata": {},
   "outputs": [
    {
     "name": "stdout",
     "output_type": "stream",
     "text": [
      "n_boards = 3\n",
      "{17, 4, 21, 24, 14} [2]\n",
      "{16, 21, 7, 9, 14} [0]\n",
      "{0, 16, 7, 10, 13} [1]\n",
      "idx = 1,  last_x = 13, called = {0, 2, 4, 5, 7, 9, 10, 11, 13, 14, 16, 17, 21, 23, 24}\n"
     ]
    },
    {
     "data": {
      "text/plain": [
       "1924"
      ]
     },
     "execution_count": 140,
     "metadata": {},
     "output_type": "execute_result"
    }
   ],
   "source": [
    "s = \"\"\"7,4,9,5,11,17,23,2,0,14,21,24,10,16,13,6,15,25,12,22,18,20,8,19,3,26,1\n",
    "\n",
    "22 13 17 11  0\n",
    " 8  2 23  4 24\n",
    "21  9 14 16  7\n",
    " 6 10  3 18  5\n",
    " 1 12 20 15 19\n",
    "\n",
    " 3 15  0  2 22\n",
    " 9 18 13 17  5\n",
    "19  8  7 25 23\n",
    "20 11 10 24  4\n",
    "14 21 16 12  6\n",
    "\n",
    "14 21 17 24  4\n",
    "10 16 15  9 19\n",
    "18  8 23 26 20\n",
    "22 11 13  6  5\n",
    " 2  0 12  3  7\n",
    "\"\"\"\n",
    "\n",
    "calls, dominos = day04_parse(s)\n",
    "day04_part2(calls, dominos)"
   ]
  },
  {
   "cell_type": "code",
   "execution_count": 141,
   "metadata": {},
   "outputs": [
    {
     "name": "stdout",
     "output_type": "stream",
     "text": [
      "n_boards = 100\n",
      "{23, 71, 8, 24, 14} [88]\n",
      "{0, 34, 55, 45, 95} [31]\n",
      "{34, 30, 8, 29, 14} [46]\n",
      "{0, 66, 88, 12, 29} [62]\n",
      "{3, 22, 9, 58, 27} [52]\n",
      "{55, 88, 73, 27, 28} [48]\n",
      "{53, 23, 72, 28, 45} [81]\n",
      "{66, 19, 37, 87, 24} [36]\n",
      "{34, 82, 54, 87, 14} [77]\n",
      "{29, 83, 71, 45, 14} [9]\n",
      "{83, 55, 73, 58, 9} [10]\n",
      "{80, 48, 66, 83, 58} [48]\n",
      "{96, 36, 23, 88, 31} [20]\n",
      "{98, 36, 53, 88, 29} [35]\n",
      "{18, 82, 54, 22, 26} [9]\n",
      "{81, 8, 24, 26, 31} [97]\n",
      "{36, 9, 63, 14, 95} [4]\n",
      "{36, 71, 8, 9, 63} [21]\n",
      "{66, 19, 23, 31, 63} [60]\n",
      "{21, 22, 14, 73, 9} [9]\n",
      "{37, 21, 71, 22, 73} [17]\n",
      "{96, 19, 21, 70, 63} [86]\n",
      "{82, 53, 21, 72, 9} [86]\n",
      "{33, 3, 87, 73, 28} [3]\n",
      "{80, 33, 81, 70, 62} [23]\n",
      "{48, 33, 36, 70, 40} [61]\n",
      "{33, 70, 12, 46, 95} [84]\n",
      "{83, 70, 86, 87, 24} [1]\n",
      "{26, 36, 86, 58, 29} [9]\n",
      "{81, 66, 86, 55, 62} [48]\n",
      "{32, 19, 37, 21, 45} [0]\n",
      "{32, 98, 86, 9, 63} [9]\n",
      "{32, 82, 71, 24, 12} [9]\n",
      "{32, 66, 21, 9, 62} [17]\n",
      "{32, 96, 81, 5, 53} [40]\n",
      "{0, 34, 5, 56, 63} [23]\n",
      "{98, 37, 56, 95, 63} [50]\n",
      "{33, 98, 86, 56, 26} [56]\n",
      "{48, 71, 72, 56, 29} [81]\n",
      "{0, 53, 6, 62, 31} [17]\n",
      "{0, 48, 37, 6, 71} [59]\n",
      "{33, 98, 18, 6, 31} [59]\n",
      "{0, 6, 55, 58, 63} [74]\n",
      "{80, 34, 3, 6, 87} [96]\n",
      "{81, 20, 38, 87, 24} [2]\n",
      "{66, 20, 38, 87, 12} [14]\n",
      "{32, 38, 87, 88, 26} [28]\n",
      "{32, 34, 38, 87, 46} [32]\n",
      "{18, 3, 38, 87, 40} [59]\n",
      "{98, 52, 53, 70, 30} [38]\n",
      "{36, 52, 72, 24, 14} [38]\n",
      "{16, 86, 28, 46, 31} [14]\n",
      "{16, 36, 71, 40, 12} [18]\n",
      "{96, 16, 36, 5, 8} [67]\n",
      "{96, 16, 18, 56, 12} [84]\n",
      "{0, 16, 48, 87, 12} [94]\n",
      "{21, 8, 73, 57, 41} [46]\n",
      "{70, 22, 73, 14, 41} [47]\n",
      "{18, 54, 55, 41, 31} [69]\n",
      "{18, 70, 23, 8, 41} [86]\n",
      "{19, 26, 86, 87, 74} [5]\n",
      "{96, 20, 86, 74, 29} [14]\n",
      "{9, 74, 28, 30, 95} [26]\n",
      "{54, 87, 41, 74, 27} [27]\n",
      "{81, 36, 21, 6, 74} [35]\n",
      "{40, 73, 74, 31, 41} [76]\n",
      "{82, 21, 72, 74, 45} [77]\n",
      "{80, 82, 55, 74, 31} [97]\n",
      "{32, 99, 57, 12, 14} [16]\n",
      "{99, 30, 71, 14, 95} [24]\n",
      "{82, 99, 21, 70, 41} [25]\n",
      "{34, 99, 54, 12, 29} [73]\n",
      "{80, 99, 54, 55, 24} [78]\n",
      "{99, 21, 41, 62, 63} [83]\n",
      "{81, 38, 6, 40, 77} [12]\n",
      "{96, 18, 9, 77, 62} [48]\n",
      "{16, 48, 24, 88, 77} [48]\n",
      "{70, 27, 77, 46, 31} [58]\n",
      "{33, 18, 87, 9, 77} [67]\n",
      "{16, 20, 23, 72, 77} [86]\n",
      "{3, 52, 23, 87, 77} [93]\n",
      "{32, 81, 52, 21, 13} [10]\n",
      "{22, 26, 27, 13, 63} [45]\n",
      "{99, 36, 77, 53, 13} [66]\n",
      "{18, 58, 28, 13, 95} [99]\n",
      "{0, 16, 35, 55, 40} [44]\n",
      "{35, 19, 24, 26, 27} [80]\n",
      "{3, 35, 21, 8, 63} [93]\n",
      "{35, 6, 71, 87, 74} [95]\n",
      "{96, 65, 72, 73, 62} [1]\n",
      "{80, 65, 18, 87, 46} [14]\n",
      "{65, 66, 3, 52, 87} [63]\n",
      "{80, 65, 48, 6, 14} [88]\n",
      "{16, 34, 3, 4, 63} [4]\n",
      "{96, 0, 99, 4, 56} [4]\n",
      "{48, 4, 56, 73, 63} [60]\n",
      "{33, 81, 4, 6, 8} [89]\n",
      "{4, 53, 22, 45, 78} [17]\n",
      "{73, 74, 28, 78, 41} [25]\n",
      "{34, 66, 72, 77, 78} [46]\n",
      "{65, 87, 12, 45, 78} [70]\n",
      "{35, 72, 73, 45, 78} [95]\n",
      "{80, 18, 83, 13, 78} [96]\n",
      "{32, 55, 73, 78, 63} [98]\n",
      "{52, 86, 27, 91, 63} [7]\n",
      "{38, 54, 73, 91, 28} [14]\n",
      "{18, 21, 71, 41, 91} [24]\n",
      "{34, 99, 21, 73, 91} [30]\n",
      "{98, 18, 9, 91, 95} [42]\n",
      "{0, 70, 58, 91, 45} [58]\n",
      "{48, 66, 56, 41, 91} [69]\n",
      "{96, 33, 9, 91, 41} [76]\n",
      "{96, 38, 74, 91, 12} [77]\n",
      "{22, 55, 26, 91, 63} [82]\n",
      "{81, 90, 72, 58, 14} [6]\n",
      "{33, 83, 24, 90, 95} [16]\n",
      "{82, 86, 41, 90, 31} [27]\n",
      "{26, 90, 28, 29, 46} [34]\n",
      "{48, 99, 70, 90, 13} [39]\n",
      "{48, 77, 40, 90, 45} [43]\n",
      "{3, 19, 56, 90, 95} [52]\n",
      "{32, 66, 73, 90, 45} [53]\n",
      "{21, 57, 90, 29, 63} [73]\n",
      "{5, 90, 87, 26, 13} [75]\n",
      "{0, 90, 14, 58, 46} [75]\n",
      "{80, 3, 23, 90, 78} [81]\n",
      "{35, 54, 57, 90, 30} [91]\n",
      "{55, 57, 43, 45, 31} [0]\n",
      "{32, 58, 6, 74, 43} [10]\n",
      "{48, 35, 87, 58, 43} [47]\n",
      "{70, 54, 43, 12, 13} [47]\n",
      "{38, 86, 56, 27, 43} [55]\n",
      "{16, 3, 53, 74, 43} [66]\n",
      "{0, 91, 90, 43, 78} [73]\n",
      "{83, 20, 57, 43, 63} [74]\n",
      "{1, 20, 37, 9, 46} [12]\n",
      "{1, 18, 38, 88, 62} [12]\n",
      "{96, 1, 53, 8, 62} [15]\n",
      "{32, 1, 55, 27, 77} [23]\n",
      "{1, 3, 86, 14, 78} [25]\n",
      "{1, 34, 98, 26, 74} [29]\n",
      "{1, 73, 74, 28, 30} [35]\n",
      "{1, 35, 36, 8, 13} [64]\n",
      "{16, 1, 54, 9, 58} [72]\n",
      "{96, 1, 70, 71, 54} [77]\n",
      "{48, 1, 35, 26, 91} [78]\n",
      "{0, 1, 57, 95, 63} [79]\n",
      "{80, 1, 3, 20, 38} [85]\n",
      "{80, 1, 4, 5, 74} [87]\n",
      "{0, 1, 32, 33, 53} [98]\n",
      "{98, 2, 52, 57, 78} [0]\n",
      "{2, 3, 98, 71, 77} [3]\n",
      "{2, 4, 36, 57, 95} [3]\n",
      "{2, 52, 86, 9, 29} [10]\n",
      "{2, 37, 21, 24, 29} [11]\n",
      "{2, 3, 40, 8, 46} [12]\n",
      "{32, 33, 2, 40, 62} [16]\n",
      "{33, 2, 99, 66, 78} [17]\n",
      "{32, 0, 2, 87, 62} [27]\n",
      "{2, 82, 83, 22, 12} [27]\n",
      "{96, 33, 2, 77, 63} [30]\n",
      "{96, 2, 98, 20, 71} [50]\n",
      "{96, 2, 82, 27, 30} [53]\n",
      "{32, 2, 66, 27, 43} [57]\n",
      "{32, 2, 3, 19, 95} [66]\n",
      "{96, 2, 56, 26, 12} [70]\n",
      "{2, 99, 37, 45, 78} [73]\n",
      "{64, 16, 98, 21, 6} [0]\n",
      "{64, 82, 6, 24, 26} [2]\n",
      "{64, 98, 70, 58, 62} [15]\n",
      "{64, 33, 98, 22, 27} [27]\n",
      "{0, 64, 8, 29, 31} [27]\n",
      "{64, 33, 66, 99, 5} [33]\n",
      "{64, 83, 5, 22, 88} [34]\n",
      "{64, 48, 4, 21, 31} [35]\n",
      "{64, 16, 54, 9, 26} [70]\n",
      "{64, 81, 41, 43, 78} [74]\n",
      "{64, 5, 54, 24, 74} [76]\n",
      "{32, 64, 80, 57, 28} [83]\n",
      "{64, 23, 8, 40, 46} [97]\n",
      "{64, 20, 53, 26, 78} [99]\n",
      "{64, 65, 24, 60, 31} [1]\n",
      "{37, 70, 54, 43, 60} [19]\n",
      "{1, 99, 35, 60, 95} [25]\n",
      "{35, 87, 60, 13, 62} [39]\n",
      "{32, 1, 91, 12, 60} [40]\n",
      "{20, 54, 91, 28, 60} [44]\n",
      "{64, 98, 4, 60, 13} [47]\n",
      "{48, 53, 60, 14, 95} [47]\n",
      "{1, 34, 70, 87, 60} [54]\n",
      "{0, 65, 82, 60, 28} [58]\n",
      "{35, 86, 56, 27, 60} [58]\n",
      "{96, 13, 23, 60, 45} [60]\n",
      "{99, 87, 57, 60, 46} [83]\n",
      "{16, 21, 74, 60, 31} [94]\n",
      "{37, 73, 91, 77, 94} [12]\n",
      "{66, 99, 70, 94, 63} [24]\n",
      "{35, 86, 55, 24, 94} [55]\n",
      "{65, 99, 36, 56, 94} [56]\n",
      "{5, 71, 8, 90, 94} [63]\n",
      "{35, 86, 74, 45, 94} [90]\n",
      "{16, 20, 30, 41, 94} [91]\n",
      "{4, 85, 28, 29, 62} [3]\n",
      "{48, 82, 85, 58, 77} [5]\n",
      "{58, 85, 23, 41, 74} [8]\n",
      "{18, 35, 85, 8, 91} [12]\n",
      "{65, 85, 86, 58, 43} [13]\n",
      "{66, 85, 23, 56, 62} [20]\n",
      "{0, 33, 85, 26, 77} [23]\n",
      "{80, 85, 86, 26, 28} [28]\n",
      "{0, 52, 5, 85, 57} [28]\n",
      "{98, 85, 70, 22, 77} [29]\n",
      "{99, 23, 85, 55, 77} [30]\n",
      "{98, 4, 85, 94, 30} [35]\n",
      "{16, 85, 62, 9, 30} [39]\n",
      "{73, 85, 72, 8, 78} [72]\n",
      "{85, 30, 58, 12, 14} [77]\n",
      "{80, 4, 85, 56, 26} [78]\n",
      "{64, 99, 73, 61, 95} [3]\n",
      "{66, 21, 23, 73, 61} [10]\n",
      "{64, 35, 38, 61, 46} [15]\n",
      "{32, 48, 34, 70, 61} [23]\n",
      "{0, 57, 90, 61, 31} [31]\n",
      "{53, 38, 55, 26, 61} [41]\n",
      "{98, 40, 74, 61, 30} [49]\n",
      "{48, 21, 26, 12, 61} [51]\n",
      "{65, 23, 61, 94, 95} [52]\n",
      "{96, 98, 86, 56, 61} [60]\n",
      "{96, 65, 56, 61, 94} [63]\n",
      "{16, 61, 74, 43, 77} [67]\n",
      "{0, 66, 34, 83, 61} [73]\n",
      "{1, 99, 88, 74, 61} [78]\n",
      "{85, 8, 73, 61, 78} [78]\n",
      "{66, 61, 73, 45, 57} [79]\n",
      "{6, 78, 91, 61, 46} [84]\n",
      "{96, 53, 90, 74, 61} [84]\n",
      "{80, 82, 5, 12, 61} [88]\n",
      "{35, 5, 85, 88, 61} [90]\n",
      "{48, 16, 52, 55, 61} [90]\n",
      "{65, 3, 23, 61, 31} [96]\n",
      "{34, 98, 83, 84, 72} [1]\n",
      "{80, 99, 84, 37, 9} [4]\n",
      "{3, 84, 54, 22, 14} [6]\n",
      "{16, 82, 84, 94, 31} [18]\n",
      "{0, 52, 84, 74, 14} [18]\n",
      "{34, 83, 84, 56, 45} [19]\n",
      "{81, 35, 84, 24, 28} [26]\n",
      "{16, 84, 38, 77, 94} [29]\n",
      "{99, 84, 22, 8, 29} [34]\n",
      "{0, 84, 22, 24, 58} [61]\n",
      "{16, 33, 84, 6, 56} [61]\n",
      "{61, 84, 27, 13, 63} [65]\n",
      "{0, 84, 22, 54, 24} [75]\n",
      "{32, 20, 84, 6, 63} [83]\n",
      "{80, 34, 37, 42, 60} [7]\n",
      "{83, 54, 42, 46, 63} [9]\n",
      "{83, 54, 57, 42, 45} [16]\n",
      "{98, 83, 37, 42, 91} [19]\n",
      "{81, 84, 53, 42, 27} [34]\n",
      "{48, 42, 5, 85, 74} [39]\n",
      "{98, 24, 73, 42, 63} [45]\n",
      "{32, 90, 38, 42, 77} [45]\n",
      "{96, 80, 34, 42, 28} [48]\n",
      "{61, 38, 73, 42, 13} [64]\n",
      "{52, 22, 88, 57, 42} [71]\n",
      "{6, 56, 41, 42, 30} [74]\n",
      "{48, 3, 24, 42, 78} [78]\n",
      "{64, 80, 55, 42, 28} [82]\n",
      "{58, 85, 6, 41, 42} [88]\n",
      "{0, 5, 87, 8, 42} [88]\n",
      "{65, 19, 87, 42, 30} [95]\n",
      "{1, 81, 36, 87, 76} [3]\n",
      "{64, 71, 74, 76, 29} [3]\n",
      "{33, 38, 54, 72, 76} [5]\n",
      "{32, 35, 53, 76, 13} [15]\n",
      "{96, 99, 84, 76, 95} [16]\n",
      "{16, 43, 76, 28, 63} [21]\n",
      "{1, 84, 41, 76, 61} [29]\n",
      "{34, 37, 73, 91, 76} [32]\n",
      "{83, 5, 24, 76, 46} [38]\n",
      "{70, 6, 88, 43, 76} [38]\n",
      "{87, 91, 76, 78, 31} [42]\n",
      "{33, 38, 26, 76, 78} [45]\n",
      "{16, 34, 36, 86, 76} [48]\n",
      "{33, 84, 5, 76, 60} [51]\n",
      "{48, 34, 70, 76, 45} [51]\n",
      "{16, 54, 55, 57, 76} [55]\n",
      "{32, 63, 76, 61, 31} [59]\n",
      "{48, 65, 38, 76, 78} [59]\n",
      "{80, 54, 94, 76, 78} [70]\n",
      "{54, 72, 90, 76, 61} [72]\n",
      "{52, 40, 56, 76, 78} [84]\n",
      "{64, 80, 53, 41, 76} [86]\n",
      "{16, 82, 23, 76, 45} [90]\n",
      "{83, 85, 76, 45, 63} [92]\n",
      "{99, 68, 6, 54, 30} [2]\n",
      "{81, 68, 36, 56, 77} [4]\n",
      "{34, 68, 37, 55, 61} [4]\n",
      "{81, 68, 22, 28, 30} [5]\n",
      "{68, 58, 24, 73, 42} [9]\n",
      "{48, 4, 68, 21, 45} [13]\n",
      "{0, 1, 61, 68, 77} [15]\n",
      "{68, 91, 12, 28, 31} [19]\n",
      "{34, 68, 54, 41, 77} [19]\n",
      "{68, 22, 28, 61, 95} [25]\n",
      "{48, 98, 68, 21, 13} [42]\n",
      "{82, 68, 53, 38, 40} [49]\n",
      "{32, 68, 22, 74, 91} [57]\n",
      "{18, 68, 22, 55, 26} [75]\n",
      "{1, 68, 88, 42, 14} [87]\n",
      "{68, 5, 23, 12, 13} [90]\n",
      "{48, 33, 68, 20, 76} [91]\n",
      "{68, 86, 54, 58, 62} [91]\n",
      "{48, 82, 22, 10, 28} [2]\n",
      "{48, 80, 14, 10, 46} [22]\n",
      "{26, 61, 10, 29, 30} [23]\n",
      "{1, 81, 22, 10, 63} [23]\n",
      "{18, 86, 10, 45, 63} [24]\n",
      "{83, 74, 8, 10, 78} [27]\n",
      "{3, 22, 41, 10, 14} [29]\n",
      "{96, 5, 53, 10, 46} [34]\n",
      "{96, 33, 3, 42, 10} [40]\n",
      "{48, 70, 87, 10, 60} [60]\n",
      "{32, 48, 36, 56, 10} [66]\n",
      "{16, 82, 37, 22, 10} [66]\n",
      "{64, 29, 71, 10, 45} [70]\n",
      "{96, 30, 10, 94, 31} [70]\n",
      "{0, 5, 57, 10, 91} [76]\n",
      "{16, 73, 10, 27, 76} [76]\n",
      "{80, 49, 4, 26, 31} [2]\n",
      "{81, 49, 58, 72, 74} [5]\n",
      "{32, 65, 49, 68, 14} [13]\n",
      "{49, 66, 60, 78, 31} [14]\n",
      "{65, 49, 35, 74, 91} [14]\n",
      "{0, 16, 49, 88, 12} [20]\n",
      "{49, 36, 94, 26, 14} [29]\n",
      "{49, 85, 88, 12, 76} [29]\n",
      "{32, 49, 55, 10, 29} [32]\n",
      "{49, 53, 86, 28, 31} [35]\n",
      "{49, 34, 99, 40, 90} [37]\n",
      "{49, 35, 84, 53, 42} [39]\n",
      "{48, 49, 53, 58, 76} [42]\n",
      "{49, 35, 21, 41, 28} [44]\n",
      "{49, 18, 36, 58, 27} [48]\n",
      "{80, 49, 23, 24, 58} [52]\n",
      "{49, 2, 22, 40, 45} [53]\n",
      "{1, 49, 38, 24, 46} [54]\n",
      "{80, 49, 54, 42, 94} [62]\n",
      "{0, 33, 2, 64, 49} [62]\n",
      "{96, 33, 49, 94, 46} [67]\n",
      "{49, 5, 38, 27, 28} [80]\n",
      "{64, 49, 5, 60, 95} [87]\n",
      "{49, 87, 76, 61, 30} [92]\n",
      "{48, 1, 49, 6, 40} [95]\n",
      "{89, 70, 38, 73, 90} [1]\n",
      "{34, 2, 20, 89, 60} [1]\n",
      "{48, 19, 54, 89, 28} [5]\n",
      "{84, 20, 89, 43, 57} [6]\n",
      "{96, 52, 37, 89, 29} [7]\n",
      "{34, 85, 6, 89, 60} [8]\n",
      "{96, 66, 71, 89, 46} [22]\n",
      "{89, 58, 91, 94, 63} [22]\n",
      "{0, 4, 70, 23, 89} [37]\n",
      "{86, 89, 90, 76, 13} [37]\n",
      "{19, 52, 89, 10, 91} [40]\n",
      "{49, 82, 6, 89, 95} [42]\n",
      "{1, 2, 35, 81, 89} [50]\n",
      "{89, 37, 72, 24, 90} [52]\n",
      "{0, 3, 89, 74, 61} [59]\n",
      "{64, 22, 40, 89, 77} [61]\n",
      "{89, 34, 41, 28, 61} [65]\n",
      "{35, 88, 89, 74, 57} [65]\n",
      "{2, 82, 29, 89, 13} [66]\n",
      "{96, 48, 55, 89, 94} [68]\n",
      "{58, 71, 8, 89, 40} [68]\n",
      "{89, 34, 38, 73, 9} [72]\n",
      "{32, 89, 58, 43, 12} [73]\n",
      "{83, 37, 6, 89, 63} [73]\n",
      "{20, 8, 89, 76, 30} [74]\n",
      "{22, 71, 24, 89, 60} [80]\n",
      "{53, 89, 74, 14, 63} [81]\n",
      "{2, 70, 89, 74, 76} [84]\n",
      "{0, 37, 89, 76, 57} [91]\n",
      "{64, 1, 35, 89, 95} [99]\n",
      "idx = 68,  last_x = 89, called = {0, 1, 2, 3, 4, 5, 6, 8, 9, 10, 12, 13, 14, 16, 18, 19, 20, 21, 22, 23, 24, 26, 27, 28, 29, 30, 31, 32, 33, 34, 35, 36, 37, 38, 40, 41, 42, 43, 45, 46, 48, 49, 52, 53, 54, 55, 56, 57, 58, 60, 61, 62, 63, 64, 65, 66, 68, 70, 71, 72, 73, 74, 76, 77, 78, 80, 81, 82, 83, 84, 85, 86, 87, 88, 89, 90, 91, 94, 95, 96, 98, 99}\n",
      "24742\n"
     ]
    }
   ],
   "source": [
    "with open(\"./2021/day04_input.txt\") as f:\n",
    "    calls, dominos = day04_parse(f.read())\n",
    "    res = day04_part2(calls, dominos)\n",
    "    print(res)"
   ]
  },
  {
   "cell_type": "markdown",
   "metadata": {},
   "source": [
    "## Day 5: いもす法"
   ]
  },
  {
   "cell_type": "code",
   "execution_count": 183,
   "metadata": {},
   "outputs": [],
   "source": [
    "import collections\n",
    "Coord = tuple[int, int]\n",
    "\n",
    "def day05_parse(content: str) -> list[tuple[Coord, Coord]]:\n",
    "    lines = [line.strip().split(\" -> \") for line in content.split(\"\\n\") if line.strip()]\n",
    "    res = []\n",
    "    for from_, to_ in lines:\n",
    "        x1, y1 = map(int, from_.split(\",\"))\n",
    "        x2, y2 = map(int, to_.split(\",\"))\n",
    "        res.append(((x1, y1), (x2, y2)))\n",
    "    return res\n",
    "\n",
    "\n",
    "def day05_part1(pairs: list[tuple[Coord, Coord]]) -> int:\n",
    "    x_ub = max(max(x1, x2) for (x1, _), (x2, _) in pairs)\n",
    "    y_ub = max(max(y1, y2) for (_, y1), (_, y2) in pairs)\n",
    "\n",
    "    grid_v = collections.defaultdict(int)\n",
    "    grid_h = collections.defaultdict(int)\n",
    "    for (x1, y1), (x2, y2) in pairs:\n",
    "        if y1 == y2:\n",
    "            grid_v[min(x1, x2), y1] += 1\n",
    "            grid_v[max(x1, x2) + 1, y2] -= 1\n",
    "        elif x1 == x2:\n",
    "            grid_h[x1, min(y1, y2)] += 1\n",
    "            grid_h[x2, max(y1, y2) + 1] -= 1    \n",
    "\n",
    "    grid = collections.defaultdict(int)\n",
    "    cnt = 0\n",
    "    for i in range(x_ub + 2):\n",
    "        for j in range(y_ub + 2):\n",
    "            grid_v[i, j] += grid_v[i - 1, j]\n",
    "            grid_h[i, j] += grid_h[i, j - 1]\n",
    "            grid[i, j] = grid_v[i, j] + grid_h[i, j]\n",
    "            if grid[i, j] > 1:\n",
    "                cnt += 1\n",
    "    return cnt\n",
    "\n",
    "\n",
    "def day05_display(grid):\n",
    "    x_ub = max(x for (x, _) in grid.keys())\n",
    "    y_ub = max(y for (_, y) in grid.keys())\n",
    "\n",
    "    s = \"\\n\".join(\n",
    "        \" \".join(str(grid[i, j]) for i in range(x_ub + 2))\n",
    "        for j in range(y_ub + 2)\n",
    "    )\n",
    "    \n",
    "    print(s)\n",
    "    print()"
   ]
  },
  {
   "cell_type": "code",
   "execution_count": 184,
   "metadata": {},
   "outputs": [
    {
     "data": {
      "text/plain": [
       "5"
      ]
     },
     "execution_count": 184,
     "metadata": {},
     "output_type": "execute_result"
    }
   ],
   "source": [
    "content = \"\"\"\n",
    "0,9 -> 5,9\n",
    "8,0 -> 0,8\n",
    "9,4 -> 3,4\n",
    "2,2 -> 2,1\n",
    "7,0 -> 7,4\n",
    "6,4 -> 2,0\n",
    "0,9 -> 2,9\n",
    "3,4 -> 1,4\n",
    "0,0 -> 8,8\n",
    "5,5 -> 8,2\n",
    "\"\"\"\n",
    "\n",
    "pairs = day05_parse(content)\n",
    "day05_part1(pairs)"
   ]
  },
  {
   "cell_type": "code",
   "execution_count": 185,
   "metadata": {},
   "outputs": [],
   "source": [
    "import math\n",
    "\n",
    "def day05_part2(pairs: list[tuple[Coord, Coord]], show: bool=False) -> int:\n",
    "    x_ub = max(max(x1, x2) for (x1, _), (x2, _) in pairs)\n",
    "    y_ub = max(max(y1, y2) for (_, y1), (_, y2) in pairs)\n",
    "\n",
    "    grid = collections.defaultdict(int)\n",
    "    for (x1, y1), (x2, y2) in pairs:\n",
    "        d = math.gcd(x2 - x1, y2 - y1)\n",
    "        for i in range(d + 1):\n",
    "            x = x1 + i * (x2 - x1) // d\n",
    "            y = y1 + i * (y2 - y1) // d\n",
    "            grid[x, y] += 1\n",
    "\n",
    "    cnt = 0\n",
    "    for i in range(x_ub + 2):\n",
    "        for j in range(y_ub + 2):\n",
    "            if grid[i, j] > 1:\n",
    "                cnt += 1\n",
    "    \n",
    "    if show:\n",
    "        day05_display(grid)\n",
    "    return cnt\n"
   ]
  },
  {
   "cell_type": "code",
   "execution_count": 186,
   "metadata": {},
   "outputs": [
    {
     "name": "stdout",
     "output_type": "stream",
     "text": [
      "1 0 1 0 0 0 0 1 1 0 0 0\n",
      "0 1 1 1 0 0 0 2 0 0 0 0\n",
      "0 0 2 0 1 0 1 1 1 0 0 0\n",
      "0 0 0 1 0 2 0 2 0 0 0 0\n",
      "0 1 1 2 3 1 3 2 1 1 0 0\n",
      "0 0 0 1 0 2 0 0 0 0 0 0\n",
      "0 0 1 0 0 0 1 0 0 0 0 0\n",
      "0 1 0 0 0 0 0 1 0 0 0 0\n",
      "1 0 0 0 0 0 0 0 1 0 0 0\n",
      "2 2 2 1 1 1 0 0 0 0 0 0\n",
      "0 0 0 0 0 0 0 0 0 0 0 0\n",
      "0 0 0 0 0 0 0 0 0 0 0 0\n",
      "\n"
     ]
    },
    {
     "data": {
      "text/plain": [
       "12"
      ]
     },
     "execution_count": 186,
     "metadata": {},
     "output_type": "execute_result"
    }
   ],
   "source": [
    "content = \"\"\"\n",
    "0,9 -> 5,9\n",
    "8,0 -> 0,8\n",
    "9,4 -> 3,4\n",
    "2,2 -> 2,1\n",
    "7,0 -> 7,4\n",
    "6,4 -> 2,0\n",
    "0,9 -> 2,9\n",
    "3,4 -> 1,4\n",
    "0,0 -> 8,8\n",
    "5,5 -> 8,2\n",
    "\"\"\"\n",
    "\n",
    "pairs = day05_parse(content)\n",
    "day05_part2(pairs, show=True)"
   ]
  },
  {
   "cell_type": "code",
   "execution_count": 182,
   "metadata": {},
   "outputs": [
    {
     "name": "stdout",
     "output_type": "stream",
     "text": [
      "21101\n"
     ]
    }
   ],
   "source": [
    "with open(\"./2021/day05_input.txt\") as f:\n",
    "    pairs = day05_parse(f.read())\n",
    "    res = day05_part2(pairs)\n",
    "    print(res)"
   ]
  },
  {
   "cell_type": "markdown",
   "metadata": {},
   "source": [
    "## Day 6: Lanternfish\n",
    "Let n[t, r] be the number of lanternfish with remainder count r at time t. Consider change in state from (t-1), we have\n",
    "\n",
    "```\n",
    "n[t, 8] = n[t - 1, 0]\n",
    "n[t, 7] = n[t - 1, 8]\n",
    "n[t, 6] = n[t - 1, 7] + n[t - 1, 0]\n",
    "n[t, r] = n[t - 1, r + 1]    (for 0 <= r <= 5)\n",
    "```"
   ]
  },
  {
   "cell_type": "code",
   "execution_count": 35,
   "metadata": {},
   "outputs": [],
   "source": [
    "import collections\n",
    "\n",
    "def day06_f(n: dict[tuple[int, int], int], t: int):\n",
    "    n[t, 8] = n[t - 1, 0]\n",
    "    n[t, 7] = n[t - 1, 8]\n",
    "    n[t, 6] = n[t - 1, 7] + n[t -1, 0]\n",
    "    for i in range(6):\n",
    "        n[t, i] = n[t - 1, i + 1]\n",
    "\n",
    "def day06(xs: list[int], days=80) -> int:\n",
    "    d = collections.defaultdict(int)\n",
    "\n",
    "    counts = collections.Counter(xs)\n",
    "    for r, count in counts.items():\n",
    "        d[0, r] = count\n",
    "    \n",
    "    for t in range(1, days + 1):\n",
    "        day06_f(d, t)\n",
    "    \n",
    "    # for t in range(19):\n",
    "    #     print(f\"{t}: {[d[t, r] for r in range(9)]}\")\n",
    "\n",
    "    res = sum(d[days, r] for r in range(9))\n",
    "    return res"
   ]
  },
  {
   "cell_type": "code",
   "execution_count": 36,
   "metadata": {},
   "outputs": [
    {
     "data": {
      "text/plain": [
       "5934"
      ]
     },
     "execution_count": 36,
     "metadata": {},
     "output_type": "execute_result"
    }
   ],
   "source": [
    "content = \"3,4,3,1,2\"\n",
    "xs = [int(c) for c in content.split(\",\")]\n",
    "day06(xs, 80)"
   ]
  },
  {
   "cell_type": "code",
   "execution_count": 37,
   "metadata": {},
   "outputs": [
    {
     "name": "stdout",
     "output_type": "stream",
     "text": [
      "362740\n"
     ]
    }
   ],
   "source": [
    "with open(\"./2021/day06_input.txt\") as f:\n",
    "    xs = [int(c) for c in f.read().split(\",\")]\n",
    "    res = day06(xs, days=80)\n",
    "    print(res)"
   ]
  },
  {
   "cell_type": "code",
   "execution_count": 38,
   "metadata": {},
   "outputs": [
    {
     "name": "stdout",
     "output_type": "stream",
     "text": [
      "1644874076764\n"
     ]
    }
   ],
   "source": [
    "with open(\"./2021/day06_input.txt\") as f:\n",
    "    xs = [int(c) for c in f.read().split(\",\")]\n",
    "    res = day06(xs, days=256)\n",
    "    print(res)"
   ]
  },
  {
   "cell_type": "markdown",
   "metadata": {},
   "source": [
    "## Day 7: Crab positions\n",
    "\n",
    "In part 1, minimum location p satisfying $\\sum_i |p - x_i|$ is given from the median of $x_i$ (with $i = 0, 1, 2, \\dots$). "
   ]
  },
  {
   "cell_type": "code",
   "execution_count": 44,
   "metadata": {},
   "outputs": [],
   "source": [
    "from typing import Union\n",
    "\n",
    "def day07_median(xs: list[int]) -> int:\n",
    "    \"\"\"Find median of xs. If the number of xs is even, pick smaller one.\"\"\"\n",
    "    n = len(xs)\n",
    "    k = n // 2\n",
    "    xs.sort()\n",
    "    return xs[k]\n",
    "\n",
    "def day07_part1(xs: list[int]) -> Union[int, float]:\n",
    "    \"\"\"Find median of xs\"\"\"\n",
    "    med = day07_median(xs)\n",
    "    res = sum(abs(med - x) for x in xs)\n",
    "    return res"
   ]
  },
  {
   "cell_type": "code",
   "execution_count": 45,
   "metadata": {},
   "outputs": [
    {
     "data": {
      "text/plain": [
       "37"
      ]
     },
     "execution_count": 45,
     "metadata": {},
     "output_type": "execute_result"
    }
   ],
   "source": [
    "xs = [16,1,2,0,4,2,7,1,2,14]\n",
    "day07_part1(xs)"
   ]
  },
  {
   "cell_type": "code",
   "execution_count": 76,
   "metadata": {},
   "outputs": [
    {
     "name": "stdout",
     "output_type": "stream",
     "text": [
      "344735\n"
     ]
    }
   ],
   "source": [
    "with open(\"./2021/day07_input.txt\") as f:\n",
    "    xs = [int(c) for c in f.read().split(\",\")]\n",
    "    res = day07_part1(xs)\n",
    "    print(res)"
   ]
  },
  {
   "cell_type": "markdown",
   "metadata": {},
   "source": [
    "In Part 2, the cost $f(n)$ of $n$ steps is $f(n) = 1 + 2 + ... + n = \\frac{n (n + 1)}{2}$.\n",
    "\n",
    "Find position $p$ minimizing $\\sum_i f(\\lvert p - x_i \\rvert)$, which is to find $p$ minimizing  $\\sum_i \\left[ (p - x_i)^2 + \\lvert p - x_i \\rvert \\right] $. Hence\n",
    "\n",
    "$$\n",
    "\\frac{d f}{d p} = 2 \\sum_i (p - x_i) + \\sum_i \\mathrm{sgn}(p - x_i) = 0\n",
    "$$\n",
    "\n",
    "Assuming the funciton $\\frac{d f}{d p} = 2 N p - \\sum_i x_i + \\sum_i \\mathrm{sgn} (p - x_i)$ is monotonically increasing, find $p$ satisfying $g(p) = 0$ with binary search. \n",
    "\n",
    "Note that the solution of the binary search $p_\\mathrm{sol}$ is an integer satisfying $g(p_\\mathrm{sol}) \\geq 0$. It is possible that $p = (p_\\mathrm{sol} - 1)$ giving the minimum $f(p)$ if the inequality holds."
   ]
  },
  {
   "cell_type": "code",
   "execution_count": 125,
   "metadata": {},
   "outputs": [],
   "source": [
    "import bisect\n",
    "\n",
    "def binary_search(xs):\n",
    "    def is_ok(index):\n",
    "        return day07_dfdp(index, xs) >= 0\n",
    "\n",
    "    ng = -1\n",
    "    ok = 1000000\n",
    "\n",
    "    while abs(ok - ng) > 1:\n",
    "        mid = (ok + ng) // 2\n",
    "        if is_ok(mid):\n",
    "            ok = mid\n",
    "        else:\n",
    "            ng = mid\n",
    "    return ok\n",
    "\n",
    "def day07_sgn_sum(p, xs):\n",
    "    \"\"\"Return sum_i sgn(p - x_i). Assume xs is sorted.\"\"\"\n",
    "    n = len(xs)\n",
    "    idx_left = bisect.bisect_left(xs, p)\n",
    "    idx_right = bisect.bisect_right(xs, p)\n",
    "    # print(f\"{idx_left = }\")\n",
    "    # print(f\"{idx_right = }\")\n",
    "    return  idx_left + idx_right - n\n",
    "\n",
    "def day07_dfdp(p: int, xs: list[int]):\n",
    "    np = len(xs) * p\n",
    "    sum_xs = sum(xs)\n",
    "    sum_sgn = day07_sgn_sum(p, xs)\n",
    "    return 2 * (np - sum_xs) + sum_sgn\n",
    "\n",
    "\n",
    "def day07_cost(p: int, xs: list[int]) -> int:\n",
    "    res = 0\n",
    "    for x in xs:\n",
    "        d = abs(p - x)\n",
    "        res += d * (d + 1) // 2\n",
    "    return res    \n",
    "\n",
    "def day07_part2(xs: list[int]):\n",
    "    xs.sort()\n",
    "    p = binary_search(xs)\n",
    "    res = day07_cost(p, xs)\n",
    "    if (tmp := day07_cost(p - 1, xs)) < res:\n",
    "        res = tmp\n",
    "        p = p - 1\n",
    "    print(f\"{p = }\")\n",
    "\n",
    "    return res"
   ]
  },
  {
   "cell_type": "code",
   "execution_count": 126,
   "metadata": {},
   "outputs": [
    {
     "name": "stdout",
     "output_type": "stream",
     "text": [
      "p = 5\n"
     ]
    },
    {
     "data": {
      "text/plain": [
       "168"
      ]
     },
     "execution_count": 126,
     "metadata": {},
     "output_type": "execute_result"
    }
   ],
   "source": [
    "xs = [16,1,2,0,4,2,7,1,2,14]\n",
    "day07_part2(xs)"
   ]
  },
  {
   "cell_type": "code",
   "execution_count": 127,
   "metadata": {},
   "outputs": [
    {
     "name": "stdout",
     "output_type": "stream",
     "text": [
      "p = 474\n",
      "96798233\n"
     ]
    }
   ],
   "source": [
    "with open(\"./2021/day07_input.txt\") as f:\n",
    "    xs = [int(c) for c in f.read().split(\",\")]\n",
    "    res = day07_part2(xs)\n",
    "    print(res)"
   ]
  },
  {
   "cell_type": "markdown",
   "metadata": {},
   "source": [
    "## Day 8: Seven-segment digit display\n",
    "\n",
    "```\n",
    "0: abcefg  (6 segments ON)\n",
    "1: cf      (2 segments ON)      \n",
    "2: acdeg   (5 segments ON)      \n",
    "3: acdfg   (5 segments ON)      \n",
    "4: bcdf    (4 segments ON)      \n",
    "5: abdfg   (5 segments ON)      \n",
    "6: abdefg  (6 segments ON)      \n",
    "7: acf     (3 segments ON)      \n",
    "8: abcdefg (7 segments ON)      \n",
    "9: abcdfg  (6 segments ON)      \n",
    "```\n",
    "\n",
    "* Find 1, 4, 7, 8 from their unique length, respectively.\n",
    "* 6 is identified as having length 6 AND not containing digit 1 representation.\n",
    "* 9 is identified as the only item containing 4 (bcdf) AND length 6.\n",
    "* 0 is identified from the rest of string of length 6.\n",
    "\n",
    "* 'e' is found from difference of 9 and 8.\n",
    "* 2 is identified as the only the item with length 5 and containing 'e'.\n",
    "* 5 is identified as the set difference 6 - {'e'}.\n",
    "* 3 is identified as the rest of the entry with length 5.\n"
   ]
  },
  {
   "cell_type": "code",
   "execution_count": 64,
   "metadata": {},
   "outputs": [],
   "source": [
    "import itertools\n",
    "import collections\n",
    "\n",
    "def day08_parse(content: str) -> list[tuple[list[str], list[str]]]:\n",
    "    pairs = [line.strip().split(\" | \") for line in content.split(\"\\n\") if line.strip()]\n",
    "    res = [(first.split(), second.split()) for first, second in pairs]\n",
    "    return res\n",
    "\n",
    "def day08_count(entries: list[tuple[list[str], list[str]]]) -> int:\n",
    "    def is_1_4_7_8(s: str) -> bool:\n",
    "        return len(s) in [2, 3, 4, 7]\n",
    "\n",
    "    iterable = itertools.chain.from_iterable(b for (_, b) in entries)\n",
    "    return sum(1 for s in iterable if is_1_4_7_8(s))\n",
    "\n",
    "\n",
    "def day08_decode(training: list[str], inference: list[str]) -> int:\n",
    "    xs = [frozenset(x) for x in training]\n",
    "    assert collections.Counter(map(len, xs)) == collections.Counter({2: 1, 3: 1, 4: 1, 7: 1, 5: 3, 6: 3})\n",
    "    \n",
    "    d = dict()  # representation of digits\n",
    "    d[1] = next(x for x in xs if len(x) == 2)\n",
    "    d[4] = next(x for x in xs if len(x) == 4)\n",
    "    d[7] = next(x for x in xs if len(x) == 3)\n",
    "    d[8] = next(x for x in xs if len(x) == 7)\n",
    "\n",
    "    d[6] = next(x for x in xs if len(x) == 6 and (not d[1] < x))\n",
    "    d[9] = next(x for x in xs if len(x) == 6 and d[4] < x)\n",
    "    d[0] = next(x for x in xs if len(x) == 6 and x not in (d[6], d[9]))\n",
    "\n",
    "    diff = d[8] - d[9]\n",
    "    assert len(diff) == 1\n",
    "    letter_e = next(iter(diff))\n",
    "\n",
    "    d[2] = next(x for x in xs if len(x) == 5 and letter_e in x)\n",
    "    d[5] = next(x for x in xs if x == (d[6] - {letter_e}))\n",
    "    d[3] = next(x for x in xs if len(x) == 5 and x not in (d[2], d[5]))\n",
    "\n",
    "    inv_dict = {d[i]: str(i) for i in range(10)}\n",
    "    digits = \"\".join(inv_dict[frozenset(x)] for x in inference)\n",
    "    return int(digits)\n",
    "\n",
    "\n",
    "def day08(content: str) -> int:\n",
    "    entries = day08_parse(content)\n",
    "    res = sum(day08_decode(training, inference) for training, inference in entries)\n",
    "    return res\n",
    "\n"
   ]
  },
  {
   "cell_type": "code",
   "execution_count": 65,
   "metadata": {},
   "outputs": [
    {
     "name": "stdout",
     "output_type": "stream",
     "text": [
      "26\n"
     ]
    }
   ],
   "source": [
    "s = \"\"\"\n",
    "be cfbegad cbdgef fgaecd cgeb fdcge agebfd fecdb fabcd edb | fdgacbe cefdb cefbgd gcbe\n",
    "edbfga begcd cbg gc gcadebf fbgde acbgfd abcde gfcbed gfec | fcgedb cgb dgebacf gc\n",
    "fgaebd cg bdaec gdafb agbcfd gdcbef bgcad gfac gcb cdgabef | cg cg fdcagb cbg\n",
    "fbegcd cbd adcefb dageb afcb bc aefdc ecdab fgdeca fcdbega | efabcd cedba gadfec cb\n",
    "aecbfdg fbg gf bafeg dbefa fcge gcbea fcaegb dgceab fcbdga | gecf egdcabf bgf bfgea\n",
    "fgeab ca afcebg bdacfeg cfaedg gcfdb baec bfadeg bafgc acf | gebdcfa ecba ca fadegcb\n",
    "dbcfg fgd bdegcaf fgec aegbdf ecdfab fbedc dacgb gdcebf gf | cefg dcbef fcge gbcadfe\n",
    "bdfegc cbegaf gecbf dfcage bdacg ed bedf ced adcbefg gebcd | ed bcgafe cdgba cbgef\n",
    "egadfb cdbfeg cegd fecab cgb gbdefca cg fgcdab egfdb bfceg | gbdfcae bgc cg cgb\n",
    "gcafb gcf dcaebfg ecagb gf abcdeg gaef cafbge fdbac fegbdc | fgae cfgab fg bagce\n",
    "\"\"\"\n",
    "entries = day08_parse(s)\n",
    "res = day08_count(entries)\n",
    "print(res)"
   ]
  },
  {
   "cell_type": "code",
   "execution_count": 66,
   "metadata": {},
   "outputs": [
    {
     "data": {
      "text/plain": [
       "495"
      ]
     },
     "execution_count": 66,
     "metadata": {},
     "output_type": "execute_result"
    }
   ],
   "source": [
    "with open(\"./2021/day08_input.txt\") as f:\n",
    "    entries = day08_parse(f.read())\n",
    "    res = day08_count(entries)\n",
    "res"
   ]
  },
  {
   "cell_type": "code",
   "execution_count": 67,
   "metadata": {},
   "outputs": [
    {
     "data": {
      "text/plain": [
       "5353"
      ]
     },
     "execution_count": 67,
     "metadata": {},
     "output_type": "execute_result"
    }
   ],
   "source": [
    "training = \"acedgfb cdfbe gcdfa fbcad dab cefabd cdfgeb eafb cagedb ab\".split()\n",
    "inference = \"cdfeb fcadb cdfeb cdbaf\".split()\n",
    "day08_decode(training, inference)"
   ]
  },
  {
   "cell_type": "code",
   "execution_count": 68,
   "metadata": {},
   "outputs": [
    {
     "data": {
      "text/plain": [
       "1055164"
      ]
     },
     "execution_count": 68,
     "metadata": {},
     "output_type": "execute_result"
    }
   ],
   "source": [
    "with open(\"./2021/day08_input.txt\") as f:\n",
    "    res = day08(f.read())\n",
    "res"
   ]
  },
  {
   "cell_type": "markdown",
   "metadata": {},
   "source": [
    "## Day 9: Heatmap\n",
    "\n",
    "In part 1, you find local minima scanning 3x3 blocks. One may look at 2x3 blocks at the edges, and 2x2 block at the corners. Or we can do convolution calculation with 1-padding with max cell values, say 9.\n",
    "\n",
    "In part 2, you find basins defined by contiguous cells NOT equal to 9. Find the three largest basins and get their sum. It can be done with breath-first or depth-first search."
   ]
  },
  {
   "cell_type": "code",
   "execution_count": 151,
   "metadata": {},
   "outputs": [],
   "source": [
    "import numpy as np\n",
    "import numpy.typing as npt\n",
    "\n",
    "def day09_parse(content: str) -> npt.NDArray[np.int_]:\n",
    "    raw = np.array([\n",
    "        np.array(list(line.strip()), dtype=int) for line in content.split(\"\\n\") if line.strip()\n",
    "    ])\n",
    "    res = np.pad(raw, 1, 'constant', constant_values=9)\n",
    "    return res\n",
    "\n",
    "def day09_part1(grid: npt.NDArray[np.int_]) -> tuple[int, list[tuple[int, int]]]:\n",
    "\n",
    "    def is_lowest(block: npt.NDArray[np.int_]) -> bool:\n",
    "        assert (3, 3) == block.shape\n",
    "        surrounding = min(block[0].min(), block[2].min(), block[1, 0], block[1, 2])\n",
    "        center = block[1, 1]\n",
    "        return center < surrounding\n",
    "\n",
    "    m, n = grid.shape\n",
    "    m -= 2  # exclude pads\n",
    "    n -= 2  # exclude pads\n",
    "\n",
    "    risk_level = 0\n",
    "    local_minima = []\n",
    "    for i in range(1, m + 1):\n",
    "        for j in range(1, n + 1):\n",
    "            block = grid[i - 1: i + 2, j - 1: j + 2]\n",
    "            if is_lowest(block):\n",
    "                risk_level += grid[i, j] + 1\n",
    "                local_minima.append((i, j))\n",
    "    return risk_level, local_minima\n",
    "\n",
    "\n",
    "def day09_basin(grid: npt.NDArray[np.int_], start: tuple[int, int]) -> int:\n",
    "    seen = set()\n",
    "    stack = [start]\n",
    "    i_ub, j_ub = grid.shape\n",
    "\n",
    "    # print(f\"start with {stack = }\")\n",
    "\n",
    "    while stack:\n",
    "        cell = stack.pop()\n",
    "        if cell in seen:\n",
    "            continue\n",
    "        seen.add(cell)\n",
    "\n",
    "        (i, j) = cell\n",
    "        candidates = [(i - 1, j), (i + 1, j), (i, j - 1), (i, j + 1)]\n",
    "        for (i_next, j_next) in candidates:\n",
    "             if (0 <= i_next < i_ub) and (0 <= j_next < j_ub) and grid[i_next, j_next] < 9:\n",
    "                 stack.append((i_next, j_next))\n",
    "\n",
    "    # print(f\"{seen = },    {len(seen) = }\")\n",
    "    return len(seen)\n",
    "\n",
    "\n",
    "def day09_part2(grid: npt.NDArray[np.int_]) -> int:\n",
    "    _, local_minima = day09_part1(grid)\n",
    "    basin_sizes = [day09_basin(grid, start) for start in local_minima]\n",
    "    basin_sizes.sort(reverse=True)\n",
    "    print(f\"{basin_sizes = }\")\n",
    "    return np.prod(basin_sizes[:3])\n"
   ]
  },
  {
   "cell_type": "code",
   "execution_count": 152,
   "metadata": {},
   "outputs": [
    {
     "data": {
      "text/plain": [
       "15"
      ]
     },
     "execution_count": 152,
     "metadata": {},
     "output_type": "execute_result"
    }
   ],
   "source": [
    "s = \"\"\"\n",
    "2199943210\n",
    "3987894921\n",
    "9856789892\n",
    "8767896789\n",
    "9899965678\n",
    "\"\"\"\n",
    "grid = day09_parse(s)\n",
    "res, _ = day09_part1(grid)\n",
    "res"
   ]
  },
  {
   "cell_type": "code",
   "execution_count": 153,
   "metadata": {},
   "outputs": [
    {
     "data": {
      "text/plain": [
       "522"
      ]
     },
     "execution_count": 153,
     "metadata": {},
     "output_type": "execute_result"
    }
   ],
   "source": [
    "with open(\"./2021/day09_input.txt\") as f:\n",
    "    grid = day09_parse(f.read())\n",
    "    res, _ = day09_part1(grid)\n",
    "\n",
    "res"
   ]
  },
  {
   "cell_type": "code",
   "execution_count": 154,
   "metadata": {},
   "outputs": [
    {
     "name": "stdout",
     "output_type": "stream",
     "text": [
      "basin_sizes = [14, 9, 9, 3]\n"
     ]
    },
    {
     "data": {
      "text/plain": [
       "1134"
      ]
     },
     "execution_count": 154,
     "metadata": {},
     "output_type": "execute_result"
    }
   ],
   "source": [
    "s = \"\"\"\n",
    "2199943210\n",
    "3987894921\n",
    "9856789892\n",
    "8767896789\n",
    "9899965678\n",
    "\"\"\"\n",
    "grid = day09_parse(s)\n",
    "res = day09_part2(grid)\n",
    "res"
   ]
  },
  {
   "cell_type": "code",
   "execution_count": 157,
   "metadata": {},
   "outputs": [
    {
     "name": "stdout",
     "output_type": "stream",
     "text": [
      "basin_sizes = [106, 94, 92, 91, 90, 90, 89, 88, 87, 87, 85, 82, 82, 81, 79, 77, 76, 76, 75, 75, 72, 71, 70, 70, 69, 69, 69, 68, 67, 67, 67, 66, 64, 63, 62, 62, 62, 62, 60, 60, 59, 58, 58, 58, 57, 57, 56, 56, 56, 55, 55, 53, 51, 50, 50, 50, 50, 49, 49, 48, 47, 47, 47, 47, 47, 46, 46, 46, 45, 45, 44, 44, 44, 44, 43, 42, 42, 41, 41, 39, 39, 39, 38, 38, 37, 37, 36, 35, 35, 35, 34, 34, 33, 33, 33, 32, 31, 30, 30, 30, 30, 29, 29, 29, 28, 28, 27, 27, 27, 26, 26, 25, 24, 24, 24, 23, 23, 23, 23, 23, 22, 22, 22, 22, 22, 22, 21, 21, 20, 19, 19, 19, 19, 18, 18, 18, 18, 17, 17, 17, 17, 17, 16, 16, 16, 15, 15, 15, 15, 15, 14, 14, 14, 14, 13, 13, 12, 12, 11, 11, 11, 11, 11, 11, 10, 10, 10, 10, 10, 10, 10, 9, 9, 9, 9, 8, 8, 8, 8, 8, 8, 8, 8, 7, 7, 7, 7, 7, 6, 6, 6, 6, 5, 5, 5, 5, 5, 5, 4, 4, 4, 4, 4, 4, 4, 4, 4, 4, 4, 3, 3, 3, 3, 3, 2, 2, 2, 2, 2, 2, 2, 2, 2, 2, 2, 2, 2, 2]\n"
     ]
    },
    {
     "data": {
      "text/plain": [
       "916688"
      ]
     },
     "execution_count": 157,
     "metadata": {},
     "output_type": "execute_result"
    }
   ],
   "source": [
    "with open(\"./2021/day09_input.txt\") as f:\n",
    "    grid = day09_parse(f.read())\n",
    "    res = day09_part2(grid)\n",
    "\n",
    "res"
   ]
  },
  {
   "cell_type": "markdown",
   "metadata": {},
   "source": [
    "## Day 10: Brackets\n",
    "\n",
    "Use stack to check matching brackets."
   ]
  },
  {
   "cell_type": "code",
   "execution_count": 11,
   "metadata": {},
   "outputs": [],
   "source": [
    "def day10_corrupted(s: str) -> int:\n",
    "    opening = \"([{<\"\n",
    "    closing = \")]}>\"\n",
    "    matching = dict(zip(opening, closing))\n",
    "    points = {')': 3, ']': 57, '}': 1197, '>': 25137}\n",
    "    stack = []\n",
    "\n",
    "\n",
    "    for c in s:\n",
    "        if c in opening:\n",
    "            stack.append(c)\n",
    "        else:\n",
    "            assert stack\n",
    "            latest = stack.pop()\n",
    "            if c != matching[latest]:\n",
    "                return points[c]\n",
    "    return 0\n",
    "    "
   ]
  },
  {
   "cell_type": "code",
   "execution_count": 12,
   "metadata": {},
   "outputs": [
    {
     "data": {
      "text/plain": [
       "26397"
      ]
     },
     "execution_count": 12,
     "metadata": {},
     "output_type": "execute_result"
    }
   ],
   "source": [
    "s = \"\"\"\n",
    "[({(<(())[]>[[{[]{<()<>>\n",
    "[(()[<>])]({[<{<<[]>>(\n",
    "{([(<{}[<>[]}>{[]{[(<()>\n",
    "(((({<>}<{<{<>}{[]{[]{}\n",
    "[[<[([]))<([[{}[[()]]]\n",
    "[{[{({}]{}}([{[{{{}}([]\n",
    "{<[[]]>}<{[{[{[]{()[[[]\n",
    "[<(<(<(<{}))><([]([]()\n",
    "<{([([[(<>()){}]>(<<{{\n",
    "<{([{{}}[<[[[<>{}]]]>[]]\n",
    "\"\"\"\n",
    "\n",
    "xs = [line.strip() for line in s.split(\"\\n\") if line.strip()]\n",
    "sum(day10_corrupted(x) for x in xs)"
   ]
  },
  {
   "cell_type": "code",
   "execution_count": 13,
   "metadata": {},
   "outputs": [
    {
     "data": {
      "text/plain": [
       "394647"
      ]
     },
     "execution_count": 13,
     "metadata": {},
     "output_type": "execute_result"
    }
   ],
   "source": [
    "with open(\"./2021/day10_input.txt\") as f:\n",
    "    xs = [line.strip() for line in f.readlines() if line.strip()]\n",
    "    res = sum(day10_corrupted(x) for x in xs)\n",
    "res"
   ]
  },
  {
   "cell_type": "code",
   "execution_count": 14,
   "metadata": {},
   "outputs": [],
   "source": [
    "import functools\n",
    "\n",
    "def day10_incomplete(s: str) -> int:\n",
    "    opening = \"([{<\"\n",
    "    closing = \")]}>\"\n",
    "    matching = dict(zip(opening, closing))\n",
    "    stack = []\n",
    "\n",
    "    for c in s:\n",
    "        if c in opening:\n",
    "            stack.append(c)\n",
    "        else:\n",
    "            assert stack\n",
    "            latest = stack.pop()\n",
    "            assert c == matching[latest]\n",
    "    \n",
    "\n",
    "    point = {')': 1, ']': 2, '}': 3, '>': 4}\n",
    "    missing = [matching[x] for x in reversed(stack)]\n",
    "    res = functools.reduce(lambda acc, x: acc * 5 + point[x], missing, 0)\n",
    "    return res\n",
    "\n",
    "\n",
    "def day10_part2(s: str) -> int:\n",
    "    xs = [line.strip() for line in s.split(\"\\n\") if line.strip()]\n",
    "    xs = [x for x in xs if day10_corrupted(x) == 0]\n",
    "    points = [day10_incomplete(x) for x in xs]\n",
    "    k = len(points) // 2\n",
    "    points.sort()\n",
    "    return points[k]\n"
   ]
  },
  {
   "cell_type": "code",
   "execution_count": 15,
   "metadata": {},
   "outputs": [
    {
     "data": {
      "text/plain": [
       "288957"
      ]
     },
     "execution_count": 15,
     "metadata": {},
     "output_type": "execute_result"
    }
   ],
   "source": [
    "s = \"\"\"\n",
    "[({(<(())[]>[[{[]{<()<>>\n",
    "[(()[<>])]({[<{<<[]>>(\n",
    "{([(<{}[<>[]}>{[]{[(<()>\n",
    "(((({<>}<{<{<>}{[]{[]{}\n",
    "[[<[([]))<([[{}[[()]]]\n",
    "[{[{({}]{}}([{[{{{}}([]\n",
    "{<[[]]>}<{[{[{[]{()[[[]\n",
    "[<(<(<(<{}))><([]([]()\n",
    "<{([([[(<>()){}]>(<<{{\n",
    "<{([{{}}[<[[[<>{}]]]>[]]\n",
    "\"\"\"\n",
    "\n",
    "day10_part2(s)"
   ]
  },
  {
   "cell_type": "code",
   "execution_count": 16,
   "metadata": {},
   "outputs": [
    {
     "data": {
      "text/plain": [
       "2380061249"
      ]
     },
     "execution_count": 16,
     "metadata": {},
     "output_type": "execute_result"
    }
   ],
   "source": [
    "with open(\"./2021/day10_input.txt\") as f:\n",
    "    res = day10_part2(f.read())\n",
    "res"
   ]
  },
  {
   "cell_type": "markdown",
   "metadata": {},
   "source": [
    "## Day 11: Flashes in 2-D grid\n",
    "\n",
    "[TIL] `indexing=\"ij\"` option in `np.meshgrid` makes its behavior sane though it becomes incompatible with Matlab."
   ]
  },
  {
   "cell_type": "code",
   "execution_count": 93,
   "metadata": {},
   "outputs": [],
   "source": [
    "import numpy as np\n",
    "import numpy.typing as npt\n",
    "\n",
    "Grid = npt.NDArray[np.int_]\n",
    "# PADVAL = np.iinfo(np.int64).min\n",
    "PADVAL = -1000000\n",
    "\n",
    "def day11_parse(s: str) -> Grid:\n",
    "    grid = np.array([list(line.strip()) for line in s.split(\"\\n\") if line.strip()], dtype=int)\n",
    "    grid = np.pad(grid, 1, 'constant', constant_values=PADVAL)\n",
    "    return grid\n",
    "\n",
    "\n",
    "def day11_update(grid: Grid):\n",
    "    m, n = grid.shape\n",
    "    i_idx, j_idx = np.meshgrid(range(m), range(n), indexing=\"ij\")\n",
    "    seen = np.full_like(grid, False, dtype=bool)\n",
    "    grid += 1\n",
    "\n",
    "    while (cond := (grid > 9) & np.logical_not(seen)).any():\n",
    "        seen |= cond\n",
    "        ij_pairs = np.stack([i_idx[cond], j_idx[cond]], axis=1)\n",
    "        for i, j in ij_pairs:\n",
    "            for delta_i in (-1, 0, 1):\n",
    "                for delta_j in (-1, 0, 1):\n",
    "                    grid[i + delta_i, j + delta_j] += 1\n",
    "    \n",
    "    grid[grid > 9] = 0\n",
    "    sparked = np.sum(grid == 0)\n",
    "\n",
    "    return sparked\n",
    "\n",
    "\n",
    "def day11_display(grid: Grid):\n",
    "    mat = grid[1:-1, 1:-1]\n",
    "    s = \"\\n\".join(\" \".join(map(str, xs)) for xs in mat)\n",
    "    print()\n",
    "    print(s)\n",
    "\n",
    "\n",
    "def day11_part1(s: str) -> int:\n",
    "    grid = day11_parse(s)\n",
    "    sparks = sum(day11_update(grid) for _ in range(100))\n",
    "    return sparks\n",
    "\n",
    "\n",
    "def day11_part2(s: str) -> int:\n",
    "    grid = day11_parse(s)\n",
    "    m, n = grid.shape\n",
    "    m -= 2  # remove padding\n",
    "    n -= 2  # remove padding\n",
    "    t = 0\n",
    "    while True:\n",
    "        t += 1\n",
    "        spark = day11_update(grid)\n",
    "        if spark == m * n:\n",
    "            break\n",
    "    return t"
   ]
  },
  {
   "cell_type": "code",
   "execution_count": 96,
   "metadata": {},
   "outputs": [
    {
     "name": "stdout",
     "output_type": "stream",
     "text": [
      "\n",
      "1 1 1 1 1\n",
      "1 9 9 9 1\n",
      "1 9 1 9 1\n",
      "1 9 9 9 1\n",
      "1 1 1 1 1\n",
      "\n",
      "3 4 5 4 3\n",
      "4 0 0 0 4\n",
      "5 0 0 0 5\n",
      "4 0 0 0 4\n",
      "3 4 5 4 3\n",
      "\n",
      "4 5 6 5 4\n",
      "5 1 1 1 5\n",
      "6 1 1 1 6\n",
      "5 1 1 1 5\n",
      "4 5 6 5 4\n"
     ]
    }
   ],
   "source": [
    "s = \"\"\"\n",
    "11111\n",
    "19991\n",
    "19191\n",
    "19991\n",
    "11111\n",
    "\"\"\"\n",
    "\n",
    "grid = day11_parse(s)\n",
    "day11_display(grid)\n",
    "\n",
    "day11_update(grid)\n",
    "day11_display(grid)\n",
    "\n",
    "day11_update(grid)\n",
    "day11_display(grid)\n"
   ]
  },
  {
   "cell_type": "code",
   "execution_count": 97,
   "metadata": {},
   "outputs": [
    {
     "name": "stdout",
     "output_type": "stream",
     "text": [
      "\n",
      "5 4 8 3 1 4 3 2 2 3\n",
      "2 7 4 5 8 5 4 7 1 1\n",
      "5 2 6 4 5 5 6 1 7 3\n",
      "6 1 4 1 3 3 6 1 4 6\n",
      "6 3 5 7 3 8 5 4 7 8\n",
      "4 1 6 7 5 2 4 6 4 5\n",
      "2 1 7 6 8 4 1 7 2 1\n",
      "6 8 8 2 8 8 1 1 3 4\n",
      "4 8 4 6 8 4 8 5 5 4\n",
      "5 2 8 3 7 5 1 5 2 6\n",
      "\n",
      "6 5 9 4 2 5 4 3 3 4\n",
      "3 8 5 6 9 6 5 8 2 2\n",
      "6 3 7 5 6 6 7 2 8 4\n",
      "7 2 5 2 4 4 7 2 5 7\n",
      "7 4 6 8 4 9 6 5 8 9\n",
      "5 2 7 8 6 3 5 7 5 6\n",
      "3 2 8 7 9 5 2 8 3 2\n",
      "7 9 9 3 9 9 2 2 4 5\n",
      "5 9 5 7 9 5 9 6 6 5\n",
      "6 3 9 4 8 6 2 6 3 7\n",
      "\n",
      "8 8 0 7 4 7 6 5 5 5\n",
      "5 0 8 9 0 8 7 0 5 4\n",
      "8 5 9 7 8 8 9 6 0 8\n",
      "8 4 8 5 7 6 9 6 0 0\n",
      "8 7 0 0 9 0 8 8 0 0\n",
      "6 6 0 0 0 8 8 9 8 9\n",
      "6 8 0 0 0 0 5 9 4 3\n",
      "0 0 0 0 0 0 7 4 5 6\n",
      "9 0 0 0 0 0 0 8 7 6\n",
      "8 7 0 0 0 0 6 8 4 8\n"
     ]
    }
   ],
   "source": [
    "s = \"\"\"\n",
    "5483143223\n",
    "2745854711\n",
    "5264556173\n",
    "6141336146\n",
    "6357385478\n",
    "4167524645\n",
    "2176841721\n",
    "6882881134\n",
    "4846848554\n",
    "5283751526\n",
    "\"\"\"\n",
    "\n",
    "grid = day11_parse(s)\n",
    "day11_display(grid)\n",
    "\n",
    "day11_update(grid)\n",
    "day11_display(grid)\n",
    "\n",
    "day11_update(grid)\n",
    "day11_display(grid)"
   ]
  },
  {
   "cell_type": "code",
   "execution_count": 98,
   "metadata": {},
   "outputs": [
    {
     "data": {
      "text/plain": [
       "1656"
      ]
     },
     "execution_count": 98,
     "metadata": {},
     "output_type": "execute_result"
    }
   ],
   "source": [
    "s = \"\"\"\n",
    "5483143223\n",
    "2745854711\n",
    "5264556173\n",
    "6141336146\n",
    "6357385478\n",
    "4167524645\n",
    "2176841721\n",
    "6882881134\n",
    "4846848554\n",
    "5283751526\n",
    "\"\"\"\n",
    "\n",
    "day11_part1(s)"
   ]
  },
  {
   "cell_type": "code",
   "execution_count": 99,
   "metadata": {},
   "outputs": [
    {
     "data": {
      "text/plain": [
       "1661"
      ]
     },
     "execution_count": 99,
     "metadata": {},
     "output_type": "execute_result"
    }
   ],
   "source": [
    "with open(\"./2021/day11_input.txt\") as f:\n",
    "    res = day11_part1(f.read())\n",
    "res"
   ]
  },
  {
   "cell_type": "code",
   "execution_count": 100,
   "metadata": {},
   "outputs": [
    {
     "data": {
      "text/plain": [
       "195"
      ]
     },
     "execution_count": 100,
     "metadata": {},
     "output_type": "execute_result"
    }
   ],
   "source": [
    "s = \"\"\"\n",
    "5483143223\n",
    "2745854711\n",
    "5264556173\n",
    "6141336146\n",
    "6357385478\n",
    "4167524645\n",
    "2176841721\n",
    "6882881134\n",
    "4846848554\n",
    "5283751526\n",
    "\"\"\"\n",
    "\n",
    "day11_part2(s)"
   ]
  },
  {
   "cell_type": "code",
   "execution_count": 101,
   "metadata": {},
   "outputs": [
    {
     "data": {
      "text/plain": [
       "334"
      ]
     },
     "execution_count": 101,
     "metadata": {},
     "output_type": "execute_result"
    }
   ],
   "source": [
    "with open(\"./2021/day11_input.txt\") as f:\n",
    "    res = day11_part2(f.read())\n",
    "res"
   ]
  },
  {
   "cell_type": "markdown",
   "metadata": {},
   "source": [
    "## Day 12: Finding paths"
   ]
  },
  {
   "cell_type": "code",
   "execution_count": 9,
   "metadata": {},
   "outputs": [],
   "source": [
    "import collections\n",
    "import itertools\n",
    "\n",
    "AdjList = dict[str, list[str]]\n",
    "\n",
    "def day12_parse(s: str) -> AdjList:\n",
    "    d = collections.defaultdict(list)\n",
    "    pairs = [line.strip().split(\"-\") for line in s.split(\"\\n\") if line.strip()]\n",
    "    for a, b in pairs:\n",
    "        d[a].append(b)\n",
    "        d[b].append(a)\n",
    "    return dict(d)\n",
    "\n",
    "\n",
    "def day12_part1(s: str) -> int:\n",
    "    adj = day12_parse(s)\n",
    "\n",
    "    def is_smallcave(ss: str):\n",
    "        return ss != 'start' and ss != 'end' and ss.islower()\n",
    "\n",
    "    traj = ('start', )\n",
    "    stack = [traj]\n",
    "    results = set()\n",
    "\n",
    "    while stack:\n",
    "        traj = stack.pop()\n",
    "        curr = traj[-1]\n",
    "        if curr == 'end':\n",
    "            results.add(traj)\n",
    "            continue\n",
    "\n",
    "        for x in adj[curr]:\n",
    "            if x == 'start' or (is_smallcave(x) and (x in traj)):\n",
    "                continue\n",
    "            next_traj = tuple(itertools.chain(traj, [x]))\n",
    "            stack.append(next_traj)\n",
    "\n",
    "    # print(f\"{results = }\")\n",
    "    return len(results)\n",
    "\n"
   ]
  },
  {
   "cell_type": "code",
   "execution_count": 10,
   "metadata": {},
   "outputs": [
    {
     "data": {
      "text/plain": [
       "10"
      ]
     },
     "execution_count": 10,
     "metadata": {},
     "output_type": "execute_result"
    }
   ],
   "source": [
    "s = \"\"\"\n",
    "start-A\n",
    "start-b\n",
    "A-c\n",
    "A-b\n",
    "b-d\n",
    "A-end\n",
    "b-end\n",
    "\"\"\"\n",
    "day12_part1(s)"
   ]
  },
  {
   "cell_type": "code",
   "execution_count": 11,
   "metadata": {},
   "outputs": [
    {
     "data": {
      "text/plain": [
       "19"
      ]
     },
     "execution_count": 11,
     "metadata": {},
     "output_type": "execute_result"
    }
   ],
   "source": [
    "s = \"\"\"\n",
    "dc-end\n",
    "HN-start\n",
    "start-kj\n",
    "dc-start\n",
    "dc-HN\n",
    "LN-dc\n",
    "HN-end\n",
    "kj-sa\n",
    "kj-HN\n",
    "kj-dc\n",
    "\"\"\"\n",
    "day12_part1(s)"
   ]
  },
  {
   "cell_type": "code",
   "execution_count": 13,
   "metadata": {},
   "outputs": [
    {
     "data": {
      "text/plain": [
       "226"
      ]
     },
     "execution_count": 13,
     "metadata": {},
     "output_type": "execute_result"
    }
   ],
   "source": [
    "s = \"\"\"\n",
    "fs-end\n",
    "he-DX\n",
    "fs-he\n",
    "start-DX\n",
    "pj-DX\n",
    "end-zg\n",
    "zg-sl\n",
    "zg-pj\n",
    "pj-he\n",
    "RW-he\n",
    "fs-DX\n",
    "pj-RW\n",
    "zg-RW\n",
    "start-pj\n",
    "he-WI\n",
    "zg-he\n",
    "pj-fs\n",
    "start-RW\n",
    "\"\"\"\n",
    "day12_part1(s)"
   ]
  },
  {
   "cell_type": "code",
   "execution_count": 14,
   "metadata": {},
   "outputs": [
    {
     "data": {
      "text/plain": [
       "3887"
      ]
     },
     "execution_count": 14,
     "metadata": {},
     "output_type": "execute_result"
    }
   ],
   "source": [
    "with open(\"./2021/day12_input.txt\") as f:\n",
    "    res = day12_part1(f.read())\n",
    "res"
   ]
  },
  {
   "cell_type": "code",
   "execution_count": 19,
   "metadata": {},
   "outputs": [],
   "source": [
    "def day12_part2(s: str) -> int:\n",
    "    adj = day12_parse(s)\n",
    "\n",
    "    def is_smallcave(ss: str):\n",
    "        return ss != 'start' and ss != 'end' and ss.islower()\n",
    "\n",
    "    def is_good(x, traj) -> bool:\n",
    "        if x == \"start\":\n",
    "            return False\n",
    "        \n",
    "        if x == 'end':\n",
    "            return True\n",
    "        \n",
    "        if x.isupper():\n",
    "            return True\n",
    "        \n",
    "        visited_smallcaves = [c for c in traj if is_smallcave(c)]\n",
    "        # if you've already visited a small cave twice\n",
    "        if len(visited_smallcaves) > len(set(visited_smallcaves)):\n",
    "            return x not in traj\n",
    "        \n",
    "        return True\n",
    "\n",
    "\n",
    "    traj = ('start', )\n",
    "    stack = [traj]\n",
    "    results = set()\n",
    "\n",
    "    while stack:\n",
    "        traj = stack.pop()\n",
    "        curr = traj[-1]\n",
    "        if curr == 'end':\n",
    "            results.add(traj)\n",
    "            continue\n",
    "\n",
    "        for x in adj[curr]:\n",
    "            if is_good(x, traj):\n",
    "                next_traj = tuple(itertools.chain(traj, [x]))\n",
    "                stack.append(next_traj)\n",
    "\n",
    "    # print(f\"{results = }\")\n",
    "    return len(results)\n"
   ]
  },
  {
   "cell_type": "code",
   "execution_count": 20,
   "metadata": {},
   "outputs": [
    {
     "data": {
      "text/plain": [
       "36"
      ]
     },
     "execution_count": 20,
     "metadata": {},
     "output_type": "execute_result"
    }
   ],
   "source": [
    "s = \"\"\"\n",
    "start-A\n",
    "start-b\n",
    "A-c\n",
    "A-b\n",
    "b-d\n",
    "A-end\n",
    "b-end\n",
    "\"\"\"\n",
    "day12_part2(s)"
   ]
  },
  {
   "cell_type": "code",
   "execution_count": 21,
   "metadata": {},
   "outputs": [
    {
     "data": {
      "text/plain": [
       "104834"
      ]
     },
     "execution_count": 21,
     "metadata": {},
     "output_type": "execute_result"
    }
   ],
   "source": [
    "with open(\"./2021/day12_input.txt\") as f:\n",
    "    res = day12_part2(f.read())\n",
    "res"
   ]
  },
  {
   "cell_type": "code",
   "execution_count": null,
   "metadata": {},
   "outputs": [],
   "source": []
  }
 ],
 "metadata": {
  "interpreter": {
   "hash": "b84e109b045a092625b2c92e1e9fd866d76190a677d88b51d11192902177fa4e"
  },
  "kernelspec": {
   "display_name": "Python 3.10.0 64-bit ('base': conda)",
   "language": "python",
   "name": "python3"
  },
  "language_info": {
   "codemirror_mode": {
    "name": "ipython",
    "version": 3
   },
   "file_extension": ".py",
   "mimetype": "text/x-python",
   "name": "python",
   "nbconvert_exporter": "python",
   "pygments_lexer": "ipython3",
   "version": "3.10.0"
  },
  "orig_nbformat": 4
 },
 "nbformat": 4,
 "nbformat_minor": 2
}
